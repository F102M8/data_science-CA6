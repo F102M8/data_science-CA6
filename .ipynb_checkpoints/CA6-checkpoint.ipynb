{
 "cells": [
  {
   "cell_type": "markdown",
   "id": "5f22ab08-8231-4502-9f9f-9a1f19e8d3e8",
   "metadata": {
    "jp-MarkdownHeadingCollapsed": true
   },
   "source": [
    "# Introduction"
   ]
  },
  {
   "cell_type": "markdown",
   "id": "b9e525a5-278a-4b45-b040-a9e1e3bd462c",
   "metadata": {},
   "source": [
    " In this assignment, we will delve into dimensionality reduction and unsupervised learning\n",
    " tasks. Firstly, we should preprocess the provided dataset to prepare it for analysis. Next, we\n",
    " will apply dimensionality reduction techniques to simplify the dataset's complexity. Then, we\n",
    " will use unsupervised learning algorithms to tackle the task. Finally, we evaluate and analyze\n",
    " the results for comparison."
   ]
  },
  {
   "cell_type": "markdown",
   "id": "9133a4e1-d519-45b6-aa50-7716570b16bb",
   "metadata": {},
   "source": [
    "## Dataset"
   ]
  },
  {
   "cell_type": "markdown",
   "id": "577b1682-5d62-4be9-97f6-5c5dcc361750",
   "metadata": {},
   "source": [
    " In 2014, some researchers published an article called \"Impact of c1HbA Measurement on\n",
    " Hospital Readmission Rates: Analysis of 70,000 Clinical Database Patient Records.\" They\n",
    " gathered data on diabetic patients from many hospitals and clinics in America. Some of this\n",
    " data, about 200,000 items with 50 features, has been shared with the public in a way that\n",
    " keeps people's identities private"
   ]
  },
  {
   "cell_type": "markdown",
   "id": "828b25d2-f5f6-466e-a3dd-5256bf16ccc9",
   "metadata": {},
   "source": [
    "# Implementation "
   ]
  },
  {
   "cell_type": "markdown",
   "id": "38d71d7e-1fd5-42ff-8590-23f00d3c9c02",
   "metadata": {},
   "source": [
    "## Import Libraries"
   ]
  },
  {
   "cell_type": "code",
   "execution_count": 83,
   "id": "4405ef88-5dac-499c-b62f-6a1f967bfe5e",
   "metadata": {
    "ExecuteTime": {
     "end_time": "2024-05-20T15:45:33.214790Z",
     "start_time": "2024-05-20T15:45:32.653804Z"
    }
   },
   "outputs": [],
   "source": [
    "import pandas as pd\n",
    "import numpy as np\n",
    "import re"
   ]
  },
  {
   "cell_type": "markdown",
   "id": "f765a41d-633c-460b-a01f-60f2f50ff1ba",
   "metadata": {},
   "source": [
    "## 1.Preprocessing"
   ]
  },
  {
   "cell_type": "markdown",
   "id": "15e84c17-2572-41b6-b429-25973bd02e6a",
   "metadata": {},
   "source": [
    "Data Preprocessing or Data Preparation is a data mining technique that transforms raw data into an understandable format for ML algorithms. Real-world data is usually noisy (contains errors, outliers, duplicates), incomplete (some values are missed), and\n",
    " could be stored in different places and different formats. The task of Data Preprocessing is to handle these issues.  \n",
    "The dataset contains both numerical and textual values, along with outliers and null values. These inconsistencies can disrupt clustering accuracy. Normalize the data extensively and provide detailed explanations for each normalization step in the report file."
   ]
  },
  {
   "cell_type": "markdown",
   "id": "9f1c21e5-0621-4e2f-a384-a68bf4ffda80",
   "metadata": {},
   "source": [
    "### Load Data"
   ]
  },
  {
   "cell_type": "code",
   "execution_count": 84,
   "id": "987bfd4b7d0701a1",
   "metadata": {
    "ExecuteTime": {
     "end_time": "2024-05-20T15:45:33.240364Z",
     "start_time": "2024-05-20T15:45:33.216242Z"
    },
    "collapsed": false,
    "jupyter": {
     "outputs_hidden": false
    }
   },
   "outputs": [
    {
     "name": "stdout",
     "output_type": "stream",
     "text": [
      "<class 'pandas.core.frame.DataFrame'>\n",
      "RangeIndex: 67 entries, 0 to 66\n",
      "Data columns (total 2 columns):\n",
      " #   Column       Non-Null Count  Dtype \n",
      "---  ------       --------------  ----- \n",
      " 0   id           65 non-null     object\n",
      " 1   description  62 non-null     object\n",
      "dtypes: object(2)\n",
      "memory usage: 1.2+ KB\n"
     ]
    }
   ],
   "source": [
    "ids_mapping = pd.read_csv('dataset_diabetes/IDs_mapping.csv')\n",
    "ids_mapping = ids_mapping.rename(columns={'admission_type_id': 'id'})\n",
    "ids_mapping.info()"
   ]
  },
  {
   "cell_type": "code",
   "execution_count": 85,
   "id": "3d7ff539-9766-497c-b855-14afe9dd0fd1",
   "metadata": {
    "ExecuteTime": {
     "end_time": "2024-05-20T15:45:33.250962Z",
     "start_time": "2024-05-20T15:45:33.242018Z"
    }
   },
   "outputs": [],
   "source": [
    "def split_dataframe_on_empty_row(df):\n",
    "    empty_row_indices = df.index[df.isnull().all(axis=1)].tolist() \n",
    "    _sections = []\n",
    "    start_idx = 0\n",
    "    for idx in empty_row_indices:\n",
    "        _sections.append(df.iloc[start_idx:idx].reset_index(drop=True))\n",
    "        start_idx = idx + 2\n",
    "    _sections.append(df.iloc[start_idx:].reset_index(drop=True))\n",
    "    return _sections\n",
    "\n",
    "sections = split_dataframe_on_empty_row(ids_mapping)\n",
    "\n",
    "sections = [section for section in sections if not section.empty]\n",
    "\n",
    "admission_type_mapping = sections[0].rename(columns={'id': 'admission_type_id', 'description': 'admission_type_desc'})\n",
    "discharge_disposition_mapping = sections[1].rename(columns={'id': 'discharge_disposition_id', 'description': 'discharge_disposition_desc'})\n",
    "admission_source_mapping = sections[2].rename(columns={'id': 'admission_source_id', 'description': 'admission_source_desc'})"
   ]
  },
  {
   "cell_type": "code",
   "execution_count": 86,
   "id": "a7bd487b-3809-47f1-b84c-8be95d8f2588",
   "metadata": {
    "ExecuteTime": {
     "end_time": "2024-05-20T15:45:33.260547Z",
     "start_time": "2024-05-20T15:45:33.252807Z"
    }
   },
   "outputs": [],
   "source": [
    "del ids_mapping"
   ]
  },
  {
   "cell_type": "markdown",
   "id": "6187a85c-133a-47e6-a13e-3eda8848aea2",
   "metadata": {},
   "source": [
    "### Get basic information about each DataFrame"
   ]
  },
  {
   "cell_type": "code",
   "execution_count": 87,
   "id": "a549d4bc65efdd3a",
   "metadata": {
    "ExecuteTime": {
     "end_time": "2024-05-20T15:45:33.825465Z",
     "start_time": "2024-05-20T15:45:33.261733Z"
    },
    "collapsed": false,
    "jupyter": {
     "outputs_hidden": false
    }
   },
   "outputs": [],
   "source": [
    "df = pd.read_csv('dataset_diabetes/diabetic_data.csv')"
   ]
  },
  {
   "cell_type": "code",
   "execution_count": 88,
   "id": "a031eb99-8fe2-4d46-acc3-998e24388be5",
   "metadata": {
    "ExecuteTime": {
     "end_time": "2024-05-20T15:45:33.844301Z",
     "start_time": "2024-05-20T15:45:33.826519Z"
    }
   },
   "outputs": [
    {
     "data": {
      "text/html": [
       "<div>\n",
       "<style scoped>\n",
       "    .dataframe tbody tr th:only-of-type {\n",
       "        vertical-align: middle;\n",
       "    }\n",
       "\n",
       "    .dataframe tbody tr th {\n",
       "        vertical-align: top;\n",
       "    }\n",
       "\n",
       "    .dataframe thead th {\n",
       "        text-align: right;\n",
       "    }\n",
       "</style>\n",
       "<table border=\"1\" class=\"dataframe\">\n",
       "  <thead>\n",
       "    <tr style=\"text-align: right;\">\n",
       "      <th></th>\n",
       "      <th>encounter_id</th>\n",
       "      <th>patient_nbr</th>\n",
       "      <th>race</th>\n",
       "      <th>gender</th>\n",
       "      <th>age</th>\n",
       "      <th>weight</th>\n",
       "      <th>admission_type_id</th>\n",
       "      <th>discharge_disposition_id</th>\n",
       "      <th>admission_source_id</th>\n",
       "      <th>time_in_hospital</th>\n",
       "      <th>...</th>\n",
       "      <th>citoglipton</th>\n",
       "      <th>insulin</th>\n",
       "      <th>glyburide-metformin</th>\n",
       "      <th>glipizide-metformin</th>\n",
       "      <th>glimepiride-pioglitazone</th>\n",
       "      <th>metformin-rosiglitazone</th>\n",
       "      <th>metformin-pioglitazone</th>\n",
       "      <th>change</th>\n",
       "      <th>diabetesMed</th>\n",
       "      <th>readmitted</th>\n",
       "    </tr>\n",
       "  </thead>\n",
       "  <tbody>\n",
       "    <tr>\n",
       "      <th>0</th>\n",
       "      <td>2278392</td>\n",
       "      <td>8222157</td>\n",
       "      <td>Caucasian</td>\n",
       "      <td>Female</td>\n",
       "      <td>[0-10)</td>\n",
       "      <td>?</td>\n",
       "      <td>6</td>\n",
       "      <td>25</td>\n",
       "      <td>1</td>\n",
       "      <td>1</td>\n",
       "      <td>...</td>\n",
       "      <td>No</td>\n",
       "      <td>No</td>\n",
       "      <td>No</td>\n",
       "      <td>No</td>\n",
       "      <td>No</td>\n",
       "      <td>No</td>\n",
       "      <td>No</td>\n",
       "      <td>No</td>\n",
       "      <td>No</td>\n",
       "      <td>NO</td>\n",
       "    </tr>\n",
       "    <tr>\n",
       "      <th>1</th>\n",
       "      <td>149190</td>\n",
       "      <td>55629189</td>\n",
       "      <td>Caucasian</td>\n",
       "      <td>Female</td>\n",
       "      <td>[10-20)</td>\n",
       "      <td>?</td>\n",
       "      <td>1</td>\n",
       "      <td>1</td>\n",
       "      <td>7</td>\n",
       "      <td>3</td>\n",
       "      <td>...</td>\n",
       "      <td>No</td>\n",
       "      <td>Up</td>\n",
       "      <td>No</td>\n",
       "      <td>No</td>\n",
       "      <td>No</td>\n",
       "      <td>No</td>\n",
       "      <td>No</td>\n",
       "      <td>Ch</td>\n",
       "      <td>Yes</td>\n",
       "      <td>&gt;30</td>\n",
       "    </tr>\n",
       "    <tr>\n",
       "      <th>2</th>\n",
       "      <td>64410</td>\n",
       "      <td>86047875</td>\n",
       "      <td>AfricanAmerican</td>\n",
       "      <td>Female</td>\n",
       "      <td>[20-30)</td>\n",
       "      <td>?</td>\n",
       "      <td>1</td>\n",
       "      <td>1</td>\n",
       "      <td>7</td>\n",
       "      <td>2</td>\n",
       "      <td>...</td>\n",
       "      <td>No</td>\n",
       "      <td>No</td>\n",
       "      <td>No</td>\n",
       "      <td>No</td>\n",
       "      <td>No</td>\n",
       "      <td>No</td>\n",
       "      <td>No</td>\n",
       "      <td>No</td>\n",
       "      <td>Yes</td>\n",
       "      <td>NO</td>\n",
       "    </tr>\n",
       "    <tr>\n",
       "      <th>3</th>\n",
       "      <td>500364</td>\n",
       "      <td>82442376</td>\n",
       "      <td>Caucasian</td>\n",
       "      <td>Male</td>\n",
       "      <td>[30-40)</td>\n",
       "      <td>?</td>\n",
       "      <td>1</td>\n",
       "      <td>1</td>\n",
       "      <td>7</td>\n",
       "      <td>2</td>\n",
       "      <td>...</td>\n",
       "      <td>No</td>\n",
       "      <td>Up</td>\n",
       "      <td>No</td>\n",
       "      <td>No</td>\n",
       "      <td>No</td>\n",
       "      <td>No</td>\n",
       "      <td>No</td>\n",
       "      <td>Ch</td>\n",
       "      <td>Yes</td>\n",
       "      <td>NO</td>\n",
       "    </tr>\n",
       "    <tr>\n",
       "      <th>4</th>\n",
       "      <td>16680</td>\n",
       "      <td>42519267</td>\n",
       "      <td>Caucasian</td>\n",
       "      <td>Male</td>\n",
       "      <td>[40-50)</td>\n",
       "      <td>?</td>\n",
       "      <td>1</td>\n",
       "      <td>1</td>\n",
       "      <td>7</td>\n",
       "      <td>1</td>\n",
       "      <td>...</td>\n",
       "      <td>No</td>\n",
       "      <td>Steady</td>\n",
       "      <td>No</td>\n",
       "      <td>No</td>\n",
       "      <td>No</td>\n",
       "      <td>No</td>\n",
       "      <td>No</td>\n",
       "      <td>Ch</td>\n",
       "      <td>Yes</td>\n",
       "      <td>NO</td>\n",
       "    </tr>\n",
       "  </tbody>\n",
       "</table>\n",
       "<p>5 rows × 50 columns</p>\n",
       "</div>"
      ],
      "text/plain": [
       "   encounter_id  patient_nbr             race  gender      age weight  \\\n",
       "0       2278392      8222157        Caucasian  Female   [0-10)      ?   \n",
       "1        149190     55629189        Caucasian  Female  [10-20)      ?   \n",
       "2         64410     86047875  AfricanAmerican  Female  [20-30)      ?   \n",
       "3        500364     82442376        Caucasian    Male  [30-40)      ?   \n",
       "4         16680     42519267        Caucasian    Male  [40-50)      ?   \n",
       "\n",
       "   admission_type_id  discharge_disposition_id  admission_source_id  \\\n",
       "0                  6                        25                    1   \n",
       "1                  1                         1                    7   \n",
       "2                  1                         1                    7   \n",
       "3                  1                         1                    7   \n",
       "4                  1                         1                    7   \n",
       "\n",
       "   time_in_hospital  ... citoglipton insulin  glyburide-metformin  \\\n",
       "0                 1  ...          No      No                   No   \n",
       "1                 3  ...          No      Up                   No   \n",
       "2                 2  ...          No      No                   No   \n",
       "3                 2  ...          No      Up                   No   \n",
       "4                 1  ...          No  Steady                   No   \n",
       "\n",
       "   glipizide-metformin  glimepiride-pioglitazone  metformin-rosiglitazone  \\\n",
       "0                   No                        No                       No   \n",
       "1                   No                        No                       No   \n",
       "2                   No                        No                       No   \n",
       "3                   No                        No                       No   \n",
       "4                   No                        No                       No   \n",
       "\n",
       "   metformin-pioglitazone  change diabetesMed readmitted  \n",
       "0                      No      No          No         NO  \n",
       "1                      No      Ch         Yes        >30  \n",
       "2                      No      No         Yes         NO  \n",
       "3                      No      Ch         Yes         NO  \n",
       "4                      No      Ch         Yes         NO  \n",
       "\n",
       "[5 rows x 50 columns]"
      ]
     },
     "execution_count": 88,
     "metadata": {},
     "output_type": "execute_result"
    }
   ],
   "source": [
    "df.head()"
   ]
  },
  {
   "cell_type": "code",
   "execution_count": 89,
   "id": "f3d19972-8c27-4fed-b923-08561b791db1",
   "metadata": {
    "ExecuteTime": {
     "end_time": "2024-05-20T15:45:33.981988Z",
     "start_time": "2024-05-20T15:45:33.845365Z"
    }
   },
   "outputs": [
    {
     "name": "stdout",
     "output_type": "stream",
     "text": [
      "<class 'pandas.core.frame.DataFrame'>\n",
      "RangeIndex: 101766 entries, 0 to 101765\n",
      "Data columns (total 50 columns):\n",
      " #   Column                    Non-Null Count   Dtype \n",
      "---  ------                    --------------   ----- \n",
      " 0   encounter_id              101766 non-null  int64 \n",
      " 1   patient_nbr               101766 non-null  int64 \n",
      " 2   race                      101766 non-null  object\n",
      " 3   gender                    101766 non-null  object\n",
      " 4   age                       101766 non-null  object\n",
      " 5   weight                    101766 non-null  object\n",
      " 6   admission_type_id         101766 non-null  int64 \n",
      " 7   discharge_disposition_id  101766 non-null  int64 \n",
      " 8   admission_source_id       101766 non-null  int64 \n",
      " 9   time_in_hospital          101766 non-null  int64 \n",
      " 10  payer_code                101766 non-null  object\n",
      " 11  medical_specialty         101766 non-null  object\n",
      " 12  num_lab_procedures        101766 non-null  int64 \n",
      " 13  num_procedures            101766 non-null  int64 \n",
      " 14  num_medications           101766 non-null  int64 \n",
      " 15  number_outpatient         101766 non-null  int64 \n",
      " 16  number_emergency          101766 non-null  int64 \n",
      " 17  number_inpatient          101766 non-null  int64 \n",
      " 18  diag_1                    101766 non-null  object\n",
      " 19  diag_2                    101766 non-null  object\n",
      " 20  diag_3                    101766 non-null  object\n",
      " 21  number_diagnoses          101766 non-null  int64 \n",
      " 22  max_glu_serum             5346 non-null    object\n",
      " 23  A1Cresult                 17018 non-null   object\n",
      " 24  metformin                 101766 non-null  object\n",
      " 25  repaglinide               101766 non-null  object\n",
      " 26  nateglinide               101766 non-null  object\n",
      " 27  chlorpropamide            101766 non-null  object\n",
      " 28  glimepiride               101766 non-null  object\n",
      " 29  acetohexamide             101766 non-null  object\n",
      " 30  glipizide                 101766 non-null  object\n",
      " 31  glyburide                 101766 non-null  object\n",
      " 32  tolbutamide               101766 non-null  object\n",
      " 33  pioglitazone              101766 non-null  object\n",
      " 34  rosiglitazone             101766 non-null  object\n",
      " 35  acarbose                  101766 non-null  object\n",
      " 36  miglitol                  101766 non-null  object\n",
      " 37  troglitazone              101766 non-null  object\n",
      " 38  tolazamide                101766 non-null  object\n",
      " 39  examide                   101766 non-null  object\n",
      " 40  citoglipton               101766 non-null  object\n",
      " 41  insulin                   101766 non-null  object\n",
      " 42  glyburide-metformin       101766 non-null  object\n",
      " 43  glipizide-metformin       101766 non-null  object\n",
      " 44  glimepiride-pioglitazone  101766 non-null  object\n",
      " 45  metformin-rosiglitazone   101766 non-null  object\n",
      " 46  metformin-pioglitazone    101766 non-null  object\n",
      " 47  change                    101766 non-null  object\n",
      " 48  diabetesMed               101766 non-null  object\n",
      " 49  readmitted                101766 non-null  object\n",
      "dtypes: int64(13), object(37)\n",
      "memory usage: 38.8+ MB\n"
     ]
    }
   ],
   "source": [
    "df.info()"
   ]
  },
  {
   "cell_type": "code",
   "execution_count": 90,
   "id": "42bf34fe-6be0-498b-9e26-e35fdb4dd86c",
   "metadata": {
    "ExecuteTime": {
     "end_time": "2024-05-20T15:45:33.989334Z",
     "start_time": "2024-05-20T15:45:33.983293Z"
    }
   },
   "outputs": [
    {
     "data": {
      "text/html": [
       "<div>\n",
       "<style scoped>\n",
       "    .dataframe tbody tr th:only-of-type {\n",
       "        vertical-align: middle;\n",
       "    }\n",
       "\n",
       "    .dataframe tbody tr th {\n",
       "        vertical-align: top;\n",
       "    }\n",
       "\n",
       "    .dataframe thead th {\n",
       "        text-align: right;\n",
       "    }\n",
       "</style>\n",
       "<table border=\"1\" class=\"dataframe\">\n",
       "  <thead>\n",
       "    <tr style=\"text-align: right;\">\n",
       "      <th></th>\n",
       "      <th>admission_type_id</th>\n",
       "      <th>admission_type_desc</th>\n",
       "    </tr>\n",
       "  </thead>\n",
       "  <tbody>\n",
       "    <tr>\n",
       "      <th>0</th>\n",
       "      <td>1</td>\n",
       "      <td>Emergency</td>\n",
       "    </tr>\n",
       "    <tr>\n",
       "      <th>1</th>\n",
       "      <td>2</td>\n",
       "      <td>Urgent</td>\n",
       "    </tr>\n",
       "    <tr>\n",
       "      <th>2</th>\n",
       "      <td>3</td>\n",
       "      <td>Elective</td>\n",
       "    </tr>\n",
       "    <tr>\n",
       "      <th>3</th>\n",
       "      <td>4</td>\n",
       "      <td>Newborn</td>\n",
       "    </tr>\n",
       "    <tr>\n",
       "      <th>4</th>\n",
       "      <td>5</td>\n",
       "      <td>Not Available</td>\n",
       "    </tr>\n",
       "    <tr>\n",
       "      <th>5</th>\n",
       "      <td>6</td>\n",
       "      <td>NaN</td>\n",
       "    </tr>\n",
       "    <tr>\n",
       "      <th>6</th>\n",
       "      <td>7</td>\n",
       "      <td>Trauma Center</td>\n",
       "    </tr>\n",
       "    <tr>\n",
       "      <th>7</th>\n",
       "      <td>8</td>\n",
       "      <td>Not Mapped</td>\n",
       "    </tr>\n",
       "  </tbody>\n",
       "</table>\n",
       "</div>"
      ],
      "text/plain": [
       "  admission_type_id admission_type_desc\n",
       "0                 1           Emergency\n",
       "1                 2              Urgent\n",
       "2                 3            Elective\n",
       "3                 4             Newborn\n",
       "4                 5       Not Available\n",
       "5                 6                 NaN\n",
       "6                 7       Trauma Center\n",
       "7                 8          Not Mapped"
      ]
     },
     "execution_count": 90,
     "metadata": {},
     "output_type": "execute_result"
    }
   ],
   "source": [
    "admission_type_mapping"
   ]
  },
  {
   "cell_type": "code",
   "execution_count": 91,
   "id": "99ede8ec-6956-43db-8ea4-dbd939690656",
   "metadata": {
    "ExecuteTime": {
     "end_time": "2024-05-20T15:45:34.002137Z",
     "start_time": "2024-05-20T15:45:33.990768Z"
    }
   },
   "outputs": [
    {
     "data": {
      "text/html": [
       "<div>\n",
       "<style scoped>\n",
       "    .dataframe tbody tr th:only-of-type {\n",
       "        vertical-align: middle;\n",
       "    }\n",
       "\n",
       "    .dataframe tbody tr th {\n",
       "        vertical-align: top;\n",
       "    }\n",
       "\n",
       "    .dataframe thead th {\n",
       "        text-align: right;\n",
       "    }\n",
       "</style>\n",
       "<table border=\"1\" class=\"dataframe\">\n",
       "  <thead>\n",
       "    <tr style=\"text-align: right;\">\n",
       "      <th></th>\n",
       "      <th>discharge_disposition_id</th>\n",
       "      <th>discharge_disposition_desc</th>\n",
       "    </tr>\n",
       "  </thead>\n",
       "  <tbody>\n",
       "    <tr>\n",
       "      <th>0</th>\n",
       "      <td>1</td>\n",
       "      <td>Discharged to home</td>\n",
       "    </tr>\n",
       "    <tr>\n",
       "      <th>1</th>\n",
       "      <td>2</td>\n",
       "      <td>Discharged/transferred to another short term h...</td>\n",
       "    </tr>\n",
       "    <tr>\n",
       "      <th>2</th>\n",
       "      <td>3</td>\n",
       "      <td>Discharged/transferred to SNF</td>\n",
       "    </tr>\n",
       "    <tr>\n",
       "      <th>3</th>\n",
       "      <td>4</td>\n",
       "      <td>Discharged/transferred to ICF</td>\n",
       "    </tr>\n",
       "    <tr>\n",
       "      <th>4</th>\n",
       "      <td>5</td>\n",
       "      <td>Discharged/transferred to another type of inpa...</td>\n",
       "    </tr>\n",
       "    <tr>\n",
       "      <th>5</th>\n",
       "      <td>6</td>\n",
       "      <td>Discharged/transferred to home with home healt...</td>\n",
       "    </tr>\n",
       "    <tr>\n",
       "      <th>6</th>\n",
       "      <td>7</td>\n",
       "      <td>Left AMA</td>\n",
       "    </tr>\n",
       "    <tr>\n",
       "      <th>7</th>\n",
       "      <td>8</td>\n",
       "      <td>Discharged/transferred to home under care of H...</td>\n",
       "    </tr>\n",
       "    <tr>\n",
       "      <th>8</th>\n",
       "      <td>9</td>\n",
       "      <td>Admitted as an inpatient to this hospital</td>\n",
       "    </tr>\n",
       "    <tr>\n",
       "      <th>9</th>\n",
       "      <td>10</td>\n",
       "      <td>Neonate discharged to another hospital for neo...</td>\n",
       "    </tr>\n",
       "    <tr>\n",
       "      <th>10</th>\n",
       "      <td>11</td>\n",
       "      <td>Expired</td>\n",
       "    </tr>\n",
       "    <tr>\n",
       "      <th>11</th>\n",
       "      <td>12</td>\n",
       "      <td>Still patient or expected to return for outpat...</td>\n",
       "    </tr>\n",
       "    <tr>\n",
       "      <th>12</th>\n",
       "      <td>13</td>\n",
       "      <td>Hospice / home</td>\n",
       "    </tr>\n",
       "    <tr>\n",
       "      <th>13</th>\n",
       "      <td>14</td>\n",
       "      <td>Hospice / medical facility</td>\n",
       "    </tr>\n",
       "    <tr>\n",
       "      <th>14</th>\n",
       "      <td>15</td>\n",
       "      <td>Discharged/transferred within this institution...</td>\n",
       "    </tr>\n",
       "    <tr>\n",
       "      <th>15</th>\n",
       "      <td>16</td>\n",
       "      <td>Discharged/transferred/referred another instit...</td>\n",
       "    </tr>\n",
       "    <tr>\n",
       "      <th>16</th>\n",
       "      <td>17</td>\n",
       "      <td>Discharged/transferred/referred to this instit...</td>\n",
       "    </tr>\n",
       "    <tr>\n",
       "      <th>17</th>\n",
       "      <td>18</td>\n",
       "      <td>NaN</td>\n",
       "    </tr>\n",
       "    <tr>\n",
       "      <th>18</th>\n",
       "      <td>19</td>\n",
       "      <td>Expired at home. Medicaid only, hospice.</td>\n",
       "    </tr>\n",
       "    <tr>\n",
       "      <th>19</th>\n",
       "      <td>20</td>\n",
       "      <td>Expired in a medical facility. Medicaid only, ...</td>\n",
       "    </tr>\n",
       "    <tr>\n",
       "      <th>20</th>\n",
       "      <td>21</td>\n",
       "      <td>Expired, place unknown. Medicaid only, hospice.</td>\n",
       "    </tr>\n",
       "    <tr>\n",
       "      <th>21</th>\n",
       "      <td>22</td>\n",
       "      <td>Discharged/transferred to another rehab fac in...</td>\n",
       "    </tr>\n",
       "    <tr>\n",
       "      <th>22</th>\n",
       "      <td>23</td>\n",
       "      <td>Discharged/transferred to a long term care hos...</td>\n",
       "    </tr>\n",
       "    <tr>\n",
       "      <th>23</th>\n",
       "      <td>24</td>\n",
       "      <td>Discharged/transferred to a nursing facility c...</td>\n",
       "    </tr>\n",
       "    <tr>\n",
       "      <th>24</th>\n",
       "      <td>25</td>\n",
       "      <td>Not Mapped</td>\n",
       "    </tr>\n",
       "    <tr>\n",
       "      <th>25</th>\n",
       "      <td>26</td>\n",
       "      <td>Unknown/Invalid</td>\n",
       "    </tr>\n",
       "    <tr>\n",
       "      <th>26</th>\n",
       "      <td>30</td>\n",
       "      <td>Discharged/transferred to another Type of Heal...</td>\n",
       "    </tr>\n",
       "    <tr>\n",
       "      <th>27</th>\n",
       "      <td>27</td>\n",
       "      <td>Discharged/transferred to a federal health car...</td>\n",
       "    </tr>\n",
       "    <tr>\n",
       "      <th>28</th>\n",
       "      <td>28</td>\n",
       "      <td>Discharged/transferred/referred to a psychiatr...</td>\n",
       "    </tr>\n",
       "    <tr>\n",
       "      <th>29</th>\n",
       "      <td>29</td>\n",
       "      <td>Discharged/transferred to a Critical Access Ho...</td>\n",
       "    </tr>\n",
       "  </tbody>\n",
       "</table>\n",
       "</div>"
      ],
      "text/plain": [
       "   discharge_disposition_id                         discharge_disposition_desc\n",
       "0                         1                                 Discharged to home\n",
       "1                         2  Discharged/transferred to another short term h...\n",
       "2                         3                      Discharged/transferred to SNF\n",
       "3                         4                      Discharged/transferred to ICF\n",
       "4                         5  Discharged/transferred to another type of inpa...\n",
       "5                         6  Discharged/transferred to home with home healt...\n",
       "6                         7                                           Left AMA\n",
       "7                         8  Discharged/transferred to home under care of H...\n",
       "8                         9          Admitted as an inpatient to this hospital\n",
       "9                        10  Neonate discharged to another hospital for neo...\n",
       "10                       11                                            Expired\n",
       "11                       12  Still patient or expected to return for outpat...\n",
       "12                       13                                     Hospice / home\n",
       "13                       14                         Hospice / medical facility\n",
       "14                       15  Discharged/transferred within this institution...\n",
       "15                       16  Discharged/transferred/referred another instit...\n",
       "16                       17  Discharged/transferred/referred to this instit...\n",
       "17                       18                                                NaN\n",
       "18                       19           Expired at home. Medicaid only, hospice.\n",
       "19                       20  Expired in a medical facility. Medicaid only, ...\n",
       "20                       21    Expired, place unknown. Medicaid only, hospice.\n",
       "21                       22  Discharged/transferred to another rehab fac in...\n",
       "22                       23  Discharged/transferred to a long term care hos...\n",
       "23                       24  Discharged/transferred to a nursing facility c...\n",
       "24                       25                                         Not Mapped\n",
       "25                       26                                    Unknown/Invalid\n",
       "26                       30  Discharged/transferred to another Type of Heal...\n",
       "27                       27  Discharged/transferred to a federal health car...\n",
       "28                       28  Discharged/transferred/referred to a psychiatr...\n",
       "29                       29  Discharged/transferred to a Critical Access Ho..."
      ]
     },
     "execution_count": 91,
     "metadata": {},
     "output_type": "execute_result"
    }
   ],
   "source": [
    "discharge_disposition_mapping"
   ]
  },
  {
   "cell_type": "code",
   "execution_count": 92,
   "id": "8fd60eb1-01d7-4193-866a-5101a2433141",
   "metadata": {
    "ExecuteTime": {
     "end_time": "2024-05-20T15:45:34.012945Z",
     "start_time": "2024-05-20T15:45:34.004255Z"
    }
   },
   "outputs": [
    {
     "data": {
      "text/html": [
       "<div>\n",
       "<style scoped>\n",
       "    .dataframe tbody tr th:only-of-type {\n",
       "        vertical-align: middle;\n",
       "    }\n",
       "\n",
       "    .dataframe tbody tr th {\n",
       "        vertical-align: top;\n",
       "    }\n",
       "\n",
       "    .dataframe thead th {\n",
       "        text-align: right;\n",
       "    }\n",
       "</style>\n",
       "<table border=\"1\" class=\"dataframe\">\n",
       "  <thead>\n",
       "    <tr style=\"text-align: right;\">\n",
       "      <th></th>\n",
       "      <th>admission_source_id</th>\n",
       "      <th>admission_source_desc</th>\n",
       "    </tr>\n",
       "  </thead>\n",
       "  <tbody>\n",
       "    <tr>\n",
       "      <th>0</th>\n",
       "      <td>1</td>\n",
       "      <td>Physician Referral</td>\n",
       "    </tr>\n",
       "    <tr>\n",
       "      <th>1</th>\n",
       "      <td>2</td>\n",
       "      <td>Clinic Referral</td>\n",
       "    </tr>\n",
       "    <tr>\n",
       "      <th>2</th>\n",
       "      <td>3</td>\n",
       "      <td>HMO Referral</td>\n",
       "    </tr>\n",
       "    <tr>\n",
       "      <th>3</th>\n",
       "      <td>4</td>\n",
       "      <td>Transfer from a hospital</td>\n",
       "    </tr>\n",
       "    <tr>\n",
       "      <th>4</th>\n",
       "      <td>5</td>\n",
       "      <td>Transfer from a Skilled Nursing Facility (SNF)</td>\n",
       "    </tr>\n",
       "    <tr>\n",
       "      <th>5</th>\n",
       "      <td>6</td>\n",
       "      <td>Transfer from another health care facility</td>\n",
       "    </tr>\n",
       "    <tr>\n",
       "      <th>6</th>\n",
       "      <td>7</td>\n",
       "      <td>Emergency Room</td>\n",
       "    </tr>\n",
       "    <tr>\n",
       "      <th>7</th>\n",
       "      <td>8</td>\n",
       "      <td>Court/Law Enforcement</td>\n",
       "    </tr>\n",
       "    <tr>\n",
       "      <th>8</th>\n",
       "      <td>9</td>\n",
       "      <td>Not Available</td>\n",
       "    </tr>\n",
       "    <tr>\n",
       "      <th>9</th>\n",
       "      <td>10</td>\n",
       "      <td>Transfer from critial access hospital</td>\n",
       "    </tr>\n",
       "    <tr>\n",
       "      <th>10</th>\n",
       "      <td>11</td>\n",
       "      <td>Normal Delivery</td>\n",
       "    </tr>\n",
       "    <tr>\n",
       "      <th>11</th>\n",
       "      <td>12</td>\n",
       "      <td>Premature Delivery</td>\n",
       "    </tr>\n",
       "    <tr>\n",
       "      <th>12</th>\n",
       "      <td>13</td>\n",
       "      <td>Sick Baby</td>\n",
       "    </tr>\n",
       "    <tr>\n",
       "      <th>13</th>\n",
       "      <td>14</td>\n",
       "      <td>Extramural Birth</td>\n",
       "    </tr>\n",
       "    <tr>\n",
       "      <th>14</th>\n",
       "      <td>15</td>\n",
       "      <td>Not Available</td>\n",
       "    </tr>\n",
       "    <tr>\n",
       "      <th>15</th>\n",
       "      <td>17</td>\n",
       "      <td>NaN</td>\n",
       "    </tr>\n",
       "    <tr>\n",
       "      <th>16</th>\n",
       "      <td>18</td>\n",
       "      <td>Transfer From Another Home Health Agency</td>\n",
       "    </tr>\n",
       "    <tr>\n",
       "      <th>17</th>\n",
       "      <td>19</td>\n",
       "      <td>Readmission to Same Home Health Agency</td>\n",
       "    </tr>\n",
       "    <tr>\n",
       "      <th>18</th>\n",
       "      <td>20</td>\n",
       "      <td>Not Mapped</td>\n",
       "    </tr>\n",
       "    <tr>\n",
       "      <th>19</th>\n",
       "      <td>21</td>\n",
       "      <td>Unknown/Invalid</td>\n",
       "    </tr>\n",
       "    <tr>\n",
       "      <th>20</th>\n",
       "      <td>22</td>\n",
       "      <td>Transfer from hospital inpt/same fac reslt in...</td>\n",
       "    </tr>\n",
       "    <tr>\n",
       "      <th>21</th>\n",
       "      <td>23</td>\n",
       "      <td>Born inside this hospital</td>\n",
       "    </tr>\n",
       "    <tr>\n",
       "      <th>22</th>\n",
       "      <td>24</td>\n",
       "      <td>Born outside this hospital</td>\n",
       "    </tr>\n",
       "    <tr>\n",
       "      <th>23</th>\n",
       "      <td>25</td>\n",
       "      <td>Transfer from Ambulatory Surgery Center</td>\n",
       "    </tr>\n",
       "    <tr>\n",
       "      <th>24</th>\n",
       "      <td>26</td>\n",
       "      <td>Transfer from Hospice</td>\n",
       "    </tr>\n",
       "  </tbody>\n",
       "</table>\n",
       "</div>"
      ],
      "text/plain": [
       "   admission_source_id                              admission_source_desc\n",
       "0                    1                                 Physician Referral\n",
       "1                    2                                    Clinic Referral\n",
       "2                    3                                       HMO Referral\n",
       "3                    4                           Transfer from a hospital\n",
       "4                    5     Transfer from a Skilled Nursing Facility (SNF)\n",
       "5                    6         Transfer from another health care facility\n",
       "6                    7                                     Emergency Room\n",
       "7                    8                              Court/Law Enforcement\n",
       "8                    9                                      Not Available\n",
       "9                   10              Transfer from critial access hospital\n",
       "10                  11                                    Normal Delivery\n",
       "11                  12                                 Premature Delivery\n",
       "12                  13                                          Sick Baby\n",
       "13                  14                                   Extramural Birth\n",
       "14                  15                                      Not Available\n",
       "15                  17                                                NaN\n",
       "16                  18           Transfer From Another Home Health Agency\n",
       "17                  19             Readmission to Same Home Health Agency\n",
       "18                  20                                         Not Mapped\n",
       "19                  21                                    Unknown/Invalid\n",
       "20                  22   Transfer from hospital inpt/same fac reslt in...\n",
       "21                  23                          Born inside this hospital\n",
       "22                  24                         Born outside this hospital\n",
       "23                  25            Transfer from Ambulatory Surgery Center\n",
       "24                  26                              Transfer from Hospice"
      ]
     },
     "execution_count": 92,
     "metadata": {},
     "output_type": "execute_result"
    }
   ],
   "source": [
    "admission_source_mapping"
   ]
  },
  {
   "cell_type": "markdown",
   "id": "c9eba366-ec2d-413d-bf38-87c30884c2e1",
   "metadata": {},
   "source": [
    "### Map the IDs to descriptions in diabetic_data"
   ]
  },
  {
   "cell_type": "code",
   "execution_count": 93,
   "id": "d01f2029-06b6-42f0-a154-e2ebfc3bdbcb",
   "metadata": {
    "ExecuteTime": {
     "end_time": "2024-05-20T15:45:34.022199Z",
     "start_time": "2024-05-20T15:45:34.014112Z"
    }
   },
   "outputs": [],
   "source": [
    "admission_type_mapping['admission_type_id'] = admission_type_mapping['admission_type_id'].astype('int64')\n",
    "discharge_disposition_mapping['discharge_disposition_id'] = discharge_disposition_mapping['discharge_disposition_id'].astype('int64')\n",
    "admission_source_mapping['admission_source_id'] = admission_source_mapping['admission_source_id'].astype('int64')"
   ]
  },
  {
   "cell_type": "code",
   "execution_count": 94,
   "id": "88dd959e-de77-457d-8e19-5cd4affc180e",
   "metadata": {
    "ExecuteTime": {
     "end_time": "2024-05-20T15:45:34.534815Z",
     "start_time": "2024-05-20T15:45:34.023819Z"
    }
   },
   "outputs": [],
   "source": [
    "df = df.merge(admission_type_mapping, on='admission_type_id', how='left')\n",
    "df = df.merge(discharge_disposition_mapping, on='discharge_disposition_id', how='left')\n",
    "df = df.merge(admission_source_mapping, on='admission_source_id', how='left')\n",
    "\n",
    "for col in ['admission_type', 'discharge_disposition', 'admission_source']:\n",
    "    df = df.rename(columns={f'{col}_desc': col})\n",
    "del col"
   ]
  },
  {
   "cell_type": "code",
   "execution_count": 95,
   "id": "ddde3017-7e84-42e0-ab2b-076170941542",
   "metadata": {
    "ExecuteTime": {
     "end_time": "2024-05-20T15:45:34.594426Z",
     "start_time": "2024-05-20T15:45:34.535812Z"
    }
   },
   "outputs": [],
   "source": [
    "df = df.drop(columns=[\"admission_type_id\", \"discharge_disposition_id\", \"admission_source_id\"])"
   ]
  },
  {
   "cell_type": "code",
   "execution_count": 96,
   "id": "c7ac6ef1a1ccf2fb",
   "metadata": {
    "ExecuteTime": {
     "end_time": "2024-05-20T15:45:34.610159Z",
     "start_time": "2024-05-20T15:45:34.595720Z"
    },
    "collapsed": false,
    "jupyter": {
     "outputs_hidden": false
    }
   },
   "outputs": [
    {
     "data": {
      "text/html": [
       "<div>\n",
       "<style scoped>\n",
       "    .dataframe tbody tr th:only-of-type {\n",
       "        vertical-align: middle;\n",
       "    }\n",
       "\n",
       "    .dataframe tbody tr th {\n",
       "        vertical-align: top;\n",
       "    }\n",
       "\n",
       "    .dataframe thead th {\n",
       "        text-align: right;\n",
       "    }\n",
       "</style>\n",
       "<table border=\"1\" class=\"dataframe\">\n",
       "  <thead>\n",
       "    <tr style=\"text-align: right;\">\n",
       "      <th></th>\n",
       "      <th>encounter_id</th>\n",
       "      <th>patient_nbr</th>\n",
       "      <th>race</th>\n",
       "      <th>gender</th>\n",
       "      <th>age</th>\n",
       "      <th>weight</th>\n",
       "      <th>time_in_hospital</th>\n",
       "      <th>payer_code</th>\n",
       "      <th>medical_specialty</th>\n",
       "      <th>num_lab_procedures</th>\n",
       "      <th>...</th>\n",
       "      <th>glipizide-metformin</th>\n",
       "      <th>glimepiride-pioglitazone</th>\n",
       "      <th>metformin-rosiglitazone</th>\n",
       "      <th>metformin-pioglitazone</th>\n",
       "      <th>change</th>\n",
       "      <th>diabetesMed</th>\n",
       "      <th>readmitted</th>\n",
       "      <th>admission_type</th>\n",
       "      <th>discharge_disposition</th>\n",
       "      <th>admission_source</th>\n",
       "    </tr>\n",
       "  </thead>\n",
       "  <tbody>\n",
       "    <tr>\n",
       "      <th>0</th>\n",
       "      <td>2278392</td>\n",
       "      <td>8222157</td>\n",
       "      <td>Caucasian</td>\n",
       "      <td>Female</td>\n",
       "      <td>[0-10)</td>\n",
       "      <td>?</td>\n",
       "      <td>1</td>\n",
       "      <td>?</td>\n",
       "      <td>Pediatrics-Endocrinology</td>\n",
       "      <td>41</td>\n",
       "      <td>...</td>\n",
       "      <td>No</td>\n",
       "      <td>No</td>\n",
       "      <td>No</td>\n",
       "      <td>No</td>\n",
       "      <td>No</td>\n",
       "      <td>No</td>\n",
       "      <td>NO</td>\n",
       "      <td>NaN</td>\n",
       "      <td>Not Mapped</td>\n",
       "      <td>Physician Referral</td>\n",
       "    </tr>\n",
       "    <tr>\n",
       "      <th>1</th>\n",
       "      <td>149190</td>\n",
       "      <td>55629189</td>\n",
       "      <td>Caucasian</td>\n",
       "      <td>Female</td>\n",
       "      <td>[10-20)</td>\n",
       "      <td>?</td>\n",
       "      <td>3</td>\n",
       "      <td>?</td>\n",
       "      <td>?</td>\n",
       "      <td>59</td>\n",
       "      <td>...</td>\n",
       "      <td>No</td>\n",
       "      <td>No</td>\n",
       "      <td>No</td>\n",
       "      <td>No</td>\n",
       "      <td>Ch</td>\n",
       "      <td>Yes</td>\n",
       "      <td>&gt;30</td>\n",
       "      <td>Emergency</td>\n",
       "      <td>Discharged to home</td>\n",
       "      <td>Emergency Room</td>\n",
       "    </tr>\n",
       "    <tr>\n",
       "      <th>2</th>\n",
       "      <td>64410</td>\n",
       "      <td>86047875</td>\n",
       "      <td>AfricanAmerican</td>\n",
       "      <td>Female</td>\n",
       "      <td>[20-30)</td>\n",
       "      <td>?</td>\n",
       "      <td>2</td>\n",
       "      <td>?</td>\n",
       "      <td>?</td>\n",
       "      <td>11</td>\n",
       "      <td>...</td>\n",
       "      <td>No</td>\n",
       "      <td>No</td>\n",
       "      <td>No</td>\n",
       "      <td>No</td>\n",
       "      <td>No</td>\n",
       "      <td>Yes</td>\n",
       "      <td>NO</td>\n",
       "      <td>Emergency</td>\n",
       "      <td>Discharged to home</td>\n",
       "      <td>Emergency Room</td>\n",
       "    </tr>\n",
       "    <tr>\n",
       "      <th>3</th>\n",
       "      <td>500364</td>\n",
       "      <td>82442376</td>\n",
       "      <td>Caucasian</td>\n",
       "      <td>Male</td>\n",
       "      <td>[30-40)</td>\n",
       "      <td>?</td>\n",
       "      <td>2</td>\n",
       "      <td>?</td>\n",
       "      <td>?</td>\n",
       "      <td>44</td>\n",
       "      <td>...</td>\n",
       "      <td>No</td>\n",
       "      <td>No</td>\n",
       "      <td>No</td>\n",
       "      <td>No</td>\n",
       "      <td>Ch</td>\n",
       "      <td>Yes</td>\n",
       "      <td>NO</td>\n",
       "      <td>Emergency</td>\n",
       "      <td>Discharged to home</td>\n",
       "      <td>Emergency Room</td>\n",
       "    </tr>\n",
       "  </tbody>\n",
       "</table>\n",
       "<p>4 rows × 50 columns</p>\n",
       "</div>"
      ],
      "text/plain": [
       "   encounter_id  patient_nbr             race  gender      age weight  \\\n",
       "0       2278392      8222157        Caucasian  Female   [0-10)      ?   \n",
       "1        149190     55629189        Caucasian  Female  [10-20)      ?   \n",
       "2         64410     86047875  AfricanAmerican  Female  [20-30)      ?   \n",
       "3        500364     82442376        Caucasian    Male  [30-40)      ?   \n",
       "\n",
       "   time_in_hospital payer_code         medical_specialty  num_lab_procedures  \\\n",
       "0                 1          ?  Pediatrics-Endocrinology                  41   \n",
       "1                 3          ?                         ?                  59   \n",
       "2                 2          ?                         ?                  11   \n",
       "3                 2          ?                         ?                  44   \n",
       "\n",
       "   ...  glipizide-metformin  glimepiride-pioglitazone  \\\n",
       "0  ...                   No                        No   \n",
       "1  ...                   No                        No   \n",
       "2  ...                   No                        No   \n",
       "3  ...                   No                        No   \n",
       "\n",
       "   metformin-rosiglitazone  metformin-pioglitazone  change diabetesMed  \\\n",
       "0                       No                      No      No          No   \n",
       "1                       No                      No      Ch         Yes   \n",
       "2                       No                      No      No         Yes   \n",
       "3                       No                      No      Ch         Yes   \n",
       "\n",
       "  readmitted admission_type  discharge_disposition     admission_source  \n",
       "0         NO            NaN             Not Mapped   Physician Referral  \n",
       "1        >30      Emergency     Discharged to home       Emergency Room  \n",
       "2         NO      Emergency     Discharged to home       Emergency Room  \n",
       "3         NO      Emergency     Discharged to home       Emergency Room  \n",
       "\n",
       "[4 rows x 50 columns]"
      ]
     },
     "execution_count": 96,
     "metadata": {},
     "output_type": "execute_result"
    }
   ],
   "source": [
    "df.head(4)"
   ]
  },
  {
   "cell_type": "markdown",
   "id": "82f365e2-08c1-4eda-875e-06ae7435fc2c",
   "metadata": {},
   "source": [
    "###  Convert to Numeric Type (Midpoint of Range) for Column \"Age\""
   ]
  },
  {
   "cell_type": "code",
   "execution_count": 97,
   "id": "ac003344-54d1-4e84-aea0-537108a314d8",
   "metadata": {
    "ExecuteTime": {
     "end_time": "2024-05-20T15:45:37.001257Z",
     "start_time": "2024-05-20T15:45:34.611777Z"
    }
   },
   "outputs": [],
   "source": [
    "def extract_midpoint(value):\n",
    "    value = value.strip('[]()')\n",
    "    lower, upper = value.split('-')\n",
    "    return (int(lower) + int(upper)) / 2\n",
    "\n",
    "def process_range_columns(df):\n",
    "    for _col in df.columns:\n",
    "        if df[_col].dtype == 'object':\n",
    "            mask = df[_col].str.match(r'^\\[\\d+-\\d+\\)$') & df[_col].notna()\n",
    "            if mask.any():\n",
    "                df.loc[mask, _col] = df.loc[mask, _col].apply(extract_midpoint)\n",
    "                df[_col] = pd.to_numeric(df[_col], errors='coerce')\n",
    "    return df\n",
    "\n",
    "df= process_range_columns(df)"
   ]
  },
  {
   "cell_type": "markdown",
   "id": "e52d07df-b240-406f-9854-39914d9614e1",
   "metadata": {},
   "source": [
    "### Identify numerical/categorical columns"
   ]
  },
  {
   "cell_type": "code",
   "execution_count": 98,
   "id": "9418fdc8-e5c2-4ffe-842b-5e235878e389",
   "metadata": {
    "ExecuteTime": {
     "end_time": "2024-05-20T15:45:37.116174Z",
     "start_time": "2024-05-20T15:45:37.003137Z"
    }
   },
   "outputs": [],
   "source": [
    "object_columns = df.select_dtypes(include=['object']).columns\n",
    "for column in object_columns:\n",
    "    try:\n",
    "        df[column] = pd.to_numeric(df[column])\n",
    "    except ValueError:\n",
    "        continue"
   ]
  },
  {
   "cell_type": "code",
   "execution_count": 99,
   "id": "cdbf3f7c-4ca1-4452-a538-287bac089861",
   "metadata": {
    "ExecuteTime": {
     "end_time": "2024-05-20T15:45:37.241153Z",
     "start_time": "2024-05-20T15:45:37.117459Z"
    }
   },
   "outputs": [
    {
     "data": {
      "text/plain": [
       "['glipizide',\n",
       " 'acetohexamide',\n",
       " 'gender',\n",
       " 'diabetesMed',\n",
       " 'insulin',\n",
       " 'chlorpropamide',\n",
       " 'discharge_disposition',\n",
       " 'diag_3',\n",
       " 'encounter_id',\n",
       " 'repaglinide',\n",
       " 'tolazamide',\n",
       " 'pioglitazone',\n",
       " 'metformin-pioglitazone',\n",
       " 'glipizide-metformin',\n",
       " 'medical_specialty',\n",
       " 'nateglinide',\n",
       " 'diag_1',\n",
       " 'A1Cresult',\n",
       " 'change',\n",
       " 'examide',\n",
       " 'glimepiride-pioglitazone',\n",
       " 'metformin',\n",
       " 'tolbutamide',\n",
       " 'admission_type',\n",
       " 'race',\n",
       " 'miglitol',\n",
       " 'patient_nbr',\n",
       " 'glyburide-metformin',\n",
       " 'citoglipton',\n",
       " 'rosiglitazone',\n",
       " 'admission_source',\n",
       " 'glyburide',\n",
       " 'troglitazone',\n",
       " 'metformin-rosiglitazone',\n",
       " 'max_glu_serum',\n",
       " 'glimepiride',\n",
       " 'payer_code',\n",
       " 'acarbose',\n",
       " 'diag_2',\n",
       " 'readmitted']"
      ]
     },
     "execution_count": 99,
     "metadata": {},
     "output_type": "execute_result"
    }
   ],
   "source": [
    "categorical_columns = []\n",
    "categorical_columns.extend(df.select_dtypes(include=['object']).columns)\n",
    "id_columns = [col for col in df.columns if col.endswith('id')]\n",
    "categorical_columns.extend(id_columns)\n",
    "categorical_columns.extend(['patient_nbr', 'payer_code'])\n",
    "categorical_columns = list(set(categorical_columns))\n",
    "categorical_columns"
   ]
  },
  {
   "cell_type": "code",
   "execution_count": 100,
   "id": "437f90be-5cf1-4883-be67-f3ef20447527",
   "metadata": {
    "ExecuteTime": {
     "end_time": "2024-05-20T15:45:37.248412Z",
     "start_time": "2024-05-20T15:45:37.242645Z"
    }
   },
   "outputs": [
    {
     "data": {
      "text/plain": [
       "['age',\n",
       " 'weight',\n",
       " 'time_in_hospital',\n",
       " 'num_lab_procedures',\n",
       " 'num_procedures',\n",
       " 'num_medications',\n",
       " 'number_outpatient',\n",
       " 'number_emergency',\n",
       " 'number_inpatient',\n",
       " 'number_diagnoses']"
      ]
     },
     "execution_count": 100,
     "metadata": {},
     "output_type": "execute_result"
    }
   ],
   "source": [
    "numerical_columns = [col for col in df.columns if col not in categorical_columns]\n",
    "numerical_columns"
   ]
  },
  {
   "cell_type": "markdown",
   "id": "e1e5ca3c-2234-4b6a-a5c0-f91e59ea23f0",
   "metadata": {},
   "source": [
    "### standardize text columns"
   ]
  },
  {
   "cell_type": "code",
   "execution_count": 101,
   "id": "9e07e03d9500ca92",
   "metadata": {
    "ExecuteTime": {
     "end_time": "2024-05-20T15:45:37.396280Z",
     "start_time": "2024-05-20T15:45:37.282780Z"
    },
    "collapsed": false,
    "jupyter": {
     "outputs_hidden": false
    }
   },
   "outputs": [
    {
     "data": {
      "text/plain": [
       "array(['race', 'gender', 'payer_code', 'medical_specialty', 'diag_1',\n",
       "       'diag_2', 'diag_3', 'max_glu_serum', 'A1Cresult', 'metformin',\n",
       "       'repaglinide', 'nateglinide', 'chlorpropamide', 'glimepiride',\n",
       "       'acetohexamide', 'glipizide', 'glyburide', 'tolbutamide',\n",
       "       'pioglitazone', 'rosiglitazone', 'acarbose', 'miglitol',\n",
       "       'troglitazone', 'tolazamide', 'examide', 'citoglipton', 'insulin',\n",
       "       'glyburide-metformin', 'glipizide-metformin',\n",
       "       'glimepiride-pioglitazone', 'metformin-rosiglitazone',\n",
       "       'metformin-pioglitazone', 'change', 'diabetesMed', 'readmitted',\n",
       "       'admission_type', 'discharge_disposition', 'admission_source'],\n",
       "      dtype=object)"
      ]
     },
     "execution_count": 101,
     "metadata": {},
     "output_type": "execute_result"
    }
   ],
   "source": [
    "text_columns = df.select_dtypes(include=['object']).columns\n",
    "text_columns.values"
   ]
  },
  {
   "cell_type": "code",
   "execution_count": 102,
   "id": "7d323385-96f3-406e-810f-3558415b34c0",
   "metadata": {
    "ExecuteTime": {
     "end_time": "2024-05-20T15:45:38.556770Z",
     "start_time": "2024-05-20T15:45:37.615236Z"
    }
   },
   "outputs": [],
   "source": [
    "for col in text_columns:\n",
    "    df[col] = df[col].str.strip()  # Remove leading/trailing spaces"
   ]
  },
  {
   "cell_type": "markdown",
   "id": "d437835dbaf88176",
   "metadata": {
    "collapsed": false,
    "jupyter": {
     "outputs_hidden": false
    }
   },
   "source": [
    "### Standardize Numerical Data"
   ]
  },
  {
   "cell_type": "code",
   "execution_count": 103,
   "id": "b2256a75b04e977a",
   "metadata": {
    "ExecuteTime": {
     "end_time": "2024-05-20T15:45:39.493484Z",
     "start_time": "2024-05-20T15:45:38.558476Z"
    },
    "collapsed": false,
    "jupyter": {
     "outputs_hidden": false
    }
   },
   "outputs": [],
   "source": [
    "from sklearn.preprocessing import StandardScaler\n",
    "\n",
    "df = pd.concat([df[categorical_columns], \n",
    "                pd.DataFrame(data=StandardScaler().fit_transform(df[numerical_columns].values), columns=numerical_columns)], axis=1)"
   ]
  },
  {
   "cell_type": "code",
   "execution_count": 104,
   "id": "ce6520f11a0f4032",
   "metadata": {
    "ExecuteTime": {
     "end_time": "2024-05-20T15:45:39.523416Z",
     "start_time": "2024-05-20T15:45:39.495104Z"
    },
    "collapsed": false,
    "jupyter": {
     "outputs_hidden": false
    }
   },
   "outputs": [
    {
     "data": {
      "text/html": [
       "<div>\n",
       "<style scoped>\n",
       "    .dataframe tbody tr th:only-of-type {\n",
       "        vertical-align: middle;\n",
       "    }\n",
       "\n",
       "    .dataframe tbody tr th {\n",
       "        vertical-align: top;\n",
       "    }\n",
       "\n",
       "    .dataframe thead th {\n",
       "        text-align: right;\n",
       "    }\n",
       "</style>\n",
       "<table border=\"1\" class=\"dataframe\">\n",
       "  <thead>\n",
       "    <tr style=\"text-align: right;\">\n",
       "      <th></th>\n",
       "      <th>glipizide</th>\n",
       "      <th>acetohexamide</th>\n",
       "      <th>gender</th>\n",
       "      <th>diabetesMed</th>\n",
       "      <th>insulin</th>\n",
       "      <th>chlorpropamide</th>\n",
       "      <th>discharge_disposition</th>\n",
       "      <th>diag_3</th>\n",
       "      <th>encounter_id</th>\n",
       "      <th>repaglinide</th>\n",
       "      <th>...</th>\n",
       "      <th>age</th>\n",
       "      <th>weight</th>\n",
       "      <th>time_in_hospital</th>\n",
       "      <th>num_lab_procedures</th>\n",
       "      <th>num_procedures</th>\n",
       "      <th>num_medications</th>\n",
       "      <th>number_outpatient</th>\n",
       "      <th>number_emergency</th>\n",
       "      <th>number_inpatient</th>\n",
       "      <th>number_diagnoses</th>\n",
       "    </tr>\n",
       "  </thead>\n",
       "  <tbody>\n",
       "    <tr>\n",
       "      <th>0</th>\n",
       "      <td>No</td>\n",
       "      <td>No</td>\n",
       "      <td>Female</td>\n",
       "      <td>No</td>\n",
       "      <td>No</td>\n",
       "      <td>No</td>\n",
       "      <td>Not Mapped</td>\n",
       "      <td>?</td>\n",
       "      <td>2278392</td>\n",
       "      <td>No</td>\n",
       "      <td>...</td>\n",
       "      <td>-3.824600</td>\n",
       "      <td>NaN</td>\n",
       "      <td>-1.137649</td>\n",
       "      <td>-0.106517</td>\n",
       "      <td>-0.785398</td>\n",
       "      <td>-1.848268</td>\n",
       "      <td>-0.291461</td>\n",
       "      <td>-0.21262</td>\n",
       "      <td>-0.503276</td>\n",
       "      <td>-3.321596</td>\n",
       "    </tr>\n",
       "    <tr>\n",
       "      <th>1</th>\n",
       "      <td>No</td>\n",
       "      <td>No</td>\n",
       "      <td>Female</td>\n",
       "      <td>Yes</td>\n",
       "      <td>Up</td>\n",
       "      <td>No</td>\n",
       "      <td>Discharged to home</td>\n",
       "      <td>255</td>\n",
       "      <td>149190</td>\n",
       "      <td>No</td>\n",
       "      <td>...</td>\n",
       "      <td>-3.197277</td>\n",
       "      <td>NaN</td>\n",
       "      <td>-0.467653</td>\n",
       "      <td>0.808384</td>\n",
       "      <td>-0.785398</td>\n",
       "      <td>0.243390</td>\n",
       "      <td>-0.291461</td>\n",
       "      <td>-0.21262</td>\n",
       "      <td>-0.503276</td>\n",
       "      <td>0.815784</td>\n",
       "    </tr>\n",
       "    <tr>\n",
       "      <th>2</th>\n",
       "      <td>Steady</td>\n",
       "      <td>No</td>\n",
       "      <td>Female</td>\n",
       "      <td>Yes</td>\n",
       "      <td>No</td>\n",
       "      <td>No</td>\n",
       "      <td>Discharged to home</td>\n",
       "      <td>V27</td>\n",
       "      <td>64410</td>\n",
       "      <td>No</td>\n",
       "      <td>...</td>\n",
       "      <td>-2.569954</td>\n",
       "      <td>NaN</td>\n",
       "      <td>-0.802651</td>\n",
       "      <td>-1.631351</td>\n",
       "      <td>2.145781</td>\n",
       "      <td>-0.371804</td>\n",
       "      <td>1.286748</td>\n",
       "      <td>-0.21262</td>\n",
       "      <td>0.288579</td>\n",
       "      <td>-0.735733</td>\n",
       "    </tr>\n",
       "    <tr>\n",
       "      <th>3</th>\n",
       "      <td>No</td>\n",
       "      <td>No</td>\n",
       "      <td>Male</td>\n",
       "      <td>Yes</td>\n",
       "      <td>Up</td>\n",
       "      <td>No</td>\n",
       "      <td>Discharged to home</td>\n",
       "      <td>403</td>\n",
       "      <td>500364</td>\n",
       "      <td>No</td>\n",
       "      <td>...</td>\n",
       "      <td>-1.942632</td>\n",
       "      <td>NaN</td>\n",
       "      <td>-0.802651</td>\n",
       "      <td>0.045967</td>\n",
       "      <td>-0.199162</td>\n",
       "      <td>-0.002688</td>\n",
       "      <td>-0.291461</td>\n",
       "      <td>-0.21262</td>\n",
       "      <td>-0.503276</td>\n",
       "      <td>-0.218561</td>\n",
       "    </tr>\n",
       "    <tr>\n",
       "      <th>4</th>\n",
       "      <td>Steady</td>\n",
       "      <td>No</td>\n",
       "      <td>Male</td>\n",
       "      <td>Yes</td>\n",
       "      <td>Steady</td>\n",
       "      <td>No</td>\n",
       "      <td>Discharged to home</td>\n",
       "      <td>250</td>\n",
       "      <td>16680</td>\n",
       "      <td>No</td>\n",
       "      <td>...</td>\n",
       "      <td>-1.315309</td>\n",
       "      <td>NaN</td>\n",
       "      <td>-1.137649</td>\n",
       "      <td>0.401761</td>\n",
       "      <td>-0.785398</td>\n",
       "      <td>-0.986997</td>\n",
       "      <td>-0.291461</td>\n",
       "      <td>-0.21262</td>\n",
       "      <td>-0.503276</td>\n",
       "      <td>-1.252906</td>\n",
       "    </tr>\n",
       "  </tbody>\n",
       "</table>\n",
       "<p>5 rows × 50 columns</p>\n",
       "</div>"
      ],
      "text/plain": [
       "  glipizide acetohexamide  gender diabetesMed insulin chlorpropamide  \\\n",
       "0        No            No  Female          No      No             No   \n",
       "1        No            No  Female         Yes      Up             No   \n",
       "2    Steady            No  Female         Yes      No             No   \n",
       "3        No            No    Male         Yes      Up             No   \n",
       "4    Steady            No    Male         Yes  Steady             No   \n",
       "\n",
       "  discharge_disposition diag_3  encounter_id repaglinide  ...       age  \\\n",
       "0            Not Mapped      ?       2278392          No  ... -3.824600   \n",
       "1    Discharged to home    255        149190          No  ... -3.197277   \n",
       "2    Discharged to home    V27         64410          No  ... -2.569954   \n",
       "3    Discharged to home    403        500364          No  ... -1.942632   \n",
       "4    Discharged to home    250         16680          No  ... -1.315309   \n",
       "\n",
       "  weight time_in_hospital num_lab_procedures num_procedures num_medications  \\\n",
       "0    NaN        -1.137649          -0.106517      -0.785398       -1.848268   \n",
       "1    NaN        -0.467653           0.808384      -0.785398        0.243390   \n",
       "2    NaN        -0.802651          -1.631351       2.145781       -0.371804   \n",
       "3    NaN        -0.802651           0.045967      -0.199162       -0.002688   \n",
       "4    NaN        -1.137649           0.401761      -0.785398       -0.986997   \n",
       "\n",
       "  number_outpatient number_emergency number_inpatient number_diagnoses  \n",
       "0         -0.291461         -0.21262        -0.503276        -3.321596  \n",
       "1         -0.291461         -0.21262        -0.503276         0.815784  \n",
       "2          1.286748         -0.21262         0.288579        -0.735733  \n",
       "3         -0.291461         -0.21262        -0.503276        -0.218561  \n",
       "4         -0.291461         -0.21262        -0.503276        -1.252906  \n",
       "\n",
       "[5 rows x 50 columns]"
      ]
     },
     "execution_count": 104,
     "metadata": {},
     "output_type": "execute_result"
    }
   ],
   "source": [
    "df.head(5)"
   ]
  },
  {
   "cell_type": "markdown",
   "id": "3d772c51-63c6-4fd1-970a-5ae1c7b51ace",
   "metadata": {},
   "source": [
    "### Remove duplicates"
   ]
  },
  {
   "cell_type": "code",
   "execution_count": 105,
   "id": "c4fbc165-186d-48b1-9277-511ca96c1459",
   "metadata": {
    "ExecuteTime": {
     "end_time": "2024-05-20T15:45:39.961339Z",
     "start_time": "2024-05-20T15:45:39.525562Z"
    }
   },
   "outputs": [],
   "source": [
    "df = df.drop_duplicates()"
   ]
  },
  {
   "cell_type": "markdown",
   "id": "33afcc45-be81-4e1f-be3d-d26baedcd5c6",
   "metadata": {},
   "source": [
    "### Handling Missing and Invalid Values "
   ]
  },
  {
   "cell_type": "code",
   "execution_count": 106,
   "id": "633c42993a9a1456",
   "metadata": {
    "ExecuteTime": {
     "end_time": "2024-05-20T15:45:39.977062Z",
     "start_time": "2024-05-20T15:45:39.968953Z"
    },
    "collapsed": false,
    "jupyter": {
     "outputs_hidden": false
    }
   },
   "outputs": [],
   "source": [
    "def find_invalid_values(_df):\n",
    "    placeholder_values = [\"Unknown/Invalid\", \"NaN\", \"Not Available\", \"Not Mapped\", \"?\"]\n",
    "    \n",
    "    placeholder_counts = {}\n",
    "    \n",
    "    for _col in _df.columns:\n",
    "        placeholder_counts[_col] = {}\n",
    "        for value in placeholder_values:\n",
    "            placeholder_counts[_col][value] = _df[_col].astype(str).str.contains(re.escape(value), case=False, na=False).sum()\n",
    "    _placeholder_counts_df = pd.DataFrame(placeholder_counts).transpose()\n",
    "    _placeholder_counts_df = _placeholder_counts_df[(_placeholder_counts_df.T != 0).any()]\n",
    "    total_rows = len(_df)\n",
    "    _percentage_df = (_placeholder_counts_df / total_rows) * 100\n",
    "    _percentage_df[\"sum\"] = (_percentage_df[\"Unknown/Invalid\"] \n",
    "                             + _percentage_df[\"NaN\"] \n",
    "                             + _percentage_df[\"Not Available\"] \n",
    "                             + _percentage_df[\"Not Mapped\"] \n",
    "                             +  _percentage_df[\"?\"])\n",
    "    return _percentage_df"
   ]
  },
  {
   "cell_type": "code",
   "execution_count": 107,
   "id": "329afb662fe099",
   "metadata": {
    "ExecuteTime": {
     "end_time": "2024-05-20T15:45:53.150031Z",
     "start_time": "2024-05-20T15:45:39.981336Z"
    },
    "collapsed": false,
    "jupyter": {
     "outputs_hidden": false
    }
   },
   "outputs": [
    {
     "data": {
      "text/html": [
       "<div>\n",
       "<style scoped>\n",
       "    .dataframe tbody tr th:only-of-type {\n",
       "        vertical-align: middle;\n",
       "    }\n",
       "\n",
       "    .dataframe tbody tr th {\n",
       "        vertical-align: top;\n",
       "    }\n",
       "\n",
       "    .dataframe thead th {\n",
       "        text-align: right;\n",
       "    }\n",
       "</style>\n",
       "<table border=\"1\" class=\"dataframe\">\n",
       "  <thead>\n",
       "    <tr style=\"text-align: right;\">\n",
       "      <th></th>\n",
       "      <th>Unknown/Invalid</th>\n",
       "      <th>NaN</th>\n",
       "      <th>Not Available</th>\n",
       "      <th>Not Mapped</th>\n",
       "      <th>?</th>\n",
       "      <th>sum</th>\n",
       "    </tr>\n",
       "  </thead>\n",
       "  <tbody>\n",
       "    <tr>\n",
       "      <th>gender</th>\n",
       "      <td>0.002948</td>\n",
       "      <td>0.000000</td>\n",
       "      <td>0.000000</td>\n",
       "      <td>0.000000</td>\n",
       "      <td>0.000000</td>\n",
       "      <td>0.002948</td>\n",
       "    </tr>\n",
       "    <tr>\n",
       "      <th>discharge_disposition</th>\n",
       "      <td>0.000000</td>\n",
       "      <td>3.626948</td>\n",
       "      <td>0.000000</td>\n",
       "      <td>0.971837</td>\n",
       "      <td>0.000000</td>\n",
       "      <td>4.598785</td>\n",
       "    </tr>\n",
       "    <tr>\n",
       "      <th>diag_3</th>\n",
       "      <td>0.000000</td>\n",
       "      <td>0.000000</td>\n",
       "      <td>0.000000</td>\n",
       "      <td>0.000000</td>\n",
       "      <td>1.398306</td>\n",
       "      <td>1.398306</td>\n",
       "    </tr>\n",
       "    <tr>\n",
       "      <th>medical_specialty</th>\n",
       "      <td>0.000000</td>\n",
       "      <td>0.000000</td>\n",
       "      <td>0.000000</td>\n",
       "      <td>0.000000</td>\n",
       "      <td>49.082208</td>\n",
       "      <td>49.082208</td>\n",
       "    </tr>\n",
       "    <tr>\n",
       "      <th>diag_1</th>\n",
       "      <td>0.000000</td>\n",
       "      <td>0.000000</td>\n",
       "      <td>0.000000</td>\n",
       "      <td>0.000000</td>\n",
       "      <td>0.020636</td>\n",
       "      <td>0.020636</td>\n",
       "    </tr>\n",
       "    <tr>\n",
       "      <th>A1Cresult</th>\n",
       "      <td>0.000000</td>\n",
       "      <td>83.277322</td>\n",
       "      <td>0.000000</td>\n",
       "      <td>0.000000</td>\n",
       "      <td>0.000000</td>\n",
       "      <td>83.277322</td>\n",
       "    </tr>\n",
       "    <tr>\n",
       "      <th>admission_type</th>\n",
       "      <td>0.000000</td>\n",
       "      <td>5.199182</td>\n",
       "      <td>4.701963</td>\n",
       "      <td>0.314447</td>\n",
       "      <td>0.000000</td>\n",
       "      <td>10.215593</td>\n",
       "    </tr>\n",
       "    <tr>\n",
       "      <th>race</th>\n",
       "      <td>0.000000</td>\n",
       "      <td>0.000000</td>\n",
       "      <td>0.000000</td>\n",
       "      <td>0.000000</td>\n",
       "      <td>2.233555</td>\n",
       "      <td>2.233555</td>\n",
       "    </tr>\n",
       "    <tr>\n",
       "      <th>admission_source</th>\n",
       "      <td>0.000000</td>\n",
       "      <td>6.663326</td>\n",
       "      <td>0.122831</td>\n",
       "      <td>0.158206</td>\n",
       "      <td>0.000000</td>\n",
       "      <td>6.944363</td>\n",
       "    </tr>\n",
       "    <tr>\n",
       "      <th>max_glu_serum</th>\n",
       "      <td>0.000000</td>\n",
       "      <td>94.746772</td>\n",
       "      <td>0.000000</td>\n",
       "      <td>0.000000</td>\n",
       "      <td>0.000000</td>\n",
       "      <td>94.746772</td>\n",
       "    </tr>\n",
       "    <tr>\n",
       "      <th>payer_code</th>\n",
       "      <td>0.000000</td>\n",
       "      <td>0.000000</td>\n",
       "      <td>0.000000</td>\n",
       "      <td>0.000000</td>\n",
       "      <td>39.557416</td>\n",
       "      <td>39.557416</td>\n",
       "    </tr>\n",
       "    <tr>\n",
       "      <th>diag_2</th>\n",
       "      <td>0.000000</td>\n",
       "      <td>0.000000</td>\n",
       "      <td>0.000000</td>\n",
       "      <td>0.000000</td>\n",
       "      <td>0.351787</td>\n",
       "      <td>0.351787</td>\n",
       "    </tr>\n",
       "    <tr>\n",
       "      <th>weight</th>\n",
       "      <td>0.000000</td>\n",
       "      <td>96.861427</td>\n",
       "      <td>0.000000</td>\n",
       "      <td>0.000000</td>\n",
       "      <td>0.000000</td>\n",
       "      <td>96.861427</td>\n",
       "    </tr>\n",
       "  </tbody>\n",
       "</table>\n",
       "</div>"
      ],
      "text/plain": [
       "                       Unknown/Invalid        NaN  Not Available  Not Mapped  \\\n",
       "gender                        0.002948   0.000000       0.000000    0.000000   \n",
       "discharge_disposition         0.000000   3.626948       0.000000    0.971837   \n",
       "diag_3                        0.000000   0.000000       0.000000    0.000000   \n",
       "medical_specialty             0.000000   0.000000       0.000000    0.000000   \n",
       "diag_1                        0.000000   0.000000       0.000000    0.000000   \n",
       "A1Cresult                     0.000000  83.277322       0.000000    0.000000   \n",
       "admission_type                0.000000   5.199182       4.701963    0.314447   \n",
       "race                          0.000000   0.000000       0.000000    0.000000   \n",
       "admission_source              0.000000   6.663326       0.122831    0.158206   \n",
       "max_glu_serum                 0.000000  94.746772       0.000000    0.000000   \n",
       "payer_code                    0.000000   0.000000       0.000000    0.000000   \n",
       "diag_2                        0.000000   0.000000       0.000000    0.000000   \n",
       "weight                        0.000000  96.861427       0.000000    0.000000   \n",
       "\n",
       "                               ?        sum  \n",
       "gender                  0.000000   0.002948  \n",
       "discharge_disposition   0.000000   4.598785  \n",
       "diag_3                  1.398306   1.398306  \n",
       "medical_specialty      49.082208  49.082208  \n",
       "diag_1                  0.020636   0.020636  \n",
       "A1Cresult               0.000000  83.277322  \n",
       "admission_type          0.000000  10.215593  \n",
       "race                    2.233555   2.233555  \n",
       "admission_source        0.000000   6.944363  \n",
       "max_glu_serum           0.000000  94.746772  \n",
       "payer_code             39.557416  39.557416  \n",
       "diag_2                  0.351787   0.351787  \n",
       "weight                  0.000000  96.861427  "
      ]
     },
     "execution_count": 107,
     "metadata": {},
     "output_type": "execute_result"
    }
   ],
   "source": [
    "unknown = find_invalid_values(df)\n",
    "unknown"
   ]
  },
  {
   "cell_type": "code",
   "execution_count": 108,
   "id": "98f80a77-0b9c-4931-a949-c71e1bc78a91",
   "metadata": {
    "ExecuteTime": {
     "end_time": "2024-05-20T15:45:53.157992Z",
     "start_time": "2024-05-20T15:45:53.151780Z"
    }
   },
   "outputs": [
    {
     "name": "stdout",
     "output_type": "stream",
     "text": [
      "Columns with more than 40% unknown values:\n"
     ]
    },
    {
     "data": {
      "text/plain": [
       "Index(['medical_specialty', 'A1Cresult', 'max_glu_serum', 'weight'], dtype='object')"
      ]
     },
     "execution_count": 108,
     "metadata": {},
     "output_type": "execute_result"
    }
   ],
   "source": [
    "columns_to_remove = unknown[unknown['sum']> 40].index\n",
    "print(\"Columns with more than 40% unknown values:\")\n",
    "columns_to_remove"
   ]
  },
  {
   "cell_type": "code",
   "execution_count": 109,
   "id": "8cd2076b-3a10-497c-a4b3-a0045ad6b392",
   "metadata": {
    "ExecuteTime": {
     "end_time": "2024-05-20T15:45:53.174261Z",
     "start_time": "2024-05-20T15:45:53.159454Z"
    }
   },
   "outputs": [
    {
     "data": {
      "text/plain": [
       "['encounter_id', 'patient_nbr', 'payer_code']"
      ]
     },
     "execution_count": 109,
     "metadata": {},
     "output_type": "execute_result"
    }
   ],
   "source": [
    "not_important = []\n",
    "id_columns = [col for col in df.columns if col.endswith('id')]\n",
    "not_important.extend(id_columns)\n",
    "not_important.extend(['patient_nbr', 'payer_code'])\n",
    "not_important"
   ]
  },
  {
   "cell_type": "code",
   "execution_count": 110,
   "id": "f3844291-983e-4f02-b934-ae3169a74b00",
   "metadata": {
    "ExecuteTime": {
     "end_time": "2024-05-20T15:45:53.289143Z",
     "start_time": "2024-05-20T15:45:53.175531Z"
    }
   },
   "outputs": [],
   "source": [
    "df = df.drop(columns=columns_to_remove)\n",
    "df = df.drop(columns=not_important)"
   ]
  },
  {
   "cell_type": "code",
   "execution_count": 111,
   "id": "8ab0ce26-47d2-4982-a0ca-1cdee6352027",
   "metadata": {
    "ExecuteTime": {
     "end_time": "2024-05-20T15:45:53.311236Z",
     "start_time": "2024-05-20T15:45:53.292090Z"
    }
   },
   "outputs": [
    {
     "data": {
      "text/html": [
       "<div>\n",
       "<style scoped>\n",
       "    .dataframe tbody tr th:only-of-type {\n",
       "        vertical-align: middle;\n",
       "    }\n",
       "\n",
       "    .dataframe tbody tr th {\n",
       "        vertical-align: top;\n",
       "    }\n",
       "\n",
       "    .dataframe thead th {\n",
       "        text-align: right;\n",
       "    }\n",
       "</style>\n",
       "<table border=\"1\" class=\"dataframe\">\n",
       "  <thead>\n",
       "    <tr style=\"text-align: right;\">\n",
       "      <th></th>\n",
       "      <th>glipizide</th>\n",
       "      <th>acetohexamide</th>\n",
       "      <th>gender</th>\n",
       "      <th>diabetesMed</th>\n",
       "      <th>insulin</th>\n",
       "      <th>chlorpropamide</th>\n",
       "      <th>discharge_disposition</th>\n",
       "      <th>diag_3</th>\n",
       "      <th>repaglinide</th>\n",
       "      <th>tolazamide</th>\n",
       "      <th>...</th>\n",
       "      <th>readmitted</th>\n",
       "      <th>age</th>\n",
       "      <th>time_in_hospital</th>\n",
       "      <th>num_lab_procedures</th>\n",
       "      <th>num_procedures</th>\n",
       "      <th>num_medications</th>\n",
       "      <th>number_outpatient</th>\n",
       "      <th>number_emergency</th>\n",
       "      <th>number_inpatient</th>\n",
       "      <th>number_diagnoses</th>\n",
       "    </tr>\n",
       "  </thead>\n",
       "  <tbody>\n",
       "    <tr>\n",
       "      <th>0</th>\n",
       "      <td>No</td>\n",
       "      <td>No</td>\n",
       "      <td>Female</td>\n",
       "      <td>No</td>\n",
       "      <td>No</td>\n",
       "      <td>No</td>\n",
       "      <td>Not Mapped</td>\n",
       "      <td>?</td>\n",
       "      <td>No</td>\n",
       "      <td>No</td>\n",
       "      <td>...</td>\n",
       "      <td>NO</td>\n",
       "      <td>-3.824600</td>\n",
       "      <td>-1.137649</td>\n",
       "      <td>-0.106517</td>\n",
       "      <td>-0.785398</td>\n",
       "      <td>-1.848268</td>\n",
       "      <td>-0.291461</td>\n",
       "      <td>-0.21262</td>\n",
       "      <td>-0.503276</td>\n",
       "      <td>-3.321596</td>\n",
       "    </tr>\n",
       "    <tr>\n",
       "      <th>1</th>\n",
       "      <td>No</td>\n",
       "      <td>No</td>\n",
       "      <td>Female</td>\n",
       "      <td>Yes</td>\n",
       "      <td>Up</td>\n",
       "      <td>No</td>\n",
       "      <td>Discharged to home</td>\n",
       "      <td>255</td>\n",
       "      <td>No</td>\n",
       "      <td>No</td>\n",
       "      <td>...</td>\n",
       "      <td>&gt;30</td>\n",
       "      <td>-3.197277</td>\n",
       "      <td>-0.467653</td>\n",
       "      <td>0.808384</td>\n",
       "      <td>-0.785398</td>\n",
       "      <td>0.243390</td>\n",
       "      <td>-0.291461</td>\n",
       "      <td>-0.21262</td>\n",
       "      <td>-0.503276</td>\n",
       "      <td>0.815784</td>\n",
       "    </tr>\n",
       "    <tr>\n",
       "      <th>2</th>\n",
       "      <td>Steady</td>\n",
       "      <td>No</td>\n",
       "      <td>Female</td>\n",
       "      <td>Yes</td>\n",
       "      <td>No</td>\n",
       "      <td>No</td>\n",
       "      <td>Discharged to home</td>\n",
       "      <td>V27</td>\n",
       "      <td>No</td>\n",
       "      <td>No</td>\n",
       "      <td>...</td>\n",
       "      <td>NO</td>\n",
       "      <td>-2.569954</td>\n",
       "      <td>-0.802651</td>\n",
       "      <td>-1.631351</td>\n",
       "      <td>2.145781</td>\n",
       "      <td>-0.371804</td>\n",
       "      <td>1.286748</td>\n",
       "      <td>-0.21262</td>\n",
       "      <td>0.288579</td>\n",
       "      <td>-0.735733</td>\n",
       "    </tr>\n",
       "    <tr>\n",
       "      <th>3</th>\n",
       "      <td>No</td>\n",
       "      <td>No</td>\n",
       "      <td>Male</td>\n",
       "      <td>Yes</td>\n",
       "      <td>Up</td>\n",
       "      <td>No</td>\n",
       "      <td>Discharged to home</td>\n",
       "      <td>403</td>\n",
       "      <td>No</td>\n",
       "      <td>No</td>\n",
       "      <td>...</td>\n",
       "      <td>NO</td>\n",
       "      <td>-1.942632</td>\n",
       "      <td>-0.802651</td>\n",
       "      <td>0.045967</td>\n",
       "      <td>-0.199162</td>\n",
       "      <td>-0.002688</td>\n",
       "      <td>-0.291461</td>\n",
       "      <td>-0.21262</td>\n",
       "      <td>-0.503276</td>\n",
       "      <td>-0.218561</td>\n",
       "    </tr>\n",
       "    <tr>\n",
       "      <th>4</th>\n",
       "      <td>Steady</td>\n",
       "      <td>No</td>\n",
       "      <td>Male</td>\n",
       "      <td>Yes</td>\n",
       "      <td>Steady</td>\n",
       "      <td>No</td>\n",
       "      <td>Discharged to home</td>\n",
       "      <td>250</td>\n",
       "      <td>No</td>\n",
       "      <td>No</td>\n",
       "      <td>...</td>\n",
       "      <td>NO</td>\n",
       "      <td>-1.315309</td>\n",
       "      <td>-1.137649</td>\n",
       "      <td>0.401761</td>\n",
       "      <td>-0.785398</td>\n",
       "      <td>-0.986997</td>\n",
       "      <td>-0.291461</td>\n",
       "      <td>-0.21262</td>\n",
       "      <td>-0.503276</td>\n",
       "      <td>-1.252906</td>\n",
       "    </tr>\n",
       "  </tbody>\n",
       "</table>\n",
       "<p>5 rows × 43 columns</p>\n",
       "</div>"
      ],
      "text/plain": [
       "  glipizide acetohexamide  gender diabetesMed insulin chlorpropamide  \\\n",
       "0        No            No  Female          No      No             No   \n",
       "1        No            No  Female         Yes      Up             No   \n",
       "2    Steady            No  Female         Yes      No             No   \n",
       "3        No            No    Male         Yes      Up             No   \n",
       "4    Steady            No    Male         Yes  Steady             No   \n",
       "\n",
       "  discharge_disposition diag_3 repaglinide tolazamide  ... readmitted  \\\n",
       "0            Not Mapped      ?          No         No  ...         NO   \n",
       "1    Discharged to home    255          No         No  ...        >30   \n",
       "2    Discharged to home    V27          No         No  ...         NO   \n",
       "3    Discharged to home    403          No         No  ...         NO   \n",
       "4    Discharged to home    250          No         No  ...         NO   \n",
       "\n",
       "        age time_in_hospital num_lab_procedures num_procedures  \\\n",
       "0 -3.824600        -1.137649          -0.106517      -0.785398   \n",
       "1 -3.197277        -0.467653           0.808384      -0.785398   \n",
       "2 -2.569954        -0.802651          -1.631351       2.145781   \n",
       "3 -1.942632        -0.802651           0.045967      -0.199162   \n",
       "4 -1.315309        -1.137649           0.401761      -0.785398   \n",
       "\n",
       "  num_medications number_outpatient number_emergency number_inpatient  \\\n",
       "0       -1.848268         -0.291461         -0.21262        -0.503276   \n",
       "1        0.243390         -0.291461         -0.21262        -0.503276   \n",
       "2       -0.371804          1.286748         -0.21262         0.288579   \n",
       "3       -0.002688         -0.291461         -0.21262        -0.503276   \n",
       "4       -0.986997         -0.291461         -0.21262        -0.503276   \n",
       "\n",
       "  number_diagnoses  \n",
       "0        -3.321596  \n",
       "1         0.815784  \n",
       "2        -0.735733  \n",
       "3        -0.218561  \n",
       "4        -1.252906  \n",
       "\n",
       "[5 rows x 43 columns]"
      ]
     },
     "execution_count": 111,
     "metadata": {},
     "output_type": "execute_result"
    }
   ],
   "source": [
    "df.head()"
   ]
  },
  {
   "cell_type": "code",
   "execution_count": 112,
   "id": "1fe074a9-69e0-4083-a64f-0be39ab517ff",
   "metadata": {
    "ExecuteTime": {
     "end_time": "2024-05-20T15:46:03.347333Z",
     "start_time": "2024-05-20T15:45:53.312399Z"
    }
   },
   "outputs": [
    {
     "data": {
      "text/html": [
       "<div>\n",
       "<style scoped>\n",
       "    .dataframe tbody tr th:only-of-type {\n",
       "        vertical-align: middle;\n",
       "    }\n",
       "\n",
       "    .dataframe tbody tr th {\n",
       "        vertical-align: top;\n",
       "    }\n",
       "\n",
       "    .dataframe thead th {\n",
       "        text-align: right;\n",
       "    }\n",
       "</style>\n",
       "<table border=\"1\" class=\"dataframe\">\n",
       "  <thead>\n",
       "    <tr style=\"text-align: right;\">\n",
       "      <th></th>\n",
       "      <th>Unknown/Invalid</th>\n",
       "      <th>NaN</th>\n",
       "      <th>Not Available</th>\n",
       "      <th>Not Mapped</th>\n",
       "      <th>?</th>\n",
       "      <th>sum</th>\n",
       "    </tr>\n",
       "  </thead>\n",
       "  <tbody>\n",
       "    <tr>\n",
       "      <th>gender</th>\n",
       "      <td>0.002948</td>\n",
       "      <td>0.000000</td>\n",
       "      <td>0.000000</td>\n",
       "      <td>0.000000</td>\n",
       "      <td>0.000000</td>\n",
       "      <td>0.002948</td>\n",
       "    </tr>\n",
       "    <tr>\n",
       "      <th>discharge_disposition</th>\n",
       "      <td>0.000000</td>\n",
       "      <td>3.626948</td>\n",
       "      <td>0.000000</td>\n",
       "      <td>0.971837</td>\n",
       "      <td>0.000000</td>\n",
       "      <td>4.598785</td>\n",
       "    </tr>\n",
       "    <tr>\n",
       "      <th>diag_3</th>\n",
       "      <td>0.000000</td>\n",
       "      <td>0.000000</td>\n",
       "      <td>0.000000</td>\n",
       "      <td>0.000000</td>\n",
       "      <td>1.398306</td>\n",
       "      <td>1.398306</td>\n",
       "    </tr>\n",
       "    <tr>\n",
       "      <th>diag_1</th>\n",
       "      <td>0.000000</td>\n",
       "      <td>0.000000</td>\n",
       "      <td>0.000000</td>\n",
       "      <td>0.000000</td>\n",
       "      <td>0.020636</td>\n",
       "      <td>0.020636</td>\n",
       "    </tr>\n",
       "    <tr>\n",
       "      <th>admission_type</th>\n",
       "      <td>0.000000</td>\n",
       "      <td>5.199182</td>\n",
       "      <td>4.701963</td>\n",
       "      <td>0.314447</td>\n",
       "      <td>0.000000</td>\n",
       "      <td>10.215593</td>\n",
       "    </tr>\n",
       "    <tr>\n",
       "      <th>race</th>\n",
       "      <td>0.000000</td>\n",
       "      <td>0.000000</td>\n",
       "      <td>0.000000</td>\n",
       "      <td>0.000000</td>\n",
       "      <td>2.233555</td>\n",
       "      <td>2.233555</td>\n",
       "    </tr>\n",
       "    <tr>\n",
       "      <th>admission_source</th>\n",
       "      <td>0.000000</td>\n",
       "      <td>6.663326</td>\n",
       "      <td>0.122831</td>\n",
       "      <td>0.158206</td>\n",
       "      <td>0.000000</td>\n",
       "      <td>6.944363</td>\n",
       "    </tr>\n",
       "    <tr>\n",
       "      <th>diag_2</th>\n",
       "      <td>0.000000</td>\n",
       "      <td>0.000000</td>\n",
       "      <td>0.000000</td>\n",
       "      <td>0.000000</td>\n",
       "      <td>0.351787</td>\n",
       "      <td>0.351787</td>\n",
       "    </tr>\n",
       "  </tbody>\n",
       "</table>\n",
       "</div>"
      ],
      "text/plain": [
       "                       Unknown/Invalid       NaN  Not Available  Not Mapped  \\\n",
       "gender                        0.002948  0.000000       0.000000    0.000000   \n",
       "discharge_disposition         0.000000  3.626948       0.000000    0.971837   \n",
       "diag_3                        0.000000  0.000000       0.000000    0.000000   \n",
       "diag_1                        0.000000  0.000000       0.000000    0.000000   \n",
       "admission_type                0.000000  5.199182       4.701963    0.314447   \n",
       "race                          0.000000  0.000000       0.000000    0.000000   \n",
       "admission_source              0.000000  6.663326       0.122831    0.158206   \n",
       "diag_2                        0.000000  0.000000       0.000000    0.000000   \n",
       "\n",
       "                              ?        sum  \n",
       "gender                 0.000000   0.002948  \n",
       "discharge_disposition  0.000000   4.598785  \n",
       "diag_3                 1.398306   1.398306  \n",
       "diag_1                 0.020636   0.020636  \n",
       "admission_type         0.000000  10.215593  \n",
       "race                   2.233555   2.233555  \n",
       "admission_source       0.000000   6.944363  \n",
       "diag_2                 0.351787   0.351787  "
      ]
     },
     "execution_count": 112,
     "metadata": {},
     "output_type": "execute_result"
    }
   ],
   "source": [
    "find_invalid_values(df)"
   ]
  },
  {
   "cell_type": "code",
   "execution_count": 113,
   "id": "cdfe6591-bc53-445d-acaf-e1bdb4fc5808",
   "metadata": {
    "ExecuteTime": {
     "end_time": "2024-05-20T15:46:03.455853Z",
     "start_time": "2024-05-20T15:46:03.348272Z"
    }
   },
   "outputs": [
    {
     "name": "stdout",
     "output_type": "stream",
     "text": [
      "<class 'pandas.core.frame.DataFrame'>\n",
      "RangeIndex: 101766 entries, 0 to 101765\n",
      "Data columns (total 43 columns):\n",
      " #   Column                    Non-Null Count   Dtype  \n",
      "---  ------                    --------------   -----  \n",
      " 0   glipizide                 101766 non-null  object \n",
      " 1   acetohexamide             101766 non-null  object \n",
      " 2   gender                    101766 non-null  object \n",
      " 3   diabetesMed               101766 non-null  object \n",
      " 4   insulin                   101766 non-null  object \n",
      " 5   chlorpropamide            101766 non-null  object \n",
      " 6   discharge_disposition     98075 non-null   object \n",
      " 7   diag_3                    101766 non-null  object \n",
      " 8   repaglinide               101766 non-null  object \n",
      " 9   tolazamide                101766 non-null  object \n",
      " 10  pioglitazone              101766 non-null  object \n",
      " 11  metformin-pioglitazone    101766 non-null  object \n",
      " 12  glipizide-metformin       101766 non-null  object \n",
      " 13  nateglinide               101766 non-null  object \n",
      " 14  diag_1                    101766 non-null  object \n",
      " 15  change                    101766 non-null  object \n",
      " 16  examide                   101766 non-null  object \n",
      " 17  glimepiride-pioglitazone  101766 non-null  object \n",
      " 18  metformin                 101766 non-null  object \n",
      " 19  tolbutamide               101766 non-null  object \n",
      " 20  admission_type            96475 non-null   object \n",
      " 21  race                      101766 non-null  object \n",
      " 22  miglitol                  101766 non-null  object \n",
      " 23  glyburide-metformin       101766 non-null  object \n",
      " 24  citoglipton               101766 non-null  object \n",
      " 25  rosiglitazone             101766 non-null  object \n",
      " 26  admission_source          94985 non-null   object \n",
      " 27  glyburide                 101766 non-null  object \n",
      " 28  troglitazone              101766 non-null  object \n",
      " 29  metformin-rosiglitazone   101766 non-null  object \n",
      " 30  glimepiride               101766 non-null  object \n",
      " 31  acarbose                  101766 non-null  object \n",
      " 32  diag_2                    101766 non-null  object \n",
      " 33  readmitted                101766 non-null  object \n",
      " 34  age                       101766 non-null  float64\n",
      " 35  time_in_hospital          101766 non-null  float64\n",
      " 36  num_lab_procedures        101766 non-null  float64\n",
      " 37  num_procedures            101766 non-null  float64\n",
      " 38  num_medications           101766 non-null  float64\n",
      " 39  number_outpatient         101766 non-null  float64\n",
      " 40  number_emergency          101766 non-null  float64\n",
      " 41  number_inpatient          101766 non-null  float64\n",
      " 42  number_diagnoses          101766 non-null  float64\n",
      "dtypes: float64(9), object(34)\n",
      "memory usage: 33.4+ MB\n"
     ]
    }
   ],
   "source": [
    "df.info()"
   ]
  },
  {
   "cell_type": "code",
   "execution_count": 114,
   "id": "6320f205-8355-400b-b347-3025a245be02",
   "metadata": {
    "ExecuteTime": {
     "end_time": "2024-05-20T15:46:06.886642Z",
     "start_time": "2024-05-20T15:46:03.456855Z"
    }
   },
   "outputs": [],
   "source": [
    "invalid_entries = [\"Unknown/Invalid\", \"NaN\", \"Not Available\", \"Not Mapped\", \"?\"]\n",
    "\n",
    "def replace_invalid_with_mode(_df):\n",
    "    for _col in _df.columns:\n",
    "        for invalid in invalid_entries:\n",
    "            replace_invalid_with_nan = lambda x: np.nan if isinstance(x, str) and invalid in x else x\n",
    "            _df[_col] = _df[_col].apply(replace_invalid_with_nan)\n",
    "        \n",
    "        mode = _df[_col].mode().dropna()\n",
    "        if not mode.empty and mode[0] in invalid_entries:\n",
    "            _df = _df.drop(columns=_col)\n",
    "            print(f\"Column {_col} dropped.\")\n",
    "        else:\n",
    "            _df[_col] = _df[_col].fillna(mode[0])\n",
    "    \n",
    "    return _df\n",
    "    \n",
    "df = replace_invalid_with_mode(df)"
   ]
  },
  {
   "cell_type": "code",
   "execution_count": 115,
   "id": "b17ffc06-6135-4117-bc70-4e6befd752e1",
   "metadata": {
    "ExecuteTime": {
     "end_time": "2024-05-20T15:46:14.491339Z",
     "start_time": "2024-05-20T15:46:06.887445Z"
    }
   },
   "outputs": [
    {
     "data": {
      "text/html": [
       "<div>\n",
       "<style scoped>\n",
       "    .dataframe tbody tr th:only-of-type {\n",
       "        vertical-align: middle;\n",
       "    }\n",
       "\n",
       "    .dataframe tbody tr th {\n",
       "        vertical-align: top;\n",
       "    }\n",
       "\n",
       "    .dataframe thead th {\n",
       "        text-align: right;\n",
       "    }\n",
       "</style>\n",
       "<table border=\"1\" class=\"dataframe\">\n",
       "  <thead>\n",
       "    <tr style=\"text-align: right;\">\n",
       "      <th></th>\n",
       "      <th>Unknown/Invalid</th>\n",
       "      <th>NaN</th>\n",
       "      <th>Not Available</th>\n",
       "      <th>Not Mapped</th>\n",
       "      <th>?</th>\n",
       "      <th>sum</th>\n",
       "    </tr>\n",
       "  </thead>\n",
       "  <tbody>\n",
       "  </tbody>\n",
       "</table>\n",
       "</div>"
      ],
      "text/plain": [
       "Empty DataFrame\n",
       "Columns: [Unknown/Invalid, NaN, Not Available, Not Mapped, ?, sum]\n",
       "Index: []"
      ]
     },
     "execution_count": 115,
     "metadata": {},
     "output_type": "execute_result"
    }
   ],
   "source": [
    "find_invalid_values(df)"
   ]
  },
  {
   "cell_type": "markdown",
   "id": "2a0d564a-b8d2-4abb-8df4-5b20f1ed07bd",
   "metadata": {},
   "source": [
    "### Delete low varience datas"
   ]
  },
  {
   "cell_type": "code",
   "execution_count": 116,
   "id": "c4c91744-e8a8-4596-b5dc-7b65b8b7285e",
   "metadata": {},
   "outputs": [
    {
     "name": "stdout",
     "output_type": "stream",
     "text": [
      "Column acetohexamide dropped.\n",
      "Column chlorpropamide dropped.\n",
      "Column repaglinide dropped.\n",
      "Column tolazamide dropped.\n",
      "Column metformin-pioglitazone dropped.\n",
      "Column glipizide-metformin dropped.\n",
      "Column nateglinide dropped.\n",
      "Column examide dropped.\n",
      "Column glimepiride-pioglitazone dropped.\n",
      "Column tolbutamide dropped.\n",
      "Column miglitol dropped.\n",
      "Column glyburide-metformin dropped.\n",
      "Column citoglipton dropped.\n",
      "Column troglitazone dropped.\n",
      "Column metformin-rosiglitazone dropped.\n",
      "Column acarbose dropped.\n"
     ]
    }
   ],
   "source": [
    "def delete_low_var_cols(_df):\n",
    "    for _col in _df.columns:\n",
    "        mode = _df[_col].mode()\n",
    "        if not mode.empty and (_df[_col] == mode[0]).sum()/len(_df) > .95 :\n",
    "            _df = _df.drop(columns=_col)\n",
    "            print(f\"Column {_col} dropped.\")\n",
    "    \n",
    "    return _df\n",
    "\n",
    "df = delete_low_var_cols(df)\n"
   ]
  },
  {
   "cell_type": "markdown",
   "id": "da5fddc8-e6f8-468e-8ae3-2c37d1cbc274",
   "metadata": {
    "ExecuteTime": {
     "start_time": "2024-05-20T15:46:14.492162Z"
    },
    "is_executing": true
   },
   "source": [
    "df.info() ## no null cell"
   ]
  },
  {
   "cell_type": "markdown",
   "id": "9127a168-e6da-4f2e-bdf4-ad30288200d5",
   "metadata": {},
   "source": [
    "### Encode Categorical Variables:"
   ]
  },
  {
   "cell_type": "code",
   "execution_count": 117,
   "id": "267b126f73242816",
   "metadata": {
    "collapsed": false,
    "is_executing": true,
    "jupyter": {
     "outputs_hidden": false
    }
   },
   "outputs": [
    {
     "data": {
      "text/plain": [
       "array(['admission_source', 'admission_type', 'change', 'diabetesMed',\n",
       "       'diag_1', 'diag_2', 'diag_3', 'discharge_disposition', 'gender',\n",
       "       'glimepiride', 'glipizide', 'glyburide', 'insulin', 'metformin',\n",
       "       'pioglitazone', 'race', 'readmitted', 'rosiglitazone'],\n",
       "      dtype=object)"
      ]
     },
     "execution_count": 117,
     "metadata": {},
     "output_type": "execute_result"
    }
   ],
   "source": [
    "categorical_columns = np.intersect1d(categorical_columns, df.columns)\n",
    "categorical_columns"
   ]
  },
  {
   "cell_type": "code",
   "execution_count": 118,
   "id": "f8ffc172-e1c9-4ea3-bc67-ba6c52eeb583",
   "metadata": {
    "is_executing": true
   },
   "outputs": [],
   "source": [
    "from sklearn.preprocessing import OneHotEncoder\n",
    "\n",
    "encoder = OneHotEncoder(handle_unknown='ignore', sparse_output=True)\n",
    "one_hotted_columns_model = encoder.fit_transform(df[categorical_columns])\n",
    "encoded_categorical_df = pd.DataFrame.sparse.from_spmatrix(one_hotted_columns_model, columns=encoder.get_feature_names_out(categorical_columns))\n",
    "\n",
    "df = df.drop(categorical_columns, axis=1)\n",
    "\n",
    "df = pd.concat([df, encoded_categorical_df], axis=1)\n",
    "del encoded_categorical_df"
   ]
  },
  {
   "cell_type": "code",
   "execution_count": 119,
   "id": "17d3e1ea-33f2-4a06-9e08-4a8545e537a4",
   "metadata": {
    "is_executing": true
   },
   "outputs": [
    {
     "data": {
      "text/plain": [
       "2347"
      ]
     },
     "execution_count": 119,
     "metadata": {},
     "output_type": "execute_result"
    }
   ],
   "source": [
    "len(df.columns)"
   ]
  },
  {
   "cell_type": "code",
   "execution_count": 120,
   "id": "b7f1b0dd-ec68-4237-ad04-c1684a25c099",
   "metadata": {
    "is_executing": true
   },
   "outputs": [
    {
     "name": "stdout",
     "output_type": "stream",
     "text": [
      "<class 'pandas.core.frame.DataFrame'>\n",
      "RangeIndex: 101766 entries, 0 to 101765\n",
      "Columns: 2347 entries, age to rosiglitazone_Up\n",
      "dtypes: Sparse[float64, 0](2338), float64(9)\n",
      "memory usage: 28.0 MB\n"
     ]
    }
   ],
   "source": [
    "df.info()"
   ]
  },
  {
   "cell_type": "markdown",
   "id": "77ba2856-46a3-4d3c-a7c9-4cbbdccc4d54",
   "metadata": {},
   "source": [
    "##  2. Dimensionality Reduction"
   ]
  },
  {
   "cell_type": "markdown",
   "id": "fccc9350-e1eb-467c-bf5e-633bdceaf167",
   "metadata": {},
   "source": [
    "Some data mining algorithms, like K-Means, struggle with accurately clustering data when confronted with numerous features, leading to high dimensionality. This issue isn't exclusive to datasets with hundreds or thousands of features; even just ten features can pose accuracy challenges.  \n",
    "Feature or dimensionality reduction aims to address this by transforming the original feature set into a smaller set of derived features that retain most of the original information.  \n",
    "Principal Component Analysis (PCA) is a widely used technique for feature reduction. It condenses the original dataset into a set number of features known as principal components. The desired number of principal components must be specified.  \n",
    "In this section, utilize PCA to reduce the dimensionality of the dataset. This approach is recommended if there are numerous variables, manual variable selection is impractical, or segmentation results are unsatisfactory."
   ]
  },
  {
   "cell_type": "code",
   "execution_count": 121,
   "id": "f70fb058518697e0",
   "metadata": {
    "collapsed": false,
    "is_executing": true,
    "jupyter": {
     "outputs_hidden": false
    }
   },
   "outputs": [],
   "source": [
    "from sklearn.decomposition import PCA\n",
    "\n",
    "pca = PCA(n_components=0.95)  # Retain 95% of the variance\n",
    "pca_data = pca.fit_transform(df.values)\n",
    "\n",
    "pca_columns = [f'PC{i+1}' for i in range(pca_data.shape[1])]\n",
    "df = pd.DataFrame(data=pca_data, columns=pca_columns)"
   ]
  },
  {
   "cell_type": "code",
   "execution_count": 122,
   "id": "b71fed90-5850-47c2-b945-20852852cd91",
   "metadata": {
    "is_executing": true
   },
   "outputs": [
    {
     "name": "stdout",
     "output_type": "stream",
     "text": [
      "<class 'pandas.core.frame.DataFrame'>\n",
      "RangeIndex: 101766 entries, 0 to 101765\n",
      "Columns: 174 entries, PC1 to PC174\n",
      "dtypes: float64(174)\n",
      "memory usage: 135.1 MB\n"
     ]
    }
   ],
   "source": [
    "df.info()"
   ]
  },
  {
   "cell_type": "markdown",
   "id": "3225c16a-00b2-41c1-8874-8ea32302df50",
   "metadata": {},
   "source": [
    "##  3. Unsupervised Learning"
   ]
  },
  {
   "cell_type": "markdown",
   "id": "5d7952f8-46ef-46be-870b-4b6c9845a160",
   "metadata": {},
   "source": [
    "Utilizing the **silhouette method**, determine the optimal `number of clusters` for the **K-means** method and the optimal input parameters `(minPnt, eps)` for the **DBSCAN** method.  \n",
    "Based on the obtained values, store the best result from each method in a CSV file containing only the columns: `id_encounter`, `kmean_label`, and `dbscan_label`."
   ]
  },
  {
   "cell_type": "markdown",
   "id": "3ece1e10-9906-4bc1-a650-fda1dd1eb6dd",
   "metadata": {},
   "source": [
    "###  Silhouette Method\n",
    "The Silhouette Method is a method to find the optimal number of clusters and interpretation and validation of consistency within clusters of data. The silhouette method computes silhouette coefficients of each point that measure how much a point is similar to its cluster compared to other clusters. by providing a succinct graphical representation of how well each object has been classified"
   ]
  },
  {
   "cell_type": "code",
   "execution_count": 41,
   "id": "560b8cc0cf7ef0a4",
   "metadata": {
    "collapsed": false,
    "is_executing": true,
    "jupyter": {
     "outputs_hidden": false
    }
   },
   "outputs": [],
   "source": [
    "from sklearn.metrics import silhouette_score\n",
    "from sklearn.model_selection import GridSearchCV\n",
    "\n",
    "def do_grid_search(estimator, param_grid):\n",
    "    _grid_search = GridSearchCV(estimator,\n",
    "                               param_grid,\n",
    "                               scoring=lambda _estimator, _x: silhouette_score(_x, _estimator.fit_predict(_x)),\n",
    "                               cv=5)\n",
    "    _grid_search.fit(df)\n",
    "    return _grid_search"
   ]
  },
  {
   "cell_type": "markdown",
   "id": "1492a44e-18bf-4d85-b25b-31199dc44414",
   "metadata": {},
   "source": [
    "### K-Means\n",
    "K-Means Clustering is a type of Unsupervised Machine Learning algorithm that organizes an unlabeled dataset into distinct clusters. This method assigns data points to one of the K clusters based on their proximity to the cluster centers. Initially, cluster centroids are randomly placed in space. Then, each data point is assigned to the nearest cluster centroid. Subsequently, new cluster centroids are calculated. This iterative process continues until it converges on well-defined clusters."
   ]
  },
  {
   "cell_type": "code",
   "execution_count": 42,
   "id": "226e6b9333a99349",
   "metadata": {
    "collapsed": false,
    "is_executing": true,
    "jupyter": {
     "outputs_hidden": false
    }
   },
   "outputs": [
    {
     "name": "stderr",
     "output_type": "stream",
     "text": [
      "\n",
      "KeyboardInterrupt\n",
      "\n"
     ]
    }
   ],
   "source": [
    "from sklearn.cluster import KMeans\n",
    "\n",
    "grid_search = do_grid_search(KMeans(n_init=3, random_state=42), {\n",
    "    'n_clusters': np.arange(2, 6)\n",
    "})\n",
    "\n",
    "optimal_k = grid_search.best_params_['n_clusters']\n",
    "optimal_kmeans = grid_search.best_estimator_\n",
    "print(f'Optimal number of clusters for K-means: {optimal_k}')"
   ]
  },
  {
   "cell_type": "code",
   "execution_count": null,
   "id": "f4b7eb825fac550d",
   "metadata": {
    "collapsed": false,
    "is_executing": true,
    "jupyter": {
     "outputs_hidden": false
    }
   },
   "outputs": [],
   "source": [
    "grid_search.cv_results_"
   ]
  },
  {
   "cell_type": "markdown",
   "id": "04286fcd-d65d-45cb-b0ed-10a950ee6be8",
   "metadata": {},
   "source": [
    "### DBSCAN\n",
    "DBSCAN is an unsupervised clustering algorithm, offering an alternative to KMeans and hierarchical clustering. It relies on two key parameters: Epsilon (ɛ), defining the neighborhood radius, and Minimum Points (minPts), specifying the minimum number of points to form a cluster. Epsilon determines the similarity threshold between points, influencing cluster size, while minPts affects cluster robustness and noise handling.  \n",
    "Balancing these parameters is crucial for effective clustering without splitting valid clusters or aggregating unrelated points"
   ]
  },
  {
   "cell_type": "code",
   "execution_count": null,
   "id": "bfc1414182835950",
   "metadata": {
    "collapsed": false,
    "is_executing": true,
    "jupyter": {
     "outputs_hidden": false
    }
   },
   "outputs": [],
   "source": [
    "from sklearn.cluster import DBSCAN\n",
    "\n",
    "grid_search = do_grid_search(DBSCAN(min_samples=2), {\n",
    "    'eps': np.arange(0.2, 1, 0.2)\n",
    "})\n",
    "\n",
    "optimal_eps = grid_search.best_params_['eps']\n",
    "optimal_dbscan = grid_search.best_estimator_\n",
    "print(f'Optimal epsilon for DBSCAN algorithm: {optimal_eps}')"
   ]
  },
  {
   "cell_type": "code",
   "execution_count": null,
   "id": "f99d0ad87c3dcf6c",
   "metadata": {
    "collapsed": false,
    "is_executing": true,
    "jupyter": {
     "outputs_hidden": false
    }
   },
   "outputs": [],
   "source": [
    "grid_search.cv_results_"
   ]
  },
  {
   "cell_type": "markdown",
   "id": "64ac77e1-05a4-490c-9b8f-ad15c1aa5689",
   "metadata": {},
   "source": [
    "### Prepare final DataFrame with results"
   ]
  },
  {
   "cell_type": "code",
   "execution_count": null,
   "id": "7c80e187-72cd-45e5-a7ba-4e135ff3cc7c",
   "metadata": {
    "collapsed": false,
    "is_executing": true,
    "jupyter": {
     "outputs_hidden": false
    }
   },
   "outputs": [],
   "source": [
    "# todo"
   ]
  },
  {
   "cell_type": "markdown",
   "id": "058de080-5c50-46c4-9869-7c9d7bc27757",
   "metadata": {},
   "source": [
    "# Questions"
   ]
  },
  {
   "cell_type": "markdown",
   "id": "e01394e2-6c54-47d6-ae51-4b1e5b14890a",
   "metadata": {},
   "source": [
    "#### 1. What preprocessing steps did you perform on the dataset? Provide clear reasons for each decision made."
   ]
  },
  {
   "cell_type": "markdown",
   "id": "3534ad79-fad1-434a-bba9-b9a946e72bd7",
   "metadata": {},
   "source": []
  },
  {
   "cell_type": "markdown",
   "id": "3ac50663-3f1f-44f8-8ea1-d2243babe6b5",
   "metadata": {},
   "source": [
    "#### 2. What portion of the dataset did you retain during dimensionality reduction, and which variables were retained? Could you elaborate on the rationale behind this decision?"
   ]
  },
  {
   "cell_type": "markdown",
   "id": "9c31000c-882e-405f-84ab-e76909a45cf8",
   "metadata": {},
   "source": []
  },
  {
   "cell_type": "markdown",
   "id": "ad5801d3-db8d-41e3-a5a4-e13fc9b14ae8",
   "metadata": {},
   "source": [
    "#### 3. Include a plot illustrating the silhouette coefficient plotted against the input parameters for each clustering method within the report file."
   ]
  },
  {
   "cell_type": "markdown",
   "id": "adefe8d9-9f3c-432e-9ba4-7118110736ba",
   "metadata": {},
   "source": []
  },
  {
   "cell_type": "markdown",
   "id": "302e6e1e-50b3-4096-b576-80b9db4234c1",
   "metadata": {},
   "source": [
    "#### 4. How can we determine the optimal number of clusters in K-Means?"
   ]
  },
  {
   "cell_type": "markdown",
   "id": "5e74468c-56a6-4d41-86cb-e62ecc22ecae",
   "metadata": {},
   "source": []
  },
  {
   "cell_type": "markdown",
   "id": "de08e00b-5c5b-4986-9b80-07619ecfea08",
   "metadata": {},
   "source": [
    "#### 5. How can we determine the optimal epsilon value and minPts in DBSCAN?"
   ]
  },
  {
   "cell_type": "markdown",
   "id": "8a8021ca-7b5d-4a61-9201-f7e7c403decd",
   "metadata": {},
   "source": [
    "To determine the optimal \\(\\epsilon\\) and minPts values for DBSCAN, we can follow a systematic approach. Here's how we can do it:\n",
    "\n",
    "##### Step-by-Step Method:\n",
    "\n",
    "1. **Set Initial minPts Value**:\n",
    "   - Start by choosing an initial value for minPts. A common heuristic is to set minPts to be at least \\(D+1\\), where \\(D\\) is the number of dimensions in our dataset.\n",
    "\n",
    "2. **Use Grid Search for \\(\\epsilon\\)**:\n",
    "   - Perform a grid search over a range of \\(\\epsilon\\) values to find the one that results in the best clustering performance. This allows us to systematically explore different \\(\\epsilon\\) values.\n",
    "   - Here's a general method using a k-distance graph to guide the range of \\(\\epsilon\\) values:\n",
    "\n",
    "##### General Method for Finding \\(\\epsilon\\) (Using k-Distance Graph):\n",
    "\n",
    "**k-Distance Graph**:\n",
    "   - Compute the distance to the \\(k\\)-th nearest neighbor for each point, where \\(k\\) is typically set to minPts.\n",
    "   - Sort these distances and plot them to create a k-distance graph.\n",
    "   - The \"elbow\" point on this graph often indicates a good candidate for \\(\\epsilon\\), as it represents a threshold where points start to be considered noise.\n",
    "\n"
   ]
  },
  {
   "cell_type": "markdown",
   "id": "2638dbbf-882a-4496-be84-b87ef2a3f41a",
   "metadata": {},
   "source": [
    "#### 6. When would you recommend using K-Means, and when would you suggest using DBSCAN instead"
   ]
  },
  {
   "cell_type": "markdown",
   "id": "b63dbadc-23ef-4511-b136-d7f27097f5ab",
   "metadata": {},
   "source": [
    "- Use K-Means when we have well-separated, equally sized clusters, can specify the number of clusters beforehand, and are working with large, numerical datasets.\n",
    "- Use DBSCAN when we have arbitrary shaped clusters, noise and outliers in our data, varying densities, and do not want to specify the number of clusters in advance.\n",
    "\n",
    "\n",
    "##### When to Use K-Means:\n",
    "1. **Well-Separated Clusters**:\n",
    "   - K-Means performs well when clusters are spherical and equally sized. If our data is expected to have well-separated, evenly sized clusters, K-Means is a good choice.\n",
    "\n",
    "2. **Scalability**:\n",
    "   - K-Means is computationally efficient and scales well with large datasets. If we need to cluster a large dataset quickly, K-Means is preferable.\n",
    "\n",
    "3. **Numerical Data**:\n",
    "   - K-Means works best with numerical data where the mean is a meaningful measure of central tendency.\n",
    "\n",
    "4. **Predefined Number of Clusters**:\n",
    "   - Use K-Means when we have a predefined number of clusters (K). K-Means requires the number of clusters to be specified in advance.\n",
    "\n",
    "5. **Low Dimensionality**:\n",
    "   - K-Means is more effective in lower-dimensional spaces. In high-dimensional spaces, distance metrics may become less meaningful.\n",
    "\n",
    "##### When to Use DBSCAN:\n",
    "1. **Arbitrary Shaped Clusters**:\n",
    "   - DBSCAN can find clusters of arbitrary shape, including elongated or irregularly shaped clusters. If our data has clusters that are not spherical, DBSCAN is more suitable.\n",
    "\n",
    "2. **Handling Noise**:\n",
    "   - DBSCAN is robust to noise and can identify outliers as noise points. If our data contains a lot of noise or outliers, DBSCAN is a better choice.\n",
    "\n",
    "3. **Varying Densities**:\n",
    "   - DBSCAN can handle clusters of varying densities. If our data has clusters with different densities, DBSCAN can effectively identify them.\n",
    "\n",
    "4. **No Need for Predefined Clusters**:\n",
    "   - Unlike K-Means, DBSCAN does not require the number of clusters to be specified in advance. If we do not have prior knowledge of the number of clusters, DBSCAN is advantageous.\n",
    "\n",
    "5. **Medium to Small Datasets**:\n",
    "   - DBSCAN is computationally more expensive than K-Means and may not scale well with very large datasets. It works better with medium to small datasets.\n",
    "\n",
    "6. **Dimensionality Consideration**:\n",
    "   - DBSCAN can struggle with very high-dimensional data, similar to K-Means. However, DBSCAN’s performance is particularly sensitive to the choice of distance metric and parameters (epsilon and minimum points).\n"
   ]
  },
  {
   "cell_type": "markdown",
   "id": "ad30d921-2876-4dfe-ac25-e929befe7753",
   "metadata": {},
   "source": [
    "# References:\n",
    "https://www.newhorizons.com/resources/blog/dbscan-vs-kmeans-a-guide-in-python   \n",
    "https://hex.tech/blog/comparing-density-based-methods/"
   ]
  },
  {
   "cell_type": "code",
   "execution_count": null,
   "id": "880c20da-a293-45cc-b876-76df0e0b930a",
   "metadata": {},
   "outputs": [],
   "source": []
  }
 ],
 "metadata": {
  "kernelspec": {
   "display_name": "Python 3 (ipykernel)",
   "language": "python",
   "name": "python3"
  },
  "language_info": {
   "codemirror_mode": {
    "name": "ipython",
    "version": 3
   },
   "file_extension": ".py",
   "mimetype": "text/x-python",
   "name": "python",
   "nbconvert_exporter": "python",
   "pygments_lexer": "ipython3",
   "version": "3.12.2"
  }
 },
 "nbformat": 4,
 "nbformat_minor": 5
}
