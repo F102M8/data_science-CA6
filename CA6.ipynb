{
 "cells": [
  {
   "cell_type": "markdown",
   "id": "5f22ab08-8231-4502-9f9f-9a1f19e8d3e8",
   "metadata": {
    "jp-MarkdownHeadingCollapsed": true
   },
   "source": [
    "# Introduction"
   ]
  },
  {
   "cell_type": "markdown",
   "id": "b9e525a5-278a-4b45-b040-a9e1e3bd462c",
   "metadata": {},
   "source": [
    " In this assignment, we will delve into dimensionality reduction and unsupervised learning\n",
    " tasks. Firstly, we should preprocess the provided dataset to prepare it for analysis. Next, we\n",
    " will apply dimensionality reduction techniques to simplify the dataset's complexity. Then, we\n",
    " will use unsupervised learning algorithms to tackle the task. Finally, we evaluate and analyze\n",
    " the results for comparison."
   ]
  },
  {
   "cell_type": "markdown",
   "id": "9133a4e1-d519-45b6-aa50-7716570b16bb",
   "metadata": {},
   "source": [
    "## Dataset"
   ]
  },
  {
   "cell_type": "markdown",
   "id": "577b1682-5d62-4be9-97f6-5c5dcc361750",
   "metadata": {},
   "source": [
    " In 2014, some researchers published an article called \"Impact of c1HbA Measurement on\n",
    " Hospital Readmission Rates: Analysis of 70,000 Clinical Database Patient Records.\" They\n",
    " gathered data on diabetic patients from many hospitals and clinics in America. Some of this\n",
    " data, about 200,000 items with 50 features, has been shared with the public in a way that\n",
    " keeps people's identities private"
   ]
  },
  {
   "cell_type": "markdown",
   "id": "828b25d2-f5f6-466e-a3dd-5256bf16ccc9",
   "metadata": {},
   "source": [
    "# Implementation "
   ]
  },
  {
   "cell_type": "markdown",
   "id": "38d71d7e-1fd5-42ff-8590-23f00d3c9c02",
   "metadata": {},
   "source": [
    "## Import Libraries"
   ]
  },
  {
   "cell_type": "code",
   "execution_count": 78,
   "id": "4405ef88-5dac-499c-b62f-6a1f967bfe5e",
   "metadata": {
    "ExecuteTime": {
     "end_time": "2024-05-22T18:37:10.118987Z",
     "start_time": "2024-05-22T18:37:10.117065Z"
    }
   },
   "outputs": [],
   "source": [
    "import pandas as pd\n",
    "import numpy as np\n",
    "import matplotlib.pyplot as plt\n",
    "import re"
   ]
  },
  {
   "cell_type": "markdown",
   "id": "f765a41d-633c-460b-a01f-60f2f50ff1ba",
   "metadata": {},
   "source": [
    "## 1.Preprocessing"
   ]
  },
  {
   "cell_type": "markdown",
   "id": "15e84c17-2572-41b6-b429-25973bd02e6a",
   "metadata": {},
   "source": [
    "Data Preprocessing or Data Preparation is a data mining technique that transforms raw data into an understandable format for ML algorithms. Real-world data is usually noisy (contains errors, outliers, duplicates), incomplete (some values are missed), and\n",
    " could be stored in different places and different formats. The task of Data Preprocessing is to handle these issues.  \n",
    "The dataset contains both numerical and textual values, along with outliers and null values. These inconsistencies can disrupt clustering accuracy. Normalize the data extensively and provide detailed explanations for each normalization step in the report file."
   ]
  },
  {
   "cell_type": "markdown",
   "id": "9f1c21e5-0621-4e2f-a384-a68bf4ffda80",
   "metadata": {},
   "source": [
    "### Load Data"
   ]
  },
  {
   "cell_type": "code",
   "execution_count": 79,
   "id": "987bfd4b7d0701a1",
   "metadata": {
    "collapsed": false,
    "ExecuteTime": {
     "end_time": "2024-05-22T18:37:10.481417Z",
     "start_time": "2024-05-22T18:37:10.468464Z"
    }
   },
   "outputs": [
    {
     "name": "stdout",
     "output_type": "stream",
     "text": [
      "<class 'pandas.core.frame.DataFrame'>\n",
      "RangeIndex: 67 entries, 0 to 66\n",
      "Data columns (total 2 columns):\n",
      " #   Column       Non-Null Count  Dtype \n",
      "---  ------       --------------  ----- \n",
      " 0   id           65 non-null     object\n",
      " 1   description  62 non-null     object\n",
      "dtypes: object(2)\n",
      "memory usage: 1.2+ KB\n"
     ]
    }
   ],
   "source": [
    "ids_mapping = pd.read_csv('dataset_diabetes/IDs_mapping.csv')\n",
    "ids_mapping = ids_mapping.rename(columns={'admission_type_id': 'id'})\n",
    "ids_mapping.info()"
   ]
  },
  {
   "cell_type": "code",
   "execution_count": 80,
   "id": "3d7ff539-9766-497c-b855-14afe9dd0fd1",
   "metadata": {
    "ExecuteTime": {
     "end_time": "2024-05-22T18:37:10.495238Z",
     "start_time": "2024-05-22T18:37:10.488757Z"
    }
   },
   "outputs": [],
   "source": [
    "def split_dataframe_on_empty_row(df):\n",
    "    empty_row_indices = df.index[df.isnull().all(axis=1)].tolist() \n",
    "    _sections = []\n",
    "    start_idx = 0\n",
    "    for idx in empty_row_indices:\n",
    "        _sections.append(df.iloc[start_idx:idx].reset_index(drop=True))\n",
    "        start_idx = idx + 2\n",
    "    _sections.append(df.iloc[start_idx:].reset_index(drop=True))\n",
    "    return _sections\n",
    "\n",
    "sections = split_dataframe_on_empty_row(ids_mapping)\n",
    "\n",
    "sections = [section for section in sections if not section.empty]\n",
    "\n",
    "admission_type_mapping = sections[0].rename(columns={'id': 'admission_type_id', 'description': 'admission_type_desc'})\n",
    "discharge_disposition_mapping = sections[1].rename(columns={'id': 'discharge_disposition_id', 'description': 'discharge_disposition_desc'})\n",
    "admission_source_mapping = sections[2].rename(columns={'id': 'admission_source_id', 'description': 'admission_source_desc'})"
   ]
  },
  {
   "cell_type": "code",
   "execution_count": 81,
   "id": "a7bd487b-3809-47f1-b84c-8be95d8f2588",
   "metadata": {
    "ExecuteTime": {
     "end_time": "2024-05-22T18:37:10.535379Z",
     "start_time": "2024-05-22T18:37:10.533416Z"
    }
   },
   "outputs": [],
   "source": [
    "del ids_mapping"
   ]
  },
  {
   "cell_type": "markdown",
   "id": "6187a85c-133a-47e6-a13e-3eda8848aea2",
   "metadata": {},
   "source": [
    "### Get basic information about each DataFrame"
   ]
  },
  {
   "cell_type": "code",
   "execution_count": 82,
   "id": "a549d4bc65efdd3a",
   "metadata": {
    "collapsed": false,
    "ExecuteTime": {
     "end_time": "2024-05-22T18:37:10.973284Z",
     "start_time": "2024-05-22T18:37:10.562172Z"
    }
   },
   "outputs": [],
   "source": [
    "df = pd.read_csv('dataset_diabetes/diabetic_data.csv')"
   ]
  },
  {
   "cell_type": "code",
   "execution_count": 83,
   "id": "a031eb99-8fe2-4d46-acc3-998e24388be5",
   "metadata": {
    "ExecuteTime": {
     "end_time": "2024-05-22T18:37:10.984321Z",
     "start_time": "2024-05-22T18:37:10.974386Z"
    }
   },
   "outputs": [
    {
     "data": {
      "text/plain": "   encounter_id  patient_nbr             race  gender      age weight  \\\n0       2278392      8222157        Caucasian  Female   [0-10)      ?   \n1        149190     55629189        Caucasian  Female  [10-20)      ?   \n2         64410     86047875  AfricanAmerican  Female  [20-30)      ?   \n3        500364     82442376        Caucasian    Male  [30-40)      ?   \n4         16680     42519267        Caucasian    Male  [40-50)      ?   \n\n   admission_type_id  discharge_disposition_id  admission_source_id  \\\n0                  6                        25                    1   \n1                  1                         1                    7   \n2                  1                         1                    7   \n3                  1                         1                    7   \n4                  1                         1                    7   \n\n   time_in_hospital  ... citoglipton insulin  glyburide-metformin  \\\n0                 1  ...          No      No                   No   \n1                 3  ...          No      Up                   No   \n2                 2  ...          No      No                   No   \n3                 2  ...          No      Up                   No   \n4                 1  ...          No  Steady                   No   \n\n   glipizide-metformin  glimepiride-pioglitazone  metformin-rosiglitazone  \\\n0                   No                        No                       No   \n1                   No                        No                       No   \n2                   No                        No                       No   \n3                   No                        No                       No   \n4                   No                        No                       No   \n\n   metformin-pioglitazone  change diabetesMed readmitted  \n0                      No      No          No         NO  \n1                      No      Ch         Yes        >30  \n2                      No      No         Yes         NO  \n3                      No      Ch         Yes         NO  \n4                      No      Ch         Yes         NO  \n\n[5 rows x 50 columns]",
      "text/html": "<div>\n<style scoped>\n    .dataframe tbody tr th:only-of-type {\n        vertical-align: middle;\n    }\n\n    .dataframe tbody tr th {\n        vertical-align: top;\n    }\n\n    .dataframe thead th {\n        text-align: right;\n    }\n</style>\n<table border=\"1\" class=\"dataframe\">\n  <thead>\n    <tr style=\"text-align: right;\">\n      <th></th>\n      <th>encounter_id</th>\n      <th>patient_nbr</th>\n      <th>race</th>\n      <th>gender</th>\n      <th>age</th>\n      <th>weight</th>\n      <th>admission_type_id</th>\n      <th>discharge_disposition_id</th>\n      <th>admission_source_id</th>\n      <th>time_in_hospital</th>\n      <th>...</th>\n      <th>citoglipton</th>\n      <th>insulin</th>\n      <th>glyburide-metformin</th>\n      <th>glipizide-metformin</th>\n      <th>glimepiride-pioglitazone</th>\n      <th>metformin-rosiglitazone</th>\n      <th>metformin-pioglitazone</th>\n      <th>change</th>\n      <th>diabetesMed</th>\n      <th>readmitted</th>\n    </tr>\n  </thead>\n  <tbody>\n    <tr>\n      <th>0</th>\n      <td>2278392</td>\n      <td>8222157</td>\n      <td>Caucasian</td>\n      <td>Female</td>\n      <td>[0-10)</td>\n      <td>?</td>\n      <td>6</td>\n      <td>25</td>\n      <td>1</td>\n      <td>1</td>\n      <td>...</td>\n      <td>No</td>\n      <td>No</td>\n      <td>No</td>\n      <td>No</td>\n      <td>No</td>\n      <td>No</td>\n      <td>No</td>\n      <td>No</td>\n      <td>No</td>\n      <td>NO</td>\n    </tr>\n    <tr>\n      <th>1</th>\n      <td>149190</td>\n      <td>55629189</td>\n      <td>Caucasian</td>\n      <td>Female</td>\n      <td>[10-20)</td>\n      <td>?</td>\n      <td>1</td>\n      <td>1</td>\n      <td>7</td>\n      <td>3</td>\n      <td>...</td>\n      <td>No</td>\n      <td>Up</td>\n      <td>No</td>\n      <td>No</td>\n      <td>No</td>\n      <td>No</td>\n      <td>No</td>\n      <td>Ch</td>\n      <td>Yes</td>\n      <td>&gt;30</td>\n    </tr>\n    <tr>\n      <th>2</th>\n      <td>64410</td>\n      <td>86047875</td>\n      <td>AfricanAmerican</td>\n      <td>Female</td>\n      <td>[20-30)</td>\n      <td>?</td>\n      <td>1</td>\n      <td>1</td>\n      <td>7</td>\n      <td>2</td>\n      <td>...</td>\n      <td>No</td>\n      <td>No</td>\n      <td>No</td>\n      <td>No</td>\n      <td>No</td>\n      <td>No</td>\n      <td>No</td>\n      <td>No</td>\n      <td>Yes</td>\n      <td>NO</td>\n    </tr>\n    <tr>\n      <th>3</th>\n      <td>500364</td>\n      <td>82442376</td>\n      <td>Caucasian</td>\n      <td>Male</td>\n      <td>[30-40)</td>\n      <td>?</td>\n      <td>1</td>\n      <td>1</td>\n      <td>7</td>\n      <td>2</td>\n      <td>...</td>\n      <td>No</td>\n      <td>Up</td>\n      <td>No</td>\n      <td>No</td>\n      <td>No</td>\n      <td>No</td>\n      <td>No</td>\n      <td>Ch</td>\n      <td>Yes</td>\n      <td>NO</td>\n    </tr>\n    <tr>\n      <th>4</th>\n      <td>16680</td>\n      <td>42519267</td>\n      <td>Caucasian</td>\n      <td>Male</td>\n      <td>[40-50)</td>\n      <td>?</td>\n      <td>1</td>\n      <td>1</td>\n      <td>7</td>\n      <td>1</td>\n      <td>...</td>\n      <td>No</td>\n      <td>Steady</td>\n      <td>No</td>\n      <td>No</td>\n      <td>No</td>\n      <td>No</td>\n      <td>No</td>\n      <td>Ch</td>\n      <td>Yes</td>\n      <td>NO</td>\n    </tr>\n  </tbody>\n</table>\n<p>5 rows × 50 columns</p>\n</div>"
     },
     "execution_count": 83,
     "metadata": {},
     "output_type": "execute_result"
    }
   ],
   "source": [
    "df.head()"
   ]
  },
  {
   "cell_type": "code",
   "execution_count": 84,
   "id": "f3d19972-8c27-4fed-b923-08561b791db1",
   "metadata": {
    "ExecuteTime": {
     "end_time": "2024-05-22T18:37:11.084628Z",
     "start_time": "2024-05-22T18:37:10.985143Z"
    }
   },
   "outputs": [
    {
     "name": "stdout",
     "output_type": "stream",
     "text": [
      "<class 'pandas.core.frame.DataFrame'>\n",
      "RangeIndex: 101766 entries, 0 to 101765\n",
      "Data columns (total 50 columns):\n",
      " #   Column                    Non-Null Count   Dtype \n",
      "---  ------                    --------------   ----- \n",
      " 0   encounter_id              101766 non-null  int64 \n",
      " 1   patient_nbr               101766 non-null  int64 \n",
      " 2   race                      101766 non-null  object\n",
      " 3   gender                    101766 non-null  object\n",
      " 4   age                       101766 non-null  object\n",
      " 5   weight                    101766 non-null  object\n",
      " 6   admission_type_id         101766 non-null  int64 \n",
      " 7   discharge_disposition_id  101766 non-null  int64 \n",
      " 8   admission_source_id       101766 non-null  int64 \n",
      " 9   time_in_hospital          101766 non-null  int64 \n",
      " 10  payer_code                101766 non-null  object\n",
      " 11  medical_specialty         101766 non-null  object\n",
      " 12  num_lab_procedures        101766 non-null  int64 \n",
      " 13  num_procedures            101766 non-null  int64 \n",
      " 14  num_medications           101766 non-null  int64 \n",
      " 15  number_outpatient         101766 non-null  int64 \n",
      " 16  number_emergency          101766 non-null  int64 \n",
      " 17  number_inpatient          101766 non-null  int64 \n",
      " 18  diag_1                    101766 non-null  object\n",
      " 19  diag_2                    101766 non-null  object\n",
      " 20  diag_3                    101766 non-null  object\n",
      " 21  number_diagnoses          101766 non-null  int64 \n",
      " 22  max_glu_serum             5346 non-null    object\n",
      " 23  A1Cresult                 17018 non-null   object\n",
      " 24  metformin                 101766 non-null  object\n",
      " 25  repaglinide               101766 non-null  object\n",
      " 26  nateglinide               101766 non-null  object\n",
      " 27  chlorpropamide            101766 non-null  object\n",
      " 28  glimepiride               101766 non-null  object\n",
      " 29  acetohexamide             101766 non-null  object\n",
      " 30  glipizide                 101766 non-null  object\n",
      " 31  glyburide                 101766 non-null  object\n",
      " 32  tolbutamide               101766 non-null  object\n",
      " 33  pioglitazone              101766 non-null  object\n",
      " 34  rosiglitazone             101766 non-null  object\n",
      " 35  acarbose                  101766 non-null  object\n",
      " 36  miglitol                  101766 non-null  object\n",
      " 37  troglitazone              101766 non-null  object\n",
      " 38  tolazamide                101766 non-null  object\n",
      " 39  examide                   101766 non-null  object\n",
      " 40  citoglipton               101766 non-null  object\n",
      " 41  insulin                   101766 non-null  object\n",
      " 42  glyburide-metformin       101766 non-null  object\n",
      " 43  glipizide-metformin       101766 non-null  object\n",
      " 44  glimepiride-pioglitazone  101766 non-null  object\n",
      " 45  metformin-rosiglitazone   101766 non-null  object\n",
      " 46  metformin-pioglitazone    101766 non-null  object\n",
      " 47  change                    101766 non-null  object\n",
      " 48  diabetesMed               101766 non-null  object\n",
      " 49  readmitted                101766 non-null  object\n",
      "dtypes: int64(13), object(37)\n",
      "memory usage: 38.8+ MB\n"
     ]
    }
   ],
   "source": [
    "df.info()"
   ]
  },
  {
   "cell_type": "code",
   "execution_count": 85,
   "id": "42bf34fe-6be0-498b-9e26-e35fdb4dd86c",
   "metadata": {
    "ExecuteTime": {
     "end_time": "2024-05-22T18:37:11.089954Z",
     "start_time": "2024-05-22T18:37:11.085624Z"
    }
   },
   "outputs": [
    {
     "data": {
      "text/plain": "  admission_type_id admission_type_desc\n0                 1           Emergency\n1                 2              Urgent\n2                 3            Elective\n3                 4             Newborn\n4                 5       Not Available\n5                 6                 NaN\n6                 7       Trauma Center\n7                 8          Not Mapped",
      "text/html": "<div>\n<style scoped>\n    .dataframe tbody tr th:only-of-type {\n        vertical-align: middle;\n    }\n\n    .dataframe tbody tr th {\n        vertical-align: top;\n    }\n\n    .dataframe thead th {\n        text-align: right;\n    }\n</style>\n<table border=\"1\" class=\"dataframe\">\n  <thead>\n    <tr style=\"text-align: right;\">\n      <th></th>\n      <th>admission_type_id</th>\n      <th>admission_type_desc</th>\n    </tr>\n  </thead>\n  <tbody>\n    <tr>\n      <th>0</th>\n      <td>1</td>\n      <td>Emergency</td>\n    </tr>\n    <tr>\n      <th>1</th>\n      <td>2</td>\n      <td>Urgent</td>\n    </tr>\n    <tr>\n      <th>2</th>\n      <td>3</td>\n      <td>Elective</td>\n    </tr>\n    <tr>\n      <th>3</th>\n      <td>4</td>\n      <td>Newborn</td>\n    </tr>\n    <tr>\n      <th>4</th>\n      <td>5</td>\n      <td>Not Available</td>\n    </tr>\n    <tr>\n      <th>5</th>\n      <td>6</td>\n      <td>NaN</td>\n    </tr>\n    <tr>\n      <th>6</th>\n      <td>7</td>\n      <td>Trauma Center</td>\n    </tr>\n    <tr>\n      <th>7</th>\n      <td>8</td>\n      <td>Not Mapped</td>\n    </tr>\n  </tbody>\n</table>\n</div>"
     },
     "execution_count": 85,
     "metadata": {},
     "output_type": "execute_result"
    }
   ],
   "source": [
    "admission_type_mapping"
   ]
  },
  {
   "cell_type": "code",
   "execution_count": 86,
   "id": "99ede8ec-6956-43db-8ea4-dbd939690656",
   "metadata": {
    "ExecuteTime": {
     "end_time": "2024-05-22T18:37:11.095803Z",
     "start_time": "2024-05-22T18:37:11.090776Z"
    }
   },
   "outputs": [
    {
     "data": {
      "text/plain": "   discharge_disposition_id                         discharge_disposition_desc\n0                         1                                 Discharged to home\n1                         2  Discharged/transferred to another short term h...\n2                         3                      Discharged/transferred to SNF\n3                         4                      Discharged/transferred to ICF\n4                         5  Discharged/transferred to another type of inpa...\n5                         6  Discharged/transferred to home with home healt...\n6                         7                                           Left AMA\n7                         8  Discharged/transferred to home under care of H...\n8                         9          Admitted as an inpatient to this hospital\n9                        10  Neonate discharged to another hospital for neo...\n10                       11                                            Expired\n11                       12  Still patient or expected to return for outpat...\n12                       13                                     Hospice / home\n13                       14                         Hospice / medical facility\n14                       15  Discharged/transferred within this institution...\n15                       16  Discharged/transferred/referred another instit...\n16                       17  Discharged/transferred/referred to this instit...\n17                       18                                                NaN\n18                       19           Expired at home. Medicaid only, hospice.\n19                       20  Expired in a medical facility. Medicaid only, ...\n20                       21    Expired, place unknown. Medicaid only, hospice.\n21                       22  Discharged/transferred to another rehab fac in...\n22                       23  Discharged/transferred to a long term care hos...\n23                       24  Discharged/transferred to a nursing facility c...\n24                       25                                         Not Mapped\n25                       26                                    Unknown/Invalid\n26                       30  Discharged/transferred to another Type of Heal...\n27                       27  Discharged/transferred to a federal health car...\n28                       28  Discharged/transferred/referred to a psychiatr...\n29                       29  Discharged/transferred to a Critical Access Ho...",
      "text/html": "<div>\n<style scoped>\n    .dataframe tbody tr th:only-of-type {\n        vertical-align: middle;\n    }\n\n    .dataframe tbody tr th {\n        vertical-align: top;\n    }\n\n    .dataframe thead th {\n        text-align: right;\n    }\n</style>\n<table border=\"1\" class=\"dataframe\">\n  <thead>\n    <tr style=\"text-align: right;\">\n      <th></th>\n      <th>discharge_disposition_id</th>\n      <th>discharge_disposition_desc</th>\n    </tr>\n  </thead>\n  <tbody>\n    <tr>\n      <th>0</th>\n      <td>1</td>\n      <td>Discharged to home</td>\n    </tr>\n    <tr>\n      <th>1</th>\n      <td>2</td>\n      <td>Discharged/transferred to another short term h...</td>\n    </tr>\n    <tr>\n      <th>2</th>\n      <td>3</td>\n      <td>Discharged/transferred to SNF</td>\n    </tr>\n    <tr>\n      <th>3</th>\n      <td>4</td>\n      <td>Discharged/transferred to ICF</td>\n    </tr>\n    <tr>\n      <th>4</th>\n      <td>5</td>\n      <td>Discharged/transferred to another type of inpa...</td>\n    </tr>\n    <tr>\n      <th>5</th>\n      <td>6</td>\n      <td>Discharged/transferred to home with home healt...</td>\n    </tr>\n    <tr>\n      <th>6</th>\n      <td>7</td>\n      <td>Left AMA</td>\n    </tr>\n    <tr>\n      <th>7</th>\n      <td>8</td>\n      <td>Discharged/transferred to home under care of H...</td>\n    </tr>\n    <tr>\n      <th>8</th>\n      <td>9</td>\n      <td>Admitted as an inpatient to this hospital</td>\n    </tr>\n    <tr>\n      <th>9</th>\n      <td>10</td>\n      <td>Neonate discharged to another hospital for neo...</td>\n    </tr>\n    <tr>\n      <th>10</th>\n      <td>11</td>\n      <td>Expired</td>\n    </tr>\n    <tr>\n      <th>11</th>\n      <td>12</td>\n      <td>Still patient or expected to return for outpat...</td>\n    </tr>\n    <tr>\n      <th>12</th>\n      <td>13</td>\n      <td>Hospice / home</td>\n    </tr>\n    <tr>\n      <th>13</th>\n      <td>14</td>\n      <td>Hospice / medical facility</td>\n    </tr>\n    <tr>\n      <th>14</th>\n      <td>15</td>\n      <td>Discharged/transferred within this institution...</td>\n    </tr>\n    <tr>\n      <th>15</th>\n      <td>16</td>\n      <td>Discharged/transferred/referred another instit...</td>\n    </tr>\n    <tr>\n      <th>16</th>\n      <td>17</td>\n      <td>Discharged/transferred/referred to this instit...</td>\n    </tr>\n    <tr>\n      <th>17</th>\n      <td>18</td>\n      <td>NaN</td>\n    </tr>\n    <tr>\n      <th>18</th>\n      <td>19</td>\n      <td>Expired at home. Medicaid only, hospice.</td>\n    </tr>\n    <tr>\n      <th>19</th>\n      <td>20</td>\n      <td>Expired in a medical facility. Medicaid only, ...</td>\n    </tr>\n    <tr>\n      <th>20</th>\n      <td>21</td>\n      <td>Expired, place unknown. Medicaid only, hospice.</td>\n    </tr>\n    <tr>\n      <th>21</th>\n      <td>22</td>\n      <td>Discharged/transferred to another rehab fac in...</td>\n    </tr>\n    <tr>\n      <th>22</th>\n      <td>23</td>\n      <td>Discharged/transferred to a long term care hos...</td>\n    </tr>\n    <tr>\n      <th>23</th>\n      <td>24</td>\n      <td>Discharged/transferred to a nursing facility c...</td>\n    </tr>\n    <tr>\n      <th>24</th>\n      <td>25</td>\n      <td>Not Mapped</td>\n    </tr>\n    <tr>\n      <th>25</th>\n      <td>26</td>\n      <td>Unknown/Invalid</td>\n    </tr>\n    <tr>\n      <th>26</th>\n      <td>30</td>\n      <td>Discharged/transferred to another Type of Heal...</td>\n    </tr>\n    <tr>\n      <th>27</th>\n      <td>27</td>\n      <td>Discharged/transferred to a federal health car...</td>\n    </tr>\n    <tr>\n      <th>28</th>\n      <td>28</td>\n      <td>Discharged/transferred/referred to a psychiatr...</td>\n    </tr>\n    <tr>\n      <th>29</th>\n      <td>29</td>\n      <td>Discharged/transferred to a Critical Access Ho...</td>\n    </tr>\n  </tbody>\n</table>\n</div>"
     },
     "execution_count": 86,
     "metadata": {},
     "output_type": "execute_result"
    }
   ],
   "source": [
    "discharge_disposition_mapping"
   ]
  },
  {
   "cell_type": "code",
   "execution_count": 87,
   "id": "8fd60eb1-01d7-4193-866a-5101a2433141",
   "metadata": {
    "ExecuteTime": {
     "end_time": "2024-05-22T18:37:11.101507Z",
     "start_time": "2024-05-22T18:37:11.096566Z"
    }
   },
   "outputs": [
    {
     "data": {
      "text/plain": "   admission_source_id                              admission_source_desc\n0                    1                                 Physician Referral\n1                    2                                    Clinic Referral\n2                    3                                       HMO Referral\n3                    4                           Transfer from a hospital\n4                    5     Transfer from a Skilled Nursing Facility (SNF)\n5                    6         Transfer from another health care facility\n6                    7                                     Emergency Room\n7                    8                              Court/Law Enforcement\n8                    9                                      Not Available\n9                   10              Transfer from critial access hospital\n10                  11                                    Normal Delivery\n11                  12                                 Premature Delivery\n12                  13                                          Sick Baby\n13                  14                                   Extramural Birth\n14                  15                                      Not Available\n15                  17                                                NaN\n16                  18           Transfer From Another Home Health Agency\n17                  19             Readmission to Same Home Health Agency\n18                  20                                         Not Mapped\n19                  21                                    Unknown/Invalid\n20                  22   Transfer from hospital inpt/same fac reslt in...\n21                  23                          Born inside this hospital\n22                  24                         Born outside this hospital\n23                  25            Transfer from Ambulatory Surgery Center\n24                  26                              Transfer from Hospice",
      "text/html": "<div>\n<style scoped>\n    .dataframe tbody tr th:only-of-type {\n        vertical-align: middle;\n    }\n\n    .dataframe tbody tr th {\n        vertical-align: top;\n    }\n\n    .dataframe thead th {\n        text-align: right;\n    }\n</style>\n<table border=\"1\" class=\"dataframe\">\n  <thead>\n    <tr style=\"text-align: right;\">\n      <th></th>\n      <th>admission_source_id</th>\n      <th>admission_source_desc</th>\n    </tr>\n  </thead>\n  <tbody>\n    <tr>\n      <th>0</th>\n      <td>1</td>\n      <td>Physician Referral</td>\n    </tr>\n    <tr>\n      <th>1</th>\n      <td>2</td>\n      <td>Clinic Referral</td>\n    </tr>\n    <tr>\n      <th>2</th>\n      <td>3</td>\n      <td>HMO Referral</td>\n    </tr>\n    <tr>\n      <th>3</th>\n      <td>4</td>\n      <td>Transfer from a hospital</td>\n    </tr>\n    <tr>\n      <th>4</th>\n      <td>5</td>\n      <td>Transfer from a Skilled Nursing Facility (SNF)</td>\n    </tr>\n    <tr>\n      <th>5</th>\n      <td>6</td>\n      <td>Transfer from another health care facility</td>\n    </tr>\n    <tr>\n      <th>6</th>\n      <td>7</td>\n      <td>Emergency Room</td>\n    </tr>\n    <tr>\n      <th>7</th>\n      <td>8</td>\n      <td>Court/Law Enforcement</td>\n    </tr>\n    <tr>\n      <th>8</th>\n      <td>9</td>\n      <td>Not Available</td>\n    </tr>\n    <tr>\n      <th>9</th>\n      <td>10</td>\n      <td>Transfer from critial access hospital</td>\n    </tr>\n    <tr>\n      <th>10</th>\n      <td>11</td>\n      <td>Normal Delivery</td>\n    </tr>\n    <tr>\n      <th>11</th>\n      <td>12</td>\n      <td>Premature Delivery</td>\n    </tr>\n    <tr>\n      <th>12</th>\n      <td>13</td>\n      <td>Sick Baby</td>\n    </tr>\n    <tr>\n      <th>13</th>\n      <td>14</td>\n      <td>Extramural Birth</td>\n    </tr>\n    <tr>\n      <th>14</th>\n      <td>15</td>\n      <td>Not Available</td>\n    </tr>\n    <tr>\n      <th>15</th>\n      <td>17</td>\n      <td>NaN</td>\n    </tr>\n    <tr>\n      <th>16</th>\n      <td>18</td>\n      <td>Transfer From Another Home Health Agency</td>\n    </tr>\n    <tr>\n      <th>17</th>\n      <td>19</td>\n      <td>Readmission to Same Home Health Agency</td>\n    </tr>\n    <tr>\n      <th>18</th>\n      <td>20</td>\n      <td>Not Mapped</td>\n    </tr>\n    <tr>\n      <th>19</th>\n      <td>21</td>\n      <td>Unknown/Invalid</td>\n    </tr>\n    <tr>\n      <th>20</th>\n      <td>22</td>\n      <td>Transfer from hospital inpt/same fac reslt in...</td>\n    </tr>\n    <tr>\n      <th>21</th>\n      <td>23</td>\n      <td>Born inside this hospital</td>\n    </tr>\n    <tr>\n      <th>22</th>\n      <td>24</td>\n      <td>Born outside this hospital</td>\n    </tr>\n    <tr>\n      <th>23</th>\n      <td>25</td>\n      <td>Transfer from Ambulatory Surgery Center</td>\n    </tr>\n    <tr>\n      <th>24</th>\n      <td>26</td>\n      <td>Transfer from Hospice</td>\n    </tr>\n  </tbody>\n</table>\n</div>"
     },
     "execution_count": 87,
     "metadata": {},
     "output_type": "execute_result"
    }
   ],
   "source": [
    "admission_source_mapping"
   ]
  },
  {
   "cell_type": "markdown",
   "id": "c9eba366-ec2d-413d-bf38-87c30884c2e1",
   "metadata": {},
   "source": [
    "### Map the IDs to descriptions in diabetic_data"
   ]
  },
  {
   "cell_type": "code",
   "execution_count": 88,
   "id": "d01f2029-06b6-42f0-a154-e2ebfc3bdbcb",
   "metadata": {
    "ExecuteTime": {
     "end_time": "2024-05-22T18:37:11.105421Z",
     "start_time": "2024-05-22T18:37:11.102373Z"
    }
   },
   "outputs": [],
   "source": [
    "admission_type_mapping['admission_type_id'] = admission_type_mapping['admission_type_id'].astype('int64')\n",
    "discharge_disposition_mapping['discharge_disposition_id'] = discharge_disposition_mapping['discharge_disposition_id'].astype('int64')\n",
    "admission_source_mapping['admission_source_id'] = admission_source_mapping['admission_source_id'].astype('int64')"
   ]
  },
  {
   "cell_type": "code",
   "execution_count": 89,
   "id": "88dd959e-de77-457d-8e19-5cd4affc180e",
   "metadata": {
    "ExecuteTime": {
     "end_time": "2024-05-22T18:37:11.346421Z",
     "start_time": "2024-05-22T18:37:11.106316Z"
    }
   },
   "outputs": [],
   "source": [
    "df = df.merge(admission_type_mapping, on='admission_type_id', how='left')\n",
    "df = df.merge(discharge_disposition_mapping, on='discharge_disposition_id', how='left')\n",
    "df = df.merge(admission_source_mapping, on='admission_source_id', how='left')\n",
    "\n",
    "for col in ['admission_type', 'discharge_disposition', 'admission_source']:\n",
    "    df = df.rename(columns={f'{col}_desc': col})\n",
    "del col"
   ]
  },
  {
   "cell_type": "code",
   "execution_count": 90,
   "id": "ddde3017-7e84-42e0-ab2b-076170941542",
   "metadata": {
    "ExecuteTime": {
     "end_time": "2024-05-22T18:37:11.397309Z",
     "start_time": "2024-05-22T18:37:11.348065Z"
    }
   },
   "outputs": [],
   "source": [
    "df = df.drop(columns=[\"admission_type_id\", \"discharge_disposition_id\", \"admission_source_id\"])"
   ]
  },
  {
   "cell_type": "code",
   "execution_count": 91,
   "id": "c7ac6ef1a1ccf2fb",
   "metadata": {
    "collapsed": false,
    "ExecuteTime": {
     "end_time": "2024-05-22T18:37:11.413138Z",
     "start_time": "2024-05-22T18:37:11.400081Z"
    }
   },
   "outputs": [
    {
     "data": {
      "text/plain": "   encounter_id  patient_nbr             race  gender      age weight  \\\n0       2278392      8222157        Caucasian  Female   [0-10)      ?   \n1        149190     55629189        Caucasian  Female  [10-20)      ?   \n2         64410     86047875  AfricanAmerican  Female  [20-30)      ?   \n3        500364     82442376        Caucasian    Male  [30-40)      ?   \n\n   time_in_hospital payer_code         medical_specialty  num_lab_procedures  \\\n0                 1          ?  Pediatrics-Endocrinology                  41   \n1                 3          ?                         ?                  59   \n2                 2          ?                         ?                  11   \n3                 2          ?                         ?                  44   \n\n   ...  glipizide-metformin  glimepiride-pioglitazone  \\\n0  ...                   No                        No   \n1  ...                   No                        No   \n2  ...                   No                        No   \n3  ...                   No                        No   \n\n   metformin-rosiglitazone  metformin-pioglitazone  change diabetesMed  \\\n0                       No                      No      No          No   \n1                       No                      No      Ch         Yes   \n2                       No                      No      No         Yes   \n3                       No                      No      Ch         Yes   \n\n  readmitted admission_type  discharge_disposition     admission_source  \n0         NO            NaN             Not Mapped   Physician Referral  \n1        >30      Emergency     Discharged to home       Emergency Room  \n2         NO      Emergency     Discharged to home       Emergency Room  \n3         NO      Emergency     Discharged to home       Emergency Room  \n\n[4 rows x 50 columns]",
      "text/html": "<div>\n<style scoped>\n    .dataframe tbody tr th:only-of-type {\n        vertical-align: middle;\n    }\n\n    .dataframe tbody tr th {\n        vertical-align: top;\n    }\n\n    .dataframe thead th {\n        text-align: right;\n    }\n</style>\n<table border=\"1\" class=\"dataframe\">\n  <thead>\n    <tr style=\"text-align: right;\">\n      <th></th>\n      <th>encounter_id</th>\n      <th>patient_nbr</th>\n      <th>race</th>\n      <th>gender</th>\n      <th>age</th>\n      <th>weight</th>\n      <th>time_in_hospital</th>\n      <th>payer_code</th>\n      <th>medical_specialty</th>\n      <th>num_lab_procedures</th>\n      <th>...</th>\n      <th>glipizide-metformin</th>\n      <th>glimepiride-pioglitazone</th>\n      <th>metformin-rosiglitazone</th>\n      <th>metformin-pioglitazone</th>\n      <th>change</th>\n      <th>diabetesMed</th>\n      <th>readmitted</th>\n      <th>admission_type</th>\n      <th>discharge_disposition</th>\n      <th>admission_source</th>\n    </tr>\n  </thead>\n  <tbody>\n    <tr>\n      <th>0</th>\n      <td>2278392</td>\n      <td>8222157</td>\n      <td>Caucasian</td>\n      <td>Female</td>\n      <td>[0-10)</td>\n      <td>?</td>\n      <td>1</td>\n      <td>?</td>\n      <td>Pediatrics-Endocrinology</td>\n      <td>41</td>\n      <td>...</td>\n      <td>No</td>\n      <td>No</td>\n      <td>No</td>\n      <td>No</td>\n      <td>No</td>\n      <td>No</td>\n      <td>NO</td>\n      <td>NaN</td>\n      <td>Not Mapped</td>\n      <td>Physician Referral</td>\n    </tr>\n    <tr>\n      <th>1</th>\n      <td>149190</td>\n      <td>55629189</td>\n      <td>Caucasian</td>\n      <td>Female</td>\n      <td>[10-20)</td>\n      <td>?</td>\n      <td>3</td>\n      <td>?</td>\n      <td>?</td>\n      <td>59</td>\n      <td>...</td>\n      <td>No</td>\n      <td>No</td>\n      <td>No</td>\n      <td>No</td>\n      <td>Ch</td>\n      <td>Yes</td>\n      <td>&gt;30</td>\n      <td>Emergency</td>\n      <td>Discharged to home</td>\n      <td>Emergency Room</td>\n    </tr>\n    <tr>\n      <th>2</th>\n      <td>64410</td>\n      <td>86047875</td>\n      <td>AfricanAmerican</td>\n      <td>Female</td>\n      <td>[20-30)</td>\n      <td>?</td>\n      <td>2</td>\n      <td>?</td>\n      <td>?</td>\n      <td>11</td>\n      <td>...</td>\n      <td>No</td>\n      <td>No</td>\n      <td>No</td>\n      <td>No</td>\n      <td>No</td>\n      <td>Yes</td>\n      <td>NO</td>\n      <td>Emergency</td>\n      <td>Discharged to home</td>\n      <td>Emergency Room</td>\n    </tr>\n    <tr>\n      <th>3</th>\n      <td>500364</td>\n      <td>82442376</td>\n      <td>Caucasian</td>\n      <td>Male</td>\n      <td>[30-40)</td>\n      <td>?</td>\n      <td>2</td>\n      <td>?</td>\n      <td>?</td>\n      <td>44</td>\n      <td>...</td>\n      <td>No</td>\n      <td>No</td>\n      <td>No</td>\n      <td>No</td>\n      <td>Ch</td>\n      <td>Yes</td>\n      <td>NO</td>\n      <td>Emergency</td>\n      <td>Discharged to home</td>\n      <td>Emergency Room</td>\n    </tr>\n  </tbody>\n</table>\n<p>4 rows × 50 columns</p>\n</div>"
     },
     "execution_count": 91,
     "metadata": {},
     "output_type": "execute_result"
    }
   ],
   "source": [
    "df.head(4)"
   ]
  },
  {
   "cell_type": "markdown",
   "id": "82f365e2-08c1-4eda-875e-06ae7435fc2c",
   "metadata": {},
   "source": [
    "###  Convert to Numeric Type (Midpoint of Range) for Column \"Age\""
   ]
  },
  {
   "cell_type": "code",
   "execution_count": 92,
   "id": "ac003344-54d1-4e84-aea0-537108a314d8",
   "metadata": {
    "ExecuteTime": {
     "end_time": "2024-05-22T18:37:13.197286Z",
     "start_time": "2024-05-22T18:37:11.414273Z"
    }
   },
   "outputs": [],
   "source": [
    "def extract_midpoint(value):\n",
    "    value = value.strip('[]()')\n",
    "    lower, upper = value.split('-')\n",
    "    return (int(lower) + int(upper)) / 2\n",
    "\n",
    "def process_range_columns(df):\n",
    "    for _col in df.columns:\n",
    "        if df[_col].dtype == 'object':\n",
    "            mask = df[_col].str.match(r'^\\[\\d+-\\d+\\)$') & df[_col].notna()\n",
    "            if mask.any():\n",
    "                df.loc[mask, _col] = df.loc[mask, _col].apply(extract_midpoint)\n",
    "                df[_col] = pd.to_numeric(df[_col], errors='coerce')\n",
    "    return df\n",
    "\n",
    "df= process_range_columns(df)"
   ]
  },
  {
   "cell_type": "markdown",
   "id": "e52d07df-b240-406f-9854-39914d9614e1",
   "metadata": {},
   "source": [
    "### Identify numerical/categorical columns"
   ]
  },
  {
   "cell_type": "code",
   "execution_count": 93,
   "id": "9418fdc8-e5c2-4ffe-842b-5e235878e389",
   "metadata": {
    "ExecuteTime": {
     "end_time": "2024-05-22T18:37:13.280265Z",
     "start_time": "2024-05-22T18:37:13.198354Z"
    }
   },
   "outputs": [],
   "source": [
    "object_columns = df.select_dtypes(include=['object']).columns\n",
    "for column in object_columns:\n",
    "    try:\n",
    "        df[column] = pd.to_numeric(df[column])\n",
    "    except ValueError:\n",
    "        continue"
   ]
  },
  {
   "cell_type": "code",
   "execution_count": 94,
   "id": "cdbf3f7c-4ca1-4452-a538-287bac089861",
   "metadata": {
    "ExecuteTime": {
     "end_time": "2024-05-22T18:37:13.337548Z",
     "start_time": "2024-05-22T18:37:13.281525Z"
    }
   },
   "outputs": [
    {
     "data": {
      "text/plain": "['max_glu_serum',\n 'medical_specialty',\n 'diabetesMed',\n 'pioglitazone',\n 'glyburide',\n 'admission_type',\n 'acetohexamide',\n 'glipizide',\n 'change',\n 'discharge_disposition',\n 'chlorpropamide',\n 'patient_nbr',\n 'nateglinide',\n 'acarbose',\n 'insulin',\n 'diag_1',\n 'tolbutamide',\n 'miglitol',\n 'readmitted',\n 'A1Cresult',\n 'glyburide-metformin',\n 'diag_2',\n 'metformin-pioglitazone',\n 'diag_3',\n 'repaglinide',\n 'payer_code',\n 'encounter_id',\n 'glipizide-metformin',\n 'metformin',\n 'rosiglitazone',\n 'glimepiride-pioglitazone',\n 'troglitazone',\n 'metformin-rosiglitazone',\n 'tolazamide',\n 'race',\n 'admission_source',\n 'citoglipton',\n 'gender',\n 'glimepiride',\n 'examide']"
     },
     "execution_count": 94,
     "metadata": {},
     "output_type": "execute_result"
    }
   ],
   "source": [
    "categorical_columns = []\n",
    "categorical_columns.extend(df.select_dtypes(include=['object']).columns)\n",
    "id_columns = [col for col in df.columns if col.endswith('id')]\n",
    "categorical_columns.extend(id_columns)\n",
    "categorical_columns.extend(['patient_nbr', 'payer_code'])\n",
    "categorical_columns = list(set(categorical_columns))\n",
    "categorical_columns"
   ]
  },
  {
   "cell_type": "code",
   "execution_count": 95,
   "id": "437f90be-5cf1-4883-be67-f3ef20447527",
   "metadata": {
    "ExecuteTime": {
     "end_time": "2024-05-22T18:37:13.344333Z",
     "start_time": "2024-05-22T18:37:13.338658Z"
    }
   },
   "outputs": [
    {
     "data": {
      "text/plain": "['age',\n 'weight',\n 'time_in_hospital',\n 'num_lab_procedures',\n 'num_procedures',\n 'num_medications',\n 'number_outpatient',\n 'number_emergency',\n 'number_inpatient',\n 'number_diagnoses']"
     },
     "execution_count": 95,
     "metadata": {},
     "output_type": "execute_result"
    }
   ],
   "source": [
    "numerical_columns = [col for col in df.columns if col not in categorical_columns]\n",
    "numerical_columns"
   ]
  },
  {
   "cell_type": "markdown",
   "id": "e1e5ca3c-2234-4b6a-a5c0-f91e59ea23f0",
   "metadata": {},
   "source": [
    "### standardize text columns"
   ]
  },
  {
   "cell_type": "code",
   "execution_count": 96,
   "id": "9e07e03d9500ca92",
   "metadata": {
    "collapsed": false,
    "ExecuteTime": {
     "end_time": "2024-05-22T18:37:13.392678Z",
     "start_time": "2024-05-22T18:37:13.345300Z"
    }
   },
   "outputs": [
    {
     "data": {
      "text/plain": "array(['race', 'gender', 'payer_code', 'medical_specialty', 'diag_1',\n       'diag_2', 'diag_3', 'max_glu_serum', 'A1Cresult', 'metformin',\n       'repaglinide', 'nateglinide', 'chlorpropamide', 'glimepiride',\n       'acetohexamide', 'glipizide', 'glyburide', 'tolbutamide',\n       'pioglitazone', 'rosiglitazone', 'acarbose', 'miglitol',\n       'troglitazone', 'tolazamide', 'examide', 'citoglipton', 'insulin',\n       'glyburide-metformin', 'glipizide-metformin',\n       'glimepiride-pioglitazone', 'metformin-rosiglitazone',\n       'metformin-pioglitazone', 'change', 'diabetesMed', 'readmitted',\n       'admission_type', 'discharge_disposition', 'admission_source'],\n      dtype=object)"
     },
     "execution_count": 96,
     "metadata": {},
     "output_type": "execute_result"
    }
   ],
   "source": [
    "text_columns = df.select_dtypes(include=['object']).columns\n",
    "text_columns.values"
   ]
  },
  {
   "cell_type": "code",
   "execution_count": 97,
   "id": "7d323385-96f3-406e-810f-3558415b34c0",
   "metadata": {
    "ExecuteTime": {
     "end_time": "2024-05-22T18:37:14.133424Z",
     "start_time": "2024-05-22T18:37:13.393366Z"
    }
   },
   "outputs": [],
   "source": [
    "for col in text_columns:\n",
    "    df[col] = df[col].str.strip()  # Remove leading/trailing spaces"
   ]
  },
  {
   "cell_type": "markdown",
   "id": "d437835dbaf88176",
   "metadata": {
    "collapsed": false
   },
   "source": [
    "### Standardize Numerical Data"
   ]
  },
  {
   "cell_type": "code",
   "execution_count": 98,
   "id": "b2256a75b04e977a",
   "metadata": {
    "collapsed": false,
    "ExecuteTime": {
     "end_time": "2024-05-22T18:37:14.296207Z",
     "start_time": "2024-05-22T18:37:14.134754Z"
    }
   },
   "outputs": [],
   "source": [
    "from sklearn.preprocessing import StandardScaler\n",
    "\n",
    "df = pd.concat([df[categorical_columns], \n",
    "                pd.DataFrame(data=StandardScaler().fit_transform(df[numerical_columns].values), columns=numerical_columns)], axis=1)"
   ]
  },
  {
   "cell_type": "code",
   "execution_count": 99,
   "id": "ce6520f11a0f4032",
   "metadata": {
    "collapsed": false,
    "ExecuteTime": {
     "end_time": "2024-05-22T18:37:14.310889Z",
     "start_time": "2024-05-22T18:37:14.297342Z"
    }
   },
   "outputs": [
    {
     "data": {
      "text/plain": "  max_glu_serum         medical_specialty diabetesMed pioglitazone glyburide  \\\n0           NaN  Pediatrics-Endocrinology          No           No        No   \n1           NaN                         ?         Yes           No        No   \n2           NaN                         ?         Yes           No        No   \n3           NaN                         ?         Yes           No        No   \n4           NaN                         ?         Yes           No        No   \n\n  admission_type acetohexamide glipizide change discharge_disposition  ...  \\\n0            NaN            No        No     No            Not Mapped  ...   \n1      Emergency            No        No     Ch    Discharged to home  ...   \n2      Emergency            No    Steady     No    Discharged to home  ...   \n3      Emergency            No        No     Ch    Discharged to home  ...   \n4      Emergency            No    Steady     Ch    Discharged to home  ...   \n\n        age  weight time_in_hospital num_lab_procedures num_procedures  \\\n0 -3.824600     NaN        -1.137649          -0.106517      -0.785398   \n1 -3.197277     NaN        -0.467653           0.808384      -0.785398   \n2 -2.569954     NaN        -0.802651          -1.631351       2.145781   \n3 -1.942632     NaN        -0.802651           0.045967      -0.199162   \n4 -1.315309     NaN        -1.137649           0.401761      -0.785398   \n\n  num_medications number_outpatient number_emergency number_inpatient  \\\n0       -1.848268         -0.291461         -0.21262        -0.503276   \n1        0.243390         -0.291461         -0.21262        -0.503276   \n2       -0.371804          1.286748         -0.21262         0.288579   \n3       -0.002688         -0.291461         -0.21262        -0.503276   \n4       -0.986997         -0.291461         -0.21262        -0.503276   \n\n  number_diagnoses  \n0        -3.321596  \n1         0.815784  \n2        -0.735733  \n3        -0.218561  \n4        -1.252906  \n\n[5 rows x 50 columns]",
      "text/html": "<div>\n<style scoped>\n    .dataframe tbody tr th:only-of-type {\n        vertical-align: middle;\n    }\n\n    .dataframe tbody tr th {\n        vertical-align: top;\n    }\n\n    .dataframe thead th {\n        text-align: right;\n    }\n</style>\n<table border=\"1\" class=\"dataframe\">\n  <thead>\n    <tr style=\"text-align: right;\">\n      <th></th>\n      <th>max_glu_serum</th>\n      <th>medical_specialty</th>\n      <th>diabetesMed</th>\n      <th>pioglitazone</th>\n      <th>glyburide</th>\n      <th>admission_type</th>\n      <th>acetohexamide</th>\n      <th>glipizide</th>\n      <th>change</th>\n      <th>discharge_disposition</th>\n      <th>...</th>\n      <th>age</th>\n      <th>weight</th>\n      <th>time_in_hospital</th>\n      <th>num_lab_procedures</th>\n      <th>num_procedures</th>\n      <th>num_medications</th>\n      <th>number_outpatient</th>\n      <th>number_emergency</th>\n      <th>number_inpatient</th>\n      <th>number_diagnoses</th>\n    </tr>\n  </thead>\n  <tbody>\n    <tr>\n      <th>0</th>\n      <td>NaN</td>\n      <td>Pediatrics-Endocrinology</td>\n      <td>No</td>\n      <td>No</td>\n      <td>No</td>\n      <td>NaN</td>\n      <td>No</td>\n      <td>No</td>\n      <td>No</td>\n      <td>Not Mapped</td>\n      <td>...</td>\n      <td>-3.824600</td>\n      <td>NaN</td>\n      <td>-1.137649</td>\n      <td>-0.106517</td>\n      <td>-0.785398</td>\n      <td>-1.848268</td>\n      <td>-0.291461</td>\n      <td>-0.21262</td>\n      <td>-0.503276</td>\n      <td>-3.321596</td>\n    </tr>\n    <tr>\n      <th>1</th>\n      <td>NaN</td>\n      <td>?</td>\n      <td>Yes</td>\n      <td>No</td>\n      <td>No</td>\n      <td>Emergency</td>\n      <td>No</td>\n      <td>No</td>\n      <td>Ch</td>\n      <td>Discharged to home</td>\n      <td>...</td>\n      <td>-3.197277</td>\n      <td>NaN</td>\n      <td>-0.467653</td>\n      <td>0.808384</td>\n      <td>-0.785398</td>\n      <td>0.243390</td>\n      <td>-0.291461</td>\n      <td>-0.21262</td>\n      <td>-0.503276</td>\n      <td>0.815784</td>\n    </tr>\n    <tr>\n      <th>2</th>\n      <td>NaN</td>\n      <td>?</td>\n      <td>Yes</td>\n      <td>No</td>\n      <td>No</td>\n      <td>Emergency</td>\n      <td>No</td>\n      <td>Steady</td>\n      <td>No</td>\n      <td>Discharged to home</td>\n      <td>...</td>\n      <td>-2.569954</td>\n      <td>NaN</td>\n      <td>-0.802651</td>\n      <td>-1.631351</td>\n      <td>2.145781</td>\n      <td>-0.371804</td>\n      <td>1.286748</td>\n      <td>-0.21262</td>\n      <td>0.288579</td>\n      <td>-0.735733</td>\n    </tr>\n    <tr>\n      <th>3</th>\n      <td>NaN</td>\n      <td>?</td>\n      <td>Yes</td>\n      <td>No</td>\n      <td>No</td>\n      <td>Emergency</td>\n      <td>No</td>\n      <td>No</td>\n      <td>Ch</td>\n      <td>Discharged to home</td>\n      <td>...</td>\n      <td>-1.942632</td>\n      <td>NaN</td>\n      <td>-0.802651</td>\n      <td>0.045967</td>\n      <td>-0.199162</td>\n      <td>-0.002688</td>\n      <td>-0.291461</td>\n      <td>-0.21262</td>\n      <td>-0.503276</td>\n      <td>-0.218561</td>\n    </tr>\n    <tr>\n      <th>4</th>\n      <td>NaN</td>\n      <td>?</td>\n      <td>Yes</td>\n      <td>No</td>\n      <td>No</td>\n      <td>Emergency</td>\n      <td>No</td>\n      <td>Steady</td>\n      <td>Ch</td>\n      <td>Discharged to home</td>\n      <td>...</td>\n      <td>-1.315309</td>\n      <td>NaN</td>\n      <td>-1.137649</td>\n      <td>0.401761</td>\n      <td>-0.785398</td>\n      <td>-0.986997</td>\n      <td>-0.291461</td>\n      <td>-0.21262</td>\n      <td>-0.503276</td>\n      <td>-1.252906</td>\n    </tr>\n  </tbody>\n</table>\n<p>5 rows × 50 columns</p>\n</div>"
     },
     "execution_count": 99,
     "metadata": {},
     "output_type": "execute_result"
    }
   ],
   "source": [
    "df.head(5)"
   ]
  },
  {
   "cell_type": "markdown",
   "id": "3d772c51-63c6-4fd1-970a-5ae1c7b51ace",
   "metadata": {},
   "source": [
    "### Remove duplicates"
   ]
  },
  {
   "cell_type": "code",
   "execution_count": 100,
   "id": "c4fbc165-186d-48b1-9277-511ca96c1459",
   "metadata": {
    "ExecuteTime": {
     "end_time": "2024-05-22T18:37:14.542074Z",
     "start_time": "2024-05-22T18:37:14.311862Z"
    }
   },
   "outputs": [],
   "source": [
    "df = df.drop_duplicates()"
   ]
  },
  {
   "cell_type": "markdown",
   "id": "33afcc45-be81-4e1f-be3d-d26baedcd5c6",
   "metadata": {},
   "source": [
    "### Handling Missing and Invalid Values "
   ]
  },
  {
   "cell_type": "code",
   "execution_count": 101,
   "id": "633c42993a9a1456",
   "metadata": {
    "collapsed": false,
    "ExecuteTime": {
     "end_time": "2024-05-22T18:37:14.549989Z",
     "start_time": "2024-05-22T18:37:14.543208Z"
    }
   },
   "outputs": [],
   "source": [
    "def find_invalid_values(_df):\n",
    "    placeholder_values = [\"Unknown/Invalid\", \"NaN\", \"Not Available\", \"Not Mapped\", \"?\"]\n",
    "    \n",
    "    placeholder_counts = {}\n",
    "    \n",
    "    for _col in _df.columns:\n",
    "        placeholder_counts[_col] = {}\n",
    "        for value in placeholder_values:\n",
    "            placeholder_counts[_col][value] = _df[_col].astype(str).str.contains(re.escape(value), case=False, na=False).sum()\n",
    "    _placeholder_counts_df = pd.DataFrame(placeholder_counts).transpose()\n",
    "    _placeholder_counts_df = _placeholder_counts_df[(_placeholder_counts_df.T != 0).any()]\n",
    "    total_rows = len(_df)\n",
    "    _percentage_df = (_placeholder_counts_df / total_rows) * 100\n",
    "    _percentage_df[\"sum\"] = (_percentage_df[\"Unknown/Invalid\"] \n",
    "                             + _percentage_df[\"NaN\"] \n",
    "                             + _percentage_df[\"Not Available\"] \n",
    "                             + _percentage_df[\"Not Mapped\"] \n",
    "                             +  _percentage_df[\"?\"])\n",
    "    return _percentage_df"
   ]
  },
  {
   "cell_type": "code",
   "execution_count": 102,
   "id": "329afb662fe099",
   "metadata": {
    "collapsed": false,
    "ExecuteTime": {
     "end_time": "2024-05-22T18:37:23.643938Z",
     "start_time": "2024-05-22T18:37:14.550919Z"
    }
   },
   "outputs": [
    {
     "data": {
      "text/plain": "                       Unknown/Invalid        NaN  Not Available  Not Mapped  \\\nmax_glu_serum                 0.000000  94.746772       0.000000    0.000000   \nmedical_specialty             0.000000   0.000000       0.000000    0.000000   \nadmission_type                0.000000   5.199182       4.701963    0.314447   \ndischarge_disposition         0.000000   3.626948       0.000000    0.971837   \ndiag_1                        0.000000   0.000000       0.000000    0.000000   \nA1Cresult                     0.000000  83.277322       0.000000    0.000000   \ndiag_2                        0.000000   0.000000       0.000000    0.000000   \ndiag_3                        0.000000   0.000000       0.000000    0.000000   \npayer_code                    0.000000   0.000000       0.000000    0.000000   \nrace                          0.000000   0.000000       0.000000    0.000000   \nadmission_source              0.000000   6.663326       0.122831    0.158206   \ngender                        0.002948   0.000000       0.000000    0.000000   \nweight                        0.000000  96.861427       0.000000    0.000000   \n\n                               ?        sum  \nmax_glu_serum           0.000000  94.746772  \nmedical_specialty      49.082208  49.082208  \nadmission_type          0.000000  10.215593  \ndischarge_disposition   0.000000   4.598785  \ndiag_1                  0.020636   0.020636  \nA1Cresult               0.000000  83.277322  \ndiag_2                  0.351787   0.351787  \ndiag_3                  1.398306   1.398306  \npayer_code             39.557416  39.557416  \nrace                    2.233555   2.233555  \nadmission_source        0.000000   6.944363  \ngender                  0.000000   0.002948  \nweight                  0.000000  96.861427  ",
      "text/html": "<div>\n<style scoped>\n    .dataframe tbody tr th:only-of-type {\n        vertical-align: middle;\n    }\n\n    .dataframe tbody tr th {\n        vertical-align: top;\n    }\n\n    .dataframe thead th {\n        text-align: right;\n    }\n</style>\n<table border=\"1\" class=\"dataframe\">\n  <thead>\n    <tr style=\"text-align: right;\">\n      <th></th>\n      <th>Unknown/Invalid</th>\n      <th>NaN</th>\n      <th>Not Available</th>\n      <th>Not Mapped</th>\n      <th>?</th>\n      <th>sum</th>\n    </tr>\n  </thead>\n  <tbody>\n    <tr>\n      <th>max_glu_serum</th>\n      <td>0.000000</td>\n      <td>94.746772</td>\n      <td>0.000000</td>\n      <td>0.000000</td>\n      <td>0.000000</td>\n      <td>94.746772</td>\n    </tr>\n    <tr>\n      <th>medical_specialty</th>\n      <td>0.000000</td>\n      <td>0.000000</td>\n      <td>0.000000</td>\n      <td>0.000000</td>\n      <td>49.082208</td>\n      <td>49.082208</td>\n    </tr>\n    <tr>\n      <th>admission_type</th>\n      <td>0.000000</td>\n      <td>5.199182</td>\n      <td>4.701963</td>\n      <td>0.314447</td>\n      <td>0.000000</td>\n      <td>10.215593</td>\n    </tr>\n    <tr>\n      <th>discharge_disposition</th>\n      <td>0.000000</td>\n      <td>3.626948</td>\n      <td>0.000000</td>\n      <td>0.971837</td>\n      <td>0.000000</td>\n      <td>4.598785</td>\n    </tr>\n    <tr>\n      <th>diag_1</th>\n      <td>0.000000</td>\n      <td>0.000000</td>\n      <td>0.000000</td>\n      <td>0.000000</td>\n      <td>0.020636</td>\n      <td>0.020636</td>\n    </tr>\n    <tr>\n      <th>A1Cresult</th>\n      <td>0.000000</td>\n      <td>83.277322</td>\n      <td>0.000000</td>\n      <td>0.000000</td>\n      <td>0.000000</td>\n      <td>83.277322</td>\n    </tr>\n    <tr>\n      <th>diag_2</th>\n      <td>0.000000</td>\n      <td>0.000000</td>\n      <td>0.000000</td>\n      <td>0.000000</td>\n      <td>0.351787</td>\n      <td>0.351787</td>\n    </tr>\n    <tr>\n      <th>diag_3</th>\n      <td>0.000000</td>\n      <td>0.000000</td>\n      <td>0.000000</td>\n      <td>0.000000</td>\n      <td>1.398306</td>\n      <td>1.398306</td>\n    </tr>\n    <tr>\n      <th>payer_code</th>\n      <td>0.000000</td>\n      <td>0.000000</td>\n      <td>0.000000</td>\n      <td>0.000000</td>\n      <td>39.557416</td>\n      <td>39.557416</td>\n    </tr>\n    <tr>\n      <th>race</th>\n      <td>0.000000</td>\n      <td>0.000000</td>\n      <td>0.000000</td>\n      <td>0.000000</td>\n      <td>2.233555</td>\n      <td>2.233555</td>\n    </tr>\n    <tr>\n      <th>admission_source</th>\n      <td>0.000000</td>\n      <td>6.663326</td>\n      <td>0.122831</td>\n      <td>0.158206</td>\n      <td>0.000000</td>\n      <td>6.944363</td>\n    </tr>\n    <tr>\n      <th>gender</th>\n      <td>0.002948</td>\n      <td>0.000000</td>\n      <td>0.000000</td>\n      <td>0.000000</td>\n      <td>0.000000</td>\n      <td>0.002948</td>\n    </tr>\n    <tr>\n      <th>weight</th>\n      <td>0.000000</td>\n      <td>96.861427</td>\n      <td>0.000000</td>\n      <td>0.000000</td>\n      <td>0.000000</td>\n      <td>96.861427</td>\n    </tr>\n  </tbody>\n</table>\n</div>"
     },
     "execution_count": 102,
     "metadata": {},
     "output_type": "execute_result"
    }
   ],
   "source": [
    "unknown = find_invalid_values(df)\n",
    "unknown"
   ]
  },
  {
   "cell_type": "code",
   "execution_count": 103,
   "id": "98f80a77-0b9c-4931-a949-c71e1bc78a91",
   "metadata": {
    "ExecuteTime": {
     "end_time": "2024-05-22T18:37:23.648210Z",
     "start_time": "2024-05-22T18:37:23.644708Z"
    }
   },
   "outputs": [
    {
     "name": "stdout",
     "output_type": "stream",
     "text": [
      "Columns with more than 40% unknown values:\n"
     ]
    },
    {
     "data": {
      "text/plain": "Index(['max_glu_serum', 'medical_specialty', 'A1Cresult', 'weight'], dtype='object')"
     },
     "execution_count": 103,
     "metadata": {},
     "output_type": "execute_result"
    }
   ],
   "source": [
    "columns_to_remove = unknown[unknown['sum']> 40].index\n",
    "print(\"Columns with more than 40% unknown values:\")\n",
    "columns_to_remove"
   ]
  },
  {
   "cell_type": "code",
   "execution_count": 104,
   "id": "8cd2076b-3a10-497c-a4b3-a0045ad6b392",
   "metadata": {
    "ExecuteTime": {
     "end_time": "2024-05-22T18:37:23.683644Z",
     "start_time": "2024-05-22T18:37:23.649108Z"
    }
   },
   "outputs": [
    {
     "data": {
      "text/plain": "['encounter_id', 'patient_nbr', 'payer_code']"
     },
     "execution_count": 104,
     "metadata": {},
     "output_type": "execute_result"
    }
   ],
   "source": [
    "not_important = []\n",
    "id_columns = [col for col in df.columns if col.endswith('id')]\n",
    "not_important.extend(id_columns)\n",
    "not_important.extend(['patient_nbr', 'payer_code'])\n",
    "not_important"
   ]
  },
  {
   "cell_type": "code",
   "execution_count": 105,
   "id": "f3844291-983e-4f02-b934-ae3169a74b00",
   "metadata": {
    "ExecuteTime": {
     "end_time": "2024-05-22T18:37:23.754526Z",
     "start_time": "2024-05-22T18:37:23.684626Z"
    }
   },
   "outputs": [],
   "source": [
    "df = df.drop(columns=columns_to_remove)\n",
    "df = df.drop(columns=not_important)"
   ]
  },
  {
   "cell_type": "code",
   "execution_count": 106,
   "id": "8ab0ce26-47d2-4982-a0ca-1cdee6352027",
   "metadata": {
    "ExecuteTime": {
     "end_time": "2024-05-22T18:37:23.766724Z",
     "start_time": "2024-05-22T18:37:23.756782Z"
    }
   },
   "outputs": [
    {
     "data": {
      "text/plain": "  diabetesMed pioglitazone glyburide admission_type acetohexamide glipizide  \\\n0          No           No        No            NaN            No        No   \n1         Yes           No        No      Emergency            No        No   \n2         Yes           No        No      Emergency            No    Steady   \n3         Yes           No        No      Emergency            No        No   \n4         Yes           No        No      Emergency            No    Steady   \n\n  change discharge_disposition chlorpropamide nateglinide  ... examide  \\\n0     No            Not Mapped             No          No  ...      No   \n1     Ch    Discharged to home             No          No  ...      No   \n2     No    Discharged to home             No          No  ...      No   \n3     Ch    Discharged to home             No          No  ...      No   \n4     Ch    Discharged to home             No          No  ...      No   \n\n        age time_in_hospital num_lab_procedures num_procedures  \\\n0 -3.824600        -1.137649          -0.106517      -0.785398   \n1 -3.197277        -0.467653           0.808384      -0.785398   \n2 -2.569954        -0.802651          -1.631351       2.145781   \n3 -1.942632        -0.802651           0.045967      -0.199162   \n4 -1.315309        -1.137649           0.401761      -0.785398   \n\n  num_medications number_outpatient number_emergency number_inpatient  \\\n0       -1.848268         -0.291461         -0.21262        -0.503276   \n1        0.243390         -0.291461         -0.21262        -0.503276   \n2       -0.371804          1.286748         -0.21262         0.288579   \n3       -0.002688         -0.291461         -0.21262        -0.503276   \n4       -0.986997         -0.291461         -0.21262        -0.503276   \n\n  number_diagnoses  \n0        -3.321596  \n1         0.815784  \n2        -0.735733  \n3        -0.218561  \n4        -1.252906  \n\n[5 rows x 43 columns]",
      "text/html": "<div>\n<style scoped>\n    .dataframe tbody tr th:only-of-type {\n        vertical-align: middle;\n    }\n\n    .dataframe tbody tr th {\n        vertical-align: top;\n    }\n\n    .dataframe thead th {\n        text-align: right;\n    }\n</style>\n<table border=\"1\" class=\"dataframe\">\n  <thead>\n    <tr style=\"text-align: right;\">\n      <th></th>\n      <th>diabetesMed</th>\n      <th>pioglitazone</th>\n      <th>glyburide</th>\n      <th>admission_type</th>\n      <th>acetohexamide</th>\n      <th>glipizide</th>\n      <th>change</th>\n      <th>discharge_disposition</th>\n      <th>chlorpropamide</th>\n      <th>nateglinide</th>\n      <th>...</th>\n      <th>examide</th>\n      <th>age</th>\n      <th>time_in_hospital</th>\n      <th>num_lab_procedures</th>\n      <th>num_procedures</th>\n      <th>num_medications</th>\n      <th>number_outpatient</th>\n      <th>number_emergency</th>\n      <th>number_inpatient</th>\n      <th>number_diagnoses</th>\n    </tr>\n  </thead>\n  <tbody>\n    <tr>\n      <th>0</th>\n      <td>No</td>\n      <td>No</td>\n      <td>No</td>\n      <td>NaN</td>\n      <td>No</td>\n      <td>No</td>\n      <td>No</td>\n      <td>Not Mapped</td>\n      <td>No</td>\n      <td>No</td>\n      <td>...</td>\n      <td>No</td>\n      <td>-3.824600</td>\n      <td>-1.137649</td>\n      <td>-0.106517</td>\n      <td>-0.785398</td>\n      <td>-1.848268</td>\n      <td>-0.291461</td>\n      <td>-0.21262</td>\n      <td>-0.503276</td>\n      <td>-3.321596</td>\n    </tr>\n    <tr>\n      <th>1</th>\n      <td>Yes</td>\n      <td>No</td>\n      <td>No</td>\n      <td>Emergency</td>\n      <td>No</td>\n      <td>No</td>\n      <td>Ch</td>\n      <td>Discharged to home</td>\n      <td>No</td>\n      <td>No</td>\n      <td>...</td>\n      <td>No</td>\n      <td>-3.197277</td>\n      <td>-0.467653</td>\n      <td>0.808384</td>\n      <td>-0.785398</td>\n      <td>0.243390</td>\n      <td>-0.291461</td>\n      <td>-0.21262</td>\n      <td>-0.503276</td>\n      <td>0.815784</td>\n    </tr>\n    <tr>\n      <th>2</th>\n      <td>Yes</td>\n      <td>No</td>\n      <td>No</td>\n      <td>Emergency</td>\n      <td>No</td>\n      <td>Steady</td>\n      <td>No</td>\n      <td>Discharged to home</td>\n      <td>No</td>\n      <td>No</td>\n      <td>...</td>\n      <td>No</td>\n      <td>-2.569954</td>\n      <td>-0.802651</td>\n      <td>-1.631351</td>\n      <td>2.145781</td>\n      <td>-0.371804</td>\n      <td>1.286748</td>\n      <td>-0.21262</td>\n      <td>0.288579</td>\n      <td>-0.735733</td>\n    </tr>\n    <tr>\n      <th>3</th>\n      <td>Yes</td>\n      <td>No</td>\n      <td>No</td>\n      <td>Emergency</td>\n      <td>No</td>\n      <td>No</td>\n      <td>Ch</td>\n      <td>Discharged to home</td>\n      <td>No</td>\n      <td>No</td>\n      <td>...</td>\n      <td>No</td>\n      <td>-1.942632</td>\n      <td>-0.802651</td>\n      <td>0.045967</td>\n      <td>-0.199162</td>\n      <td>-0.002688</td>\n      <td>-0.291461</td>\n      <td>-0.21262</td>\n      <td>-0.503276</td>\n      <td>-0.218561</td>\n    </tr>\n    <tr>\n      <th>4</th>\n      <td>Yes</td>\n      <td>No</td>\n      <td>No</td>\n      <td>Emergency</td>\n      <td>No</td>\n      <td>Steady</td>\n      <td>Ch</td>\n      <td>Discharged to home</td>\n      <td>No</td>\n      <td>No</td>\n      <td>...</td>\n      <td>No</td>\n      <td>-1.315309</td>\n      <td>-1.137649</td>\n      <td>0.401761</td>\n      <td>-0.785398</td>\n      <td>-0.986997</td>\n      <td>-0.291461</td>\n      <td>-0.21262</td>\n      <td>-0.503276</td>\n      <td>-1.252906</td>\n    </tr>\n  </tbody>\n</table>\n<p>5 rows × 43 columns</p>\n</div>"
     },
     "execution_count": 106,
     "metadata": {},
     "output_type": "execute_result"
    }
   ],
   "source": [
    "df.head()"
   ]
  },
  {
   "cell_type": "code",
   "execution_count": 107,
   "id": "1fe074a9-69e0-4083-a64f-0be39ab517ff",
   "metadata": {
    "ExecuteTime": {
     "end_time": "2024-05-22T18:37:31.579311Z",
     "start_time": "2024-05-22T18:37:23.767592Z"
    }
   },
   "outputs": [
    {
     "data": {
      "text/plain": "                       Unknown/Invalid       NaN  Not Available  Not Mapped  \\\nadmission_type                0.000000  5.199182       4.701963    0.314447   \ndischarge_disposition         0.000000  3.626948       0.000000    0.971837   \ndiag_1                        0.000000  0.000000       0.000000    0.000000   \ndiag_2                        0.000000  0.000000       0.000000    0.000000   \ndiag_3                        0.000000  0.000000       0.000000    0.000000   \nrace                          0.000000  0.000000       0.000000    0.000000   \nadmission_source              0.000000  6.663326       0.122831    0.158206   \ngender                        0.002948  0.000000       0.000000    0.000000   \n\n                              ?        sum  \nadmission_type         0.000000  10.215593  \ndischarge_disposition  0.000000   4.598785  \ndiag_1                 0.020636   0.020636  \ndiag_2                 0.351787   0.351787  \ndiag_3                 1.398306   1.398306  \nrace                   2.233555   2.233555  \nadmission_source       0.000000   6.944363  \ngender                 0.000000   0.002948  ",
      "text/html": "<div>\n<style scoped>\n    .dataframe tbody tr th:only-of-type {\n        vertical-align: middle;\n    }\n\n    .dataframe tbody tr th {\n        vertical-align: top;\n    }\n\n    .dataframe thead th {\n        text-align: right;\n    }\n</style>\n<table border=\"1\" class=\"dataframe\">\n  <thead>\n    <tr style=\"text-align: right;\">\n      <th></th>\n      <th>Unknown/Invalid</th>\n      <th>NaN</th>\n      <th>Not Available</th>\n      <th>Not Mapped</th>\n      <th>?</th>\n      <th>sum</th>\n    </tr>\n  </thead>\n  <tbody>\n    <tr>\n      <th>admission_type</th>\n      <td>0.000000</td>\n      <td>5.199182</td>\n      <td>4.701963</td>\n      <td>0.314447</td>\n      <td>0.000000</td>\n      <td>10.215593</td>\n    </tr>\n    <tr>\n      <th>discharge_disposition</th>\n      <td>0.000000</td>\n      <td>3.626948</td>\n      <td>0.000000</td>\n      <td>0.971837</td>\n      <td>0.000000</td>\n      <td>4.598785</td>\n    </tr>\n    <tr>\n      <th>diag_1</th>\n      <td>0.000000</td>\n      <td>0.000000</td>\n      <td>0.000000</td>\n      <td>0.000000</td>\n      <td>0.020636</td>\n      <td>0.020636</td>\n    </tr>\n    <tr>\n      <th>diag_2</th>\n      <td>0.000000</td>\n      <td>0.000000</td>\n      <td>0.000000</td>\n      <td>0.000000</td>\n      <td>0.351787</td>\n      <td>0.351787</td>\n    </tr>\n    <tr>\n      <th>diag_3</th>\n      <td>0.000000</td>\n      <td>0.000000</td>\n      <td>0.000000</td>\n      <td>0.000000</td>\n      <td>1.398306</td>\n      <td>1.398306</td>\n    </tr>\n    <tr>\n      <th>race</th>\n      <td>0.000000</td>\n      <td>0.000000</td>\n      <td>0.000000</td>\n      <td>0.000000</td>\n      <td>2.233555</td>\n      <td>2.233555</td>\n    </tr>\n    <tr>\n      <th>admission_source</th>\n      <td>0.000000</td>\n      <td>6.663326</td>\n      <td>0.122831</td>\n      <td>0.158206</td>\n      <td>0.000000</td>\n      <td>6.944363</td>\n    </tr>\n    <tr>\n      <th>gender</th>\n      <td>0.002948</td>\n      <td>0.000000</td>\n      <td>0.000000</td>\n      <td>0.000000</td>\n      <td>0.000000</td>\n      <td>0.002948</td>\n    </tr>\n  </tbody>\n</table>\n</div>"
     },
     "execution_count": 107,
     "metadata": {},
     "output_type": "execute_result"
    }
   ],
   "source": [
    "find_invalid_values(df)"
   ]
  },
  {
   "cell_type": "code",
   "execution_count": 108,
   "id": "cdfe6591-bc53-445d-acaf-e1bdb4fc5808",
   "metadata": {
    "ExecuteTime": {
     "end_time": "2024-05-22T18:37:31.671472Z",
     "start_time": "2024-05-22T18:37:31.580079Z"
    }
   },
   "outputs": [
    {
     "name": "stdout",
     "output_type": "stream",
     "text": [
      "<class 'pandas.core.frame.DataFrame'>\n",
      "RangeIndex: 101766 entries, 0 to 101765\n",
      "Data columns (total 43 columns):\n",
      " #   Column                    Non-Null Count   Dtype  \n",
      "---  ------                    --------------   -----  \n",
      " 0   diabetesMed               101766 non-null  object \n",
      " 1   pioglitazone              101766 non-null  object \n",
      " 2   glyburide                 101766 non-null  object \n",
      " 3   admission_type            96475 non-null   object \n",
      " 4   acetohexamide             101766 non-null  object \n",
      " 5   glipizide                 101766 non-null  object \n",
      " 6   change                    101766 non-null  object \n",
      " 7   discharge_disposition     98075 non-null   object \n",
      " 8   chlorpropamide            101766 non-null  object \n",
      " 9   nateglinide               101766 non-null  object \n",
      " 10  acarbose                  101766 non-null  object \n",
      " 11  insulin                   101766 non-null  object \n",
      " 12  diag_1                    101766 non-null  object \n",
      " 13  tolbutamide               101766 non-null  object \n",
      " 14  miglitol                  101766 non-null  object \n",
      " 15  readmitted                101766 non-null  object \n",
      " 16  glyburide-metformin       101766 non-null  object \n",
      " 17  diag_2                    101766 non-null  object \n",
      " 18  metformin-pioglitazone    101766 non-null  object \n",
      " 19  diag_3                    101766 non-null  object \n",
      " 20  repaglinide               101766 non-null  object \n",
      " 21  glipizide-metformin       101766 non-null  object \n",
      " 22  metformin                 101766 non-null  object \n",
      " 23  rosiglitazone             101766 non-null  object \n",
      " 24  glimepiride-pioglitazone  101766 non-null  object \n",
      " 25  troglitazone              101766 non-null  object \n",
      " 26  metformin-rosiglitazone   101766 non-null  object \n",
      " 27  tolazamide                101766 non-null  object \n",
      " 28  race                      101766 non-null  object \n",
      " 29  admission_source          94985 non-null   object \n",
      " 30  citoglipton               101766 non-null  object \n",
      " 31  gender                    101766 non-null  object \n",
      " 32  glimepiride               101766 non-null  object \n",
      " 33  examide                   101766 non-null  object \n",
      " 34  age                       101766 non-null  float64\n",
      " 35  time_in_hospital          101766 non-null  float64\n",
      " 36  num_lab_procedures        101766 non-null  float64\n",
      " 37  num_procedures            101766 non-null  float64\n",
      " 38  num_medications           101766 non-null  float64\n",
      " 39  number_outpatient         101766 non-null  float64\n",
      " 40  number_emergency          101766 non-null  float64\n",
      " 41  number_inpatient          101766 non-null  float64\n",
      " 42  number_diagnoses          101766 non-null  float64\n",
      "dtypes: float64(9), object(34)\n",
      "memory usage: 33.4+ MB\n"
     ]
    }
   ],
   "source": [
    "df.info()"
   ]
  },
  {
   "cell_type": "code",
   "execution_count": 109,
   "id": "6320f205-8355-400b-b347-3025a245be02",
   "metadata": {
    "ExecuteTime": {
     "end_time": "2024-05-22T18:37:35.050571Z",
     "start_time": "2024-05-22T18:37:31.672430Z"
    }
   },
   "outputs": [],
   "source": [
    "invalid_entries = [\"Unknown/Invalid\", \"NaN\", \"Not Available\", \"Not Mapped\", \"?\"]\n",
    "\n",
    "def replace_invalid_with_mode(_df):\n",
    "    for _col in _df.columns:\n",
    "        for invalid in invalid_entries:\n",
    "            replace_invalid_with_nan = lambda x: np.nan if isinstance(x, str) and invalid in x else x\n",
    "            _df[_col] = _df[_col].apply(replace_invalid_with_nan)\n",
    "        \n",
    "        mode = _df[_col].mode().dropna()\n",
    "        if not mode.empty and mode[0] in invalid_entries:\n",
    "            _df = _df.drop(columns=_col)\n",
    "            print(f\"Column {_col} dropped.\")\n",
    "        else:\n",
    "            _df[_col] = _df[_col].fillna(mode[0])\n",
    "    \n",
    "    return _df\n",
    "    \n",
    "df = replace_invalid_with_mode(df)"
   ]
  },
  {
   "cell_type": "code",
   "execution_count": 110,
   "id": "b17ffc06-6135-4117-bc70-4e6befd752e1",
   "metadata": {
    "ExecuteTime": {
     "end_time": "2024-05-22T18:37:43.685235Z",
     "start_time": "2024-05-22T18:37:35.052352Z"
    }
   },
   "outputs": [
    {
     "data": {
      "text/plain": "Empty DataFrame\nColumns: [Unknown/Invalid, NaN, Not Available, Not Mapped, ?, sum]\nIndex: []",
      "text/html": "<div>\n<style scoped>\n    .dataframe tbody tr th:only-of-type {\n        vertical-align: middle;\n    }\n\n    .dataframe tbody tr th {\n        vertical-align: top;\n    }\n\n    .dataframe thead th {\n        text-align: right;\n    }\n</style>\n<table border=\"1\" class=\"dataframe\">\n  <thead>\n    <tr style=\"text-align: right;\">\n      <th></th>\n      <th>Unknown/Invalid</th>\n      <th>NaN</th>\n      <th>Not Available</th>\n      <th>Not Mapped</th>\n      <th>?</th>\n      <th>sum</th>\n    </tr>\n  </thead>\n  <tbody>\n  </tbody>\n</table>\n</div>"
     },
     "execution_count": 110,
     "metadata": {},
     "output_type": "execute_result"
    }
   ],
   "source": [
    "find_invalid_values(df)"
   ]
  },
  {
   "cell_type": "markdown",
   "id": "40a7a56566fd610c",
   "metadata": {
    "collapsed": false
   },
   "source": [
    "## Delete Low Variant Columns"
   ]
  },
  {
   "cell_type": "code",
   "execution_count": 111,
   "id": "329b06e2e526904b",
   "metadata": {
    "collapsed": false,
    "ExecuteTime": {
     "end_time": "2024-05-22T18:37:45.224743Z",
     "start_time": "2024-05-22T18:37:43.686143Z"
    }
   },
   "outputs": [
    {
     "name": "stdout",
     "output_type": "stream",
     "text": [
      "Column acetohexamide dropped.\n",
      "Column chlorpropamide dropped.\n",
      "Column nateglinide dropped.\n",
      "Column acarbose dropped.\n",
      "Column tolbutamide dropped.\n",
      "Column miglitol dropped.\n",
      "Column glyburide-metformin dropped.\n",
      "Column metformin-pioglitazone dropped.\n",
      "Column repaglinide dropped.\n",
      "Column glipizide-metformin dropped.\n",
      "Column glimepiride-pioglitazone dropped.\n",
      "Column troglitazone dropped.\n",
      "Column metformin-rosiglitazone dropped.\n",
      "Column tolazamide dropped.\n",
      "Column citoglipton dropped.\n",
      "Column examide dropped.\n"
     ]
    }
   ],
   "source": [
    "def delete_low_var_cols(_df):\n",
    "    for _col in _df.columns:\n",
    "        mode = _df[_col].mode()\n",
    "        if not mode.empty and (_df[_col] == mode[0]).sum()/len(_df) > .95 :\n",
    "            _df = _df.drop(columns=_col)\n",
    "            print(f\"Column {_col} dropped.\")\n",
    "\n",
    "    return _df\n",
    "\n",
    "df = delete_low_var_cols(df)\n"
   ]
  },
  {
   "cell_type": "code",
   "execution_count": 112,
   "id": "86f8a5c59a6e793b",
   "metadata": {
    "collapsed": false,
    "ExecuteTime": {
     "end_time": "2024-05-22T18:37:45.333940Z",
     "start_time": "2024-05-22T18:37:45.226441Z"
    }
   },
   "outputs": [
    {
     "name": "stdout",
     "output_type": "stream",
     "text": [
      "<class 'pandas.core.frame.DataFrame'>\n",
      "RangeIndex: 101766 entries, 0 to 101765\n",
      "Data columns (total 27 columns):\n",
      " #   Column                 Non-Null Count   Dtype  \n",
      "---  ------                 --------------   -----  \n",
      " 0   diabetesMed            101766 non-null  object \n",
      " 1   pioglitazone           101766 non-null  object \n",
      " 2   glyburide              101766 non-null  object \n",
      " 3   admission_type         101766 non-null  object \n",
      " 4   glipizide              101766 non-null  object \n",
      " 5   change                 101766 non-null  object \n",
      " 6   discharge_disposition  101766 non-null  object \n",
      " 7   insulin                101766 non-null  object \n",
      " 8   diag_1                 101766 non-null  object \n",
      " 9   readmitted             101766 non-null  object \n",
      " 10  diag_2                 101766 non-null  object \n",
      " 11  diag_3                 101766 non-null  object \n",
      " 12  metformin              101766 non-null  object \n",
      " 13  rosiglitazone          101766 non-null  object \n",
      " 14  race                   101766 non-null  object \n",
      " 15  admission_source       101766 non-null  object \n",
      " 16  gender                 101766 non-null  object \n",
      " 17  glimepiride            101766 non-null  object \n",
      " 18  age                    101766 non-null  float64\n",
      " 19  time_in_hospital       101766 non-null  float64\n",
      " 20  num_lab_procedures     101766 non-null  float64\n",
      " 21  num_procedures         101766 non-null  float64\n",
      " 22  num_medications        101766 non-null  float64\n",
      " 23  number_outpatient      101766 non-null  float64\n",
      " 24  number_emergency       101766 non-null  float64\n",
      " 25  number_inpatient       101766 non-null  float64\n",
      " 26  number_diagnoses       101766 non-null  float64\n",
      "dtypes: float64(9), object(18)\n",
      "memory usage: 21.0+ MB\n"
     ]
    }
   ],
   "source": [
    "df.info() ## no null cell"
   ]
  },
  {
   "cell_type": "markdown",
   "id": "994609b7c2e0049a",
   "metadata": {
    "collapsed": false
   },
   "source": [
    "### Simplifying 'diag' Columns"
   ]
  },
  {
   "cell_type": "code",
   "execution_count": 113,
   "id": "12e4275984e8be4d",
   "metadata": {
    "collapsed": false,
    "ExecuteTime": {
     "end_time": "2024-05-22T18:37:45.345092Z",
     "start_time": "2024-05-22T18:37:45.337156Z"
    }
   },
   "outputs": [],
   "source": [
    "diag_columns = [_col for _col in df.columns if _col.startswith('diag')]"
   ]
  },
  {
   "cell_type": "code",
   "execution_count": 114,
   "id": "ea79eb3ee6594f79",
   "metadata": {
    "collapsed": false,
    "ExecuteTime": {
     "end_time": "2024-05-22T18:37:45.429894Z",
     "start_time": "2024-05-22T18:37:45.346988Z"
    }
   },
   "outputs": [
    {
     "data": {
      "text/plain": "  diabetesMed pioglitazone glyburide admission_type glipizide change  \\\n0          No           No        No      Emergency        No     No   \n1         Yes           No        No      Emergency        No     Ch   \n2         Yes           No        No      Emergency    Steady     No   \n3         Yes           No        No      Emergency        No     Ch   \n4         Yes           No        No      Emergency    Steady     Ch   \n\n  discharge_disposition insulin diag_1 readmitted  ... glimepiride       age  \\\n0    Discharged to home      No    250         NO  ...          No -3.824600   \n1    Discharged to home      Up    276        >30  ...          No -3.197277   \n2    Discharged to home      No    648         NO  ...          No -2.569954   \n3    Discharged to home      Up      8         NO  ...          No -1.942632   \n4    Discharged to home  Steady    197         NO  ...          No -1.315309   \n\n  time_in_hospital num_lab_procedures num_procedures num_medications  \\\n0        -1.137649          -0.106517      -0.785398       -1.848268   \n1        -0.467653           0.808384      -0.785398        0.243390   \n2        -0.802651          -1.631351       2.145781       -0.371804   \n3        -0.802651           0.045967      -0.199162       -0.002688   \n4        -1.137649           0.401761      -0.785398       -0.986997   \n\n  number_outpatient number_emergency  number_inpatient  number_diagnoses  \n0         -0.291461         -0.21262         -0.503276         -3.321596  \n1         -0.291461         -0.21262         -0.503276          0.815784  \n2          1.286748         -0.21262          0.288579         -0.735733  \n3         -0.291461         -0.21262         -0.503276         -0.218561  \n4         -0.291461         -0.21262         -0.503276         -1.252906  \n\n[5 rows x 27 columns]",
      "text/html": "<div>\n<style scoped>\n    .dataframe tbody tr th:only-of-type {\n        vertical-align: middle;\n    }\n\n    .dataframe tbody tr th {\n        vertical-align: top;\n    }\n\n    .dataframe thead th {\n        text-align: right;\n    }\n</style>\n<table border=\"1\" class=\"dataframe\">\n  <thead>\n    <tr style=\"text-align: right;\">\n      <th></th>\n      <th>diabetesMed</th>\n      <th>pioglitazone</th>\n      <th>glyburide</th>\n      <th>admission_type</th>\n      <th>glipizide</th>\n      <th>change</th>\n      <th>discharge_disposition</th>\n      <th>insulin</th>\n      <th>diag_1</th>\n      <th>readmitted</th>\n      <th>...</th>\n      <th>glimepiride</th>\n      <th>age</th>\n      <th>time_in_hospital</th>\n      <th>num_lab_procedures</th>\n      <th>num_procedures</th>\n      <th>num_medications</th>\n      <th>number_outpatient</th>\n      <th>number_emergency</th>\n      <th>number_inpatient</th>\n      <th>number_diagnoses</th>\n    </tr>\n  </thead>\n  <tbody>\n    <tr>\n      <th>0</th>\n      <td>No</td>\n      <td>No</td>\n      <td>No</td>\n      <td>Emergency</td>\n      <td>No</td>\n      <td>No</td>\n      <td>Discharged to home</td>\n      <td>No</td>\n      <td>250</td>\n      <td>NO</td>\n      <td>...</td>\n      <td>No</td>\n      <td>-3.824600</td>\n      <td>-1.137649</td>\n      <td>-0.106517</td>\n      <td>-0.785398</td>\n      <td>-1.848268</td>\n      <td>-0.291461</td>\n      <td>-0.21262</td>\n      <td>-0.503276</td>\n      <td>-3.321596</td>\n    </tr>\n    <tr>\n      <th>1</th>\n      <td>Yes</td>\n      <td>No</td>\n      <td>No</td>\n      <td>Emergency</td>\n      <td>No</td>\n      <td>Ch</td>\n      <td>Discharged to home</td>\n      <td>Up</td>\n      <td>276</td>\n      <td>&gt;30</td>\n      <td>...</td>\n      <td>No</td>\n      <td>-3.197277</td>\n      <td>-0.467653</td>\n      <td>0.808384</td>\n      <td>-0.785398</td>\n      <td>0.243390</td>\n      <td>-0.291461</td>\n      <td>-0.21262</td>\n      <td>-0.503276</td>\n      <td>0.815784</td>\n    </tr>\n    <tr>\n      <th>2</th>\n      <td>Yes</td>\n      <td>No</td>\n      <td>No</td>\n      <td>Emergency</td>\n      <td>Steady</td>\n      <td>No</td>\n      <td>Discharged to home</td>\n      <td>No</td>\n      <td>648</td>\n      <td>NO</td>\n      <td>...</td>\n      <td>No</td>\n      <td>-2.569954</td>\n      <td>-0.802651</td>\n      <td>-1.631351</td>\n      <td>2.145781</td>\n      <td>-0.371804</td>\n      <td>1.286748</td>\n      <td>-0.21262</td>\n      <td>0.288579</td>\n      <td>-0.735733</td>\n    </tr>\n    <tr>\n      <th>3</th>\n      <td>Yes</td>\n      <td>No</td>\n      <td>No</td>\n      <td>Emergency</td>\n      <td>No</td>\n      <td>Ch</td>\n      <td>Discharged to home</td>\n      <td>Up</td>\n      <td>8</td>\n      <td>NO</td>\n      <td>...</td>\n      <td>No</td>\n      <td>-1.942632</td>\n      <td>-0.802651</td>\n      <td>0.045967</td>\n      <td>-0.199162</td>\n      <td>-0.002688</td>\n      <td>-0.291461</td>\n      <td>-0.21262</td>\n      <td>-0.503276</td>\n      <td>-0.218561</td>\n    </tr>\n    <tr>\n      <th>4</th>\n      <td>Yes</td>\n      <td>No</td>\n      <td>No</td>\n      <td>Emergency</td>\n      <td>Steady</td>\n      <td>Ch</td>\n      <td>Discharged to home</td>\n      <td>Steady</td>\n      <td>197</td>\n      <td>NO</td>\n      <td>...</td>\n      <td>No</td>\n      <td>-1.315309</td>\n      <td>-1.137649</td>\n      <td>0.401761</td>\n      <td>-0.785398</td>\n      <td>-0.986997</td>\n      <td>-0.291461</td>\n      <td>-0.21262</td>\n      <td>-0.503276</td>\n      <td>-1.252906</td>\n    </tr>\n  </tbody>\n</table>\n<p>5 rows × 27 columns</p>\n</div>"
     },
     "execution_count": 114,
     "metadata": {},
     "output_type": "execute_result"
    }
   ],
   "source": [
    "for col in diag_columns:\n",
    "    df[col] = df[col].apply(lambda x: x.split('.')[0])\n",
    "\n",
    "df.head(5)"
   ]
  },
  {
   "cell_type": "code",
   "execution_count": 115,
   "id": "15c6cd36353d8956",
   "metadata": {
    "collapsed": false,
    "ExecuteTime": {
     "end_time": "2024-05-22T18:38:02.476505Z",
     "start_time": "2024-05-22T18:37:45.431110Z"
    }
   },
   "outputs": [
    {
     "name": "stderr",
     "output_type": "stream",
     "text": [
      "/tmp/ipykernel_122064/2585726239.py:8: PerformanceWarning: DataFrame is highly fragmented.  This is usually the result of calling `frame.insert` many times, which has poor performance.  Consider joining all columns at once using pd.concat(axis=1) instead. To get a de-fragmented frame, use `newframe = frame.copy()`\n",
      "  df[col_name] = np.where(df[col] == value, 1, 0)\n",
      "/tmp/ipykernel_122064/2585726239.py:8: PerformanceWarning: DataFrame is highly fragmented.  This is usually the result of calling `frame.insert` many times, which has poor performance.  Consider joining all columns at once using pd.concat(axis=1) instead. To get a de-fragmented frame, use `newframe = frame.copy()`\n",
      "  df[col_name] = np.where(df[col] == value, 1, 0)\n",
      "/tmp/ipykernel_122064/2585726239.py:8: PerformanceWarning: DataFrame is highly fragmented.  This is usually the result of calling `frame.insert` many times, which has poor performance.  Consider joining all columns at once using pd.concat(axis=1) instead. To get a de-fragmented frame, use `newframe = frame.copy()`\n",
      "  df[col_name] = np.where(df[col] == value, 1, 0)\n",
      "/tmp/ipykernel_122064/2585726239.py:8: PerformanceWarning: DataFrame is highly fragmented.  This is usually the result of calling `frame.insert` many times, which has poor performance.  Consider joining all columns at once using pd.concat(axis=1) instead. To get a de-fragmented frame, use `newframe = frame.copy()`\n",
      "  df[col_name] = np.where(df[col] == value, 1, 0)\n",
      "/tmp/ipykernel_122064/2585726239.py:8: PerformanceWarning: DataFrame is highly fragmented.  This is usually the result of calling `frame.insert` many times, which has poor performance.  Consider joining all columns at once using pd.concat(axis=1) instead. To get a de-fragmented frame, use `newframe = frame.copy()`\n",
      "  df[col_name] = np.where(df[col] == value, 1, 0)\n",
      "/tmp/ipykernel_122064/2585726239.py:8: PerformanceWarning: DataFrame is highly fragmented.  This is usually the result of calling `frame.insert` many times, which has poor performance.  Consider joining all columns at once using pd.concat(axis=1) instead. To get a de-fragmented frame, use `newframe = frame.copy()`\n",
      "  df[col_name] = np.where(df[col] == value, 1, 0)\n",
      "/tmp/ipykernel_122064/2585726239.py:8: PerformanceWarning: DataFrame is highly fragmented.  This is usually the result of calling `frame.insert` many times, which has poor performance.  Consider joining all columns at once using pd.concat(axis=1) instead. To get a de-fragmented frame, use `newframe = frame.copy()`\n",
      "  df[col_name] = np.where(df[col] == value, 1, 0)\n",
      "/tmp/ipykernel_122064/2585726239.py:8: PerformanceWarning: DataFrame is highly fragmented.  This is usually the result of calling `frame.insert` many times, which has poor performance.  Consider joining all columns at once using pd.concat(axis=1) instead. To get a de-fragmented frame, use `newframe = frame.copy()`\n",
      "  df[col_name] = np.where(df[col] == value, 1, 0)\n",
      "/tmp/ipykernel_122064/2585726239.py:8: PerformanceWarning: DataFrame is highly fragmented.  This is usually the result of calling `frame.insert` many times, which has poor performance.  Consider joining all columns at once using pd.concat(axis=1) instead. To get a de-fragmented frame, use `newframe = frame.copy()`\n",
      "  df[col_name] = np.where(df[col] == value, 1, 0)\n",
      "/tmp/ipykernel_122064/2585726239.py:8: PerformanceWarning: DataFrame is highly fragmented.  This is usually the result of calling `frame.insert` many times, which has poor performance.  Consider joining all columns at once using pd.concat(axis=1) instead. To get a de-fragmented frame, use `newframe = frame.copy()`\n",
      "  df[col_name] = np.where(df[col] == value, 1, 0)\n",
      "/tmp/ipykernel_122064/2585726239.py:8: PerformanceWarning: DataFrame is highly fragmented.  This is usually the result of calling `frame.insert` many times, which has poor performance.  Consider joining all columns at once using pd.concat(axis=1) instead. To get a de-fragmented frame, use `newframe = frame.copy()`\n",
      "  df[col_name] = np.where(df[col] == value, 1, 0)\n",
      "/tmp/ipykernel_122064/2585726239.py:8: PerformanceWarning: DataFrame is highly fragmented.  This is usually the result of calling `frame.insert` many times, which has poor performance.  Consider joining all columns at once using pd.concat(axis=1) instead. To get a de-fragmented frame, use `newframe = frame.copy()`\n",
      "  df[col_name] = np.where(df[col] == value, 1, 0)\n",
      "/tmp/ipykernel_122064/2585726239.py:8: PerformanceWarning: DataFrame is highly fragmented.  This is usually the result of calling `frame.insert` many times, which has poor performance.  Consider joining all columns at once using pd.concat(axis=1) instead. To get a de-fragmented frame, use `newframe = frame.copy()`\n",
      "  df[col_name] = np.where(df[col] == value, 1, 0)\n",
      "/tmp/ipykernel_122064/2585726239.py:8: PerformanceWarning: DataFrame is highly fragmented.  This is usually the result of calling `frame.insert` many times, which has poor performance.  Consider joining all columns at once using pd.concat(axis=1) instead. To get a de-fragmented frame, use `newframe = frame.copy()`\n",
      "  df[col_name] = np.where(df[col] == value, 1, 0)\n",
      "/tmp/ipykernel_122064/2585726239.py:8: PerformanceWarning: DataFrame is highly fragmented.  This is usually the result of calling `frame.insert` many times, which has poor performance.  Consider joining all columns at once using pd.concat(axis=1) instead. To get a de-fragmented frame, use `newframe = frame.copy()`\n",
      "  df[col_name] = np.where(df[col] == value, 1, 0)\n",
      "/tmp/ipykernel_122064/2585726239.py:8: PerformanceWarning: DataFrame is highly fragmented.  This is usually the result of calling `frame.insert` many times, which has poor performance.  Consider joining all columns at once using pd.concat(axis=1) instead. To get a de-fragmented frame, use `newframe = frame.copy()`\n",
      "  df[col_name] = np.where(df[col] == value, 1, 0)\n",
      "/tmp/ipykernel_122064/2585726239.py:8: PerformanceWarning: DataFrame is highly fragmented.  This is usually the result of calling `frame.insert` many times, which has poor performance.  Consider joining all columns at once using pd.concat(axis=1) instead. To get a de-fragmented frame, use `newframe = frame.copy()`\n",
      "  df[col_name] = np.where(df[col] == value, 1, 0)\n",
      "/tmp/ipykernel_122064/2585726239.py:8: PerformanceWarning: DataFrame is highly fragmented.  This is usually the result of calling `frame.insert` many times, which has poor performance.  Consider joining all columns at once using pd.concat(axis=1) instead. To get a de-fragmented frame, use `newframe = frame.copy()`\n",
      "  df[col_name] = np.where(df[col] == value, 1, 0)\n",
      "/tmp/ipykernel_122064/2585726239.py:8: PerformanceWarning: DataFrame is highly fragmented.  This is usually the result of calling `frame.insert` many times, which has poor performance.  Consider joining all columns at once using pd.concat(axis=1) instead. To get a de-fragmented frame, use `newframe = frame.copy()`\n",
      "  df[col_name] = np.where(df[col] == value, 1, 0)\n",
      "/tmp/ipykernel_122064/2585726239.py:8: PerformanceWarning: DataFrame is highly fragmented.  This is usually the result of calling `frame.insert` many times, which has poor performance.  Consider joining all columns at once using pd.concat(axis=1) instead. To get a de-fragmented frame, use `newframe = frame.copy()`\n",
      "  df[col_name] = np.where(df[col] == value, 1, 0)\n",
      "/tmp/ipykernel_122064/2585726239.py:8: PerformanceWarning: DataFrame is highly fragmented.  This is usually the result of calling `frame.insert` many times, which has poor performance.  Consider joining all columns at once using pd.concat(axis=1) instead. To get a de-fragmented frame, use `newframe = frame.copy()`\n",
      "  df[col_name] = np.where(df[col] == value, 1, 0)\n",
      "/tmp/ipykernel_122064/2585726239.py:8: PerformanceWarning: DataFrame is highly fragmented.  This is usually the result of calling `frame.insert` many times, which has poor performance.  Consider joining all columns at once using pd.concat(axis=1) instead. To get a de-fragmented frame, use `newframe = frame.copy()`\n",
      "  df[col_name] = np.where(df[col] == value, 1, 0)\n",
      "/tmp/ipykernel_122064/2585726239.py:8: PerformanceWarning: DataFrame is highly fragmented.  This is usually the result of calling `frame.insert` many times, which has poor performance.  Consider joining all columns at once using pd.concat(axis=1) instead. To get a de-fragmented frame, use `newframe = frame.copy()`\n",
      "  df[col_name] = np.where(df[col] == value, 1, 0)\n",
      "/tmp/ipykernel_122064/2585726239.py:8: PerformanceWarning: DataFrame is highly fragmented.  This is usually the result of calling `frame.insert` many times, which has poor performance.  Consider joining all columns at once using pd.concat(axis=1) instead. To get a de-fragmented frame, use `newframe = frame.copy()`\n",
      "  df[col_name] = np.where(df[col] == value, 1, 0)\n",
      "/tmp/ipykernel_122064/2585726239.py:8: PerformanceWarning: DataFrame is highly fragmented.  This is usually the result of calling `frame.insert` many times, which has poor performance.  Consider joining all columns at once using pd.concat(axis=1) instead. To get a de-fragmented frame, use `newframe = frame.copy()`\n",
      "  df[col_name] = np.where(df[col] == value, 1, 0)\n",
      "/tmp/ipykernel_122064/2585726239.py:8: PerformanceWarning: DataFrame is highly fragmented.  This is usually the result of calling `frame.insert` many times, which has poor performance.  Consider joining all columns at once using pd.concat(axis=1) instead. To get a de-fragmented frame, use `newframe = frame.copy()`\n",
      "  df[col_name] = np.where(df[col] == value, 1, 0)\n",
      "/tmp/ipykernel_122064/2585726239.py:8: PerformanceWarning: DataFrame is highly fragmented.  This is usually the result of calling `frame.insert` many times, which has poor performance.  Consider joining all columns at once using pd.concat(axis=1) instead. To get a de-fragmented frame, use `newframe = frame.copy()`\n",
      "  df[col_name] = np.where(df[col] == value, 1, 0)\n",
      "/tmp/ipykernel_122064/2585726239.py:8: PerformanceWarning: DataFrame is highly fragmented.  This is usually the result of calling `frame.insert` many times, which has poor performance.  Consider joining all columns at once using pd.concat(axis=1) instead. To get a de-fragmented frame, use `newframe = frame.copy()`\n",
      "  df[col_name] = np.where(df[col] == value, 1, 0)\n",
      "/tmp/ipykernel_122064/2585726239.py:8: PerformanceWarning: DataFrame is highly fragmented.  This is usually the result of calling `frame.insert` many times, which has poor performance.  Consider joining all columns at once using pd.concat(axis=1) instead. To get a de-fragmented frame, use `newframe = frame.copy()`\n",
      "  df[col_name] = np.where(df[col] == value, 1, 0)\n",
      "/tmp/ipykernel_122064/2585726239.py:8: PerformanceWarning: DataFrame is highly fragmented.  This is usually the result of calling `frame.insert` many times, which has poor performance.  Consider joining all columns at once using pd.concat(axis=1) instead. To get a de-fragmented frame, use `newframe = frame.copy()`\n",
      "  df[col_name] = np.where(df[col] == value, 1, 0)\n",
      "/tmp/ipykernel_122064/2585726239.py:8: PerformanceWarning: DataFrame is highly fragmented.  This is usually the result of calling `frame.insert` many times, which has poor performance.  Consider joining all columns at once using pd.concat(axis=1) instead. To get a de-fragmented frame, use `newframe = frame.copy()`\n",
      "  df[col_name] = np.where(df[col] == value, 1, 0)\n",
      "/tmp/ipykernel_122064/2585726239.py:8: PerformanceWarning: DataFrame is highly fragmented.  This is usually the result of calling `frame.insert` many times, which has poor performance.  Consider joining all columns at once using pd.concat(axis=1) instead. To get a de-fragmented frame, use `newframe = frame.copy()`\n",
      "  df[col_name] = np.where(df[col] == value, 1, 0)\n",
      "/tmp/ipykernel_122064/2585726239.py:8: PerformanceWarning: DataFrame is highly fragmented.  This is usually the result of calling `frame.insert` many times, which has poor performance.  Consider joining all columns at once using pd.concat(axis=1) instead. To get a de-fragmented frame, use `newframe = frame.copy()`\n",
      "  df[col_name] = np.where(df[col] == value, 1, 0)\n",
      "/tmp/ipykernel_122064/2585726239.py:8: PerformanceWarning: DataFrame is highly fragmented.  This is usually the result of calling `frame.insert` many times, which has poor performance.  Consider joining all columns at once using pd.concat(axis=1) instead. To get a de-fragmented frame, use `newframe = frame.copy()`\n",
      "  df[col_name] = np.where(df[col] == value, 1, 0)\n",
      "/tmp/ipykernel_122064/2585726239.py:8: PerformanceWarning: DataFrame is highly fragmented.  This is usually the result of calling `frame.insert` many times, which has poor performance.  Consider joining all columns at once using pd.concat(axis=1) instead. To get a de-fragmented frame, use `newframe = frame.copy()`\n",
      "  df[col_name] = np.where(df[col] == value, 1, 0)\n",
      "/tmp/ipykernel_122064/2585726239.py:8: PerformanceWarning: DataFrame is highly fragmented.  This is usually the result of calling `frame.insert` many times, which has poor performance.  Consider joining all columns at once using pd.concat(axis=1) instead. To get a de-fragmented frame, use `newframe = frame.copy()`\n",
      "  df[col_name] = np.where(df[col] == value, 1, 0)\n",
      "/tmp/ipykernel_122064/2585726239.py:8: PerformanceWarning: DataFrame is highly fragmented.  This is usually the result of calling `frame.insert` many times, which has poor performance.  Consider joining all columns at once using pd.concat(axis=1) instead. To get a de-fragmented frame, use `newframe = frame.copy()`\n",
      "  df[col_name] = np.where(df[col] == value, 1, 0)\n",
      "/tmp/ipykernel_122064/2585726239.py:8: PerformanceWarning: DataFrame is highly fragmented.  This is usually the result of calling `frame.insert` many times, which has poor performance.  Consider joining all columns at once using pd.concat(axis=1) instead. To get a de-fragmented frame, use `newframe = frame.copy()`\n",
      "  df[col_name] = np.where(df[col] == value, 1, 0)\n",
      "/tmp/ipykernel_122064/2585726239.py:8: PerformanceWarning: DataFrame is highly fragmented.  This is usually the result of calling `frame.insert` many times, which has poor performance.  Consider joining all columns at once using pd.concat(axis=1) instead. To get a de-fragmented frame, use `newframe = frame.copy()`\n",
      "  df[col_name] = np.where(df[col] == value, 1, 0)\n",
      "/tmp/ipykernel_122064/2585726239.py:8: PerformanceWarning: DataFrame is highly fragmented.  This is usually the result of calling `frame.insert` many times, which has poor performance.  Consider joining all columns at once using pd.concat(axis=1) instead. To get a de-fragmented frame, use `newframe = frame.copy()`\n",
      "  df[col_name] = np.where(df[col] == value, 1, 0)\n",
      "/tmp/ipykernel_122064/2585726239.py:8: PerformanceWarning: DataFrame is highly fragmented.  This is usually the result of calling `frame.insert` many times, which has poor performance.  Consider joining all columns at once using pd.concat(axis=1) instead. To get a de-fragmented frame, use `newframe = frame.copy()`\n",
      "  df[col_name] = np.where(df[col] == value, 1, 0)\n",
      "/tmp/ipykernel_122064/2585726239.py:8: PerformanceWarning: DataFrame is highly fragmented.  This is usually the result of calling `frame.insert` many times, which has poor performance.  Consider joining all columns at once using pd.concat(axis=1) instead. To get a de-fragmented frame, use `newframe = frame.copy()`\n",
      "  df[col_name] = np.where(df[col] == value, 1, 0)\n",
      "/tmp/ipykernel_122064/2585726239.py:8: PerformanceWarning: DataFrame is highly fragmented.  This is usually the result of calling `frame.insert` many times, which has poor performance.  Consider joining all columns at once using pd.concat(axis=1) instead. To get a de-fragmented frame, use `newframe = frame.copy()`\n",
      "  df[col_name] = np.where(df[col] == value, 1, 0)\n",
      "/tmp/ipykernel_122064/2585726239.py:8: PerformanceWarning: DataFrame is highly fragmented.  This is usually the result of calling `frame.insert` many times, which has poor performance.  Consider joining all columns at once using pd.concat(axis=1) instead. To get a de-fragmented frame, use `newframe = frame.copy()`\n",
      "  df[col_name] = np.where(df[col] == value, 1, 0)\n",
      "/tmp/ipykernel_122064/2585726239.py:8: PerformanceWarning: DataFrame is highly fragmented.  This is usually the result of calling `frame.insert` many times, which has poor performance.  Consider joining all columns at once using pd.concat(axis=1) instead. To get a de-fragmented frame, use `newframe = frame.copy()`\n",
      "  df[col_name] = np.where(df[col] == value, 1, 0)\n",
      "/tmp/ipykernel_122064/2585726239.py:8: PerformanceWarning: DataFrame is highly fragmented.  This is usually the result of calling `frame.insert` many times, which has poor performance.  Consider joining all columns at once using pd.concat(axis=1) instead. To get a de-fragmented frame, use `newframe = frame.copy()`\n",
      "  df[col_name] = np.where(df[col] == value, 1, 0)\n",
      "/tmp/ipykernel_122064/2585726239.py:8: PerformanceWarning: DataFrame is highly fragmented.  This is usually the result of calling `frame.insert` many times, which has poor performance.  Consider joining all columns at once using pd.concat(axis=1) instead. To get a de-fragmented frame, use `newframe = frame.copy()`\n",
      "  df[col_name] = np.where(df[col] == value, 1, 0)\n",
      "/tmp/ipykernel_122064/2585726239.py:8: PerformanceWarning: DataFrame is highly fragmented.  This is usually the result of calling `frame.insert` many times, which has poor performance.  Consider joining all columns at once using pd.concat(axis=1) instead. To get a de-fragmented frame, use `newframe = frame.copy()`\n",
      "  df[col_name] = np.where(df[col] == value, 1, 0)\n",
      "/tmp/ipykernel_122064/2585726239.py:8: PerformanceWarning: DataFrame is highly fragmented.  This is usually the result of calling `frame.insert` many times, which has poor performance.  Consider joining all columns at once using pd.concat(axis=1) instead. To get a de-fragmented frame, use `newframe = frame.copy()`\n",
      "  df[col_name] = np.where(df[col] == value, 1, 0)\n",
      "/tmp/ipykernel_122064/2585726239.py:8: PerformanceWarning: DataFrame is highly fragmented.  This is usually the result of calling `frame.insert` many times, which has poor performance.  Consider joining all columns at once using pd.concat(axis=1) instead. To get a de-fragmented frame, use `newframe = frame.copy()`\n",
      "  df[col_name] = np.where(df[col] == value, 1, 0)\n",
      "/tmp/ipykernel_122064/2585726239.py:8: PerformanceWarning: DataFrame is highly fragmented.  This is usually the result of calling `frame.insert` many times, which has poor performance.  Consider joining all columns at once using pd.concat(axis=1) instead. To get a de-fragmented frame, use `newframe = frame.copy()`\n",
      "  df[col_name] = np.where(df[col] == value, 1, 0)\n",
      "/tmp/ipykernel_122064/2585726239.py:8: PerformanceWarning: DataFrame is highly fragmented.  This is usually the result of calling `frame.insert` many times, which has poor performance.  Consider joining all columns at once using pd.concat(axis=1) instead. To get a de-fragmented frame, use `newframe = frame.copy()`\n",
      "  df[col_name] = np.where(df[col] == value, 1, 0)\n",
      "/tmp/ipykernel_122064/2585726239.py:8: PerformanceWarning: DataFrame is highly fragmented.  This is usually the result of calling `frame.insert` many times, which has poor performance.  Consider joining all columns at once using pd.concat(axis=1) instead. To get a de-fragmented frame, use `newframe = frame.copy()`\n",
      "  df[col_name] = np.where(df[col] == value, 1, 0)\n",
      "/tmp/ipykernel_122064/2585726239.py:8: PerformanceWarning: DataFrame is highly fragmented.  This is usually the result of calling `frame.insert` many times, which has poor performance.  Consider joining all columns at once using pd.concat(axis=1) instead. To get a de-fragmented frame, use `newframe = frame.copy()`\n",
      "  df[col_name] = np.where(df[col] == value, 1, 0)\n",
      "/tmp/ipykernel_122064/2585726239.py:8: PerformanceWarning: DataFrame is highly fragmented.  This is usually the result of calling `frame.insert` many times, which has poor performance.  Consider joining all columns at once using pd.concat(axis=1) instead. To get a de-fragmented frame, use `newframe = frame.copy()`\n",
      "  df[col_name] = np.where(df[col] == value, 1, 0)\n",
      "/tmp/ipykernel_122064/2585726239.py:8: PerformanceWarning: DataFrame is highly fragmented.  This is usually the result of calling `frame.insert` many times, which has poor performance.  Consider joining all columns at once using pd.concat(axis=1) instead. To get a de-fragmented frame, use `newframe = frame.copy()`\n",
      "  df[col_name] = np.where(df[col] == value, 1, 0)\n",
      "/tmp/ipykernel_122064/2585726239.py:8: PerformanceWarning: DataFrame is highly fragmented.  This is usually the result of calling `frame.insert` many times, which has poor performance.  Consider joining all columns at once using pd.concat(axis=1) instead. To get a de-fragmented frame, use `newframe = frame.copy()`\n",
      "  df[col_name] = np.where(df[col] == value, 1, 0)\n",
      "/tmp/ipykernel_122064/2585726239.py:8: PerformanceWarning: DataFrame is highly fragmented.  This is usually the result of calling `frame.insert` many times, which has poor performance.  Consider joining all columns at once using pd.concat(axis=1) instead. To get a de-fragmented frame, use `newframe = frame.copy()`\n",
      "  df[col_name] = np.where(df[col] == value, 1, 0)\n",
      "/tmp/ipykernel_122064/2585726239.py:8: PerformanceWarning: DataFrame is highly fragmented.  This is usually the result of calling `frame.insert` many times, which has poor performance.  Consider joining all columns at once using pd.concat(axis=1) instead. To get a de-fragmented frame, use `newframe = frame.copy()`\n",
      "  df[col_name] = np.where(df[col] == value, 1, 0)\n",
      "/tmp/ipykernel_122064/2585726239.py:8: PerformanceWarning: DataFrame is highly fragmented.  This is usually the result of calling `frame.insert` many times, which has poor performance.  Consider joining all columns at once using pd.concat(axis=1) instead. To get a de-fragmented frame, use `newframe = frame.copy()`\n",
      "  df[col_name] = np.where(df[col] == value, 1, 0)\n",
      "/tmp/ipykernel_122064/2585726239.py:8: PerformanceWarning: DataFrame is highly fragmented.  This is usually the result of calling `frame.insert` many times, which has poor performance.  Consider joining all columns at once using pd.concat(axis=1) instead. To get a de-fragmented frame, use `newframe = frame.copy()`\n",
      "  df[col_name] = np.where(df[col] == value, 1, 0)\n",
      "/tmp/ipykernel_122064/2585726239.py:8: PerformanceWarning: DataFrame is highly fragmented.  This is usually the result of calling `frame.insert` many times, which has poor performance.  Consider joining all columns at once using pd.concat(axis=1) instead. To get a de-fragmented frame, use `newframe = frame.copy()`\n",
      "  df[col_name] = np.where(df[col] == value, 1, 0)\n",
      "/tmp/ipykernel_122064/2585726239.py:8: PerformanceWarning: DataFrame is highly fragmented.  This is usually the result of calling `frame.insert` many times, which has poor performance.  Consider joining all columns at once using pd.concat(axis=1) instead. To get a de-fragmented frame, use `newframe = frame.copy()`\n",
      "  df[col_name] = np.where(df[col] == value, 1, 0)\n",
      "/tmp/ipykernel_122064/2585726239.py:8: PerformanceWarning: DataFrame is highly fragmented.  This is usually the result of calling `frame.insert` many times, which has poor performance.  Consider joining all columns at once using pd.concat(axis=1) instead. To get a de-fragmented frame, use `newframe = frame.copy()`\n",
      "  df[col_name] = np.where(df[col] == value, 1, 0)\n",
      "/tmp/ipykernel_122064/2585726239.py:8: PerformanceWarning: DataFrame is highly fragmented.  This is usually the result of calling `frame.insert` many times, which has poor performance.  Consider joining all columns at once using pd.concat(axis=1) instead. To get a de-fragmented frame, use `newframe = frame.copy()`\n",
      "  df[col_name] = np.where(df[col] == value, 1, 0)\n",
      "/tmp/ipykernel_122064/2585726239.py:8: PerformanceWarning: DataFrame is highly fragmented.  This is usually the result of calling `frame.insert` many times, which has poor performance.  Consider joining all columns at once using pd.concat(axis=1) instead. To get a de-fragmented frame, use `newframe = frame.copy()`\n",
      "  df[col_name] = np.where(df[col] == value, 1, 0)\n",
      "/tmp/ipykernel_122064/2585726239.py:8: PerformanceWarning: DataFrame is highly fragmented.  This is usually the result of calling `frame.insert` many times, which has poor performance.  Consider joining all columns at once using pd.concat(axis=1) instead. To get a de-fragmented frame, use `newframe = frame.copy()`\n",
      "  df[col_name] = np.where(df[col] == value, 1, 0)\n",
      "/tmp/ipykernel_122064/2585726239.py:8: PerformanceWarning: DataFrame is highly fragmented.  This is usually the result of calling `frame.insert` many times, which has poor performance.  Consider joining all columns at once using pd.concat(axis=1) instead. To get a de-fragmented frame, use `newframe = frame.copy()`\n",
      "  df[col_name] = np.where(df[col] == value, 1, 0)\n",
      "/tmp/ipykernel_122064/2585726239.py:8: PerformanceWarning: DataFrame is highly fragmented.  This is usually the result of calling `frame.insert` many times, which has poor performance.  Consider joining all columns at once using pd.concat(axis=1) instead. To get a de-fragmented frame, use `newframe = frame.copy()`\n",
      "  df[col_name] = np.where(df[col] == value, 1, 0)\n",
      "/tmp/ipykernel_122064/2585726239.py:8: PerformanceWarning: DataFrame is highly fragmented.  This is usually the result of calling `frame.insert` many times, which has poor performance.  Consider joining all columns at once using pd.concat(axis=1) instead. To get a de-fragmented frame, use `newframe = frame.copy()`\n",
      "  df[col_name] = np.where(df[col] == value, 1, 0)\n",
      "/tmp/ipykernel_122064/2585726239.py:8: PerformanceWarning: DataFrame is highly fragmented.  This is usually the result of calling `frame.insert` many times, which has poor performance.  Consider joining all columns at once using pd.concat(axis=1) instead. To get a de-fragmented frame, use `newframe = frame.copy()`\n",
      "  df[col_name] = np.where(df[col] == value, 1, 0)\n",
      "/tmp/ipykernel_122064/2585726239.py:8: PerformanceWarning: DataFrame is highly fragmented.  This is usually the result of calling `frame.insert` many times, which has poor performance.  Consider joining all columns at once using pd.concat(axis=1) instead. To get a de-fragmented frame, use `newframe = frame.copy()`\n",
      "  df[col_name] = np.where(df[col] == value, 1, 0)\n",
      "/tmp/ipykernel_122064/2585726239.py:8: PerformanceWarning: DataFrame is highly fragmented.  This is usually the result of calling `frame.insert` many times, which has poor performance.  Consider joining all columns at once using pd.concat(axis=1) instead. To get a de-fragmented frame, use `newframe = frame.copy()`\n",
      "  df[col_name] = np.where(df[col] == value, 1, 0)\n",
      "/tmp/ipykernel_122064/2585726239.py:8: PerformanceWarning: DataFrame is highly fragmented.  This is usually the result of calling `frame.insert` many times, which has poor performance.  Consider joining all columns at once using pd.concat(axis=1) instead. To get a de-fragmented frame, use `newframe = frame.copy()`\n",
      "  df[col_name] = np.where(df[col] == value, 1, 0)\n",
      "/tmp/ipykernel_122064/2585726239.py:8: PerformanceWarning: DataFrame is highly fragmented.  This is usually the result of calling `frame.insert` many times, which has poor performance.  Consider joining all columns at once using pd.concat(axis=1) instead. To get a de-fragmented frame, use `newframe = frame.copy()`\n",
      "  df[col_name] = np.where(df[col] == value, 1, 0)\n",
      "/tmp/ipykernel_122064/2585726239.py:8: PerformanceWarning: DataFrame is highly fragmented.  This is usually the result of calling `frame.insert` many times, which has poor performance.  Consider joining all columns at once using pd.concat(axis=1) instead. To get a de-fragmented frame, use `newframe = frame.copy()`\n",
      "  df[col_name] = np.where(df[col] == value, 1, 0)\n",
      "/tmp/ipykernel_122064/2585726239.py:8: PerformanceWarning: DataFrame is highly fragmented.  This is usually the result of calling `frame.insert` many times, which has poor performance.  Consider joining all columns at once using pd.concat(axis=1) instead. To get a de-fragmented frame, use `newframe = frame.copy()`\n",
      "  df[col_name] = np.where(df[col] == value, 1, 0)\n",
      "/tmp/ipykernel_122064/2585726239.py:8: PerformanceWarning: DataFrame is highly fragmented.  This is usually the result of calling `frame.insert` many times, which has poor performance.  Consider joining all columns at once using pd.concat(axis=1) instead. To get a de-fragmented frame, use `newframe = frame.copy()`\n",
      "  df[col_name] = np.where(df[col] == value, 1, 0)\n",
      "/tmp/ipykernel_122064/2585726239.py:8: PerformanceWarning: DataFrame is highly fragmented.  This is usually the result of calling `frame.insert` many times, which has poor performance.  Consider joining all columns at once using pd.concat(axis=1) instead. To get a de-fragmented frame, use `newframe = frame.copy()`\n",
      "  df[col_name] = np.where(df[col] == value, 1, 0)\n",
      "/tmp/ipykernel_122064/2585726239.py:8: PerformanceWarning: DataFrame is highly fragmented.  This is usually the result of calling `frame.insert` many times, which has poor performance.  Consider joining all columns at once using pd.concat(axis=1) instead. To get a de-fragmented frame, use `newframe = frame.copy()`\n",
      "  df[col_name] = np.where(df[col] == value, 1, 0)\n",
      "/tmp/ipykernel_122064/2585726239.py:8: PerformanceWarning: DataFrame is highly fragmented.  This is usually the result of calling `frame.insert` many times, which has poor performance.  Consider joining all columns at once using pd.concat(axis=1) instead. To get a de-fragmented frame, use `newframe = frame.copy()`\n",
      "  df[col_name] = np.where(df[col] == value, 1, 0)\n",
      "/tmp/ipykernel_122064/2585726239.py:8: PerformanceWarning: DataFrame is highly fragmented.  This is usually the result of calling `frame.insert` many times, which has poor performance.  Consider joining all columns at once using pd.concat(axis=1) instead. To get a de-fragmented frame, use `newframe = frame.copy()`\n",
      "  df[col_name] = np.where(df[col] == value, 1, 0)\n",
      "/tmp/ipykernel_122064/2585726239.py:8: PerformanceWarning: DataFrame is highly fragmented.  This is usually the result of calling `frame.insert` many times, which has poor performance.  Consider joining all columns at once using pd.concat(axis=1) instead. To get a de-fragmented frame, use `newframe = frame.copy()`\n",
      "  df[col_name] = np.where(df[col] == value, 1, 0)\n",
      "/tmp/ipykernel_122064/2585726239.py:8: PerformanceWarning: DataFrame is highly fragmented.  This is usually the result of calling `frame.insert` many times, which has poor performance.  Consider joining all columns at once using pd.concat(axis=1) instead. To get a de-fragmented frame, use `newframe = frame.copy()`\n",
      "  df[col_name] = np.where(df[col] == value, 1, 0)\n",
      "/tmp/ipykernel_122064/2585726239.py:8: PerformanceWarning: DataFrame is highly fragmented.  This is usually the result of calling `frame.insert` many times, which has poor performance.  Consider joining all columns at once using pd.concat(axis=1) instead. To get a de-fragmented frame, use `newframe = frame.copy()`\n",
      "  df[col_name] = np.where(df[col] == value, 1, 0)\n",
      "/tmp/ipykernel_122064/2585726239.py:8: PerformanceWarning: DataFrame is highly fragmented.  This is usually the result of calling `frame.insert` many times, which has poor performance.  Consider joining all columns at once using pd.concat(axis=1) instead. To get a de-fragmented frame, use `newframe = frame.copy()`\n",
      "  df[col_name] = np.where(df[col] == value, 1, 0)\n",
      "/tmp/ipykernel_122064/2585726239.py:8: PerformanceWarning: DataFrame is highly fragmented.  This is usually the result of calling `frame.insert` many times, which has poor performance.  Consider joining all columns at once using pd.concat(axis=1) instead. To get a de-fragmented frame, use `newframe = frame.copy()`\n",
      "  df[col_name] = np.where(df[col] == value, 1, 0)\n",
      "/tmp/ipykernel_122064/2585726239.py:8: PerformanceWarning: DataFrame is highly fragmented.  This is usually the result of calling `frame.insert` many times, which has poor performance.  Consider joining all columns at once using pd.concat(axis=1) instead. To get a de-fragmented frame, use `newframe = frame.copy()`\n",
      "  df[col_name] = np.where(df[col] == value, 1, 0)\n",
      "/tmp/ipykernel_122064/2585726239.py:8: PerformanceWarning: DataFrame is highly fragmented.  This is usually the result of calling `frame.insert` many times, which has poor performance.  Consider joining all columns at once using pd.concat(axis=1) instead. To get a de-fragmented frame, use `newframe = frame.copy()`\n",
      "  df[col_name] = np.where(df[col] == value, 1, 0)\n",
      "/tmp/ipykernel_122064/2585726239.py:8: PerformanceWarning: DataFrame is highly fragmented.  This is usually the result of calling `frame.insert` many times, which has poor performance.  Consider joining all columns at once using pd.concat(axis=1) instead. To get a de-fragmented frame, use `newframe = frame.copy()`\n",
      "  df[col_name] = np.where(df[col] == value, 1, 0)\n",
      "/tmp/ipykernel_122064/2585726239.py:8: PerformanceWarning: DataFrame is highly fragmented.  This is usually the result of calling `frame.insert` many times, which has poor performance.  Consider joining all columns at once using pd.concat(axis=1) instead. To get a de-fragmented frame, use `newframe = frame.copy()`\n",
      "  df[col_name] = np.where(df[col] == value, 1, 0)\n",
      "/tmp/ipykernel_122064/2585726239.py:8: PerformanceWarning: DataFrame is highly fragmented.  This is usually the result of calling `frame.insert` many times, which has poor performance.  Consider joining all columns at once using pd.concat(axis=1) instead. To get a de-fragmented frame, use `newframe = frame.copy()`\n",
      "  df[col_name] = np.where(df[col] == value, 1, 0)\n",
      "/tmp/ipykernel_122064/2585726239.py:8: PerformanceWarning: DataFrame is highly fragmented.  This is usually the result of calling `frame.insert` many times, which has poor performance.  Consider joining all columns at once using pd.concat(axis=1) instead. To get a de-fragmented frame, use `newframe = frame.copy()`\n",
      "  df[col_name] = np.where(df[col] == value, 1, 0)\n",
      "/tmp/ipykernel_122064/2585726239.py:8: PerformanceWarning: DataFrame is highly fragmented.  This is usually the result of calling `frame.insert` many times, which has poor performance.  Consider joining all columns at once using pd.concat(axis=1) instead. To get a de-fragmented frame, use `newframe = frame.copy()`\n",
      "  df[col_name] = np.where(df[col] == value, 1, 0)\n",
      "/tmp/ipykernel_122064/2585726239.py:8: PerformanceWarning: DataFrame is highly fragmented.  This is usually the result of calling `frame.insert` many times, which has poor performance.  Consider joining all columns at once using pd.concat(axis=1) instead. To get a de-fragmented frame, use `newframe = frame.copy()`\n",
      "  df[col_name] = np.where(df[col] == value, 1, 0)\n",
      "/tmp/ipykernel_122064/2585726239.py:8: PerformanceWarning: DataFrame is highly fragmented.  This is usually the result of calling `frame.insert` many times, which has poor performance.  Consider joining all columns at once using pd.concat(axis=1) instead. To get a de-fragmented frame, use `newframe = frame.copy()`\n",
      "  df[col_name] = np.where(df[col] == value, 1, 0)\n",
      "/tmp/ipykernel_122064/2585726239.py:8: PerformanceWarning: DataFrame is highly fragmented.  This is usually the result of calling `frame.insert` many times, which has poor performance.  Consider joining all columns at once using pd.concat(axis=1) instead. To get a de-fragmented frame, use `newframe = frame.copy()`\n",
      "  df[col_name] = np.where(df[col] == value, 1, 0)\n",
      "/tmp/ipykernel_122064/2585726239.py:8: PerformanceWarning: DataFrame is highly fragmented.  This is usually the result of calling `frame.insert` many times, which has poor performance.  Consider joining all columns at once using pd.concat(axis=1) instead. To get a de-fragmented frame, use `newframe = frame.copy()`\n",
      "  df[col_name] = np.where(df[col] == value, 1, 0)\n",
      "/tmp/ipykernel_122064/2585726239.py:8: PerformanceWarning: DataFrame is highly fragmented.  This is usually the result of calling `frame.insert` many times, which has poor performance.  Consider joining all columns at once using pd.concat(axis=1) instead. To get a de-fragmented frame, use `newframe = frame.copy()`\n",
      "  df[col_name] = np.where(df[col] == value, 1, 0)\n",
      "/tmp/ipykernel_122064/2585726239.py:8: PerformanceWarning: DataFrame is highly fragmented.  This is usually the result of calling `frame.insert` many times, which has poor performance.  Consider joining all columns at once using pd.concat(axis=1) instead. To get a de-fragmented frame, use `newframe = frame.copy()`\n",
      "  df[col_name] = np.where(df[col] == value, 1, 0)\n",
      "/tmp/ipykernel_122064/2585726239.py:8: PerformanceWarning: DataFrame is highly fragmented.  This is usually the result of calling `frame.insert` many times, which has poor performance.  Consider joining all columns at once using pd.concat(axis=1) instead. To get a de-fragmented frame, use `newframe = frame.copy()`\n",
      "  df[col_name] = np.where(df[col] == value, 1, 0)\n",
      "/tmp/ipykernel_122064/2585726239.py:8: PerformanceWarning: DataFrame is highly fragmented.  This is usually the result of calling `frame.insert` many times, which has poor performance.  Consider joining all columns at once using pd.concat(axis=1) instead. To get a de-fragmented frame, use `newframe = frame.copy()`\n",
      "  df[col_name] = np.where(df[col] == value, 1, 0)\n",
      "/tmp/ipykernel_122064/2585726239.py:8: PerformanceWarning: DataFrame is highly fragmented.  This is usually the result of calling `frame.insert` many times, which has poor performance.  Consider joining all columns at once using pd.concat(axis=1) instead. To get a de-fragmented frame, use `newframe = frame.copy()`\n",
      "  df[col_name] = np.where(df[col] == value, 1, 0)\n",
      "/tmp/ipykernel_122064/2585726239.py:8: PerformanceWarning: DataFrame is highly fragmented.  This is usually the result of calling `frame.insert` many times, which has poor performance.  Consider joining all columns at once using pd.concat(axis=1) instead. To get a de-fragmented frame, use `newframe = frame.copy()`\n",
      "  df[col_name] = np.where(df[col] == value, 1, 0)\n",
      "/tmp/ipykernel_122064/2585726239.py:8: PerformanceWarning: DataFrame is highly fragmented.  This is usually the result of calling `frame.insert` many times, which has poor performance.  Consider joining all columns at once using pd.concat(axis=1) instead. To get a de-fragmented frame, use `newframe = frame.copy()`\n",
      "  df[col_name] = np.where(df[col] == value, 1, 0)\n",
      "/tmp/ipykernel_122064/2585726239.py:8: PerformanceWarning: DataFrame is highly fragmented.  This is usually the result of calling `frame.insert` many times, which has poor performance.  Consider joining all columns at once using pd.concat(axis=1) instead. To get a de-fragmented frame, use `newframe = frame.copy()`\n",
      "  df[col_name] = np.where(df[col] == value, 1, 0)\n",
      "/tmp/ipykernel_122064/2585726239.py:8: PerformanceWarning: DataFrame is highly fragmented.  This is usually the result of calling `frame.insert` many times, which has poor performance.  Consider joining all columns at once using pd.concat(axis=1) instead. To get a de-fragmented frame, use `newframe = frame.copy()`\n",
      "  df[col_name] = np.where(df[col] == value, 1, 0)\n",
      "/tmp/ipykernel_122064/2585726239.py:8: PerformanceWarning: DataFrame is highly fragmented.  This is usually the result of calling `frame.insert` many times, which has poor performance.  Consider joining all columns at once using pd.concat(axis=1) instead. To get a de-fragmented frame, use `newframe = frame.copy()`\n",
      "  df[col_name] = np.where(df[col] == value, 1, 0)\n",
      "/tmp/ipykernel_122064/2585726239.py:8: PerformanceWarning: DataFrame is highly fragmented.  This is usually the result of calling `frame.insert` many times, which has poor performance.  Consider joining all columns at once using pd.concat(axis=1) instead. To get a de-fragmented frame, use `newframe = frame.copy()`\n",
      "  df[col_name] = np.where(df[col] == value, 1, 0)\n",
      "/tmp/ipykernel_122064/2585726239.py:8: PerformanceWarning: DataFrame is highly fragmented.  This is usually the result of calling `frame.insert` many times, which has poor performance.  Consider joining all columns at once using pd.concat(axis=1) instead. To get a de-fragmented frame, use `newframe = frame.copy()`\n",
      "  df[col_name] = np.where(df[col] == value, 1, 0)\n",
      "/tmp/ipykernel_122064/2585726239.py:8: PerformanceWarning: DataFrame is highly fragmented.  This is usually the result of calling `frame.insert` many times, which has poor performance.  Consider joining all columns at once using pd.concat(axis=1) instead. To get a de-fragmented frame, use `newframe = frame.copy()`\n",
      "  df[col_name] = np.where(df[col] == value, 1, 0)\n",
      "/tmp/ipykernel_122064/2585726239.py:8: PerformanceWarning: DataFrame is highly fragmented.  This is usually the result of calling `frame.insert` many times, which has poor performance.  Consider joining all columns at once using pd.concat(axis=1) instead. To get a de-fragmented frame, use `newframe = frame.copy()`\n",
      "  df[col_name] = np.where(df[col] == value, 1, 0)\n",
      "/tmp/ipykernel_122064/2585726239.py:8: PerformanceWarning: DataFrame is highly fragmented.  This is usually the result of calling `frame.insert` many times, which has poor performance.  Consider joining all columns at once using pd.concat(axis=1) instead. To get a de-fragmented frame, use `newframe = frame.copy()`\n",
      "  df[col_name] = np.where(df[col] == value, 1, 0)\n",
      "/tmp/ipykernel_122064/2585726239.py:8: PerformanceWarning: DataFrame is highly fragmented.  This is usually the result of calling `frame.insert` many times, which has poor performance.  Consider joining all columns at once using pd.concat(axis=1) instead. To get a de-fragmented frame, use `newframe = frame.copy()`\n",
      "  df[col_name] = np.where(df[col] == value, 1, 0)\n",
      "/tmp/ipykernel_122064/2585726239.py:8: PerformanceWarning: DataFrame is highly fragmented.  This is usually the result of calling `frame.insert` many times, which has poor performance.  Consider joining all columns at once using pd.concat(axis=1) instead. To get a de-fragmented frame, use `newframe = frame.copy()`\n",
      "  df[col_name] = np.where(df[col] == value, 1, 0)\n",
      "/tmp/ipykernel_122064/2585726239.py:8: PerformanceWarning: DataFrame is highly fragmented.  This is usually the result of calling `frame.insert` many times, which has poor performance.  Consider joining all columns at once using pd.concat(axis=1) instead. To get a de-fragmented frame, use `newframe = frame.copy()`\n",
      "  df[col_name] = np.where(df[col] == value, 1, 0)\n",
      "/tmp/ipykernel_122064/2585726239.py:8: PerformanceWarning: DataFrame is highly fragmented.  This is usually the result of calling `frame.insert` many times, which has poor performance.  Consider joining all columns at once using pd.concat(axis=1) instead. To get a de-fragmented frame, use `newframe = frame.copy()`\n",
      "  df[col_name] = np.where(df[col] == value, 1, 0)\n",
      "/tmp/ipykernel_122064/2585726239.py:8: PerformanceWarning: DataFrame is highly fragmented.  This is usually the result of calling `frame.insert` many times, which has poor performance.  Consider joining all columns at once using pd.concat(axis=1) instead. To get a de-fragmented frame, use `newframe = frame.copy()`\n",
      "  df[col_name] = np.where(df[col] == value, 1, 0)\n",
      "/tmp/ipykernel_122064/2585726239.py:8: PerformanceWarning: DataFrame is highly fragmented.  This is usually the result of calling `frame.insert` many times, which has poor performance.  Consider joining all columns at once using pd.concat(axis=1) instead. To get a de-fragmented frame, use `newframe = frame.copy()`\n",
      "  df[col_name] = np.where(df[col] == value, 1, 0)\n",
      "/tmp/ipykernel_122064/2585726239.py:8: PerformanceWarning: DataFrame is highly fragmented.  This is usually the result of calling `frame.insert` many times, which has poor performance.  Consider joining all columns at once using pd.concat(axis=1) instead. To get a de-fragmented frame, use `newframe = frame.copy()`\n",
      "  df[col_name] = np.where(df[col] == value, 1, 0)\n",
      "/tmp/ipykernel_122064/2585726239.py:8: PerformanceWarning: DataFrame is highly fragmented.  This is usually the result of calling `frame.insert` many times, which has poor performance.  Consider joining all columns at once using pd.concat(axis=1) instead. To get a de-fragmented frame, use `newframe = frame.copy()`\n",
      "  df[col_name] = np.where(df[col] == value, 1, 0)\n",
      "/tmp/ipykernel_122064/2585726239.py:8: PerformanceWarning: DataFrame is highly fragmented.  This is usually the result of calling `frame.insert` many times, which has poor performance.  Consider joining all columns at once using pd.concat(axis=1) instead. To get a de-fragmented frame, use `newframe = frame.copy()`\n",
      "  df[col_name] = np.where(df[col] == value, 1, 0)\n",
      "/tmp/ipykernel_122064/2585726239.py:8: PerformanceWarning: DataFrame is highly fragmented.  This is usually the result of calling `frame.insert` many times, which has poor performance.  Consider joining all columns at once using pd.concat(axis=1) instead. To get a de-fragmented frame, use `newframe = frame.copy()`\n",
      "  df[col_name] = np.where(df[col] == value, 1, 0)\n",
      "/tmp/ipykernel_122064/2585726239.py:8: PerformanceWarning: DataFrame is highly fragmented.  This is usually the result of calling `frame.insert` many times, which has poor performance.  Consider joining all columns at once using pd.concat(axis=1) instead. To get a de-fragmented frame, use `newframe = frame.copy()`\n",
      "  df[col_name] = np.where(df[col] == value, 1, 0)\n",
      "/tmp/ipykernel_122064/2585726239.py:8: PerformanceWarning: DataFrame is highly fragmented.  This is usually the result of calling `frame.insert` many times, which has poor performance.  Consider joining all columns at once using pd.concat(axis=1) instead. To get a de-fragmented frame, use `newframe = frame.copy()`\n",
      "  df[col_name] = np.where(df[col] == value, 1, 0)\n",
      "/tmp/ipykernel_122064/2585726239.py:8: PerformanceWarning: DataFrame is highly fragmented.  This is usually the result of calling `frame.insert` many times, which has poor performance.  Consider joining all columns at once using pd.concat(axis=1) instead. To get a de-fragmented frame, use `newframe = frame.copy()`\n",
      "  df[col_name] = np.where(df[col] == value, 1, 0)\n",
      "/tmp/ipykernel_122064/2585726239.py:8: PerformanceWarning: DataFrame is highly fragmented.  This is usually the result of calling `frame.insert` many times, which has poor performance.  Consider joining all columns at once using pd.concat(axis=1) instead. To get a de-fragmented frame, use `newframe = frame.copy()`\n",
      "  df[col_name] = np.where(df[col] == value, 1, 0)\n",
      "/tmp/ipykernel_122064/2585726239.py:8: PerformanceWarning: DataFrame is highly fragmented.  This is usually the result of calling `frame.insert` many times, which has poor performance.  Consider joining all columns at once using pd.concat(axis=1) instead. To get a de-fragmented frame, use `newframe = frame.copy()`\n",
      "  df[col_name] = np.where(df[col] == value, 1, 0)\n",
      "/tmp/ipykernel_122064/2585726239.py:8: PerformanceWarning: DataFrame is highly fragmented.  This is usually the result of calling `frame.insert` many times, which has poor performance.  Consider joining all columns at once using pd.concat(axis=1) instead. To get a de-fragmented frame, use `newframe = frame.copy()`\n",
      "  df[col_name] = np.where(df[col] == value, 1, 0)\n",
      "/tmp/ipykernel_122064/2585726239.py:8: PerformanceWarning: DataFrame is highly fragmented.  This is usually the result of calling `frame.insert` many times, which has poor performance.  Consider joining all columns at once using pd.concat(axis=1) instead. To get a de-fragmented frame, use `newframe = frame.copy()`\n",
      "  df[col_name] = np.where(df[col] == value, 1, 0)\n",
      "/tmp/ipykernel_122064/2585726239.py:8: PerformanceWarning: DataFrame is highly fragmented.  This is usually the result of calling `frame.insert` many times, which has poor performance.  Consider joining all columns at once using pd.concat(axis=1) instead. To get a de-fragmented frame, use `newframe = frame.copy()`\n",
      "  df[col_name] = np.where(df[col] == value, 1, 0)\n",
      "/tmp/ipykernel_122064/2585726239.py:8: PerformanceWarning: DataFrame is highly fragmented.  This is usually the result of calling `frame.insert` many times, which has poor performance.  Consider joining all columns at once using pd.concat(axis=1) instead. To get a de-fragmented frame, use `newframe = frame.copy()`\n",
      "  df[col_name] = np.where(df[col] == value, 1, 0)\n",
      "/tmp/ipykernel_122064/2585726239.py:8: PerformanceWarning: DataFrame is highly fragmented.  This is usually the result of calling `frame.insert` many times, which has poor performance.  Consider joining all columns at once using pd.concat(axis=1) instead. To get a de-fragmented frame, use `newframe = frame.copy()`\n",
      "  df[col_name] = np.where(df[col] == value, 1, 0)\n",
      "/tmp/ipykernel_122064/2585726239.py:8: PerformanceWarning: DataFrame is highly fragmented.  This is usually the result of calling `frame.insert` many times, which has poor performance.  Consider joining all columns at once using pd.concat(axis=1) instead. To get a de-fragmented frame, use `newframe = frame.copy()`\n",
      "  df[col_name] = np.where(df[col] == value, 1, 0)\n",
      "/tmp/ipykernel_122064/2585726239.py:8: PerformanceWarning: DataFrame is highly fragmented.  This is usually the result of calling `frame.insert` many times, which has poor performance.  Consider joining all columns at once using pd.concat(axis=1) instead. To get a de-fragmented frame, use `newframe = frame.copy()`\n",
      "  df[col_name] = np.where(df[col] == value, 1, 0)\n",
      "/tmp/ipykernel_122064/2585726239.py:8: PerformanceWarning: DataFrame is highly fragmented.  This is usually the result of calling `frame.insert` many times, which has poor performance.  Consider joining all columns at once using pd.concat(axis=1) instead. To get a de-fragmented frame, use `newframe = frame.copy()`\n",
      "  df[col_name] = np.where(df[col] == value, 1, 0)\n",
      "/tmp/ipykernel_122064/2585726239.py:8: PerformanceWarning: DataFrame is highly fragmented.  This is usually the result of calling `frame.insert` many times, which has poor performance.  Consider joining all columns at once using pd.concat(axis=1) instead. To get a de-fragmented frame, use `newframe = frame.copy()`\n",
      "  df[col_name] = np.where(df[col] == value, 1, 0)\n",
      "/tmp/ipykernel_122064/2585726239.py:8: PerformanceWarning: DataFrame is highly fragmented.  This is usually the result of calling `frame.insert` many times, which has poor performance.  Consider joining all columns at once using pd.concat(axis=1) instead. To get a de-fragmented frame, use `newframe = frame.copy()`\n",
      "  df[col_name] = np.where(df[col] == value, 1, 0)\n",
      "/tmp/ipykernel_122064/2585726239.py:8: PerformanceWarning: DataFrame is highly fragmented.  This is usually the result of calling `frame.insert` many times, which has poor performance.  Consider joining all columns at once using pd.concat(axis=1) instead. To get a de-fragmented frame, use `newframe = frame.copy()`\n",
      "  df[col_name] = np.where(df[col] == value, 1, 0)\n",
      "/tmp/ipykernel_122064/2585726239.py:8: PerformanceWarning: DataFrame is highly fragmented.  This is usually the result of calling `frame.insert` many times, which has poor performance.  Consider joining all columns at once using pd.concat(axis=1) instead. To get a de-fragmented frame, use `newframe = frame.copy()`\n",
      "  df[col_name] = np.where(df[col] == value, 1, 0)\n",
      "/tmp/ipykernel_122064/2585726239.py:8: PerformanceWarning: DataFrame is highly fragmented.  This is usually the result of calling `frame.insert` many times, which has poor performance.  Consider joining all columns at once using pd.concat(axis=1) instead. To get a de-fragmented frame, use `newframe = frame.copy()`\n",
      "  df[col_name] = np.where(df[col] == value, 1, 0)\n",
      "/tmp/ipykernel_122064/2585726239.py:8: PerformanceWarning: DataFrame is highly fragmented.  This is usually the result of calling `frame.insert` many times, which has poor performance.  Consider joining all columns at once using pd.concat(axis=1) instead. To get a de-fragmented frame, use `newframe = frame.copy()`\n",
      "  df[col_name] = np.where(df[col] == value, 1, 0)\n",
      "/tmp/ipykernel_122064/2585726239.py:8: PerformanceWarning: DataFrame is highly fragmented.  This is usually the result of calling `frame.insert` many times, which has poor performance.  Consider joining all columns at once using pd.concat(axis=1) instead. To get a de-fragmented frame, use `newframe = frame.copy()`\n",
      "  df[col_name] = np.where(df[col] == value, 1, 0)\n",
      "/tmp/ipykernel_122064/2585726239.py:8: PerformanceWarning: DataFrame is highly fragmented.  This is usually the result of calling `frame.insert` many times, which has poor performance.  Consider joining all columns at once using pd.concat(axis=1) instead. To get a de-fragmented frame, use `newframe = frame.copy()`\n",
      "  df[col_name] = np.where(df[col] == value, 1, 0)\n",
      "/tmp/ipykernel_122064/2585726239.py:8: PerformanceWarning: DataFrame is highly fragmented.  This is usually the result of calling `frame.insert` many times, which has poor performance.  Consider joining all columns at once using pd.concat(axis=1) instead. To get a de-fragmented frame, use `newframe = frame.copy()`\n",
      "  df[col_name] = np.where(df[col] == value, 1, 0)\n",
      "/tmp/ipykernel_122064/2585726239.py:8: PerformanceWarning: DataFrame is highly fragmented.  This is usually the result of calling `frame.insert` many times, which has poor performance.  Consider joining all columns at once using pd.concat(axis=1) instead. To get a de-fragmented frame, use `newframe = frame.copy()`\n",
      "  df[col_name] = np.where(df[col] == value, 1, 0)\n",
      "/tmp/ipykernel_122064/2585726239.py:8: PerformanceWarning: DataFrame is highly fragmented.  This is usually the result of calling `frame.insert` many times, which has poor performance.  Consider joining all columns at once using pd.concat(axis=1) instead. To get a de-fragmented frame, use `newframe = frame.copy()`\n",
      "  df[col_name] = np.where(df[col] == value, 1, 0)\n",
      "/tmp/ipykernel_122064/2585726239.py:8: PerformanceWarning: DataFrame is highly fragmented.  This is usually the result of calling `frame.insert` many times, which has poor performance.  Consider joining all columns at once using pd.concat(axis=1) instead. To get a de-fragmented frame, use `newframe = frame.copy()`\n",
      "  df[col_name] = np.where(df[col] == value, 1, 0)\n",
      "/tmp/ipykernel_122064/2585726239.py:8: PerformanceWarning: DataFrame is highly fragmented.  This is usually the result of calling `frame.insert` many times, which has poor performance.  Consider joining all columns at once using pd.concat(axis=1) instead. To get a de-fragmented frame, use `newframe = frame.copy()`\n",
      "  df[col_name] = np.where(df[col] == value, 1, 0)\n",
      "/tmp/ipykernel_122064/2585726239.py:8: PerformanceWarning: DataFrame is highly fragmented.  This is usually the result of calling `frame.insert` many times, which has poor performance.  Consider joining all columns at once using pd.concat(axis=1) instead. To get a de-fragmented frame, use `newframe = frame.copy()`\n",
      "  df[col_name] = np.where(df[col] == value, 1, 0)\n",
      "/tmp/ipykernel_122064/2585726239.py:8: PerformanceWarning: DataFrame is highly fragmented.  This is usually the result of calling `frame.insert` many times, which has poor performance.  Consider joining all columns at once using pd.concat(axis=1) instead. To get a de-fragmented frame, use `newframe = frame.copy()`\n",
      "  df[col_name] = np.where(df[col] == value, 1, 0)\n",
      "/tmp/ipykernel_122064/2585726239.py:8: PerformanceWarning: DataFrame is highly fragmented.  This is usually the result of calling `frame.insert` many times, which has poor performance.  Consider joining all columns at once using pd.concat(axis=1) instead. To get a de-fragmented frame, use `newframe = frame.copy()`\n",
      "  df[col_name] = np.where(df[col] == value, 1, 0)\n",
      "/tmp/ipykernel_122064/2585726239.py:8: PerformanceWarning: DataFrame is highly fragmented.  This is usually the result of calling `frame.insert` many times, which has poor performance.  Consider joining all columns at once using pd.concat(axis=1) instead. To get a de-fragmented frame, use `newframe = frame.copy()`\n",
      "  df[col_name] = np.where(df[col] == value, 1, 0)\n",
      "/tmp/ipykernel_122064/2585726239.py:8: PerformanceWarning: DataFrame is highly fragmented.  This is usually the result of calling `frame.insert` many times, which has poor performance.  Consider joining all columns at once using pd.concat(axis=1) instead. To get a de-fragmented frame, use `newframe = frame.copy()`\n",
      "  df[col_name] = np.where(df[col] == value, 1, 0)\n",
      "/tmp/ipykernel_122064/2585726239.py:8: PerformanceWarning: DataFrame is highly fragmented.  This is usually the result of calling `frame.insert` many times, which has poor performance.  Consider joining all columns at once using pd.concat(axis=1) instead. To get a de-fragmented frame, use `newframe = frame.copy()`\n",
      "  df[col_name] = np.where(df[col] == value, 1, 0)\n",
      "/tmp/ipykernel_122064/2585726239.py:8: PerformanceWarning: DataFrame is highly fragmented.  This is usually the result of calling `frame.insert` many times, which has poor performance.  Consider joining all columns at once using pd.concat(axis=1) instead. To get a de-fragmented frame, use `newframe = frame.copy()`\n",
      "  df[col_name] = np.where(df[col] == value, 1, 0)\n",
      "/tmp/ipykernel_122064/2585726239.py:8: PerformanceWarning: DataFrame is highly fragmented.  This is usually the result of calling `frame.insert` many times, which has poor performance.  Consider joining all columns at once using pd.concat(axis=1) instead. To get a de-fragmented frame, use `newframe = frame.copy()`\n",
      "  df[col_name] = np.where(df[col] == value, 1, 0)\n",
      "/tmp/ipykernel_122064/2585726239.py:8: PerformanceWarning: DataFrame is highly fragmented.  This is usually the result of calling `frame.insert` many times, which has poor performance.  Consider joining all columns at once using pd.concat(axis=1) instead. To get a de-fragmented frame, use `newframe = frame.copy()`\n",
      "  df[col_name] = np.where(df[col] == value, 1, 0)\n",
      "/tmp/ipykernel_122064/2585726239.py:8: PerformanceWarning: DataFrame is highly fragmented.  This is usually the result of calling `frame.insert` many times, which has poor performance.  Consider joining all columns at once using pd.concat(axis=1) instead. To get a de-fragmented frame, use `newframe = frame.copy()`\n",
      "  df[col_name] = np.where(df[col] == value, 1, 0)\n",
      "/tmp/ipykernel_122064/2585726239.py:8: PerformanceWarning: DataFrame is highly fragmented.  This is usually the result of calling `frame.insert` many times, which has poor performance.  Consider joining all columns at once using pd.concat(axis=1) instead. To get a de-fragmented frame, use `newframe = frame.copy()`\n",
      "  df[col_name] = np.where(df[col] == value, 1, 0)\n",
      "/tmp/ipykernel_122064/2585726239.py:8: PerformanceWarning: DataFrame is highly fragmented.  This is usually the result of calling `frame.insert` many times, which has poor performance.  Consider joining all columns at once using pd.concat(axis=1) instead. To get a de-fragmented frame, use `newframe = frame.copy()`\n",
      "  df[col_name] = np.where(df[col] == value, 1, 0)\n",
      "/tmp/ipykernel_122064/2585726239.py:8: PerformanceWarning: DataFrame is highly fragmented.  This is usually the result of calling `frame.insert` many times, which has poor performance.  Consider joining all columns at once using pd.concat(axis=1) instead. To get a de-fragmented frame, use `newframe = frame.copy()`\n",
      "  df[col_name] = np.where(df[col] == value, 1, 0)\n",
      "/tmp/ipykernel_122064/2585726239.py:8: PerformanceWarning: DataFrame is highly fragmented.  This is usually the result of calling `frame.insert` many times, which has poor performance.  Consider joining all columns at once using pd.concat(axis=1) instead. To get a de-fragmented frame, use `newframe = frame.copy()`\n",
      "  df[col_name] = np.where(df[col] == value, 1, 0)\n",
      "/tmp/ipykernel_122064/2585726239.py:8: PerformanceWarning: DataFrame is highly fragmented.  This is usually the result of calling `frame.insert` many times, which has poor performance.  Consider joining all columns at once using pd.concat(axis=1) instead. To get a de-fragmented frame, use `newframe = frame.copy()`\n",
      "  df[col_name] = np.where(df[col] == value, 1, 0)\n",
      "/tmp/ipykernel_122064/2585726239.py:8: PerformanceWarning: DataFrame is highly fragmented.  This is usually the result of calling `frame.insert` many times, which has poor performance.  Consider joining all columns at once using pd.concat(axis=1) instead. To get a de-fragmented frame, use `newframe = frame.copy()`\n",
      "  df[col_name] = np.where(df[col] == value, 1, 0)\n",
      "/tmp/ipykernel_122064/2585726239.py:8: PerformanceWarning: DataFrame is highly fragmented.  This is usually the result of calling `frame.insert` many times, which has poor performance.  Consider joining all columns at once using pd.concat(axis=1) instead. To get a de-fragmented frame, use `newframe = frame.copy()`\n",
      "  df[col_name] = np.where(df[col] == value, 1, 0)\n",
      "/tmp/ipykernel_122064/2585726239.py:8: PerformanceWarning: DataFrame is highly fragmented.  This is usually the result of calling `frame.insert` many times, which has poor performance.  Consider joining all columns at once using pd.concat(axis=1) instead. To get a de-fragmented frame, use `newframe = frame.copy()`\n",
      "  df[col_name] = np.where(df[col] == value, 1, 0)\n",
      "/tmp/ipykernel_122064/2585726239.py:8: PerformanceWarning: DataFrame is highly fragmented.  This is usually the result of calling `frame.insert` many times, which has poor performance.  Consider joining all columns at once using pd.concat(axis=1) instead. To get a de-fragmented frame, use `newframe = frame.copy()`\n",
      "  df[col_name] = np.where(df[col] == value, 1, 0)\n",
      "/tmp/ipykernel_122064/2585726239.py:8: PerformanceWarning: DataFrame is highly fragmented.  This is usually the result of calling `frame.insert` many times, which has poor performance.  Consider joining all columns at once using pd.concat(axis=1) instead. To get a de-fragmented frame, use `newframe = frame.copy()`\n",
      "  df[col_name] = np.where(df[col] == value, 1, 0)\n",
      "/tmp/ipykernel_122064/2585726239.py:8: PerformanceWarning: DataFrame is highly fragmented.  This is usually the result of calling `frame.insert` many times, which has poor performance.  Consider joining all columns at once using pd.concat(axis=1) instead. To get a de-fragmented frame, use `newframe = frame.copy()`\n",
      "  df[col_name] = np.where(df[col] == value, 1, 0)\n",
      "/tmp/ipykernel_122064/2585726239.py:8: PerformanceWarning: DataFrame is highly fragmented.  This is usually the result of calling `frame.insert` many times, which has poor performance.  Consider joining all columns at once using pd.concat(axis=1) instead. To get a de-fragmented frame, use `newframe = frame.copy()`\n",
      "  df[col_name] = np.where(df[col] == value, 1, 0)\n",
      "/tmp/ipykernel_122064/2585726239.py:8: PerformanceWarning: DataFrame is highly fragmented.  This is usually the result of calling `frame.insert` many times, which has poor performance.  Consider joining all columns at once using pd.concat(axis=1) instead. To get a de-fragmented frame, use `newframe = frame.copy()`\n",
      "  df[col_name] = np.where(df[col] == value, 1, 0)\n",
      "/tmp/ipykernel_122064/2585726239.py:8: PerformanceWarning: DataFrame is highly fragmented.  This is usually the result of calling `frame.insert` many times, which has poor performance.  Consider joining all columns at once using pd.concat(axis=1) instead. To get a de-fragmented frame, use `newframe = frame.copy()`\n",
      "  df[col_name] = np.where(df[col] == value, 1, 0)\n",
      "/tmp/ipykernel_122064/2585726239.py:8: PerformanceWarning: DataFrame is highly fragmented.  This is usually the result of calling `frame.insert` many times, which has poor performance.  Consider joining all columns at once using pd.concat(axis=1) instead. To get a de-fragmented frame, use `newframe = frame.copy()`\n",
      "  df[col_name] = np.where(df[col] == value, 1, 0)\n",
      "/tmp/ipykernel_122064/2585726239.py:8: PerformanceWarning: DataFrame is highly fragmented.  This is usually the result of calling `frame.insert` many times, which has poor performance.  Consider joining all columns at once using pd.concat(axis=1) instead. To get a de-fragmented frame, use `newframe = frame.copy()`\n",
      "  df[col_name] = np.where(df[col] == value, 1, 0)\n",
      "/tmp/ipykernel_122064/2585726239.py:8: PerformanceWarning: DataFrame is highly fragmented.  This is usually the result of calling `frame.insert` many times, which has poor performance.  Consider joining all columns at once using pd.concat(axis=1) instead. To get a de-fragmented frame, use `newframe = frame.copy()`\n",
      "  df[col_name] = np.where(df[col] == value, 1, 0)\n",
      "/tmp/ipykernel_122064/2585726239.py:8: PerformanceWarning: DataFrame is highly fragmented.  This is usually the result of calling `frame.insert` many times, which has poor performance.  Consider joining all columns at once using pd.concat(axis=1) instead. To get a de-fragmented frame, use `newframe = frame.copy()`\n",
      "  df[col_name] = np.where(df[col] == value, 1, 0)\n",
      "/tmp/ipykernel_122064/2585726239.py:8: PerformanceWarning: DataFrame is highly fragmented.  This is usually the result of calling `frame.insert` many times, which has poor performance.  Consider joining all columns at once using pd.concat(axis=1) instead. To get a de-fragmented frame, use `newframe = frame.copy()`\n",
      "  df[col_name] = np.where(df[col] == value, 1, 0)\n",
      "/tmp/ipykernel_122064/2585726239.py:8: PerformanceWarning: DataFrame is highly fragmented.  This is usually the result of calling `frame.insert` many times, which has poor performance.  Consider joining all columns at once using pd.concat(axis=1) instead. To get a de-fragmented frame, use `newframe = frame.copy()`\n",
      "  df[col_name] = np.where(df[col] == value, 1, 0)\n",
      "/tmp/ipykernel_122064/2585726239.py:8: PerformanceWarning: DataFrame is highly fragmented.  This is usually the result of calling `frame.insert` many times, which has poor performance.  Consider joining all columns at once using pd.concat(axis=1) instead. To get a de-fragmented frame, use `newframe = frame.copy()`\n",
      "  df[col_name] = np.where(df[col] == value, 1, 0)\n",
      "/tmp/ipykernel_122064/2585726239.py:8: PerformanceWarning: DataFrame is highly fragmented.  This is usually the result of calling `frame.insert` many times, which has poor performance.  Consider joining all columns at once using pd.concat(axis=1) instead. To get a de-fragmented frame, use `newframe = frame.copy()`\n",
      "  df[col_name] = np.where(df[col] == value, 1, 0)\n",
      "/tmp/ipykernel_122064/2585726239.py:8: PerformanceWarning: DataFrame is highly fragmented.  This is usually the result of calling `frame.insert` many times, which has poor performance.  Consider joining all columns at once using pd.concat(axis=1) instead. To get a de-fragmented frame, use `newframe = frame.copy()`\n",
      "  df[col_name] = np.where(df[col] == value, 1, 0)\n",
      "/tmp/ipykernel_122064/2585726239.py:8: PerformanceWarning: DataFrame is highly fragmented.  This is usually the result of calling `frame.insert` many times, which has poor performance.  Consider joining all columns at once using pd.concat(axis=1) instead. To get a de-fragmented frame, use `newframe = frame.copy()`\n",
      "  df[col_name] = np.where(df[col] == value, 1, 0)\n",
      "/tmp/ipykernel_122064/2585726239.py:8: PerformanceWarning: DataFrame is highly fragmented.  This is usually the result of calling `frame.insert` many times, which has poor performance.  Consider joining all columns at once using pd.concat(axis=1) instead. To get a de-fragmented frame, use `newframe = frame.copy()`\n",
      "  df[col_name] = np.where(df[col] == value, 1, 0)\n",
      "/tmp/ipykernel_122064/2585726239.py:8: PerformanceWarning: DataFrame is highly fragmented.  This is usually the result of calling `frame.insert` many times, which has poor performance.  Consider joining all columns at once using pd.concat(axis=1) instead. To get a de-fragmented frame, use `newframe = frame.copy()`\n",
      "  df[col_name] = np.where(df[col] == value, 1, 0)\n",
      "/tmp/ipykernel_122064/2585726239.py:8: PerformanceWarning: DataFrame is highly fragmented.  This is usually the result of calling `frame.insert` many times, which has poor performance.  Consider joining all columns at once using pd.concat(axis=1) instead. To get a de-fragmented frame, use `newframe = frame.copy()`\n",
      "  df[col_name] = np.where(df[col] == value, 1, 0)\n",
      "/tmp/ipykernel_122064/2585726239.py:8: PerformanceWarning: DataFrame is highly fragmented.  This is usually the result of calling `frame.insert` many times, which has poor performance.  Consider joining all columns at once using pd.concat(axis=1) instead. To get a de-fragmented frame, use `newframe = frame.copy()`\n",
      "  df[col_name] = np.where(df[col] == value, 1, 0)\n",
      "/tmp/ipykernel_122064/2585726239.py:8: PerformanceWarning: DataFrame is highly fragmented.  This is usually the result of calling `frame.insert` many times, which has poor performance.  Consider joining all columns at once using pd.concat(axis=1) instead. To get a de-fragmented frame, use `newframe = frame.copy()`\n",
      "  df[col_name] = np.where(df[col] == value, 1, 0)\n",
      "/tmp/ipykernel_122064/2585726239.py:8: PerformanceWarning: DataFrame is highly fragmented.  This is usually the result of calling `frame.insert` many times, which has poor performance.  Consider joining all columns at once using pd.concat(axis=1) instead. To get a de-fragmented frame, use `newframe = frame.copy()`\n",
      "  df[col_name] = np.where(df[col] == value, 1, 0)\n",
      "/tmp/ipykernel_122064/2585726239.py:8: PerformanceWarning: DataFrame is highly fragmented.  This is usually the result of calling `frame.insert` many times, which has poor performance.  Consider joining all columns at once using pd.concat(axis=1) instead. To get a de-fragmented frame, use `newframe = frame.copy()`\n",
      "  df[col_name] = np.where(df[col] == value, 1, 0)\n",
      "/tmp/ipykernel_122064/2585726239.py:8: PerformanceWarning: DataFrame is highly fragmented.  This is usually the result of calling `frame.insert` many times, which has poor performance.  Consider joining all columns at once using pd.concat(axis=1) instead. To get a de-fragmented frame, use `newframe = frame.copy()`\n",
      "  df[col_name] = np.where(df[col] == value, 1, 0)\n",
      "/tmp/ipykernel_122064/2585726239.py:8: PerformanceWarning: DataFrame is highly fragmented.  This is usually the result of calling `frame.insert` many times, which has poor performance.  Consider joining all columns at once using pd.concat(axis=1) instead. To get a de-fragmented frame, use `newframe = frame.copy()`\n",
      "  df[col_name] = np.where(df[col] == value, 1, 0)\n",
      "/tmp/ipykernel_122064/2585726239.py:8: PerformanceWarning: DataFrame is highly fragmented.  This is usually the result of calling `frame.insert` many times, which has poor performance.  Consider joining all columns at once using pd.concat(axis=1) instead. To get a de-fragmented frame, use `newframe = frame.copy()`\n",
      "  df[col_name] = np.where(df[col] == value, 1, 0)\n",
      "/tmp/ipykernel_122064/2585726239.py:8: PerformanceWarning: DataFrame is highly fragmented.  This is usually the result of calling `frame.insert` many times, which has poor performance.  Consider joining all columns at once using pd.concat(axis=1) instead. To get a de-fragmented frame, use `newframe = frame.copy()`\n",
      "  df[col_name] = np.where(df[col] == value, 1, 0)\n",
      "/tmp/ipykernel_122064/2585726239.py:8: PerformanceWarning: DataFrame is highly fragmented.  This is usually the result of calling `frame.insert` many times, which has poor performance.  Consider joining all columns at once using pd.concat(axis=1) instead. To get a de-fragmented frame, use `newframe = frame.copy()`\n",
      "  df[col_name] = np.where(df[col] == value, 1, 0)\n",
      "/tmp/ipykernel_122064/2585726239.py:8: PerformanceWarning: DataFrame is highly fragmented.  This is usually the result of calling `frame.insert` many times, which has poor performance.  Consider joining all columns at once using pd.concat(axis=1) instead. To get a de-fragmented frame, use `newframe = frame.copy()`\n",
      "  df[col_name] = np.where(df[col] == value, 1, 0)\n",
      "/tmp/ipykernel_122064/2585726239.py:8: PerformanceWarning: DataFrame is highly fragmented.  This is usually the result of calling `frame.insert` many times, which has poor performance.  Consider joining all columns at once using pd.concat(axis=1) instead. To get a de-fragmented frame, use `newframe = frame.copy()`\n",
      "  df[col_name] = np.where(df[col] == value, 1, 0)\n",
      "/tmp/ipykernel_122064/2585726239.py:8: PerformanceWarning: DataFrame is highly fragmented.  This is usually the result of calling `frame.insert` many times, which has poor performance.  Consider joining all columns at once using pd.concat(axis=1) instead. To get a de-fragmented frame, use `newframe = frame.copy()`\n",
      "  df[col_name] = np.where(df[col] == value, 1, 0)\n",
      "/tmp/ipykernel_122064/2585726239.py:8: PerformanceWarning: DataFrame is highly fragmented.  This is usually the result of calling `frame.insert` many times, which has poor performance.  Consider joining all columns at once using pd.concat(axis=1) instead. To get a de-fragmented frame, use `newframe = frame.copy()`\n",
      "  df[col_name] = np.where(df[col] == value, 1, 0)\n",
      "/tmp/ipykernel_122064/2585726239.py:8: PerformanceWarning: DataFrame is highly fragmented.  This is usually the result of calling `frame.insert` many times, which has poor performance.  Consider joining all columns at once using pd.concat(axis=1) instead. To get a de-fragmented frame, use `newframe = frame.copy()`\n",
      "  df[col_name] = np.where(df[col] == value, 1, 0)\n",
      "/tmp/ipykernel_122064/2585726239.py:8: PerformanceWarning: DataFrame is highly fragmented.  This is usually the result of calling `frame.insert` many times, which has poor performance.  Consider joining all columns at once using pd.concat(axis=1) instead. To get a de-fragmented frame, use `newframe = frame.copy()`\n",
      "  df[col_name] = np.where(df[col] == value, 1, 0)\n",
      "/tmp/ipykernel_122064/2585726239.py:8: PerformanceWarning: DataFrame is highly fragmented.  This is usually the result of calling `frame.insert` many times, which has poor performance.  Consider joining all columns at once using pd.concat(axis=1) instead. To get a de-fragmented frame, use `newframe = frame.copy()`\n",
      "  df[col_name] = np.where(df[col] == value, 1, 0)\n",
      "/tmp/ipykernel_122064/2585726239.py:8: PerformanceWarning: DataFrame is highly fragmented.  This is usually the result of calling `frame.insert` many times, which has poor performance.  Consider joining all columns at once using pd.concat(axis=1) instead. To get a de-fragmented frame, use `newframe = frame.copy()`\n",
      "  df[col_name] = np.where(df[col] == value, 1, 0)\n",
      "/tmp/ipykernel_122064/2585726239.py:8: PerformanceWarning: DataFrame is highly fragmented.  This is usually the result of calling `frame.insert` many times, which has poor performance.  Consider joining all columns at once using pd.concat(axis=1) instead. To get a de-fragmented frame, use `newframe = frame.copy()`\n",
      "  df[col_name] = np.where(df[col] == value, 1, 0)\n",
      "/tmp/ipykernel_122064/2585726239.py:8: PerformanceWarning: DataFrame is highly fragmented.  This is usually the result of calling `frame.insert` many times, which has poor performance.  Consider joining all columns at once using pd.concat(axis=1) instead. To get a de-fragmented frame, use `newframe = frame.copy()`\n",
      "  df[col_name] = np.where(df[col] == value, 1, 0)\n",
      "/tmp/ipykernel_122064/2585726239.py:8: PerformanceWarning: DataFrame is highly fragmented.  This is usually the result of calling `frame.insert` many times, which has poor performance.  Consider joining all columns at once using pd.concat(axis=1) instead. To get a de-fragmented frame, use `newframe = frame.copy()`\n",
      "  df[col_name] = np.where(df[col] == value, 1, 0)\n",
      "/tmp/ipykernel_122064/2585726239.py:8: PerformanceWarning: DataFrame is highly fragmented.  This is usually the result of calling `frame.insert` many times, which has poor performance.  Consider joining all columns at once using pd.concat(axis=1) instead. To get a de-fragmented frame, use `newframe = frame.copy()`\n",
      "  df[col_name] = np.where(df[col] == value, 1, 0)\n",
      "/tmp/ipykernel_122064/2585726239.py:8: PerformanceWarning: DataFrame is highly fragmented.  This is usually the result of calling `frame.insert` many times, which has poor performance.  Consider joining all columns at once using pd.concat(axis=1) instead. To get a de-fragmented frame, use `newframe = frame.copy()`\n",
      "  df[col_name] = np.where(df[col] == value, 1, 0)\n",
      "/tmp/ipykernel_122064/2585726239.py:8: PerformanceWarning: DataFrame is highly fragmented.  This is usually the result of calling `frame.insert` many times, which has poor performance.  Consider joining all columns at once using pd.concat(axis=1) instead. To get a de-fragmented frame, use `newframe = frame.copy()`\n",
      "  df[col_name] = np.where(df[col] == value, 1, 0)\n",
      "/tmp/ipykernel_122064/2585726239.py:8: PerformanceWarning: DataFrame is highly fragmented.  This is usually the result of calling `frame.insert` many times, which has poor performance.  Consider joining all columns at once using pd.concat(axis=1) instead. To get a de-fragmented frame, use `newframe = frame.copy()`\n",
      "  df[col_name] = np.where(df[col] == value, 1, 0)\n",
      "/tmp/ipykernel_122064/2585726239.py:8: PerformanceWarning: DataFrame is highly fragmented.  This is usually the result of calling `frame.insert` many times, which has poor performance.  Consider joining all columns at once using pd.concat(axis=1) instead. To get a de-fragmented frame, use `newframe = frame.copy()`\n",
      "  df[col_name] = np.where(df[col] == value, 1, 0)\n",
      "/tmp/ipykernel_122064/2585726239.py:8: PerformanceWarning: DataFrame is highly fragmented.  This is usually the result of calling `frame.insert` many times, which has poor performance.  Consider joining all columns at once using pd.concat(axis=1) instead. To get a de-fragmented frame, use `newframe = frame.copy()`\n",
      "  df[col_name] = np.where(df[col] == value, 1, 0)\n",
      "/tmp/ipykernel_122064/2585726239.py:8: PerformanceWarning: DataFrame is highly fragmented.  This is usually the result of calling `frame.insert` many times, which has poor performance.  Consider joining all columns at once using pd.concat(axis=1) instead. To get a de-fragmented frame, use `newframe = frame.copy()`\n",
      "  df[col_name] = np.where(df[col] == value, 1, 0)\n",
      "/tmp/ipykernel_122064/2585726239.py:8: PerformanceWarning: DataFrame is highly fragmented.  This is usually the result of calling `frame.insert` many times, which has poor performance.  Consider joining all columns at once using pd.concat(axis=1) instead. To get a de-fragmented frame, use `newframe = frame.copy()`\n",
      "  df[col_name] = np.where(df[col] == value, 1, 0)\n",
      "/tmp/ipykernel_122064/2585726239.py:8: PerformanceWarning: DataFrame is highly fragmented.  This is usually the result of calling `frame.insert` many times, which has poor performance.  Consider joining all columns at once using pd.concat(axis=1) instead. To get a de-fragmented frame, use `newframe = frame.copy()`\n",
      "  df[col_name] = np.where(df[col] == value, 1, 0)\n",
      "/tmp/ipykernel_122064/2585726239.py:8: PerformanceWarning: DataFrame is highly fragmented.  This is usually the result of calling `frame.insert` many times, which has poor performance.  Consider joining all columns at once using pd.concat(axis=1) instead. To get a de-fragmented frame, use `newframe = frame.copy()`\n",
      "  df[col_name] = np.where(df[col] == value, 1, 0)\n",
      "/tmp/ipykernel_122064/2585726239.py:8: PerformanceWarning: DataFrame is highly fragmented.  This is usually the result of calling `frame.insert` many times, which has poor performance.  Consider joining all columns at once using pd.concat(axis=1) instead. To get a de-fragmented frame, use `newframe = frame.copy()`\n",
      "  df[col_name] = np.where(df[col] == value, 1, 0)\n",
      "/tmp/ipykernel_122064/2585726239.py:8: PerformanceWarning: DataFrame is highly fragmented.  This is usually the result of calling `frame.insert` many times, which has poor performance.  Consider joining all columns at once using pd.concat(axis=1) instead. To get a de-fragmented frame, use `newframe = frame.copy()`\n",
      "  df[col_name] = np.where(df[col] == value, 1, 0)\n",
      "/tmp/ipykernel_122064/2585726239.py:8: PerformanceWarning: DataFrame is highly fragmented.  This is usually the result of calling `frame.insert` many times, which has poor performance.  Consider joining all columns at once using pd.concat(axis=1) instead. To get a de-fragmented frame, use `newframe = frame.copy()`\n",
      "  df[col_name] = np.where(df[col] == value, 1, 0)\n",
      "/tmp/ipykernel_122064/2585726239.py:8: PerformanceWarning: DataFrame is highly fragmented.  This is usually the result of calling `frame.insert` many times, which has poor performance.  Consider joining all columns at once using pd.concat(axis=1) instead. To get a de-fragmented frame, use `newframe = frame.copy()`\n",
      "  df[col_name] = np.where(df[col] == value, 1, 0)\n",
      "/tmp/ipykernel_122064/2585726239.py:8: PerformanceWarning: DataFrame is highly fragmented.  This is usually the result of calling `frame.insert` many times, which has poor performance.  Consider joining all columns at once using pd.concat(axis=1) instead. To get a de-fragmented frame, use `newframe = frame.copy()`\n",
      "  df[col_name] = np.where(df[col] == value, 1, 0)\n",
      "/tmp/ipykernel_122064/2585726239.py:8: PerformanceWarning: DataFrame is highly fragmented.  This is usually the result of calling `frame.insert` many times, which has poor performance.  Consider joining all columns at once using pd.concat(axis=1) instead. To get a de-fragmented frame, use `newframe = frame.copy()`\n",
      "  df[col_name] = np.where(df[col] == value, 1, 0)\n",
      "/tmp/ipykernel_122064/2585726239.py:8: PerformanceWarning: DataFrame is highly fragmented.  This is usually the result of calling `frame.insert` many times, which has poor performance.  Consider joining all columns at once using pd.concat(axis=1) instead. To get a de-fragmented frame, use `newframe = frame.copy()`\n",
      "  df[col_name] = np.where(df[col] == value, 1, 0)\n",
      "/tmp/ipykernel_122064/2585726239.py:8: PerformanceWarning: DataFrame is highly fragmented.  This is usually the result of calling `frame.insert` many times, which has poor performance.  Consider joining all columns at once using pd.concat(axis=1) instead. To get a de-fragmented frame, use `newframe = frame.copy()`\n",
      "  df[col_name] = np.where(df[col] == value, 1, 0)\n",
      "/tmp/ipykernel_122064/2585726239.py:8: PerformanceWarning: DataFrame is highly fragmented.  This is usually the result of calling `frame.insert` many times, which has poor performance.  Consider joining all columns at once using pd.concat(axis=1) instead. To get a de-fragmented frame, use `newframe = frame.copy()`\n",
      "  df[col_name] = np.where(df[col] == value, 1, 0)\n",
      "/tmp/ipykernel_122064/2585726239.py:8: PerformanceWarning: DataFrame is highly fragmented.  This is usually the result of calling `frame.insert` many times, which has poor performance.  Consider joining all columns at once using pd.concat(axis=1) instead. To get a de-fragmented frame, use `newframe = frame.copy()`\n",
      "  df[col_name] = np.where(df[col] == value, 1, 0)\n",
      "/tmp/ipykernel_122064/2585726239.py:8: PerformanceWarning: DataFrame is highly fragmented.  This is usually the result of calling `frame.insert` many times, which has poor performance.  Consider joining all columns at once using pd.concat(axis=1) instead. To get a de-fragmented frame, use `newframe = frame.copy()`\n",
      "  df[col_name] = np.where(df[col] == value, 1, 0)\n",
      "/tmp/ipykernel_122064/2585726239.py:8: PerformanceWarning: DataFrame is highly fragmented.  This is usually the result of calling `frame.insert` many times, which has poor performance.  Consider joining all columns at once using pd.concat(axis=1) instead. To get a de-fragmented frame, use `newframe = frame.copy()`\n",
      "  df[col_name] = np.where(df[col] == value, 1, 0)\n",
      "/tmp/ipykernel_122064/2585726239.py:8: PerformanceWarning: DataFrame is highly fragmented.  This is usually the result of calling `frame.insert` many times, which has poor performance.  Consider joining all columns at once using pd.concat(axis=1) instead. To get a de-fragmented frame, use `newframe = frame.copy()`\n",
      "  df[col_name] = np.where(df[col] == value, 1, 0)\n",
      "/tmp/ipykernel_122064/2585726239.py:8: PerformanceWarning: DataFrame is highly fragmented.  This is usually the result of calling `frame.insert` many times, which has poor performance.  Consider joining all columns at once using pd.concat(axis=1) instead. To get a de-fragmented frame, use `newframe = frame.copy()`\n",
      "  df[col_name] = np.where(df[col] == value, 1, 0)\n",
      "/tmp/ipykernel_122064/2585726239.py:8: PerformanceWarning: DataFrame is highly fragmented.  This is usually the result of calling `frame.insert` many times, which has poor performance.  Consider joining all columns at once using pd.concat(axis=1) instead. To get a de-fragmented frame, use `newframe = frame.copy()`\n",
      "  df[col_name] = np.where(df[col] == value, 1, 0)\n",
      "/tmp/ipykernel_122064/2585726239.py:8: PerformanceWarning: DataFrame is highly fragmented.  This is usually the result of calling `frame.insert` many times, which has poor performance.  Consider joining all columns at once using pd.concat(axis=1) instead. To get a de-fragmented frame, use `newframe = frame.copy()`\n",
      "  df[col_name] = np.where(df[col] == value, 1, 0)\n",
      "/tmp/ipykernel_122064/2585726239.py:8: PerformanceWarning: DataFrame is highly fragmented.  This is usually the result of calling `frame.insert` many times, which has poor performance.  Consider joining all columns at once using pd.concat(axis=1) instead. To get a de-fragmented frame, use `newframe = frame.copy()`\n",
      "  df[col_name] = np.where(df[col] == value, 1, 0)\n",
      "/tmp/ipykernel_122064/2585726239.py:8: PerformanceWarning: DataFrame is highly fragmented.  This is usually the result of calling `frame.insert` many times, which has poor performance.  Consider joining all columns at once using pd.concat(axis=1) instead. To get a de-fragmented frame, use `newframe = frame.copy()`\n",
      "  df[col_name] = np.where(df[col] == value, 1, 0)\n",
      "/tmp/ipykernel_122064/2585726239.py:8: PerformanceWarning: DataFrame is highly fragmented.  This is usually the result of calling `frame.insert` many times, which has poor performance.  Consider joining all columns at once using pd.concat(axis=1) instead. To get a de-fragmented frame, use `newframe = frame.copy()`\n",
      "  df[col_name] = np.where(df[col] == value, 1, 0)\n",
      "/tmp/ipykernel_122064/2585726239.py:8: PerformanceWarning: DataFrame is highly fragmented.  This is usually the result of calling `frame.insert` many times, which has poor performance.  Consider joining all columns at once using pd.concat(axis=1) instead. To get a de-fragmented frame, use `newframe = frame.copy()`\n",
      "  df[col_name] = np.where(df[col] == value, 1, 0)\n",
      "/tmp/ipykernel_122064/2585726239.py:8: PerformanceWarning: DataFrame is highly fragmented.  This is usually the result of calling `frame.insert` many times, which has poor performance.  Consider joining all columns at once using pd.concat(axis=1) instead. To get a de-fragmented frame, use `newframe = frame.copy()`\n",
      "  df[col_name] = np.where(df[col] == value, 1, 0)\n",
      "/tmp/ipykernel_122064/2585726239.py:8: PerformanceWarning: DataFrame is highly fragmented.  This is usually the result of calling `frame.insert` many times, which has poor performance.  Consider joining all columns at once using pd.concat(axis=1) instead. To get a de-fragmented frame, use `newframe = frame.copy()`\n",
      "  df[col_name] = np.where(df[col] == value, 1, 0)\n",
      "/tmp/ipykernel_122064/2585726239.py:8: PerformanceWarning: DataFrame is highly fragmented.  This is usually the result of calling `frame.insert` many times, which has poor performance.  Consider joining all columns at once using pd.concat(axis=1) instead. To get a de-fragmented frame, use `newframe = frame.copy()`\n",
      "  df[col_name] = np.where(df[col] == value, 1, 0)\n",
      "/tmp/ipykernel_122064/2585726239.py:8: PerformanceWarning: DataFrame is highly fragmented.  This is usually the result of calling `frame.insert` many times, which has poor performance.  Consider joining all columns at once using pd.concat(axis=1) instead. To get a de-fragmented frame, use `newframe = frame.copy()`\n",
      "  df[col_name] = np.where(df[col] == value, 1, 0)\n",
      "/tmp/ipykernel_122064/2585726239.py:8: PerformanceWarning: DataFrame is highly fragmented.  This is usually the result of calling `frame.insert` many times, which has poor performance.  Consider joining all columns at once using pd.concat(axis=1) instead. To get a de-fragmented frame, use `newframe = frame.copy()`\n",
      "  df[col_name] = np.where(df[col] == value, 1, 0)\n",
      "/tmp/ipykernel_122064/2585726239.py:8: PerformanceWarning: DataFrame is highly fragmented.  This is usually the result of calling `frame.insert` many times, which has poor performance.  Consider joining all columns at once using pd.concat(axis=1) instead. To get a de-fragmented frame, use `newframe = frame.copy()`\n",
      "  df[col_name] = np.where(df[col] == value, 1, 0)\n",
      "/tmp/ipykernel_122064/2585726239.py:8: PerformanceWarning: DataFrame is highly fragmented.  This is usually the result of calling `frame.insert` many times, which has poor performance.  Consider joining all columns at once using pd.concat(axis=1) instead. To get a de-fragmented frame, use `newframe = frame.copy()`\n",
      "  df[col_name] = np.where(df[col] == value, 1, 0)\n",
      "/tmp/ipykernel_122064/2585726239.py:8: PerformanceWarning: DataFrame is highly fragmented.  This is usually the result of calling `frame.insert` many times, which has poor performance.  Consider joining all columns at once using pd.concat(axis=1) instead. To get a de-fragmented frame, use `newframe = frame.copy()`\n",
      "  df[col_name] = np.where(df[col] == value, 1, 0)\n",
      "/tmp/ipykernel_122064/2585726239.py:8: PerformanceWarning: DataFrame is highly fragmented.  This is usually the result of calling `frame.insert` many times, which has poor performance.  Consider joining all columns at once using pd.concat(axis=1) instead. To get a de-fragmented frame, use `newframe = frame.copy()`\n",
      "  df[col_name] = np.where(df[col] == value, 1, 0)\n",
      "/tmp/ipykernel_122064/2585726239.py:8: PerformanceWarning: DataFrame is highly fragmented.  This is usually the result of calling `frame.insert` many times, which has poor performance.  Consider joining all columns at once using pd.concat(axis=1) instead. To get a de-fragmented frame, use `newframe = frame.copy()`\n",
      "  df[col_name] = np.where(df[col] == value, 1, 0)\n",
      "/tmp/ipykernel_122064/2585726239.py:8: PerformanceWarning: DataFrame is highly fragmented.  This is usually the result of calling `frame.insert` many times, which has poor performance.  Consider joining all columns at once using pd.concat(axis=1) instead. To get a de-fragmented frame, use `newframe = frame.copy()`\n",
      "  df[col_name] = np.where(df[col] == value, 1, 0)\n",
      "/tmp/ipykernel_122064/2585726239.py:8: PerformanceWarning: DataFrame is highly fragmented.  This is usually the result of calling `frame.insert` many times, which has poor performance.  Consider joining all columns at once using pd.concat(axis=1) instead. To get a de-fragmented frame, use `newframe = frame.copy()`\n",
      "  df[col_name] = np.where(df[col] == value, 1, 0)\n",
      "/tmp/ipykernel_122064/2585726239.py:8: PerformanceWarning: DataFrame is highly fragmented.  This is usually the result of calling `frame.insert` many times, which has poor performance.  Consider joining all columns at once using pd.concat(axis=1) instead. To get a de-fragmented frame, use `newframe = frame.copy()`\n",
      "  df[col_name] = np.where(df[col] == value, 1, 0)\n",
      "/tmp/ipykernel_122064/2585726239.py:8: PerformanceWarning: DataFrame is highly fragmented.  This is usually the result of calling `frame.insert` many times, which has poor performance.  Consider joining all columns at once using pd.concat(axis=1) instead. To get a de-fragmented frame, use `newframe = frame.copy()`\n",
      "  df[col_name] = np.where(df[col] == value, 1, 0)\n",
      "/tmp/ipykernel_122064/2585726239.py:8: PerformanceWarning: DataFrame is highly fragmented.  This is usually the result of calling `frame.insert` many times, which has poor performance.  Consider joining all columns at once using pd.concat(axis=1) instead. To get a de-fragmented frame, use `newframe = frame.copy()`\n",
      "  df[col_name] = np.where(df[col] == value, 1, 0)\n",
      "/tmp/ipykernel_122064/2585726239.py:8: PerformanceWarning: DataFrame is highly fragmented.  This is usually the result of calling `frame.insert` many times, which has poor performance.  Consider joining all columns at once using pd.concat(axis=1) instead. To get a de-fragmented frame, use `newframe = frame.copy()`\n",
      "  df[col_name] = np.where(df[col] == value, 1, 0)\n",
      "/tmp/ipykernel_122064/2585726239.py:8: PerformanceWarning: DataFrame is highly fragmented.  This is usually the result of calling `frame.insert` many times, which has poor performance.  Consider joining all columns at once using pd.concat(axis=1) instead. To get a de-fragmented frame, use `newframe = frame.copy()`\n",
      "  df[col_name] = np.where(df[col] == value, 1, 0)\n",
      "/tmp/ipykernel_122064/2585726239.py:8: PerformanceWarning: DataFrame is highly fragmented.  This is usually the result of calling `frame.insert` many times, which has poor performance.  Consider joining all columns at once using pd.concat(axis=1) instead. To get a de-fragmented frame, use `newframe = frame.copy()`\n",
      "  df[col_name] = np.where(df[col] == value, 1, 0)\n",
      "/tmp/ipykernel_122064/2585726239.py:8: PerformanceWarning: DataFrame is highly fragmented.  This is usually the result of calling `frame.insert` many times, which has poor performance.  Consider joining all columns at once using pd.concat(axis=1) instead. To get a de-fragmented frame, use `newframe = frame.copy()`\n",
      "  df[col_name] = np.where(df[col] == value, 1, 0)\n",
      "/tmp/ipykernel_122064/2585726239.py:8: PerformanceWarning: DataFrame is highly fragmented.  This is usually the result of calling `frame.insert` many times, which has poor performance.  Consider joining all columns at once using pd.concat(axis=1) instead. To get a de-fragmented frame, use `newframe = frame.copy()`\n",
      "  df[col_name] = np.where(df[col] == value, 1, 0)\n",
      "/tmp/ipykernel_122064/2585726239.py:8: PerformanceWarning: DataFrame is highly fragmented.  This is usually the result of calling `frame.insert` many times, which has poor performance.  Consider joining all columns at once using pd.concat(axis=1) instead. To get a de-fragmented frame, use `newframe = frame.copy()`\n",
      "  df[col_name] = np.where(df[col] == value, 1, 0)\n",
      "/tmp/ipykernel_122064/2585726239.py:8: PerformanceWarning: DataFrame is highly fragmented.  This is usually the result of calling `frame.insert` many times, which has poor performance.  Consider joining all columns at once using pd.concat(axis=1) instead. To get a de-fragmented frame, use `newframe = frame.copy()`\n",
      "  df[col_name] = np.where(df[col] == value, 1, 0)\n",
      "/tmp/ipykernel_122064/2585726239.py:8: PerformanceWarning: DataFrame is highly fragmented.  This is usually the result of calling `frame.insert` many times, which has poor performance.  Consider joining all columns at once using pd.concat(axis=1) instead. To get a de-fragmented frame, use `newframe = frame.copy()`\n",
      "  df[col_name] = np.where(df[col] == value, 1, 0)\n",
      "/tmp/ipykernel_122064/2585726239.py:8: PerformanceWarning: DataFrame is highly fragmented.  This is usually the result of calling `frame.insert` many times, which has poor performance.  Consider joining all columns at once using pd.concat(axis=1) instead. To get a de-fragmented frame, use `newframe = frame.copy()`\n",
      "  df[col_name] = np.where(df[col] == value, 1, 0)\n",
      "/tmp/ipykernel_122064/2585726239.py:8: PerformanceWarning: DataFrame is highly fragmented.  This is usually the result of calling `frame.insert` many times, which has poor performance.  Consider joining all columns at once using pd.concat(axis=1) instead. To get a de-fragmented frame, use `newframe = frame.copy()`\n",
      "  df[col_name] = np.where(df[col] == value, 1, 0)\n",
      "/tmp/ipykernel_122064/2585726239.py:8: PerformanceWarning: DataFrame is highly fragmented.  This is usually the result of calling `frame.insert` many times, which has poor performance.  Consider joining all columns at once using pd.concat(axis=1) instead. To get a de-fragmented frame, use `newframe = frame.copy()`\n",
      "  df[col_name] = np.where(df[col] == value, 1, 0)\n",
      "/tmp/ipykernel_122064/2585726239.py:8: PerformanceWarning: DataFrame is highly fragmented.  This is usually the result of calling `frame.insert` many times, which has poor performance.  Consider joining all columns at once using pd.concat(axis=1) instead. To get a de-fragmented frame, use `newframe = frame.copy()`\n",
      "  df[col_name] = np.where(df[col] == value, 1, 0)\n",
      "/tmp/ipykernel_122064/2585726239.py:8: PerformanceWarning: DataFrame is highly fragmented.  This is usually the result of calling `frame.insert` many times, which has poor performance.  Consider joining all columns at once using pd.concat(axis=1) instead. To get a de-fragmented frame, use `newframe = frame.copy()`\n",
      "  df[col_name] = np.where(df[col] == value, 1, 0)\n",
      "/tmp/ipykernel_122064/2585726239.py:8: PerformanceWarning: DataFrame is highly fragmented.  This is usually the result of calling `frame.insert` many times, which has poor performance.  Consider joining all columns at once using pd.concat(axis=1) instead. To get a de-fragmented frame, use `newframe = frame.copy()`\n",
      "  df[col_name] = np.where(df[col] == value, 1, 0)\n",
      "/tmp/ipykernel_122064/2585726239.py:8: PerformanceWarning: DataFrame is highly fragmented.  This is usually the result of calling `frame.insert` many times, which has poor performance.  Consider joining all columns at once using pd.concat(axis=1) instead. To get a de-fragmented frame, use `newframe = frame.copy()`\n",
      "  df[col_name] = np.where(df[col] == value, 1, 0)\n",
      "/tmp/ipykernel_122064/2585726239.py:8: PerformanceWarning: DataFrame is highly fragmented.  This is usually the result of calling `frame.insert` many times, which has poor performance.  Consider joining all columns at once using pd.concat(axis=1) instead. To get a de-fragmented frame, use `newframe = frame.copy()`\n",
      "  df[col_name] = np.where(df[col] == value, 1, 0)\n",
      "/tmp/ipykernel_122064/2585726239.py:8: PerformanceWarning: DataFrame is highly fragmented.  This is usually the result of calling `frame.insert` many times, which has poor performance.  Consider joining all columns at once using pd.concat(axis=1) instead. To get a de-fragmented frame, use `newframe = frame.copy()`\n",
      "  df[col_name] = np.where(df[col] == value, 1, 0)\n",
      "/tmp/ipykernel_122064/2585726239.py:8: PerformanceWarning: DataFrame is highly fragmented.  This is usually the result of calling `frame.insert` many times, which has poor performance.  Consider joining all columns at once using pd.concat(axis=1) instead. To get a de-fragmented frame, use `newframe = frame.copy()`\n",
      "  df[col_name] = np.where(df[col] == value, 1, 0)\n",
      "/tmp/ipykernel_122064/2585726239.py:8: PerformanceWarning: DataFrame is highly fragmented.  This is usually the result of calling `frame.insert` many times, which has poor performance.  Consider joining all columns at once using pd.concat(axis=1) instead. To get a de-fragmented frame, use `newframe = frame.copy()`\n",
      "  df[col_name] = np.where(df[col] == value, 1, 0)\n",
      "/tmp/ipykernel_122064/2585726239.py:8: PerformanceWarning: DataFrame is highly fragmented.  This is usually the result of calling `frame.insert` many times, which has poor performance.  Consider joining all columns at once using pd.concat(axis=1) instead. To get a de-fragmented frame, use `newframe = frame.copy()`\n",
      "  df[col_name] = np.where(df[col] == value, 1, 0)\n",
      "/tmp/ipykernel_122064/2585726239.py:8: PerformanceWarning: DataFrame is highly fragmented.  This is usually the result of calling `frame.insert` many times, which has poor performance.  Consider joining all columns at once using pd.concat(axis=1) instead. To get a de-fragmented frame, use `newframe = frame.copy()`\n",
      "  df[col_name] = np.where(df[col] == value, 1, 0)\n",
      "/tmp/ipykernel_122064/2585726239.py:8: PerformanceWarning: DataFrame is highly fragmented.  This is usually the result of calling `frame.insert` many times, which has poor performance.  Consider joining all columns at once using pd.concat(axis=1) instead. To get a de-fragmented frame, use `newframe = frame.copy()`\n",
      "  df[col_name] = np.where(df[col] == value, 1, 0)\n",
      "/tmp/ipykernel_122064/2585726239.py:8: PerformanceWarning: DataFrame is highly fragmented.  This is usually the result of calling `frame.insert` many times, which has poor performance.  Consider joining all columns at once using pd.concat(axis=1) instead. To get a de-fragmented frame, use `newframe = frame.copy()`\n",
      "  df[col_name] = np.where(df[col] == value, 1, 0)\n",
      "/tmp/ipykernel_122064/2585726239.py:8: PerformanceWarning: DataFrame is highly fragmented.  This is usually the result of calling `frame.insert` many times, which has poor performance.  Consider joining all columns at once using pd.concat(axis=1) instead. To get a de-fragmented frame, use `newframe = frame.copy()`\n",
      "  df[col_name] = np.where(df[col] == value, 1, 0)\n",
      "/tmp/ipykernel_122064/2585726239.py:8: PerformanceWarning: DataFrame is highly fragmented.  This is usually the result of calling `frame.insert` many times, which has poor performance.  Consider joining all columns at once using pd.concat(axis=1) instead. To get a de-fragmented frame, use `newframe = frame.copy()`\n",
      "  df[col_name] = np.where(df[col] == value, 1, 0)\n",
      "/tmp/ipykernel_122064/2585726239.py:8: PerformanceWarning: DataFrame is highly fragmented.  This is usually the result of calling `frame.insert` many times, which has poor performance.  Consider joining all columns at once using pd.concat(axis=1) instead. To get a de-fragmented frame, use `newframe = frame.copy()`\n",
      "  df[col_name] = np.where(df[col] == value, 1, 0)\n",
      "/tmp/ipykernel_122064/2585726239.py:8: PerformanceWarning: DataFrame is highly fragmented.  This is usually the result of calling `frame.insert` many times, which has poor performance.  Consider joining all columns at once using pd.concat(axis=1) instead. To get a de-fragmented frame, use `newframe = frame.copy()`\n",
      "  df[col_name] = np.where(df[col] == value, 1, 0)\n",
      "/tmp/ipykernel_122064/2585726239.py:8: PerformanceWarning: DataFrame is highly fragmented.  This is usually the result of calling `frame.insert` many times, which has poor performance.  Consider joining all columns at once using pd.concat(axis=1) instead. To get a de-fragmented frame, use `newframe = frame.copy()`\n",
      "  df[col_name] = np.where(df[col] == value, 1, 0)\n",
      "/tmp/ipykernel_122064/2585726239.py:8: PerformanceWarning: DataFrame is highly fragmented.  This is usually the result of calling `frame.insert` many times, which has poor performance.  Consider joining all columns at once using pd.concat(axis=1) instead. To get a de-fragmented frame, use `newframe = frame.copy()`\n",
      "  df[col_name] = np.where(df[col] == value, 1, 0)\n",
      "/tmp/ipykernel_122064/2585726239.py:8: PerformanceWarning: DataFrame is highly fragmented.  This is usually the result of calling `frame.insert` many times, which has poor performance.  Consider joining all columns at once using pd.concat(axis=1) instead. To get a de-fragmented frame, use `newframe = frame.copy()`\n",
      "  df[col_name] = np.where(df[col] == value, 1, 0)\n",
      "/tmp/ipykernel_122064/2585726239.py:8: PerformanceWarning: DataFrame is highly fragmented.  This is usually the result of calling `frame.insert` many times, which has poor performance.  Consider joining all columns at once using pd.concat(axis=1) instead. To get a de-fragmented frame, use `newframe = frame.copy()`\n",
      "  df[col_name] = np.where(df[col] == value, 1, 0)\n",
      "/tmp/ipykernel_122064/2585726239.py:8: PerformanceWarning: DataFrame is highly fragmented.  This is usually the result of calling `frame.insert` many times, which has poor performance.  Consider joining all columns at once using pd.concat(axis=1) instead. To get a de-fragmented frame, use `newframe = frame.copy()`\n",
      "  df[col_name] = np.where(df[col] == value, 1, 0)\n",
      "/tmp/ipykernel_122064/2585726239.py:8: PerformanceWarning: DataFrame is highly fragmented.  This is usually the result of calling `frame.insert` many times, which has poor performance.  Consider joining all columns at once using pd.concat(axis=1) instead. To get a de-fragmented frame, use `newframe = frame.copy()`\n",
      "  df[col_name] = np.where(df[col] == value, 1, 0)\n",
      "/tmp/ipykernel_122064/2585726239.py:8: PerformanceWarning: DataFrame is highly fragmented.  This is usually the result of calling `frame.insert` many times, which has poor performance.  Consider joining all columns at once using pd.concat(axis=1) instead. To get a de-fragmented frame, use `newframe = frame.copy()`\n",
      "  df[col_name] = np.where(df[col] == value, 1, 0)\n",
      "/tmp/ipykernel_122064/2585726239.py:8: PerformanceWarning: DataFrame is highly fragmented.  This is usually the result of calling `frame.insert` many times, which has poor performance.  Consider joining all columns at once using pd.concat(axis=1) instead. To get a de-fragmented frame, use `newframe = frame.copy()`\n",
      "  df[col_name] = np.where(df[col] == value, 1, 0)\n",
      "/tmp/ipykernel_122064/2585726239.py:8: PerformanceWarning: DataFrame is highly fragmented.  This is usually the result of calling `frame.insert` many times, which has poor performance.  Consider joining all columns at once using pd.concat(axis=1) instead. To get a de-fragmented frame, use `newframe = frame.copy()`\n",
      "  df[col_name] = np.where(df[col] == value, 1, 0)\n",
      "/tmp/ipykernel_122064/2585726239.py:8: PerformanceWarning: DataFrame is highly fragmented.  This is usually the result of calling `frame.insert` many times, which has poor performance.  Consider joining all columns at once using pd.concat(axis=1) instead. To get a de-fragmented frame, use `newframe = frame.copy()`\n",
      "  df[col_name] = np.where(df[col] == value, 1, 0)\n",
      "/tmp/ipykernel_122064/2585726239.py:8: PerformanceWarning: DataFrame is highly fragmented.  This is usually the result of calling `frame.insert` many times, which has poor performance.  Consider joining all columns at once using pd.concat(axis=1) instead. To get a de-fragmented frame, use `newframe = frame.copy()`\n",
      "  df[col_name] = np.where(df[col] == value, 1, 0)\n",
      "/tmp/ipykernel_122064/2585726239.py:8: PerformanceWarning: DataFrame is highly fragmented.  This is usually the result of calling `frame.insert` many times, which has poor performance.  Consider joining all columns at once using pd.concat(axis=1) instead. To get a de-fragmented frame, use `newframe = frame.copy()`\n",
      "  df[col_name] = np.where(df[col] == value, 1, 0)\n",
      "/tmp/ipykernel_122064/2585726239.py:8: PerformanceWarning: DataFrame is highly fragmented.  This is usually the result of calling `frame.insert` many times, which has poor performance.  Consider joining all columns at once using pd.concat(axis=1) instead. To get a de-fragmented frame, use `newframe = frame.copy()`\n",
      "  df[col_name] = np.where(df[col] == value, 1, 0)\n",
      "/tmp/ipykernel_122064/2585726239.py:8: PerformanceWarning: DataFrame is highly fragmented.  This is usually the result of calling `frame.insert` many times, which has poor performance.  Consider joining all columns at once using pd.concat(axis=1) instead. To get a de-fragmented frame, use `newframe = frame.copy()`\n",
      "  df[col_name] = np.where(df[col] == value, 1, 0)\n",
      "/tmp/ipykernel_122064/2585726239.py:8: PerformanceWarning: DataFrame is highly fragmented.  This is usually the result of calling `frame.insert` many times, which has poor performance.  Consider joining all columns at once using pd.concat(axis=1) instead. To get a de-fragmented frame, use `newframe = frame.copy()`\n",
      "  df[col_name] = np.where(df[col] == value, 1, 0)\n",
      "/tmp/ipykernel_122064/2585726239.py:8: PerformanceWarning: DataFrame is highly fragmented.  This is usually the result of calling `frame.insert` many times, which has poor performance.  Consider joining all columns at once using pd.concat(axis=1) instead. To get a de-fragmented frame, use `newframe = frame.copy()`\n",
      "  df[col_name] = np.where(df[col] == value, 1, 0)\n",
      "/tmp/ipykernel_122064/2585726239.py:8: PerformanceWarning: DataFrame is highly fragmented.  This is usually the result of calling `frame.insert` many times, which has poor performance.  Consider joining all columns at once using pd.concat(axis=1) instead. To get a de-fragmented frame, use `newframe = frame.copy()`\n",
      "  df[col_name] = np.where(df[col] == value, 1, 0)\n",
      "/tmp/ipykernel_122064/2585726239.py:8: PerformanceWarning: DataFrame is highly fragmented.  This is usually the result of calling `frame.insert` many times, which has poor performance.  Consider joining all columns at once using pd.concat(axis=1) instead. To get a de-fragmented frame, use `newframe = frame.copy()`\n",
      "  df[col_name] = np.where(df[col] == value, 1, 0)\n",
      "/tmp/ipykernel_122064/2585726239.py:8: PerformanceWarning: DataFrame is highly fragmented.  This is usually the result of calling `frame.insert` many times, which has poor performance.  Consider joining all columns at once using pd.concat(axis=1) instead. To get a de-fragmented frame, use `newframe = frame.copy()`\n",
      "  df[col_name] = np.where(df[col] == value, 1, 0)\n",
      "/tmp/ipykernel_122064/2585726239.py:8: PerformanceWarning: DataFrame is highly fragmented.  This is usually the result of calling `frame.insert` many times, which has poor performance.  Consider joining all columns at once using pd.concat(axis=1) instead. To get a de-fragmented frame, use `newframe = frame.copy()`\n",
      "  df[col_name] = np.where(df[col] == value, 1, 0)\n",
      "/tmp/ipykernel_122064/2585726239.py:8: PerformanceWarning: DataFrame is highly fragmented.  This is usually the result of calling `frame.insert` many times, which has poor performance.  Consider joining all columns at once using pd.concat(axis=1) instead. To get a de-fragmented frame, use `newframe = frame.copy()`\n",
      "  df[col_name] = np.where(df[col] == value, 1, 0)\n",
      "/tmp/ipykernel_122064/2585726239.py:8: PerformanceWarning: DataFrame is highly fragmented.  This is usually the result of calling `frame.insert` many times, which has poor performance.  Consider joining all columns at once using pd.concat(axis=1) instead. To get a de-fragmented frame, use `newframe = frame.copy()`\n",
      "  df[col_name] = np.where(df[col] == value, 1, 0)\n",
      "/tmp/ipykernel_122064/2585726239.py:8: PerformanceWarning: DataFrame is highly fragmented.  This is usually the result of calling `frame.insert` many times, which has poor performance.  Consider joining all columns at once using pd.concat(axis=1) instead. To get a de-fragmented frame, use `newframe = frame.copy()`\n",
      "  df[col_name] = np.where(df[col] == value, 1, 0)\n",
      "/tmp/ipykernel_122064/2585726239.py:8: PerformanceWarning: DataFrame is highly fragmented.  This is usually the result of calling `frame.insert` many times, which has poor performance.  Consider joining all columns at once using pd.concat(axis=1) instead. To get a de-fragmented frame, use `newframe = frame.copy()`\n",
      "  df[col_name] = np.where(df[col] == value, 1, 0)\n",
      "/tmp/ipykernel_122064/2585726239.py:8: PerformanceWarning: DataFrame is highly fragmented.  This is usually the result of calling `frame.insert` many times, which has poor performance.  Consider joining all columns at once using pd.concat(axis=1) instead. To get a de-fragmented frame, use `newframe = frame.copy()`\n",
      "  df[col_name] = np.where(df[col] == value, 1, 0)\n",
      "/tmp/ipykernel_122064/2585726239.py:8: PerformanceWarning: DataFrame is highly fragmented.  This is usually the result of calling `frame.insert` many times, which has poor performance.  Consider joining all columns at once using pd.concat(axis=1) instead. To get a de-fragmented frame, use `newframe = frame.copy()`\n",
      "  df[col_name] = np.where(df[col] == value, 1, 0)\n",
      "/tmp/ipykernel_122064/2585726239.py:8: PerformanceWarning: DataFrame is highly fragmented.  This is usually the result of calling `frame.insert` many times, which has poor performance.  Consider joining all columns at once using pd.concat(axis=1) instead. To get a de-fragmented frame, use `newframe = frame.copy()`\n",
      "  df[col_name] = np.where(df[col] == value, 1, 0)\n",
      "/tmp/ipykernel_122064/2585726239.py:8: PerformanceWarning: DataFrame is highly fragmented.  This is usually the result of calling `frame.insert` many times, which has poor performance.  Consider joining all columns at once using pd.concat(axis=1) instead. To get a de-fragmented frame, use `newframe = frame.copy()`\n",
      "  df[col_name] = np.where(df[col] == value, 1, 0)\n",
      "/tmp/ipykernel_122064/2585726239.py:8: PerformanceWarning: DataFrame is highly fragmented.  This is usually the result of calling `frame.insert` many times, which has poor performance.  Consider joining all columns at once using pd.concat(axis=1) instead. To get a de-fragmented frame, use `newframe = frame.copy()`\n",
      "  df[col_name] = np.where(df[col] == value, 1, 0)\n",
      "/tmp/ipykernel_122064/2585726239.py:8: PerformanceWarning: DataFrame is highly fragmented.  This is usually the result of calling `frame.insert` many times, which has poor performance.  Consider joining all columns at once using pd.concat(axis=1) instead. To get a de-fragmented frame, use `newframe = frame.copy()`\n",
      "  df[col_name] = np.where(df[col] == value, 1, 0)\n",
      "/tmp/ipykernel_122064/2585726239.py:8: PerformanceWarning: DataFrame is highly fragmented.  This is usually the result of calling `frame.insert` many times, which has poor performance.  Consider joining all columns at once using pd.concat(axis=1) instead. To get a de-fragmented frame, use `newframe = frame.copy()`\n",
      "  df[col_name] = np.where(df[col] == value, 1, 0)\n",
      "/tmp/ipykernel_122064/2585726239.py:8: PerformanceWarning: DataFrame is highly fragmented.  This is usually the result of calling `frame.insert` many times, which has poor performance.  Consider joining all columns at once using pd.concat(axis=1) instead. To get a de-fragmented frame, use `newframe = frame.copy()`\n",
      "  df[col_name] = np.where(df[col] == value, 1, 0)\n",
      "/tmp/ipykernel_122064/2585726239.py:8: PerformanceWarning: DataFrame is highly fragmented.  This is usually the result of calling `frame.insert` many times, which has poor performance.  Consider joining all columns at once using pd.concat(axis=1) instead. To get a de-fragmented frame, use `newframe = frame.copy()`\n",
      "  df[col_name] = np.where(df[col] == value, 1, 0)\n",
      "/tmp/ipykernel_122064/2585726239.py:8: PerformanceWarning: DataFrame is highly fragmented.  This is usually the result of calling `frame.insert` many times, which has poor performance.  Consider joining all columns at once using pd.concat(axis=1) instead. To get a de-fragmented frame, use `newframe = frame.copy()`\n",
      "  df[col_name] = np.where(df[col] == value, 1, 0)\n",
      "/tmp/ipykernel_122064/2585726239.py:8: PerformanceWarning: DataFrame is highly fragmented.  This is usually the result of calling `frame.insert` many times, which has poor performance.  Consider joining all columns at once using pd.concat(axis=1) instead. To get a de-fragmented frame, use `newframe = frame.copy()`\n",
      "  df[col_name] = np.where(df[col] == value, 1, 0)\n",
      "/tmp/ipykernel_122064/2585726239.py:8: PerformanceWarning: DataFrame is highly fragmented.  This is usually the result of calling `frame.insert` many times, which has poor performance.  Consider joining all columns at once using pd.concat(axis=1) instead. To get a de-fragmented frame, use `newframe = frame.copy()`\n",
      "  df[col_name] = np.where(df[col] == value, 1, 0)\n",
      "/tmp/ipykernel_122064/2585726239.py:8: PerformanceWarning: DataFrame is highly fragmented.  This is usually the result of calling `frame.insert` many times, which has poor performance.  Consider joining all columns at once using pd.concat(axis=1) instead. To get a de-fragmented frame, use `newframe = frame.copy()`\n",
      "  df[col_name] = np.where(df[col] == value, 1, 0)\n",
      "/tmp/ipykernel_122064/2585726239.py:8: PerformanceWarning: DataFrame is highly fragmented.  This is usually the result of calling `frame.insert` many times, which has poor performance.  Consider joining all columns at once using pd.concat(axis=1) instead. To get a de-fragmented frame, use `newframe = frame.copy()`\n",
      "  df[col_name] = np.where(df[col] == value, 1, 0)\n",
      "/tmp/ipykernel_122064/2585726239.py:8: PerformanceWarning: DataFrame is highly fragmented.  This is usually the result of calling `frame.insert` many times, which has poor performance.  Consider joining all columns at once using pd.concat(axis=1) instead. To get a de-fragmented frame, use `newframe = frame.copy()`\n",
      "  df[col_name] = np.where(df[col] == value, 1, 0)\n",
      "/tmp/ipykernel_122064/2585726239.py:8: PerformanceWarning: DataFrame is highly fragmented.  This is usually the result of calling `frame.insert` many times, which has poor performance.  Consider joining all columns at once using pd.concat(axis=1) instead. To get a de-fragmented frame, use `newframe = frame.copy()`\n",
      "  df[col_name] = np.where(df[col] == value, 1, 0)\n",
      "/tmp/ipykernel_122064/2585726239.py:8: PerformanceWarning: DataFrame is highly fragmented.  This is usually the result of calling `frame.insert` many times, which has poor performance.  Consider joining all columns at once using pd.concat(axis=1) instead. To get a de-fragmented frame, use `newframe = frame.copy()`\n",
      "  df[col_name] = np.where(df[col] == value, 1, 0)\n",
      "/tmp/ipykernel_122064/2585726239.py:8: PerformanceWarning: DataFrame is highly fragmented.  This is usually the result of calling `frame.insert` many times, which has poor performance.  Consider joining all columns at once using pd.concat(axis=1) instead. To get a de-fragmented frame, use `newframe = frame.copy()`\n",
      "  df[col_name] = np.where(df[col] == value, 1, 0)\n",
      "/tmp/ipykernel_122064/2585726239.py:8: PerformanceWarning: DataFrame is highly fragmented.  This is usually the result of calling `frame.insert` many times, which has poor performance.  Consider joining all columns at once using pd.concat(axis=1) instead. To get a de-fragmented frame, use `newframe = frame.copy()`\n",
      "  df[col_name] = np.where(df[col] == value, 1, 0)\n",
      "/tmp/ipykernel_122064/2585726239.py:8: PerformanceWarning: DataFrame is highly fragmented.  This is usually the result of calling `frame.insert` many times, which has poor performance.  Consider joining all columns at once using pd.concat(axis=1) instead. To get a de-fragmented frame, use `newframe = frame.copy()`\n",
      "  df[col_name] = np.where(df[col] == value, 1, 0)\n",
      "/tmp/ipykernel_122064/2585726239.py:8: PerformanceWarning: DataFrame is highly fragmented.  This is usually the result of calling `frame.insert` many times, which has poor performance.  Consider joining all columns at once using pd.concat(axis=1) instead. To get a de-fragmented frame, use `newframe = frame.copy()`\n",
      "  df[col_name] = np.where(df[col] == value, 1, 0)\n",
      "/tmp/ipykernel_122064/2585726239.py:8: PerformanceWarning: DataFrame is highly fragmented.  This is usually the result of calling `frame.insert` many times, which has poor performance.  Consider joining all columns at once using pd.concat(axis=1) instead. To get a de-fragmented frame, use `newframe = frame.copy()`\n",
      "  df[col_name] = np.where(df[col] == value, 1, 0)\n",
      "/tmp/ipykernel_122064/2585726239.py:8: PerformanceWarning: DataFrame is highly fragmented.  This is usually the result of calling `frame.insert` many times, which has poor performance.  Consider joining all columns at once using pd.concat(axis=1) instead. To get a de-fragmented frame, use `newframe = frame.copy()`\n",
      "  df[col_name] = np.where(df[col] == value, 1, 0)\n",
      "/tmp/ipykernel_122064/2585726239.py:8: PerformanceWarning: DataFrame is highly fragmented.  This is usually the result of calling `frame.insert` many times, which has poor performance.  Consider joining all columns at once using pd.concat(axis=1) instead. To get a de-fragmented frame, use `newframe = frame.copy()`\n",
      "  df[col_name] = np.where(df[col] == value, 1, 0)\n",
      "/tmp/ipykernel_122064/2585726239.py:8: PerformanceWarning: DataFrame is highly fragmented.  This is usually the result of calling `frame.insert` many times, which has poor performance.  Consider joining all columns at once using pd.concat(axis=1) instead. To get a de-fragmented frame, use `newframe = frame.copy()`\n",
      "  df[col_name] = np.where(df[col] == value, 1, 0)\n",
      "/tmp/ipykernel_122064/2585726239.py:8: PerformanceWarning: DataFrame is highly fragmented.  This is usually the result of calling `frame.insert` many times, which has poor performance.  Consider joining all columns at once using pd.concat(axis=1) instead. To get a de-fragmented frame, use `newframe = frame.copy()`\n",
      "  df[col_name] = np.where(df[col] == value, 1, 0)\n",
      "/tmp/ipykernel_122064/2585726239.py:8: PerformanceWarning: DataFrame is highly fragmented.  This is usually the result of calling `frame.insert` many times, which has poor performance.  Consider joining all columns at once using pd.concat(axis=1) instead. To get a de-fragmented frame, use `newframe = frame.copy()`\n",
      "  df[col_name] = np.where(df[col] == value, 1, 0)\n",
      "/tmp/ipykernel_122064/2585726239.py:8: PerformanceWarning: DataFrame is highly fragmented.  This is usually the result of calling `frame.insert` many times, which has poor performance.  Consider joining all columns at once using pd.concat(axis=1) instead. To get a de-fragmented frame, use `newframe = frame.copy()`\n",
      "  df[col_name] = np.where(df[col] == value, 1, 0)\n",
      "/tmp/ipykernel_122064/2585726239.py:8: PerformanceWarning: DataFrame is highly fragmented.  This is usually the result of calling `frame.insert` many times, which has poor performance.  Consider joining all columns at once using pd.concat(axis=1) instead. To get a de-fragmented frame, use `newframe = frame.copy()`\n",
      "  df[col_name] = np.where(df[col] == value, 1, 0)\n",
      "/tmp/ipykernel_122064/2585726239.py:8: PerformanceWarning: DataFrame is highly fragmented.  This is usually the result of calling `frame.insert` many times, which has poor performance.  Consider joining all columns at once using pd.concat(axis=1) instead. To get a de-fragmented frame, use `newframe = frame.copy()`\n",
      "  df[col_name] = np.where(df[col] == value, 1, 0)\n",
      "/tmp/ipykernel_122064/2585726239.py:8: PerformanceWarning: DataFrame is highly fragmented.  This is usually the result of calling `frame.insert` many times, which has poor performance.  Consider joining all columns at once using pd.concat(axis=1) instead. To get a de-fragmented frame, use `newframe = frame.copy()`\n",
      "  df[col_name] = np.where(df[col] == value, 1, 0)\n",
      "/tmp/ipykernel_122064/2585726239.py:8: PerformanceWarning: DataFrame is highly fragmented.  This is usually the result of calling `frame.insert` many times, which has poor performance.  Consider joining all columns at once using pd.concat(axis=1) instead. To get a de-fragmented frame, use `newframe = frame.copy()`\n",
      "  df[col_name] = np.where(df[col] == value, 1, 0)\n",
      "/tmp/ipykernel_122064/2585726239.py:8: PerformanceWarning: DataFrame is highly fragmented.  This is usually the result of calling `frame.insert` many times, which has poor performance.  Consider joining all columns at once using pd.concat(axis=1) instead. To get a de-fragmented frame, use `newframe = frame.copy()`\n",
      "  df[col_name] = np.where(df[col] == value, 1, 0)\n",
      "/tmp/ipykernel_122064/2585726239.py:8: PerformanceWarning: DataFrame is highly fragmented.  This is usually the result of calling `frame.insert` many times, which has poor performance.  Consider joining all columns at once using pd.concat(axis=1) instead. To get a de-fragmented frame, use `newframe = frame.copy()`\n",
      "  df[col_name] = np.where(df[col] == value, 1, 0)\n",
      "/tmp/ipykernel_122064/2585726239.py:8: PerformanceWarning: DataFrame is highly fragmented.  This is usually the result of calling `frame.insert` many times, which has poor performance.  Consider joining all columns at once using pd.concat(axis=1) instead. To get a de-fragmented frame, use `newframe = frame.copy()`\n",
      "  df[col_name] = np.where(df[col] == value, 1, 0)\n",
      "/tmp/ipykernel_122064/2585726239.py:8: PerformanceWarning: DataFrame is highly fragmented.  This is usually the result of calling `frame.insert` many times, which has poor performance.  Consider joining all columns at once using pd.concat(axis=1) instead. To get a de-fragmented frame, use `newframe = frame.copy()`\n",
      "  df[col_name] = np.where(df[col] == value, 1, 0)\n",
      "/tmp/ipykernel_122064/2585726239.py:8: PerformanceWarning: DataFrame is highly fragmented.  This is usually the result of calling `frame.insert` many times, which has poor performance.  Consider joining all columns at once using pd.concat(axis=1) instead. To get a de-fragmented frame, use `newframe = frame.copy()`\n",
      "  df[col_name] = np.where(df[col] == value, 1, 0)\n",
      "/tmp/ipykernel_122064/2585726239.py:8: PerformanceWarning: DataFrame is highly fragmented.  This is usually the result of calling `frame.insert` many times, which has poor performance.  Consider joining all columns at once using pd.concat(axis=1) instead. To get a de-fragmented frame, use `newframe = frame.copy()`\n",
      "  df[col_name] = np.where(df[col] == value, 1, 0)\n",
      "/tmp/ipykernel_122064/2585726239.py:8: PerformanceWarning: DataFrame is highly fragmented.  This is usually the result of calling `frame.insert` many times, which has poor performance.  Consider joining all columns at once using pd.concat(axis=1) instead. To get a de-fragmented frame, use `newframe = frame.copy()`\n",
      "  df[col_name] = np.where(df[col] == value, 1, 0)\n",
      "/tmp/ipykernel_122064/2585726239.py:8: PerformanceWarning: DataFrame is highly fragmented.  This is usually the result of calling `frame.insert` many times, which has poor performance.  Consider joining all columns at once using pd.concat(axis=1) instead. To get a de-fragmented frame, use `newframe = frame.copy()`\n",
      "  df[col_name] = np.where(df[col] == value, 1, 0)\n",
      "/tmp/ipykernel_122064/2585726239.py:8: PerformanceWarning: DataFrame is highly fragmented.  This is usually the result of calling `frame.insert` many times, which has poor performance.  Consider joining all columns at once using pd.concat(axis=1) instead. To get a de-fragmented frame, use `newframe = frame.copy()`\n",
      "  df[col_name] = np.where(df[col] == value, 1, 0)\n",
      "/tmp/ipykernel_122064/2585726239.py:8: PerformanceWarning: DataFrame is highly fragmented.  This is usually the result of calling `frame.insert` many times, which has poor performance.  Consider joining all columns at once using pd.concat(axis=1) instead. To get a de-fragmented frame, use `newframe = frame.copy()`\n",
      "  df[col_name] = np.where(df[col] == value, 1, 0)\n",
      "/tmp/ipykernel_122064/2585726239.py:8: PerformanceWarning: DataFrame is highly fragmented.  This is usually the result of calling `frame.insert` many times, which has poor performance.  Consider joining all columns at once using pd.concat(axis=1) instead. To get a de-fragmented frame, use `newframe = frame.copy()`\n",
      "  df[col_name] = np.where(df[col] == value, 1, 0)\n",
      "/tmp/ipykernel_122064/2585726239.py:8: PerformanceWarning: DataFrame is highly fragmented.  This is usually the result of calling `frame.insert` many times, which has poor performance.  Consider joining all columns at once using pd.concat(axis=1) instead. To get a de-fragmented frame, use `newframe = frame.copy()`\n",
      "  df[col_name] = np.where(df[col] == value, 1, 0)\n",
      "/tmp/ipykernel_122064/2585726239.py:8: PerformanceWarning: DataFrame is highly fragmented.  This is usually the result of calling `frame.insert` many times, which has poor performance.  Consider joining all columns at once using pd.concat(axis=1) instead. To get a de-fragmented frame, use `newframe = frame.copy()`\n",
      "  df[col_name] = np.where(df[col] == value, 1, 0)\n",
      "/tmp/ipykernel_122064/2585726239.py:8: PerformanceWarning: DataFrame is highly fragmented.  This is usually the result of calling `frame.insert` many times, which has poor performance.  Consider joining all columns at once using pd.concat(axis=1) instead. To get a de-fragmented frame, use `newframe = frame.copy()`\n",
      "  df[col_name] = np.where(df[col] == value, 1, 0)\n",
      "/tmp/ipykernel_122064/2585726239.py:8: PerformanceWarning: DataFrame is highly fragmented.  This is usually the result of calling `frame.insert` many times, which has poor performance.  Consider joining all columns at once using pd.concat(axis=1) instead. To get a de-fragmented frame, use `newframe = frame.copy()`\n",
      "  df[col_name] = np.where(df[col] == value, 1, 0)\n",
      "/tmp/ipykernel_122064/2585726239.py:8: PerformanceWarning: DataFrame is highly fragmented.  This is usually the result of calling `frame.insert` many times, which has poor performance.  Consider joining all columns at once using pd.concat(axis=1) instead. To get a de-fragmented frame, use `newframe = frame.copy()`\n",
      "  df[col_name] = np.where(df[col] == value, 1, 0)\n",
      "/tmp/ipykernel_122064/2585726239.py:8: PerformanceWarning: DataFrame is highly fragmented.  This is usually the result of calling `frame.insert` many times, which has poor performance.  Consider joining all columns at once using pd.concat(axis=1) instead. To get a de-fragmented frame, use `newframe = frame.copy()`\n",
      "  df[col_name] = np.where(df[col] == value, 1, 0)\n",
      "/tmp/ipykernel_122064/2585726239.py:8: PerformanceWarning: DataFrame is highly fragmented.  This is usually the result of calling `frame.insert` many times, which has poor performance.  Consider joining all columns at once using pd.concat(axis=1) instead. To get a de-fragmented frame, use `newframe = frame.copy()`\n",
      "  df[col_name] = np.where(df[col] == value, 1, 0)\n",
      "/tmp/ipykernel_122064/2585726239.py:8: PerformanceWarning: DataFrame is highly fragmented.  This is usually the result of calling `frame.insert` many times, which has poor performance.  Consider joining all columns at once using pd.concat(axis=1) instead. To get a de-fragmented frame, use `newframe = frame.copy()`\n",
      "  df[col_name] = np.where(df[col] == value, 1, 0)\n",
      "/tmp/ipykernel_122064/2585726239.py:8: PerformanceWarning: DataFrame is highly fragmented.  This is usually the result of calling `frame.insert` many times, which has poor performance.  Consider joining all columns at once using pd.concat(axis=1) instead. To get a de-fragmented frame, use `newframe = frame.copy()`\n",
      "  df[col_name] = np.where(df[col] == value, 1, 0)\n",
      "/tmp/ipykernel_122064/2585726239.py:8: PerformanceWarning: DataFrame is highly fragmented.  This is usually the result of calling `frame.insert` many times, which has poor performance.  Consider joining all columns at once using pd.concat(axis=1) instead. To get a de-fragmented frame, use `newframe = frame.copy()`\n",
      "  df[col_name] = np.where(df[col] == value, 1, 0)\n",
      "/tmp/ipykernel_122064/2585726239.py:8: PerformanceWarning: DataFrame is highly fragmented.  This is usually the result of calling `frame.insert` many times, which has poor performance.  Consider joining all columns at once using pd.concat(axis=1) instead. To get a de-fragmented frame, use `newframe = frame.copy()`\n",
      "  df[col_name] = np.where(df[col] == value, 1, 0)\n",
      "/tmp/ipykernel_122064/2585726239.py:8: PerformanceWarning: DataFrame is highly fragmented.  This is usually the result of calling `frame.insert` many times, which has poor performance.  Consider joining all columns at once using pd.concat(axis=1) instead. To get a de-fragmented frame, use `newframe = frame.copy()`\n",
      "  df[col_name] = np.where(df[col] == value, 1, 0)\n",
      "/tmp/ipykernel_122064/2585726239.py:8: PerformanceWarning: DataFrame is highly fragmented.  This is usually the result of calling `frame.insert` many times, which has poor performance.  Consider joining all columns at once using pd.concat(axis=1) instead. To get a de-fragmented frame, use `newframe = frame.copy()`\n",
      "  df[col_name] = np.where(df[col] == value, 1, 0)\n",
      "/tmp/ipykernel_122064/2585726239.py:8: PerformanceWarning: DataFrame is highly fragmented.  This is usually the result of calling `frame.insert` many times, which has poor performance.  Consider joining all columns at once using pd.concat(axis=1) instead. To get a de-fragmented frame, use `newframe = frame.copy()`\n",
      "  df[col_name] = np.where(df[col] == value, 1, 0)\n",
      "/tmp/ipykernel_122064/2585726239.py:8: PerformanceWarning: DataFrame is highly fragmented.  This is usually the result of calling `frame.insert` many times, which has poor performance.  Consider joining all columns at once using pd.concat(axis=1) instead. To get a de-fragmented frame, use `newframe = frame.copy()`\n",
      "  df[col_name] = np.where(df[col] == value, 1, 0)\n",
      "/tmp/ipykernel_122064/2585726239.py:8: PerformanceWarning: DataFrame is highly fragmented.  This is usually the result of calling `frame.insert` many times, which has poor performance.  Consider joining all columns at once using pd.concat(axis=1) instead. To get a de-fragmented frame, use `newframe = frame.copy()`\n",
      "  df[col_name] = np.where(df[col] == value, 1, 0)\n",
      "/tmp/ipykernel_122064/2585726239.py:8: PerformanceWarning: DataFrame is highly fragmented.  This is usually the result of calling `frame.insert` many times, which has poor performance.  Consider joining all columns at once using pd.concat(axis=1) instead. To get a de-fragmented frame, use `newframe = frame.copy()`\n",
      "  df[col_name] = np.where(df[col] == value, 1, 0)\n",
      "/tmp/ipykernel_122064/2585726239.py:8: PerformanceWarning: DataFrame is highly fragmented.  This is usually the result of calling `frame.insert` many times, which has poor performance.  Consider joining all columns at once using pd.concat(axis=1) instead. To get a de-fragmented frame, use `newframe = frame.copy()`\n",
      "  df[col_name] = np.where(df[col] == value, 1, 0)\n",
      "/tmp/ipykernel_122064/2585726239.py:8: PerformanceWarning: DataFrame is highly fragmented.  This is usually the result of calling `frame.insert` many times, which has poor performance.  Consider joining all columns at once using pd.concat(axis=1) instead. To get a de-fragmented frame, use `newframe = frame.copy()`\n",
      "  df[col_name] = np.where(df[col] == value, 1, 0)\n",
      "/tmp/ipykernel_122064/2585726239.py:8: PerformanceWarning: DataFrame is highly fragmented.  This is usually the result of calling `frame.insert` many times, which has poor performance.  Consider joining all columns at once using pd.concat(axis=1) instead. To get a de-fragmented frame, use `newframe = frame.copy()`\n",
      "  df[col_name] = np.where(df[col] == value, 1, 0)\n",
      "/tmp/ipykernel_122064/2585726239.py:8: PerformanceWarning: DataFrame is highly fragmented.  This is usually the result of calling `frame.insert` many times, which has poor performance.  Consider joining all columns at once using pd.concat(axis=1) instead. To get a de-fragmented frame, use `newframe = frame.copy()`\n",
      "  df[col_name] = np.where(df[col] == value, 1, 0)\n",
      "/tmp/ipykernel_122064/2585726239.py:8: PerformanceWarning: DataFrame is highly fragmented.  This is usually the result of calling `frame.insert` many times, which has poor performance.  Consider joining all columns at once using pd.concat(axis=1) instead. To get a de-fragmented frame, use `newframe = frame.copy()`\n",
      "  df[col_name] = np.where(df[col] == value, 1, 0)\n",
      "/tmp/ipykernel_122064/2585726239.py:8: PerformanceWarning: DataFrame is highly fragmented.  This is usually the result of calling `frame.insert` many times, which has poor performance.  Consider joining all columns at once using pd.concat(axis=1) instead. To get a de-fragmented frame, use `newframe = frame.copy()`\n",
      "  df[col_name] = np.where(df[col] == value, 1, 0)\n",
      "/tmp/ipykernel_122064/2585726239.py:8: PerformanceWarning: DataFrame is highly fragmented.  This is usually the result of calling `frame.insert` many times, which has poor performance.  Consider joining all columns at once using pd.concat(axis=1) instead. To get a de-fragmented frame, use `newframe = frame.copy()`\n",
      "  df[col_name] = np.where(df[col] == value, 1, 0)\n",
      "/tmp/ipykernel_122064/2585726239.py:8: PerformanceWarning: DataFrame is highly fragmented.  This is usually the result of calling `frame.insert` many times, which has poor performance.  Consider joining all columns at once using pd.concat(axis=1) instead. To get a de-fragmented frame, use `newframe = frame.copy()`\n",
      "  df[col_name] = np.where(df[col] == value, 1, 0)\n",
      "/tmp/ipykernel_122064/2585726239.py:8: PerformanceWarning: DataFrame is highly fragmented.  This is usually the result of calling `frame.insert` many times, which has poor performance.  Consider joining all columns at once using pd.concat(axis=1) instead. To get a de-fragmented frame, use `newframe = frame.copy()`\n",
      "  df[col_name] = np.where(df[col] == value, 1, 0)\n",
      "/tmp/ipykernel_122064/2585726239.py:8: PerformanceWarning: DataFrame is highly fragmented.  This is usually the result of calling `frame.insert` many times, which has poor performance.  Consider joining all columns at once using pd.concat(axis=1) instead. To get a de-fragmented frame, use `newframe = frame.copy()`\n",
      "  df[col_name] = np.where(df[col] == value, 1, 0)\n",
      "/tmp/ipykernel_122064/2585726239.py:8: PerformanceWarning: DataFrame is highly fragmented.  This is usually the result of calling `frame.insert` many times, which has poor performance.  Consider joining all columns at once using pd.concat(axis=1) instead. To get a de-fragmented frame, use `newframe = frame.copy()`\n",
      "  df[col_name] = np.where(df[col] == value, 1, 0)\n",
      "/tmp/ipykernel_122064/2585726239.py:8: PerformanceWarning: DataFrame is highly fragmented.  This is usually the result of calling `frame.insert` many times, which has poor performance.  Consider joining all columns at once using pd.concat(axis=1) instead. To get a de-fragmented frame, use `newframe = frame.copy()`\n",
      "  df[col_name] = np.where(df[col] == value, 1, 0)\n",
      "/tmp/ipykernel_122064/2585726239.py:8: PerformanceWarning: DataFrame is highly fragmented.  This is usually the result of calling `frame.insert` many times, which has poor performance.  Consider joining all columns at once using pd.concat(axis=1) instead. To get a de-fragmented frame, use `newframe = frame.copy()`\n",
      "  df[col_name] = np.where(df[col] == value, 1, 0)\n",
      "/tmp/ipykernel_122064/2585726239.py:8: PerformanceWarning: DataFrame is highly fragmented.  This is usually the result of calling `frame.insert` many times, which has poor performance.  Consider joining all columns at once using pd.concat(axis=1) instead. To get a de-fragmented frame, use `newframe = frame.copy()`\n",
      "  df[col_name] = np.where(df[col] == value, 1, 0)\n",
      "/tmp/ipykernel_122064/2585726239.py:8: PerformanceWarning: DataFrame is highly fragmented.  This is usually the result of calling `frame.insert` many times, which has poor performance.  Consider joining all columns at once using pd.concat(axis=1) instead. To get a de-fragmented frame, use `newframe = frame.copy()`\n",
      "  df[col_name] = np.where(df[col] == value, 1, 0)\n",
      "/tmp/ipykernel_122064/2585726239.py:8: PerformanceWarning: DataFrame is highly fragmented.  This is usually the result of calling `frame.insert` many times, which has poor performance.  Consider joining all columns at once using pd.concat(axis=1) instead. To get a de-fragmented frame, use `newframe = frame.copy()`\n",
      "  df[col_name] = np.where(df[col] == value, 1, 0)\n",
      "/tmp/ipykernel_122064/2585726239.py:8: PerformanceWarning: DataFrame is highly fragmented.  This is usually the result of calling `frame.insert` many times, which has poor performance.  Consider joining all columns at once using pd.concat(axis=1) instead. To get a de-fragmented frame, use `newframe = frame.copy()`\n",
      "  df[col_name] = np.where(df[col] == value, 1, 0)\n",
      "/tmp/ipykernel_122064/2585726239.py:8: PerformanceWarning: DataFrame is highly fragmented.  This is usually the result of calling `frame.insert` many times, which has poor performance.  Consider joining all columns at once using pd.concat(axis=1) instead. To get a de-fragmented frame, use `newframe = frame.copy()`\n",
      "  df[col_name] = np.where(df[col] == value, 1, 0)\n",
      "/tmp/ipykernel_122064/2585726239.py:8: PerformanceWarning: DataFrame is highly fragmented.  This is usually the result of calling `frame.insert` many times, which has poor performance.  Consider joining all columns at once using pd.concat(axis=1) instead. To get a de-fragmented frame, use `newframe = frame.copy()`\n",
      "  df[col_name] = np.where(df[col] == value, 1, 0)\n",
      "/tmp/ipykernel_122064/2585726239.py:8: PerformanceWarning: DataFrame is highly fragmented.  This is usually the result of calling `frame.insert` many times, which has poor performance.  Consider joining all columns at once using pd.concat(axis=1) instead. To get a de-fragmented frame, use `newframe = frame.copy()`\n",
      "  df[col_name] = np.where(df[col] == value, 1, 0)\n",
      "/tmp/ipykernel_122064/2585726239.py:8: PerformanceWarning: DataFrame is highly fragmented.  This is usually the result of calling `frame.insert` many times, which has poor performance.  Consider joining all columns at once using pd.concat(axis=1) instead. To get a de-fragmented frame, use `newframe = frame.copy()`\n",
      "  df[col_name] = np.where(df[col] == value, 1, 0)\n",
      "/tmp/ipykernel_122064/2585726239.py:8: PerformanceWarning: DataFrame is highly fragmented.  This is usually the result of calling `frame.insert` many times, which has poor performance.  Consider joining all columns at once using pd.concat(axis=1) instead. To get a de-fragmented frame, use `newframe = frame.copy()`\n",
      "  df[col_name] = np.where(df[col] == value, 1, 0)\n",
      "/tmp/ipykernel_122064/2585726239.py:8: PerformanceWarning: DataFrame is highly fragmented.  This is usually the result of calling `frame.insert` many times, which has poor performance.  Consider joining all columns at once using pd.concat(axis=1) instead. To get a de-fragmented frame, use `newframe = frame.copy()`\n",
      "  df[col_name] = np.where(df[col] == value, 1, 0)\n",
      "/tmp/ipykernel_122064/2585726239.py:8: PerformanceWarning: DataFrame is highly fragmented.  This is usually the result of calling `frame.insert` many times, which has poor performance.  Consider joining all columns at once using pd.concat(axis=1) instead. To get a de-fragmented frame, use `newframe = frame.copy()`\n",
      "  df[col_name] = np.where(df[col] == value, 1, 0)\n",
      "/tmp/ipykernel_122064/2585726239.py:8: PerformanceWarning: DataFrame is highly fragmented.  This is usually the result of calling `frame.insert` many times, which has poor performance.  Consider joining all columns at once using pd.concat(axis=1) instead. To get a de-fragmented frame, use `newframe = frame.copy()`\n",
      "  df[col_name] = np.where(df[col] == value, 1, 0)\n",
      "/tmp/ipykernel_122064/2585726239.py:8: PerformanceWarning: DataFrame is highly fragmented.  This is usually the result of calling `frame.insert` many times, which has poor performance.  Consider joining all columns at once using pd.concat(axis=1) instead. To get a de-fragmented frame, use `newframe = frame.copy()`\n",
      "  df[col_name] = np.where(df[col] == value, 1, 0)\n",
      "/tmp/ipykernel_122064/2585726239.py:8: PerformanceWarning: DataFrame is highly fragmented.  This is usually the result of calling `frame.insert` many times, which has poor performance.  Consider joining all columns at once using pd.concat(axis=1) instead. To get a de-fragmented frame, use `newframe = frame.copy()`\n",
      "  df[col_name] = np.where(df[col] == value, 1, 0)\n",
      "/tmp/ipykernel_122064/2585726239.py:8: PerformanceWarning: DataFrame is highly fragmented.  This is usually the result of calling `frame.insert` many times, which has poor performance.  Consider joining all columns at once using pd.concat(axis=1) instead. To get a de-fragmented frame, use `newframe = frame.copy()`\n",
      "  df[col_name] = np.where(df[col] == value, 1, 0)\n",
      "/tmp/ipykernel_122064/2585726239.py:8: PerformanceWarning: DataFrame is highly fragmented.  This is usually the result of calling `frame.insert` many times, which has poor performance.  Consider joining all columns at once using pd.concat(axis=1) instead. To get a de-fragmented frame, use `newframe = frame.copy()`\n",
      "  df[col_name] = np.where(df[col] == value, 1, 0)\n",
      "/tmp/ipykernel_122064/2585726239.py:8: PerformanceWarning: DataFrame is highly fragmented.  This is usually the result of calling `frame.insert` many times, which has poor performance.  Consider joining all columns at once using pd.concat(axis=1) instead. To get a de-fragmented frame, use `newframe = frame.copy()`\n",
      "  df[col_name] = np.where(df[col] == value, 1, 0)\n",
      "/tmp/ipykernel_122064/2585726239.py:8: PerformanceWarning: DataFrame is highly fragmented.  This is usually the result of calling `frame.insert` many times, which has poor performance.  Consider joining all columns at once using pd.concat(axis=1) instead. To get a de-fragmented frame, use `newframe = frame.copy()`\n",
      "  df[col_name] = np.where(df[col] == value, 1, 0)\n",
      "/tmp/ipykernel_122064/2585726239.py:8: PerformanceWarning: DataFrame is highly fragmented.  This is usually the result of calling `frame.insert` many times, which has poor performance.  Consider joining all columns at once using pd.concat(axis=1) instead. To get a de-fragmented frame, use `newframe = frame.copy()`\n",
      "  df[col_name] = np.where(df[col] == value, 1, 0)\n",
      "/tmp/ipykernel_122064/2585726239.py:8: PerformanceWarning: DataFrame is highly fragmented.  This is usually the result of calling `frame.insert` many times, which has poor performance.  Consider joining all columns at once using pd.concat(axis=1) instead. To get a de-fragmented frame, use `newframe = frame.copy()`\n",
      "  df[col_name] = np.where(df[col] == value, 1, 0)\n",
      "/tmp/ipykernel_122064/2585726239.py:8: PerformanceWarning: DataFrame is highly fragmented.  This is usually the result of calling `frame.insert` many times, which has poor performance.  Consider joining all columns at once using pd.concat(axis=1) instead. To get a de-fragmented frame, use `newframe = frame.copy()`\n",
      "  df[col_name] = np.where(df[col] == value, 1, 0)\n",
      "/tmp/ipykernel_122064/2585726239.py:8: PerformanceWarning: DataFrame is highly fragmented.  This is usually the result of calling `frame.insert` many times, which has poor performance.  Consider joining all columns at once using pd.concat(axis=1) instead. To get a de-fragmented frame, use `newframe = frame.copy()`\n",
      "  df[col_name] = np.where(df[col] == value, 1, 0)\n",
      "/tmp/ipykernel_122064/2585726239.py:8: PerformanceWarning: DataFrame is highly fragmented.  This is usually the result of calling `frame.insert` many times, which has poor performance.  Consider joining all columns at once using pd.concat(axis=1) instead. To get a de-fragmented frame, use `newframe = frame.copy()`\n",
      "  df[col_name] = np.where(df[col] == value, 1, 0)\n",
      "/tmp/ipykernel_122064/2585726239.py:8: PerformanceWarning: DataFrame is highly fragmented.  This is usually the result of calling `frame.insert` many times, which has poor performance.  Consider joining all columns at once using pd.concat(axis=1) instead. To get a de-fragmented frame, use `newframe = frame.copy()`\n",
      "  df[col_name] = np.where(df[col] == value, 1, 0)\n",
      "/tmp/ipykernel_122064/2585726239.py:8: PerformanceWarning: DataFrame is highly fragmented.  This is usually the result of calling `frame.insert` many times, which has poor performance.  Consider joining all columns at once using pd.concat(axis=1) instead. To get a de-fragmented frame, use `newframe = frame.copy()`\n",
      "  df[col_name] = np.where(df[col] == value, 1, 0)\n",
      "/tmp/ipykernel_122064/2585726239.py:8: PerformanceWarning: DataFrame is highly fragmented.  This is usually the result of calling `frame.insert` many times, which has poor performance.  Consider joining all columns at once using pd.concat(axis=1) instead. To get a de-fragmented frame, use `newframe = frame.copy()`\n",
      "  df[col_name] = np.where(df[col] == value, 1, 0)\n",
      "/tmp/ipykernel_122064/2585726239.py:8: PerformanceWarning: DataFrame is highly fragmented.  This is usually the result of calling `frame.insert` many times, which has poor performance.  Consider joining all columns at once using pd.concat(axis=1) instead. To get a de-fragmented frame, use `newframe = frame.copy()`\n",
      "  df[col_name] = np.where(df[col] == value, 1, 0)\n",
      "/tmp/ipykernel_122064/2585726239.py:8: PerformanceWarning: DataFrame is highly fragmented.  This is usually the result of calling `frame.insert` many times, which has poor performance.  Consider joining all columns at once using pd.concat(axis=1) instead. To get a de-fragmented frame, use `newframe = frame.copy()`\n",
      "  df[col_name] = np.where(df[col] == value, 1, 0)\n",
      "/tmp/ipykernel_122064/2585726239.py:8: PerformanceWarning: DataFrame is highly fragmented.  This is usually the result of calling `frame.insert` many times, which has poor performance.  Consider joining all columns at once using pd.concat(axis=1) instead. To get a de-fragmented frame, use `newframe = frame.copy()`\n",
      "  df[col_name] = np.where(df[col] == value, 1, 0)\n",
      "/tmp/ipykernel_122064/2585726239.py:8: PerformanceWarning: DataFrame is highly fragmented.  This is usually the result of calling `frame.insert` many times, which has poor performance.  Consider joining all columns at once using pd.concat(axis=1) instead. To get a de-fragmented frame, use `newframe = frame.copy()`\n",
      "  df[col_name] = np.where(df[col] == value, 1, 0)\n",
      "/tmp/ipykernel_122064/2585726239.py:8: PerformanceWarning: DataFrame is highly fragmented.  This is usually the result of calling `frame.insert` many times, which has poor performance.  Consider joining all columns at once using pd.concat(axis=1) instead. To get a de-fragmented frame, use `newframe = frame.copy()`\n",
      "  df[col_name] = np.where(df[col] == value, 1, 0)\n",
      "/tmp/ipykernel_122064/2585726239.py:8: PerformanceWarning: DataFrame is highly fragmented.  This is usually the result of calling `frame.insert` many times, which has poor performance.  Consider joining all columns at once using pd.concat(axis=1) instead. To get a de-fragmented frame, use `newframe = frame.copy()`\n",
      "  df[col_name] = np.where(df[col] == value, 1, 0)\n",
      "/tmp/ipykernel_122064/2585726239.py:8: PerformanceWarning: DataFrame is highly fragmented.  This is usually the result of calling `frame.insert` many times, which has poor performance.  Consider joining all columns at once using pd.concat(axis=1) instead. To get a de-fragmented frame, use `newframe = frame.copy()`\n",
      "  df[col_name] = np.where(df[col] == value, 1, 0)\n",
      "/tmp/ipykernel_122064/2585726239.py:8: PerformanceWarning: DataFrame is highly fragmented.  This is usually the result of calling `frame.insert` many times, which has poor performance.  Consider joining all columns at once using pd.concat(axis=1) instead. To get a de-fragmented frame, use `newframe = frame.copy()`\n",
      "  df[col_name] = np.where(df[col] == value, 1, 0)\n",
      "/tmp/ipykernel_122064/2585726239.py:8: PerformanceWarning: DataFrame is highly fragmented.  This is usually the result of calling `frame.insert` many times, which has poor performance.  Consider joining all columns at once using pd.concat(axis=1) instead. To get a de-fragmented frame, use `newframe = frame.copy()`\n",
      "  df[col_name] = np.where(df[col] == value, 1, 0)\n",
      "/tmp/ipykernel_122064/2585726239.py:8: PerformanceWarning: DataFrame is highly fragmented.  This is usually the result of calling `frame.insert` many times, which has poor performance.  Consider joining all columns at once using pd.concat(axis=1) instead. To get a de-fragmented frame, use `newframe = frame.copy()`\n",
      "  df[col_name] = np.where(df[col] == value, 1, 0)\n",
      "/tmp/ipykernel_122064/2585726239.py:8: PerformanceWarning: DataFrame is highly fragmented.  This is usually the result of calling `frame.insert` many times, which has poor performance.  Consider joining all columns at once using pd.concat(axis=1) instead. To get a de-fragmented frame, use `newframe = frame.copy()`\n",
      "  df[col_name] = np.where(df[col] == value, 1, 0)\n",
      "/tmp/ipykernel_122064/2585726239.py:8: PerformanceWarning: DataFrame is highly fragmented.  This is usually the result of calling `frame.insert` many times, which has poor performance.  Consider joining all columns at once using pd.concat(axis=1) instead. To get a de-fragmented frame, use `newframe = frame.copy()`\n",
      "  df[col_name] = np.where(df[col] == value, 1, 0)\n",
      "/tmp/ipykernel_122064/2585726239.py:8: PerformanceWarning: DataFrame is highly fragmented.  This is usually the result of calling `frame.insert` many times, which has poor performance.  Consider joining all columns at once using pd.concat(axis=1) instead. To get a de-fragmented frame, use `newframe = frame.copy()`\n",
      "  df[col_name] = np.where(df[col] == value, 1, 0)\n",
      "/tmp/ipykernel_122064/2585726239.py:8: PerformanceWarning: DataFrame is highly fragmented.  This is usually the result of calling `frame.insert` many times, which has poor performance.  Consider joining all columns at once using pd.concat(axis=1) instead. To get a de-fragmented frame, use `newframe = frame.copy()`\n",
      "  df[col_name] = np.where(df[col] == value, 1, 0)\n",
      "/tmp/ipykernel_122064/2585726239.py:8: PerformanceWarning: DataFrame is highly fragmented.  This is usually the result of calling `frame.insert` many times, which has poor performance.  Consider joining all columns at once using pd.concat(axis=1) instead. To get a de-fragmented frame, use `newframe = frame.copy()`\n",
      "  df[col_name] = np.where(df[col] == value, 1, 0)\n",
      "/tmp/ipykernel_122064/2585726239.py:8: PerformanceWarning: DataFrame is highly fragmented.  This is usually the result of calling `frame.insert` many times, which has poor performance.  Consider joining all columns at once using pd.concat(axis=1) instead. To get a de-fragmented frame, use `newframe = frame.copy()`\n",
      "  df[col_name] = np.where(df[col] == value, 1, 0)\n",
      "/tmp/ipykernel_122064/2585726239.py:8: PerformanceWarning: DataFrame is highly fragmented.  This is usually the result of calling `frame.insert` many times, which has poor performance.  Consider joining all columns at once using pd.concat(axis=1) instead. To get a de-fragmented frame, use `newframe = frame.copy()`\n",
      "  df[col_name] = np.where(df[col] == value, 1, 0)\n",
      "/tmp/ipykernel_122064/2585726239.py:8: PerformanceWarning: DataFrame is highly fragmented.  This is usually the result of calling `frame.insert` many times, which has poor performance.  Consider joining all columns at once using pd.concat(axis=1) instead. To get a de-fragmented frame, use `newframe = frame.copy()`\n",
      "  df[col_name] = np.where(df[col] == value, 1, 0)\n",
      "/tmp/ipykernel_122064/2585726239.py:8: PerformanceWarning: DataFrame is highly fragmented.  This is usually the result of calling `frame.insert` many times, which has poor performance.  Consider joining all columns at once using pd.concat(axis=1) instead. To get a de-fragmented frame, use `newframe = frame.copy()`\n",
      "  df[col_name] = np.where(df[col] == value, 1, 0)\n",
      "/tmp/ipykernel_122064/2585726239.py:8: PerformanceWarning: DataFrame is highly fragmented.  This is usually the result of calling `frame.insert` many times, which has poor performance.  Consider joining all columns at once using pd.concat(axis=1) instead. To get a de-fragmented frame, use `newframe = frame.copy()`\n",
      "  df[col_name] = np.where(df[col] == value, 1, 0)\n",
      "/tmp/ipykernel_122064/2585726239.py:8: PerformanceWarning: DataFrame is highly fragmented.  This is usually the result of calling `frame.insert` many times, which has poor performance.  Consider joining all columns at once using pd.concat(axis=1) instead. To get a de-fragmented frame, use `newframe = frame.copy()`\n",
      "  df[col_name] = np.where(df[col] == value, 1, 0)\n",
      "/tmp/ipykernel_122064/2585726239.py:8: PerformanceWarning: DataFrame is highly fragmented.  This is usually the result of calling `frame.insert` many times, which has poor performance.  Consider joining all columns at once using pd.concat(axis=1) instead. To get a de-fragmented frame, use `newframe = frame.copy()`\n",
      "  df[col_name] = np.where(df[col] == value, 1, 0)\n",
      "/tmp/ipykernel_122064/2585726239.py:8: PerformanceWarning: DataFrame is highly fragmented.  This is usually the result of calling `frame.insert` many times, which has poor performance.  Consider joining all columns at once using pd.concat(axis=1) instead. To get a de-fragmented frame, use `newframe = frame.copy()`\n",
      "  df[col_name] = np.where(df[col] == value, 1, 0)\n",
      "/tmp/ipykernel_122064/2585726239.py:8: PerformanceWarning: DataFrame is highly fragmented.  This is usually the result of calling `frame.insert` many times, which has poor performance.  Consider joining all columns at once using pd.concat(axis=1) instead. To get a de-fragmented frame, use `newframe = frame.copy()`\n",
      "  df[col_name] = np.where(df[col] == value, 1, 0)\n",
      "/tmp/ipykernel_122064/2585726239.py:8: PerformanceWarning: DataFrame is highly fragmented.  This is usually the result of calling `frame.insert` many times, which has poor performance.  Consider joining all columns at once using pd.concat(axis=1) instead. To get a de-fragmented frame, use `newframe = frame.copy()`\n",
      "  df[col_name] = np.where(df[col] == value, 1, 0)\n",
      "/tmp/ipykernel_122064/2585726239.py:8: PerformanceWarning: DataFrame is highly fragmented.  This is usually the result of calling `frame.insert` many times, which has poor performance.  Consider joining all columns at once using pd.concat(axis=1) instead. To get a de-fragmented frame, use `newframe = frame.copy()`\n",
      "  df[col_name] = np.where(df[col] == value, 1, 0)\n",
      "/tmp/ipykernel_122064/2585726239.py:8: PerformanceWarning: DataFrame is highly fragmented.  This is usually the result of calling `frame.insert` many times, which has poor performance.  Consider joining all columns at once using pd.concat(axis=1) instead. To get a de-fragmented frame, use `newframe = frame.copy()`\n",
      "  df[col_name] = np.where(df[col] == value, 1, 0)\n",
      "/tmp/ipykernel_122064/2585726239.py:8: PerformanceWarning: DataFrame is highly fragmented.  This is usually the result of calling `frame.insert` many times, which has poor performance.  Consider joining all columns at once using pd.concat(axis=1) instead. To get a de-fragmented frame, use `newframe = frame.copy()`\n",
      "  df[col_name] = np.where(df[col] == value, 1, 0)\n",
      "/tmp/ipykernel_122064/2585726239.py:8: PerformanceWarning: DataFrame is highly fragmented.  This is usually the result of calling `frame.insert` many times, which has poor performance.  Consider joining all columns at once using pd.concat(axis=1) instead. To get a de-fragmented frame, use `newframe = frame.copy()`\n",
      "  df[col_name] = np.where(df[col] == value, 1, 0)\n",
      "/tmp/ipykernel_122064/2585726239.py:8: PerformanceWarning: DataFrame is highly fragmented.  This is usually the result of calling `frame.insert` many times, which has poor performance.  Consider joining all columns at once using pd.concat(axis=1) instead. To get a de-fragmented frame, use `newframe = frame.copy()`\n",
      "  df[col_name] = np.where(df[col] == value, 1, 0)\n",
      "/tmp/ipykernel_122064/2585726239.py:8: PerformanceWarning: DataFrame is highly fragmented.  This is usually the result of calling `frame.insert` many times, which has poor performance.  Consider joining all columns at once using pd.concat(axis=1) instead. To get a de-fragmented frame, use `newframe = frame.copy()`\n",
      "  df[col_name] = np.where(df[col] == value, 1, 0)\n",
      "/tmp/ipykernel_122064/2585726239.py:8: PerformanceWarning: DataFrame is highly fragmented.  This is usually the result of calling `frame.insert` many times, which has poor performance.  Consider joining all columns at once using pd.concat(axis=1) instead. To get a de-fragmented frame, use `newframe = frame.copy()`\n",
      "  df[col_name] = np.where(df[col] == value, 1, 0)\n",
      "/tmp/ipykernel_122064/2585726239.py:8: PerformanceWarning: DataFrame is highly fragmented.  This is usually the result of calling `frame.insert` many times, which has poor performance.  Consider joining all columns at once using pd.concat(axis=1) instead. To get a de-fragmented frame, use `newframe = frame.copy()`\n",
      "  df[col_name] = np.where(df[col] == value, 1, 0)\n",
      "/tmp/ipykernel_122064/2585726239.py:8: PerformanceWarning: DataFrame is highly fragmented.  This is usually the result of calling `frame.insert` many times, which has poor performance.  Consider joining all columns at once using pd.concat(axis=1) instead. To get a de-fragmented frame, use `newframe = frame.copy()`\n",
      "  df[col_name] = np.where(df[col] == value, 1, 0)\n",
      "/tmp/ipykernel_122064/2585726239.py:8: PerformanceWarning: DataFrame is highly fragmented.  This is usually the result of calling `frame.insert` many times, which has poor performance.  Consider joining all columns at once using pd.concat(axis=1) instead. To get a de-fragmented frame, use `newframe = frame.copy()`\n",
      "  df[col_name] = np.where(df[col] == value, 1, 0)\n",
      "/tmp/ipykernel_122064/2585726239.py:8: PerformanceWarning: DataFrame is highly fragmented.  This is usually the result of calling `frame.insert` many times, which has poor performance.  Consider joining all columns at once using pd.concat(axis=1) instead. To get a de-fragmented frame, use `newframe = frame.copy()`\n",
      "  df[col_name] = np.where(df[col] == value, 1, 0)\n",
      "/tmp/ipykernel_122064/2585726239.py:8: PerformanceWarning: DataFrame is highly fragmented.  This is usually the result of calling `frame.insert` many times, which has poor performance.  Consider joining all columns at once using pd.concat(axis=1) instead. To get a de-fragmented frame, use `newframe = frame.copy()`\n",
      "  df[col_name] = np.where(df[col] == value, 1, 0)\n",
      "/tmp/ipykernel_122064/2585726239.py:8: PerformanceWarning: DataFrame is highly fragmented.  This is usually the result of calling `frame.insert` many times, which has poor performance.  Consider joining all columns at once using pd.concat(axis=1) instead. To get a de-fragmented frame, use `newframe = frame.copy()`\n",
      "  df[col_name] = np.where(df[col] == value, 1, 0)\n",
      "/tmp/ipykernel_122064/2585726239.py:8: PerformanceWarning: DataFrame is highly fragmented.  This is usually the result of calling `frame.insert` many times, which has poor performance.  Consider joining all columns at once using pd.concat(axis=1) instead. To get a de-fragmented frame, use `newframe = frame.copy()`\n",
      "  df[col_name] = np.where(df[col] == value, 1, 0)\n",
      "/tmp/ipykernel_122064/2585726239.py:8: PerformanceWarning: DataFrame is highly fragmented.  This is usually the result of calling `frame.insert` many times, which has poor performance.  Consider joining all columns at once using pd.concat(axis=1) instead. To get a de-fragmented frame, use `newframe = frame.copy()`\n",
      "  df[col_name] = np.where(df[col] == value, 1, 0)\n",
      "/tmp/ipykernel_122064/2585726239.py:8: PerformanceWarning: DataFrame is highly fragmented.  This is usually the result of calling `frame.insert` many times, which has poor performance.  Consider joining all columns at once using pd.concat(axis=1) instead. To get a de-fragmented frame, use `newframe = frame.copy()`\n",
      "  df[col_name] = np.where(df[col] == value, 1, 0)\n",
      "/tmp/ipykernel_122064/2585726239.py:8: PerformanceWarning: DataFrame is highly fragmented.  This is usually the result of calling `frame.insert` many times, which has poor performance.  Consider joining all columns at once using pd.concat(axis=1) instead. To get a de-fragmented frame, use `newframe = frame.copy()`\n",
      "  df[col_name] = np.where(df[col] == value, 1, 0)\n",
      "/tmp/ipykernel_122064/2585726239.py:8: PerformanceWarning: DataFrame is highly fragmented.  This is usually the result of calling `frame.insert` many times, which has poor performance.  Consider joining all columns at once using pd.concat(axis=1) instead. To get a de-fragmented frame, use `newframe = frame.copy()`\n",
      "  df[col_name] = np.where(df[col] == value, 1, 0)\n",
      "/tmp/ipykernel_122064/2585726239.py:8: PerformanceWarning: DataFrame is highly fragmented.  This is usually the result of calling `frame.insert` many times, which has poor performance.  Consider joining all columns at once using pd.concat(axis=1) instead. To get a de-fragmented frame, use `newframe = frame.copy()`\n",
      "  df[col_name] = np.where(df[col] == value, 1, 0)\n",
      "/tmp/ipykernel_122064/2585726239.py:8: PerformanceWarning: DataFrame is highly fragmented.  This is usually the result of calling `frame.insert` many times, which has poor performance.  Consider joining all columns at once using pd.concat(axis=1) instead. To get a de-fragmented frame, use `newframe = frame.copy()`\n",
      "  df[col_name] = np.where(df[col] == value, 1, 0)\n",
      "/tmp/ipykernel_122064/2585726239.py:8: PerformanceWarning: DataFrame is highly fragmented.  This is usually the result of calling `frame.insert` many times, which has poor performance.  Consider joining all columns at once using pd.concat(axis=1) instead. To get a de-fragmented frame, use `newframe = frame.copy()`\n",
      "  df[col_name] = np.where(df[col] == value, 1, 0)\n",
      "/tmp/ipykernel_122064/2585726239.py:8: PerformanceWarning: DataFrame is highly fragmented.  This is usually the result of calling `frame.insert` many times, which has poor performance.  Consider joining all columns at once using pd.concat(axis=1) instead. To get a de-fragmented frame, use `newframe = frame.copy()`\n",
      "  df[col_name] = np.where(df[col] == value, 1, 0)\n",
      "/tmp/ipykernel_122064/2585726239.py:8: PerformanceWarning: DataFrame is highly fragmented.  This is usually the result of calling `frame.insert` many times, which has poor performance.  Consider joining all columns at once using pd.concat(axis=1) instead. To get a de-fragmented frame, use `newframe = frame.copy()`\n",
      "  df[col_name] = np.where(df[col] == value, 1, 0)\n",
      "/tmp/ipykernel_122064/2585726239.py:8: PerformanceWarning: DataFrame is highly fragmented.  This is usually the result of calling `frame.insert` many times, which has poor performance.  Consider joining all columns at once using pd.concat(axis=1) instead. To get a de-fragmented frame, use `newframe = frame.copy()`\n",
      "  df[col_name] = np.where(df[col] == value, 1, 0)\n",
      "/tmp/ipykernel_122064/2585726239.py:8: PerformanceWarning: DataFrame is highly fragmented.  This is usually the result of calling `frame.insert` many times, which has poor performance.  Consider joining all columns at once using pd.concat(axis=1) instead. To get a de-fragmented frame, use `newframe = frame.copy()`\n",
      "  df[col_name] = np.where(df[col] == value, 1, 0)\n",
      "/tmp/ipykernel_122064/2585726239.py:8: PerformanceWarning: DataFrame is highly fragmented.  This is usually the result of calling `frame.insert` many times, which has poor performance.  Consider joining all columns at once using pd.concat(axis=1) instead. To get a de-fragmented frame, use `newframe = frame.copy()`\n",
      "  df[col_name] = np.where(df[col] == value, 1, 0)\n",
      "/tmp/ipykernel_122064/2585726239.py:8: PerformanceWarning: DataFrame is highly fragmented.  This is usually the result of calling `frame.insert` many times, which has poor performance.  Consider joining all columns at once using pd.concat(axis=1) instead. To get a de-fragmented frame, use `newframe = frame.copy()`\n",
      "  df[col_name] = np.where(df[col] == value, 1, 0)\n",
      "/tmp/ipykernel_122064/2585726239.py:8: PerformanceWarning: DataFrame is highly fragmented.  This is usually the result of calling `frame.insert` many times, which has poor performance.  Consider joining all columns at once using pd.concat(axis=1) instead. To get a de-fragmented frame, use `newframe = frame.copy()`\n",
      "  df[col_name] = np.where(df[col] == value, 1, 0)\n",
      "/tmp/ipykernel_122064/2585726239.py:8: PerformanceWarning: DataFrame is highly fragmented.  This is usually the result of calling `frame.insert` many times, which has poor performance.  Consider joining all columns at once using pd.concat(axis=1) instead. To get a de-fragmented frame, use `newframe = frame.copy()`\n",
      "  df[col_name] = np.where(df[col] == value, 1, 0)\n",
      "/tmp/ipykernel_122064/2585726239.py:8: PerformanceWarning: DataFrame is highly fragmented.  This is usually the result of calling `frame.insert` many times, which has poor performance.  Consider joining all columns at once using pd.concat(axis=1) instead. To get a de-fragmented frame, use `newframe = frame.copy()`\n",
      "  df[col_name] = np.where(df[col] == value, 1, 0)\n",
      "/tmp/ipykernel_122064/2585726239.py:8: PerformanceWarning: DataFrame is highly fragmented.  This is usually the result of calling `frame.insert` many times, which has poor performance.  Consider joining all columns at once using pd.concat(axis=1) instead. To get a de-fragmented frame, use `newframe = frame.copy()`\n",
      "  df[col_name] = np.where(df[col] == value, 1, 0)\n",
      "/tmp/ipykernel_122064/2585726239.py:8: PerformanceWarning: DataFrame is highly fragmented.  This is usually the result of calling `frame.insert` many times, which has poor performance.  Consider joining all columns at once using pd.concat(axis=1) instead. To get a de-fragmented frame, use `newframe = frame.copy()`\n",
      "  df[col_name] = np.where(df[col] == value, 1, 0)\n",
      "/tmp/ipykernel_122064/2585726239.py:8: PerformanceWarning: DataFrame is highly fragmented.  This is usually the result of calling `frame.insert` many times, which has poor performance.  Consider joining all columns at once using pd.concat(axis=1) instead. To get a de-fragmented frame, use `newframe = frame.copy()`\n",
      "  df[col_name] = np.where(df[col] == value, 1, 0)\n",
      "/tmp/ipykernel_122064/2585726239.py:8: PerformanceWarning: DataFrame is highly fragmented.  This is usually the result of calling `frame.insert` many times, which has poor performance.  Consider joining all columns at once using pd.concat(axis=1) instead. To get a de-fragmented frame, use `newframe = frame.copy()`\n",
      "  df[col_name] = np.where(df[col] == value, 1, 0)\n",
      "/tmp/ipykernel_122064/2585726239.py:8: PerformanceWarning: DataFrame is highly fragmented.  This is usually the result of calling `frame.insert` many times, which has poor performance.  Consider joining all columns at once using pd.concat(axis=1) instead. To get a de-fragmented frame, use `newframe = frame.copy()`\n",
      "  df[col_name] = np.where(df[col] == value, 1, 0)\n",
      "/tmp/ipykernel_122064/2585726239.py:8: PerformanceWarning: DataFrame is highly fragmented.  This is usually the result of calling `frame.insert` many times, which has poor performance.  Consider joining all columns at once using pd.concat(axis=1) instead. To get a de-fragmented frame, use `newframe = frame.copy()`\n",
      "  df[col_name] = np.where(df[col] == value, 1, 0)\n",
      "/tmp/ipykernel_122064/2585726239.py:8: PerformanceWarning: DataFrame is highly fragmented.  This is usually the result of calling `frame.insert` many times, which has poor performance.  Consider joining all columns at once using pd.concat(axis=1) instead. To get a de-fragmented frame, use `newframe = frame.copy()`\n",
      "  df[col_name] = np.where(df[col] == value, 1, 0)\n",
      "/tmp/ipykernel_122064/2585726239.py:8: PerformanceWarning: DataFrame is highly fragmented.  This is usually the result of calling `frame.insert` many times, which has poor performance.  Consider joining all columns at once using pd.concat(axis=1) instead. To get a de-fragmented frame, use `newframe = frame.copy()`\n",
      "  df[col_name] = np.where(df[col] == value, 1, 0)\n",
      "/tmp/ipykernel_122064/2585726239.py:8: PerformanceWarning: DataFrame is highly fragmented.  This is usually the result of calling `frame.insert` many times, which has poor performance.  Consider joining all columns at once using pd.concat(axis=1) instead. To get a de-fragmented frame, use `newframe = frame.copy()`\n",
      "  df[col_name] = np.where(df[col] == value, 1, 0)\n",
      "/tmp/ipykernel_122064/2585726239.py:8: PerformanceWarning: DataFrame is highly fragmented.  This is usually the result of calling `frame.insert` many times, which has poor performance.  Consider joining all columns at once using pd.concat(axis=1) instead. To get a de-fragmented frame, use `newframe = frame.copy()`\n",
      "  df[col_name] = np.where(df[col] == value, 1, 0)\n",
      "/tmp/ipykernel_122064/2585726239.py:8: PerformanceWarning: DataFrame is highly fragmented.  This is usually the result of calling `frame.insert` many times, which has poor performance.  Consider joining all columns at once using pd.concat(axis=1) instead. To get a de-fragmented frame, use `newframe = frame.copy()`\n",
      "  df[col_name] = np.where(df[col] == value, 1, 0)\n",
      "/tmp/ipykernel_122064/2585726239.py:8: PerformanceWarning: DataFrame is highly fragmented.  This is usually the result of calling `frame.insert` many times, which has poor performance.  Consider joining all columns at once using pd.concat(axis=1) instead. To get a de-fragmented frame, use `newframe = frame.copy()`\n",
      "  df[col_name] = np.where(df[col] == value, 1, 0)\n",
      "/tmp/ipykernel_122064/2585726239.py:8: PerformanceWarning: DataFrame is highly fragmented.  This is usually the result of calling `frame.insert` many times, which has poor performance.  Consider joining all columns at once using pd.concat(axis=1) instead. To get a de-fragmented frame, use `newframe = frame.copy()`\n",
      "  df[col_name] = np.where(df[col] == value, 1, 0)\n",
      "/tmp/ipykernel_122064/2585726239.py:8: PerformanceWarning: DataFrame is highly fragmented.  This is usually the result of calling `frame.insert` many times, which has poor performance.  Consider joining all columns at once using pd.concat(axis=1) instead. To get a de-fragmented frame, use `newframe = frame.copy()`\n",
      "  df[col_name] = np.where(df[col] == value, 1, 0)\n",
      "/tmp/ipykernel_122064/2585726239.py:8: PerformanceWarning: DataFrame is highly fragmented.  This is usually the result of calling `frame.insert` many times, which has poor performance.  Consider joining all columns at once using pd.concat(axis=1) instead. To get a de-fragmented frame, use `newframe = frame.copy()`\n",
      "  df[col_name] = np.where(df[col] == value, 1, 0)\n",
      "/tmp/ipykernel_122064/2585726239.py:8: PerformanceWarning: DataFrame is highly fragmented.  This is usually the result of calling `frame.insert` many times, which has poor performance.  Consider joining all columns at once using pd.concat(axis=1) instead. To get a de-fragmented frame, use `newframe = frame.copy()`\n",
      "  df[col_name] = np.where(df[col] == value, 1, 0)\n",
      "/tmp/ipykernel_122064/2585726239.py:8: PerformanceWarning: DataFrame is highly fragmented.  This is usually the result of calling `frame.insert` many times, which has poor performance.  Consider joining all columns at once using pd.concat(axis=1) instead. To get a de-fragmented frame, use `newframe = frame.copy()`\n",
      "  df[col_name] = np.where(df[col] == value, 1, 0)\n",
      "/tmp/ipykernel_122064/2585726239.py:8: PerformanceWarning: DataFrame is highly fragmented.  This is usually the result of calling `frame.insert` many times, which has poor performance.  Consider joining all columns at once using pd.concat(axis=1) instead. To get a de-fragmented frame, use `newframe = frame.copy()`\n",
      "  df[col_name] = np.where(df[col] == value, 1, 0)\n",
      "/tmp/ipykernel_122064/2585726239.py:8: PerformanceWarning: DataFrame is highly fragmented.  This is usually the result of calling `frame.insert` many times, which has poor performance.  Consider joining all columns at once using pd.concat(axis=1) instead. To get a de-fragmented frame, use `newframe = frame.copy()`\n",
      "  df[col_name] = np.where(df[col] == value, 1, 0)\n",
      "/tmp/ipykernel_122064/2585726239.py:8: PerformanceWarning: DataFrame is highly fragmented.  This is usually the result of calling `frame.insert` many times, which has poor performance.  Consider joining all columns at once using pd.concat(axis=1) instead. To get a de-fragmented frame, use `newframe = frame.copy()`\n",
      "  df[col_name] = np.where(df[col] == value, 1, 0)\n",
      "/tmp/ipykernel_122064/2585726239.py:8: PerformanceWarning: DataFrame is highly fragmented.  This is usually the result of calling `frame.insert` many times, which has poor performance.  Consider joining all columns at once using pd.concat(axis=1) instead. To get a de-fragmented frame, use `newframe = frame.copy()`\n",
      "  df[col_name] = np.where(df[col] == value, 1, 0)\n",
      "/tmp/ipykernel_122064/2585726239.py:8: PerformanceWarning: DataFrame is highly fragmented.  This is usually the result of calling `frame.insert` many times, which has poor performance.  Consider joining all columns at once using pd.concat(axis=1) instead. To get a de-fragmented frame, use `newframe = frame.copy()`\n",
      "  df[col_name] = np.where(df[col] == value, 1, 0)\n",
      "/tmp/ipykernel_122064/2585726239.py:8: PerformanceWarning: DataFrame is highly fragmented.  This is usually the result of calling `frame.insert` many times, which has poor performance.  Consider joining all columns at once using pd.concat(axis=1) instead. To get a de-fragmented frame, use `newframe = frame.copy()`\n",
      "  df[col_name] = np.where(df[col] == value, 1, 0)\n",
      "/tmp/ipykernel_122064/2585726239.py:8: PerformanceWarning: DataFrame is highly fragmented.  This is usually the result of calling `frame.insert` many times, which has poor performance.  Consider joining all columns at once using pd.concat(axis=1) instead. To get a de-fragmented frame, use `newframe = frame.copy()`\n",
      "  df[col_name] = np.where(df[col] == value, 1, 0)\n",
      "/tmp/ipykernel_122064/2585726239.py:8: PerformanceWarning: DataFrame is highly fragmented.  This is usually the result of calling `frame.insert` many times, which has poor performance.  Consider joining all columns at once using pd.concat(axis=1) instead. To get a de-fragmented frame, use `newframe = frame.copy()`\n",
      "  df[col_name] = np.where(df[col] == value, 1, 0)\n",
      "/tmp/ipykernel_122064/2585726239.py:8: PerformanceWarning: DataFrame is highly fragmented.  This is usually the result of calling `frame.insert` many times, which has poor performance.  Consider joining all columns at once using pd.concat(axis=1) instead. To get a de-fragmented frame, use `newframe = frame.copy()`\n",
      "  df[col_name] = np.where(df[col] == value, 1, 0)\n",
      "/tmp/ipykernel_122064/2585726239.py:8: PerformanceWarning: DataFrame is highly fragmented.  This is usually the result of calling `frame.insert` many times, which has poor performance.  Consider joining all columns at once using pd.concat(axis=1) instead. To get a de-fragmented frame, use `newframe = frame.copy()`\n",
      "  df[col_name] = np.where(df[col] == value, 1, 0)\n",
      "/tmp/ipykernel_122064/2585726239.py:8: PerformanceWarning: DataFrame is highly fragmented.  This is usually the result of calling `frame.insert` many times, which has poor performance.  Consider joining all columns at once using pd.concat(axis=1) instead. To get a de-fragmented frame, use `newframe = frame.copy()`\n",
      "  df[col_name] = np.where(df[col] == value, 1, 0)\n",
      "/tmp/ipykernel_122064/2585726239.py:8: PerformanceWarning: DataFrame is highly fragmented.  This is usually the result of calling `frame.insert` many times, which has poor performance.  Consider joining all columns at once using pd.concat(axis=1) instead. To get a de-fragmented frame, use `newframe = frame.copy()`\n",
      "  df[col_name] = np.where(df[col] == value, 1, 0)\n",
      "/tmp/ipykernel_122064/2585726239.py:8: PerformanceWarning: DataFrame is highly fragmented.  This is usually the result of calling `frame.insert` many times, which has poor performance.  Consider joining all columns at once using pd.concat(axis=1) instead. To get a de-fragmented frame, use `newframe = frame.copy()`\n",
      "  df[col_name] = np.where(df[col] == value, 1, 0)\n",
      "/tmp/ipykernel_122064/2585726239.py:8: PerformanceWarning: DataFrame is highly fragmented.  This is usually the result of calling `frame.insert` many times, which has poor performance.  Consider joining all columns at once using pd.concat(axis=1) instead. To get a de-fragmented frame, use `newframe = frame.copy()`\n",
      "  df[col_name] = np.where(df[col] == value, 1, 0)\n",
      "/tmp/ipykernel_122064/2585726239.py:8: PerformanceWarning: DataFrame is highly fragmented.  This is usually the result of calling `frame.insert` many times, which has poor performance.  Consider joining all columns at once using pd.concat(axis=1) instead. To get a de-fragmented frame, use `newframe = frame.copy()`\n",
      "  df[col_name] = np.where(df[col] == value, 1, 0)\n",
      "/tmp/ipykernel_122064/2585726239.py:8: PerformanceWarning: DataFrame is highly fragmented.  This is usually the result of calling `frame.insert` many times, which has poor performance.  Consider joining all columns at once using pd.concat(axis=1) instead. To get a de-fragmented frame, use `newframe = frame.copy()`\n",
      "  df[col_name] = np.where(df[col] == value, 1, 0)\n",
      "/tmp/ipykernel_122064/2585726239.py:8: PerformanceWarning: DataFrame is highly fragmented.  This is usually the result of calling `frame.insert` many times, which has poor performance.  Consider joining all columns at once using pd.concat(axis=1) instead. To get a de-fragmented frame, use `newframe = frame.copy()`\n",
      "  df[col_name] = np.where(df[col] == value, 1, 0)\n",
      "/tmp/ipykernel_122064/2585726239.py:8: PerformanceWarning: DataFrame is highly fragmented.  This is usually the result of calling `frame.insert` many times, which has poor performance.  Consider joining all columns at once using pd.concat(axis=1) instead. To get a de-fragmented frame, use `newframe = frame.copy()`\n",
      "  df[col_name] = np.where(df[col] == value, 1, 0)\n",
      "/tmp/ipykernel_122064/2585726239.py:8: PerformanceWarning: DataFrame is highly fragmented.  This is usually the result of calling `frame.insert` many times, which has poor performance.  Consider joining all columns at once using pd.concat(axis=1) instead. To get a de-fragmented frame, use `newframe = frame.copy()`\n",
      "  df[col_name] = np.where(df[col] == value, 1, 0)\n",
      "/tmp/ipykernel_122064/2585726239.py:8: PerformanceWarning: DataFrame is highly fragmented.  This is usually the result of calling `frame.insert` many times, which has poor performance.  Consider joining all columns at once using pd.concat(axis=1) instead. To get a de-fragmented frame, use `newframe = frame.copy()`\n",
      "  df[col_name] = np.where(df[col] == value, 1, 0)\n",
      "/tmp/ipykernel_122064/2585726239.py:8: PerformanceWarning: DataFrame is highly fragmented.  This is usually the result of calling `frame.insert` many times, which has poor performance.  Consider joining all columns at once using pd.concat(axis=1) instead. To get a de-fragmented frame, use `newframe = frame.copy()`\n",
      "  df[col_name] = np.where(df[col] == value, 1, 0)\n",
      "/tmp/ipykernel_122064/2585726239.py:8: PerformanceWarning: DataFrame is highly fragmented.  This is usually the result of calling `frame.insert` many times, which has poor performance.  Consider joining all columns at once using pd.concat(axis=1) instead. To get a de-fragmented frame, use `newframe = frame.copy()`\n",
      "  df[col_name] = np.where(df[col] == value, 1, 0)\n",
      "/tmp/ipykernel_122064/2585726239.py:8: PerformanceWarning: DataFrame is highly fragmented.  This is usually the result of calling `frame.insert` many times, which has poor performance.  Consider joining all columns at once using pd.concat(axis=1) instead. To get a de-fragmented frame, use `newframe = frame.copy()`\n",
      "  df[col_name] = np.where(df[col] == value, 1, 0)\n",
      "/tmp/ipykernel_122064/2585726239.py:8: PerformanceWarning: DataFrame is highly fragmented.  This is usually the result of calling `frame.insert` many times, which has poor performance.  Consider joining all columns at once using pd.concat(axis=1) instead. To get a de-fragmented frame, use `newframe = frame.copy()`\n",
      "  df[col_name] = np.where(df[col] == value, 1, 0)\n",
      "/tmp/ipykernel_122064/2585726239.py:8: PerformanceWarning: DataFrame is highly fragmented.  This is usually the result of calling `frame.insert` many times, which has poor performance.  Consider joining all columns at once using pd.concat(axis=1) instead. To get a de-fragmented frame, use `newframe = frame.copy()`\n",
      "  df[col_name] = np.where(df[col] == value, 1, 0)\n",
      "/tmp/ipykernel_122064/2585726239.py:8: PerformanceWarning: DataFrame is highly fragmented.  This is usually the result of calling `frame.insert` many times, which has poor performance.  Consider joining all columns at once using pd.concat(axis=1) instead. To get a de-fragmented frame, use `newframe = frame.copy()`\n",
      "  df[col_name] = np.where(df[col] == value, 1, 0)\n",
      "/tmp/ipykernel_122064/2585726239.py:8: PerformanceWarning: DataFrame is highly fragmented.  This is usually the result of calling `frame.insert` many times, which has poor performance.  Consider joining all columns at once using pd.concat(axis=1) instead. To get a de-fragmented frame, use `newframe = frame.copy()`\n",
      "  df[col_name] = np.where(df[col] == value, 1, 0)\n",
      "/tmp/ipykernel_122064/2585726239.py:8: PerformanceWarning: DataFrame is highly fragmented.  This is usually the result of calling `frame.insert` many times, which has poor performance.  Consider joining all columns at once using pd.concat(axis=1) instead. To get a de-fragmented frame, use `newframe = frame.copy()`\n",
      "  df[col_name] = np.where(df[col] == value, 1, 0)\n",
      "/tmp/ipykernel_122064/2585726239.py:8: PerformanceWarning: DataFrame is highly fragmented.  This is usually the result of calling `frame.insert` many times, which has poor performance.  Consider joining all columns at once using pd.concat(axis=1) instead. To get a de-fragmented frame, use `newframe = frame.copy()`\n",
      "  df[col_name] = np.where(df[col] == value, 1, 0)\n",
      "/tmp/ipykernel_122064/2585726239.py:8: PerformanceWarning: DataFrame is highly fragmented.  This is usually the result of calling `frame.insert` many times, which has poor performance.  Consider joining all columns at once using pd.concat(axis=1) instead. To get a de-fragmented frame, use `newframe = frame.copy()`\n",
      "  df[col_name] = np.where(df[col] == value, 1, 0)\n",
      "/tmp/ipykernel_122064/2585726239.py:8: PerformanceWarning: DataFrame is highly fragmented.  This is usually the result of calling `frame.insert` many times, which has poor performance.  Consider joining all columns at once using pd.concat(axis=1) instead. To get a de-fragmented frame, use `newframe = frame.copy()`\n",
      "  df[col_name] = np.where(df[col] == value, 1, 0)\n",
      "/tmp/ipykernel_122064/2585726239.py:8: PerformanceWarning: DataFrame is highly fragmented.  This is usually the result of calling `frame.insert` many times, which has poor performance.  Consider joining all columns at once using pd.concat(axis=1) instead. To get a de-fragmented frame, use `newframe = frame.copy()`\n",
      "  df[col_name] = np.where(df[col] == value, 1, 0)\n",
      "/tmp/ipykernel_122064/2585726239.py:8: PerformanceWarning: DataFrame is highly fragmented.  This is usually the result of calling `frame.insert` many times, which has poor performance.  Consider joining all columns at once using pd.concat(axis=1) instead. To get a de-fragmented frame, use `newframe = frame.copy()`\n",
      "  df[col_name] = np.where(df[col] == value, 1, 0)\n",
      "/tmp/ipykernel_122064/2585726239.py:8: PerformanceWarning: DataFrame is highly fragmented.  This is usually the result of calling `frame.insert` many times, which has poor performance.  Consider joining all columns at once using pd.concat(axis=1) instead. To get a de-fragmented frame, use `newframe = frame.copy()`\n",
      "  df[col_name] = np.where(df[col] == value, 1, 0)\n",
      "/tmp/ipykernel_122064/2585726239.py:8: PerformanceWarning: DataFrame is highly fragmented.  This is usually the result of calling `frame.insert` many times, which has poor performance.  Consider joining all columns at once using pd.concat(axis=1) instead. To get a de-fragmented frame, use `newframe = frame.copy()`\n",
      "  df[col_name] = np.where(df[col] == value, 1, 0)\n",
      "/tmp/ipykernel_122064/2585726239.py:8: PerformanceWarning: DataFrame is highly fragmented.  This is usually the result of calling `frame.insert` many times, which has poor performance.  Consider joining all columns at once using pd.concat(axis=1) instead. To get a de-fragmented frame, use `newframe = frame.copy()`\n",
      "  df[col_name] = np.where(df[col] == value, 1, 0)\n",
      "/tmp/ipykernel_122064/2585726239.py:8: PerformanceWarning: DataFrame is highly fragmented.  This is usually the result of calling `frame.insert` many times, which has poor performance.  Consider joining all columns at once using pd.concat(axis=1) instead. To get a de-fragmented frame, use `newframe = frame.copy()`\n",
      "  df[col_name] = np.where(df[col] == value, 1, 0)\n",
      "/tmp/ipykernel_122064/2585726239.py:8: PerformanceWarning: DataFrame is highly fragmented.  This is usually the result of calling `frame.insert` many times, which has poor performance.  Consider joining all columns at once using pd.concat(axis=1) instead. To get a de-fragmented frame, use `newframe = frame.copy()`\n",
      "  df[col_name] = np.where(df[col] == value, 1, 0)\n",
      "/tmp/ipykernel_122064/2585726239.py:8: PerformanceWarning: DataFrame is highly fragmented.  This is usually the result of calling `frame.insert` many times, which has poor performance.  Consider joining all columns at once using pd.concat(axis=1) instead. To get a de-fragmented frame, use `newframe = frame.copy()`\n",
      "  df[col_name] = np.where(df[col] == value, 1, 0)\n",
      "/tmp/ipykernel_122064/2585726239.py:8: PerformanceWarning: DataFrame is highly fragmented.  This is usually the result of calling `frame.insert` many times, which has poor performance.  Consider joining all columns at once using pd.concat(axis=1) instead. To get a de-fragmented frame, use `newframe = frame.copy()`\n",
      "  df[col_name] = np.where(df[col] == value, 1, 0)\n",
      "/tmp/ipykernel_122064/2585726239.py:8: PerformanceWarning: DataFrame is highly fragmented.  This is usually the result of calling `frame.insert` many times, which has poor performance.  Consider joining all columns at once using pd.concat(axis=1) instead. To get a de-fragmented frame, use `newframe = frame.copy()`\n",
      "  df[col_name] = np.where(df[col] == value, 1, 0)\n",
      "/tmp/ipykernel_122064/2585726239.py:8: PerformanceWarning: DataFrame is highly fragmented.  This is usually the result of calling `frame.insert` many times, which has poor performance.  Consider joining all columns at once using pd.concat(axis=1) instead. To get a de-fragmented frame, use `newframe = frame.copy()`\n",
      "  df[col_name] = np.where(df[col] == value, 1, 0)\n",
      "/tmp/ipykernel_122064/2585726239.py:8: PerformanceWarning: DataFrame is highly fragmented.  This is usually the result of calling `frame.insert` many times, which has poor performance.  Consider joining all columns at once using pd.concat(axis=1) instead. To get a de-fragmented frame, use `newframe = frame.copy()`\n",
      "  df[col_name] = np.where(df[col] == value, 1, 0)\n",
      "/tmp/ipykernel_122064/2585726239.py:8: PerformanceWarning: DataFrame is highly fragmented.  This is usually the result of calling `frame.insert` many times, which has poor performance.  Consider joining all columns at once using pd.concat(axis=1) instead. To get a de-fragmented frame, use `newframe = frame.copy()`\n",
      "  df[col_name] = np.where(df[col] == value, 1, 0)\n",
      "/tmp/ipykernel_122064/2585726239.py:8: PerformanceWarning: DataFrame is highly fragmented.  This is usually the result of calling `frame.insert` many times, which has poor performance.  Consider joining all columns at once using pd.concat(axis=1) instead. To get a de-fragmented frame, use `newframe = frame.copy()`\n",
      "  df[col_name] = np.where(df[col] == value, 1, 0)\n",
      "/tmp/ipykernel_122064/2585726239.py:8: PerformanceWarning: DataFrame is highly fragmented.  This is usually the result of calling `frame.insert` many times, which has poor performance.  Consider joining all columns at once using pd.concat(axis=1) instead. To get a de-fragmented frame, use `newframe = frame.copy()`\n",
      "  df[col_name] = np.where(df[col] == value, 1, 0)\n",
      "/tmp/ipykernel_122064/2585726239.py:8: PerformanceWarning: DataFrame is highly fragmented.  This is usually the result of calling `frame.insert` many times, which has poor performance.  Consider joining all columns at once using pd.concat(axis=1) instead. To get a de-fragmented frame, use `newframe = frame.copy()`\n",
      "  df[col_name] = np.where(df[col] == value, 1, 0)\n",
      "/tmp/ipykernel_122064/2585726239.py:8: PerformanceWarning: DataFrame is highly fragmented.  This is usually the result of calling `frame.insert` many times, which has poor performance.  Consider joining all columns at once using pd.concat(axis=1) instead. To get a de-fragmented frame, use `newframe = frame.copy()`\n",
      "  df[col_name] = np.where(df[col] == value, 1, 0)\n",
      "/tmp/ipykernel_122064/2585726239.py:8: PerformanceWarning: DataFrame is highly fragmented.  This is usually the result of calling `frame.insert` many times, which has poor performance.  Consider joining all columns at once using pd.concat(axis=1) instead. To get a de-fragmented frame, use `newframe = frame.copy()`\n",
      "  df[col_name] = np.where(df[col] == value, 1, 0)\n",
      "/tmp/ipykernel_122064/2585726239.py:8: PerformanceWarning: DataFrame is highly fragmented.  This is usually the result of calling `frame.insert` many times, which has poor performance.  Consider joining all columns at once using pd.concat(axis=1) instead. To get a de-fragmented frame, use `newframe = frame.copy()`\n",
      "  df[col_name] = np.where(df[col] == value, 1, 0)\n",
      "/tmp/ipykernel_122064/2585726239.py:8: PerformanceWarning: DataFrame is highly fragmented.  This is usually the result of calling `frame.insert` many times, which has poor performance.  Consider joining all columns at once using pd.concat(axis=1) instead. To get a de-fragmented frame, use `newframe = frame.copy()`\n",
      "  df[col_name] = np.where(df[col] == value, 1, 0)\n",
      "/tmp/ipykernel_122064/2585726239.py:8: PerformanceWarning: DataFrame is highly fragmented.  This is usually the result of calling `frame.insert` many times, which has poor performance.  Consider joining all columns at once using pd.concat(axis=1) instead. To get a de-fragmented frame, use `newframe = frame.copy()`\n",
      "  df[col_name] = np.where(df[col] == value, 1, 0)\n",
      "/tmp/ipykernel_122064/2585726239.py:8: PerformanceWarning: DataFrame is highly fragmented.  This is usually the result of calling `frame.insert` many times, which has poor performance.  Consider joining all columns at once using pd.concat(axis=1) instead. To get a de-fragmented frame, use `newframe = frame.copy()`\n",
      "  df[col_name] = np.where(df[col] == value, 1, 0)\n",
      "/tmp/ipykernel_122064/2585726239.py:8: PerformanceWarning: DataFrame is highly fragmented.  This is usually the result of calling `frame.insert` many times, which has poor performance.  Consider joining all columns at once using pd.concat(axis=1) instead. To get a de-fragmented frame, use `newframe = frame.copy()`\n",
      "  df[col_name] = np.where(df[col] == value, 1, 0)\n",
      "/tmp/ipykernel_122064/2585726239.py:8: PerformanceWarning: DataFrame is highly fragmented.  This is usually the result of calling `frame.insert` many times, which has poor performance.  Consider joining all columns at once using pd.concat(axis=1) instead. To get a de-fragmented frame, use `newframe = frame.copy()`\n",
      "  df[col_name] = np.where(df[col] == value, 1, 0)\n",
      "/tmp/ipykernel_122064/2585726239.py:8: PerformanceWarning: DataFrame is highly fragmented.  This is usually the result of calling `frame.insert` many times, which has poor performance.  Consider joining all columns at once using pd.concat(axis=1) instead. To get a de-fragmented frame, use `newframe = frame.copy()`\n",
      "  df[col_name] = np.where(df[col] == value, 1, 0)\n",
      "/tmp/ipykernel_122064/2585726239.py:8: PerformanceWarning: DataFrame is highly fragmented.  This is usually the result of calling `frame.insert` many times, which has poor performance.  Consider joining all columns at once using pd.concat(axis=1) instead. To get a de-fragmented frame, use `newframe = frame.copy()`\n",
      "  df[col_name] = np.where(df[col] == value, 1, 0)\n",
      "/tmp/ipykernel_122064/2585726239.py:8: PerformanceWarning: DataFrame is highly fragmented.  This is usually the result of calling `frame.insert` many times, which has poor performance.  Consider joining all columns at once using pd.concat(axis=1) instead. To get a de-fragmented frame, use `newframe = frame.copy()`\n",
      "  df[col_name] = np.where(df[col] == value, 1, 0)\n",
      "/tmp/ipykernel_122064/2585726239.py:8: PerformanceWarning: DataFrame is highly fragmented.  This is usually the result of calling `frame.insert` many times, which has poor performance.  Consider joining all columns at once using pd.concat(axis=1) instead. To get a de-fragmented frame, use `newframe = frame.copy()`\n",
      "  df[col_name] = np.where(df[col] == value, 1, 0)\n",
      "/tmp/ipykernel_122064/2585726239.py:8: PerformanceWarning: DataFrame is highly fragmented.  This is usually the result of calling `frame.insert` many times, which has poor performance.  Consider joining all columns at once using pd.concat(axis=1) instead. To get a de-fragmented frame, use `newframe = frame.copy()`\n",
      "  df[col_name] = np.where(df[col] == value, 1, 0)\n",
      "/tmp/ipykernel_122064/2585726239.py:8: PerformanceWarning: DataFrame is highly fragmented.  This is usually the result of calling `frame.insert` many times, which has poor performance.  Consider joining all columns at once using pd.concat(axis=1) instead. To get a de-fragmented frame, use `newframe = frame.copy()`\n",
      "  df[col_name] = np.where(df[col] == value, 1, 0)\n",
      "/tmp/ipykernel_122064/2585726239.py:8: PerformanceWarning: DataFrame is highly fragmented.  This is usually the result of calling `frame.insert` many times, which has poor performance.  Consider joining all columns at once using pd.concat(axis=1) instead. To get a de-fragmented frame, use `newframe = frame.copy()`\n",
      "  df[col_name] = np.where(df[col] == value, 1, 0)\n",
      "/tmp/ipykernel_122064/2585726239.py:8: PerformanceWarning: DataFrame is highly fragmented.  This is usually the result of calling `frame.insert` many times, which has poor performance.  Consider joining all columns at once using pd.concat(axis=1) instead. To get a de-fragmented frame, use `newframe = frame.copy()`\n",
      "  df[col_name] = np.where(df[col] == value, 1, 0)\n",
      "/tmp/ipykernel_122064/2585726239.py:8: PerformanceWarning: DataFrame is highly fragmented.  This is usually the result of calling `frame.insert` many times, which has poor performance.  Consider joining all columns at once using pd.concat(axis=1) instead. To get a de-fragmented frame, use `newframe = frame.copy()`\n",
      "  df[col_name] = np.where(df[col] == value, 1, 0)\n",
      "/tmp/ipykernel_122064/2585726239.py:8: PerformanceWarning: DataFrame is highly fragmented.  This is usually the result of calling `frame.insert` many times, which has poor performance.  Consider joining all columns at once using pd.concat(axis=1) instead. To get a de-fragmented frame, use `newframe = frame.copy()`\n",
      "  df[col_name] = np.where(df[col] == value, 1, 0)\n",
      "/tmp/ipykernel_122064/2585726239.py:8: PerformanceWarning: DataFrame is highly fragmented.  This is usually the result of calling `frame.insert` many times, which has poor performance.  Consider joining all columns at once using pd.concat(axis=1) instead. To get a de-fragmented frame, use `newframe = frame.copy()`\n",
      "  df[col_name] = np.where(df[col] == value, 1, 0)\n",
      "/tmp/ipykernel_122064/2585726239.py:8: PerformanceWarning: DataFrame is highly fragmented.  This is usually the result of calling `frame.insert` many times, which has poor performance.  Consider joining all columns at once using pd.concat(axis=1) instead. To get a de-fragmented frame, use `newframe = frame.copy()`\n",
      "  df[col_name] = np.where(df[col] == value, 1, 0)\n",
      "/tmp/ipykernel_122064/2585726239.py:8: PerformanceWarning: DataFrame is highly fragmented.  This is usually the result of calling `frame.insert` many times, which has poor performance.  Consider joining all columns at once using pd.concat(axis=1) instead. To get a de-fragmented frame, use `newframe = frame.copy()`\n",
      "  df[col_name] = np.where(df[col] == value, 1, 0)\n",
      "/tmp/ipykernel_122064/2585726239.py:8: PerformanceWarning: DataFrame is highly fragmented.  This is usually the result of calling `frame.insert` many times, which has poor performance.  Consider joining all columns at once using pd.concat(axis=1) instead. To get a de-fragmented frame, use `newframe = frame.copy()`\n",
      "  df[col_name] = np.where(df[col] == value, 1, 0)\n",
      "/tmp/ipykernel_122064/2585726239.py:8: PerformanceWarning: DataFrame is highly fragmented.  This is usually the result of calling `frame.insert` many times, which has poor performance.  Consider joining all columns at once using pd.concat(axis=1) instead. To get a de-fragmented frame, use `newframe = frame.copy()`\n",
      "  df[col_name] = np.where(df[col] == value, 1, 0)\n",
      "/tmp/ipykernel_122064/2585726239.py:8: PerformanceWarning: DataFrame is highly fragmented.  This is usually the result of calling `frame.insert` many times, which has poor performance.  Consider joining all columns at once using pd.concat(axis=1) instead. To get a de-fragmented frame, use `newframe = frame.copy()`\n",
      "  df[col_name] = np.where(df[col] == value, 1, 0)\n",
      "/tmp/ipykernel_122064/2585726239.py:8: PerformanceWarning: DataFrame is highly fragmented.  This is usually the result of calling `frame.insert` many times, which has poor performance.  Consider joining all columns at once using pd.concat(axis=1) instead. To get a de-fragmented frame, use `newframe = frame.copy()`\n",
      "  df[col_name] = np.where(df[col] == value, 1, 0)\n",
      "/tmp/ipykernel_122064/2585726239.py:8: PerformanceWarning: DataFrame is highly fragmented.  This is usually the result of calling `frame.insert` many times, which has poor performance.  Consider joining all columns at once using pd.concat(axis=1) instead. To get a de-fragmented frame, use `newframe = frame.copy()`\n",
      "  df[col_name] = np.where(df[col] == value, 1, 0)\n",
      "/tmp/ipykernel_122064/2585726239.py:8: PerformanceWarning: DataFrame is highly fragmented.  This is usually the result of calling `frame.insert` many times, which has poor performance.  Consider joining all columns at once using pd.concat(axis=1) instead. To get a de-fragmented frame, use `newframe = frame.copy()`\n",
      "  df[col_name] = np.where(df[col] == value, 1, 0)\n",
      "/tmp/ipykernel_122064/2585726239.py:8: PerformanceWarning: DataFrame is highly fragmented.  This is usually the result of calling `frame.insert` many times, which has poor performance.  Consider joining all columns at once using pd.concat(axis=1) instead. To get a de-fragmented frame, use `newframe = frame.copy()`\n",
      "  df[col_name] = np.where(df[col] == value, 1, 0)\n",
      "/tmp/ipykernel_122064/2585726239.py:8: PerformanceWarning: DataFrame is highly fragmented.  This is usually the result of calling `frame.insert` many times, which has poor performance.  Consider joining all columns at once using pd.concat(axis=1) instead. To get a de-fragmented frame, use `newframe = frame.copy()`\n",
      "  df[col_name] = np.where(df[col] == value, 1, 0)\n",
      "/tmp/ipykernel_122064/2585726239.py:8: PerformanceWarning: DataFrame is highly fragmented.  This is usually the result of calling `frame.insert` many times, which has poor performance.  Consider joining all columns at once using pd.concat(axis=1) instead. To get a de-fragmented frame, use `newframe = frame.copy()`\n",
      "  df[col_name] = np.where(df[col] == value, 1, 0)\n",
      "/tmp/ipykernel_122064/2585726239.py:8: PerformanceWarning: DataFrame is highly fragmented.  This is usually the result of calling `frame.insert` many times, which has poor performance.  Consider joining all columns at once using pd.concat(axis=1) instead. To get a de-fragmented frame, use `newframe = frame.copy()`\n",
      "  df[col_name] = np.where(df[col] == value, 1, 0)\n",
      "/tmp/ipykernel_122064/2585726239.py:8: PerformanceWarning: DataFrame is highly fragmented.  This is usually the result of calling `frame.insert` many times, which has poor performance.  Consider joining all columns at once using pd.concat(axis=1) instead. To get a de-fragmented frame, use `newframe = frame.copy()`\n",
      "  df[col_name] = np.where(df[col] == value, 1, 0)\n",
      "/tmp/ipykernel_122064/2585726239.py:8: PerformanceWarning: DataFrame is highly fragmented.  This is usually the result of calling `frame.insert` many times, which has poor performance.  Consider joining all columns at once using pd.concat(axis=1) instead. To get a de-fragmented frame, use `newframe = frame.copy()`\n",
      "  df[col_name] = np.where(df[col] == value, 1, 0)\n",
      "/tmp/ipykernel_122064/2585726239.py:8: PerformanceWarning: DataFrame is highly fragmented.  This is usually the result of calling `frame.insert` many times, which has poor performance.  Consider joining all columns at once using pd.concat(axis=1) instead. To get a de-fragmented frame, use `newframe = frame.copy()`\n",
      "  df[col_name] = np.where(df[col] == value, 1, 0)\n",
      "/tmp/ipykernel_122064/2585726239.py:8: PerformanceWarning: DataFrame is highly fragmented.  This is usually the result of calling `frame.insert` many times, which has poor performance.  Consider joining all columns at once using pd.concat(axis=1) instead. To get a de-fragmented frame, use `newframe = frame.copy()`\n",
      "  df[col_name] = np.where(df[col] == value, 1, 0)\n",
      "/tmp/ipykernel_122064/2585726239.py:8: PerformanceWarning: DataFrame is highly fragmented.  This is usually the result of calling `frame.insert` many times, which has poor performance.  Consider joining all columns at once using pd.concat(axis=1) instead. To get a de-fragmented frame, use `newframe = frame.copy()`\n",
      "  df[col_name] = np.where(df[col] == value, 1, 0)\n",
      "/tmp/ipykernel_122064/2585726239.py:8: PerformanceWarning: DataFrame is highly fragmented.  This is usually the result of calling `frame.insert` many times, which has poor performance.  Consider joining all columns at once using pd.concat(axis=1) instead. To get a de-fragmented frame, use `newframe = frame.copy()`\n",
      "  df[col_name] = np.where(df[col] == value, 1, 0)\n",
      "/tmp/ipykernel_122064/2585726239.py:8: PerformanceWarning: DataFrame is highly fragmented.  This is usually the result of calling `frame.insert` many times, which has poor performance.  Consider joining all columns at once using pd.concat(axis=1) instead. To get a de-fragmented frame, use `newframe = frame.copy()`\n",
      "  df[col_name] = np.where(df[col] == value, 1, 0)\n",
      "/tmp/ipykernel_122064/2585726239.py:8: PerformanceWarning: DataFrame is highly fragmented.  This is usually the result of calling `frame.insert` many times, which has poor performance.  Consider joining all columns at once using pd.concat(axis=1) instead. To get a de-fragmented frame, use `newframe = frame.copy()`\n",
      "  df[col_name] = np.where(df[col] == value, 1, 0)\n",
      "/tmp/ipykernel_122064/2585726239.py:8: PerformanceWarning: DataFrame is highly fragmented.  This is usually the result of calling `frame.insert` many times, which has poor performance.  Consider joining all columns at once using pd.concat(axis=1) instead. To get a de-fragmented frame, use `newframe = frame.copy()`\n",
      "  df[col_name] = np.where(df[col] == value, 1, 0)\n",
      "/tmp/ipykernel_122064/2585726239.py:8: PerformanceWarning: DataFrame is highly fragmented.  This is usually the result of calling `frame.insert` many times, which has poor performance.  Consider joining all columns at once using pd.concat(axis=1) instead. To get a de-fragmented frame, use `newframe = frame.copy()`\n",
      "  df[col_name] = np.where(df[col] == value, 1, 0)\n",
      "/tmp/ipykernel_122064/2585726239.py:8: PerformanceWarning: DataFrame is highly fragmented.  This is usually the result of calling `frame.insert` many times, which has poor performance.  Consider joining all columns at once using pd.concat(axis=1) instead. To get a de-fragmented frame, use `newframe = frame.copy()`\n",
      "  df[col_name] = np.where(df[col] == value, 1, 0)\n",
      "/tmp/ipykernel_122064/2585726239.py:8: PerformanceWarning: DataFrame is highly fragmented.  This is usually the result of calling `frame.insert` many times, which has poor performance.  Consider joining all columns at once using pd.concat(axis=1) instead. To get a de-fragmented frame, use `newframe = frame.copy()`\n",
      "  df[col_name] = np.where(df[col] == value, 1, 0)\n",
      "/tmp/ipykernel_122064/2585726239.py:8: PerformanceWarning: DataFrame is highly fragmented.  This is usually the result of calling `frame.insert` many times, which has poor performance.  Consider joining all columns at once using pd.concat(axis=1) instead. To get a de-fragmented frame, use `newframe = frame.copy()`\n",
      "  df[col_name] = np.where(df[col] == value, 1, 0)\n",
      "/tmp/ipykernel_122064/2585726239.py:8: PerformanceWarning: DataFrame is highly fragmented.  This is usually the result of calling `frame.insert` many times, which has poor performance.  Consider joining all columns at once using pd.concat(axis=1) instead. To get a de-fragmented frame, use `newframe = frame.copy()`\n",
      "  df[col_name] = np.where(df[col] == value, 1, 0)\n",
      "/tmp/ipykernel_122064/2585726239.py:8: PerformanceWarning: DataFrame is highly fragmented.  This is usually the result of calling `frame.insert` many times, which has poor performance.  Consider joining all columns at once using pd.concat(axis=1) instead. To get a de-fragmented frame, use `newframe = frame.copy()`\n",
      "  df[col_name] = np.where(df[col] == value, 1, 0)\n",
      "/tmp/ipykernel_122064/2585726239.py:8: PerformanceWarning: DataFrame is highly fragmented.  This is usually the result of calling `frame.insert` many times, which has poor performance.  Consider joining all columns at once using pd.concat(axis=1) instead. To get a de-fragmented frame, use `newframe = frame.copy()`\n",
      "  df[col_name] = np.where(df[col] == value, 1, 0)\n",
      "/tmp/ipykernel_122064/2585726239.py:8: PerformanceWarning: DataFrame is highly fragmented.  This is usually the result of calling `frame.insert` many times, which has poor performance.  Consider joining all columns at once using pd.concat(axis=1) instead. To get a de-fragmented frame, use `newframe = frame.copy()`\n",
      "  df[col_name] = np.where(df[col] == value, 1, 0)\n",
      "/tmp/ipykernel_122064/2585726239.py:8: PerformanceWarning: DataFrame is highly fragmented.  This is usually the result of calling `frame.insert` many times, which has poor performance.  Consider joining all columns at once using pd.concat(axis=1) instead. To get a de-fragmented frame, use `newframe = frame.copy()`\n",
      "  df[col_name] = np.where(df[col] == value, 1, 0)\n",
      "/tmp/ipykernel_122064/2585726239.py:8: PerformanceWarning: DataFrame is highly fragmented.  This is usually the result of calling `frame.insert` many times, which has poor performance.  Consider joining all columns at once using pd.concat(axis=1) instead. To get a de-fragmented frame, use `newframe = frame.copy()`\n",
      "  df[col_name] = np.where(df[col] == value, 1, 0)\n",
      "/tmp/ipykernel_122064/2585726239.py:8: PerformanceWarning: DataFrame is highly fragmented.  This is usually the result of calling `frame.insert` many times, which has poor performance.  Consider joining all columns at once using pd.concat(axis=1) instead. To get a de-fragmented frame, use `newframe = frame.copy()`\n",
      "  df[col_name] = np.where(df[col] == value, 1, 0)\n",
      "/tmp/ipykernel_122064/2585726239.py:8: PerformanceWarning: DataFrame is highly fragmented.  This is usually the result of calling `frame.insert` many times, which has poor performance.  Consider joining all columns at once using pd.concat(axis=1) instead. To get a de-fragmented frame, use `newframe = frame.copy()`\n",
      "  df[col_name] = np.where(df[col] == value, 1, 0)\n",
      "/tmp/ipykernel_122064/2585726239.py:8: PerformanceWarning: DataFrame is highly fragmented.  This is usually the result of calling `frame.insert` many times, which has poor performance.  Consider joining all columns at once using pd.concat(axis=1) instead. To get a de-fragmented frame, use `newframe = frame.copy()`\n",
      "  df[col_name] = np.where(df[col] == value, 1, 0)\n",
      "/tmp/ipykernel_122064/2585726239.py:8: PerformanceWarning: DataFrame is highly fragmented.  This is usually the result of calling `frame.insert` many times, which has poor performance.  Consider joining all columns at once using pd.concat(axis=1) instead. To get a de-fragmented frame, use `newframe = frame.copy()`\n",
      "  df[col_name] = np.where(df[col] == value, 1, 0)\n",
      "/tmp/ipykernel_122064/2585726239.py:8: PerformanceWarning: DataFrame is highly fragmented.  This is usually the result of calling `frame.insert` many times, which has poor performance.  Consider joining all columns at once using pd.concat(axis=1) instead. To get a de-fragmented frame, use `newframe = frame.copy()`\n",
      "  df[col_name] = np.where(df[col] == value, 1, 0)\n",
      "/tmp/ipykernel_122064/2585726239.py:8: PerformanceWarning: DataFrame is highly fragmented.  This is usually the result of calling `frame.insert` many times, which has poor performance.  Consider joining all columns at once using pd.concat(axis=1) instead. To get a de-fragmented frame, use `newframe = frame.copy()`\n",
      "  df[col_name] = np.where(df[col] == value, 1, 0)\n",
      "/tmp/ipykernel_122064/2585726239.py:8: PerformanceWarning: DataFrame is highly fragmented.  This is usually the result of calling `frame.insert` many times, which has poor performance.  Consider joining all columns at once using pd.concat(axis=1) instead. To get a de-fragmented frame, use `newframe = frame.copy()`\n",
      "  df[col_name] = np.where(df[col] == value, 1, 0)\n",
      "/tmp/ipykernel_122064/2585726239.py:8: PerformanceWarning: DataFrame is highly fragmented.  This is usually the result of calling `frame.insert` many times, which has poor performance.  Consider joining all columns at once using pd.concat(axis=1) instead. To get a de-fragmented frame, use `newframe = frame.copy()`\n",
      "  df[col_name] = np.where(df[col] == value, 1, 0)\n",
      "/tmp/ipykernel_122064/2585726239.py:8: PerformanceWarning: DataFrame is highly fragmented.  This is usually the result of calling `frame.insert` many times, which has poor performance.  Consider joining all columns at once using pd.concat(axis=1) instead. To get a de-fragmented frame, use `newframe = frame.copy()`\n",
      "  df[col_name] = np.where(df[col] == value, 1, 0)\n",
      "/tmp/ipykernel_122064/2585726239.py:8: PerformanceWarning: DataFrame is highly fragmented.  This is usually the result of calling `frame.insert` many times, which has poor performance.  Consider joining all columns at once using pd.concat(axis=1) instead. To get a de-fragmented frame, use `newframe = frame.copy()`\n",
      "  df[col_name] = np.where(df[col] == value, 1, 0)\n",
      "/tmp/ipykernel_122064/2585726239.py:8: PerformanceWarning: DataFrame is highly fragmented.  This is usually the result of calling `frame.insert` many times, which has poor performance.  Consider joining all columns at once using pd.concat(axis=1) instead. To get a de-fragmented frame, use `newframe = frame.copy()`\n",
      "  df[col_name] = np.where(df[col] == value, 1, 0)\n",
      "/tmp/ipykernel_122064/2585726239.py:8: PerformanceWarning: DataFrame is highly fragmented.  This is usually the result of calling `frame.insert` many times, which has poor performance.  Consider joining all columns at once using pd.concat(axis=1) instead. To get a de-fragmented frame, use `newframe = frame.copy()`\n",
      "  df[col_name] = np.where(df[col] == value, 1, 0)\n",
      "/tmp/ipykernel_122064/2585726239.py:8: PerformanceWarning: DataFrame is highly fragmented.  This is usually the result of calling `frame.insert` many times, which has poor performance.  Consider joining all columns at once using pd.concat(axis=1) instead. To get a de-fragmented frame, use `newframe = frame.copy()`\n",
      "  df[col_name] = np.where(df[col] == value, 1, 0)\n",
      "/tmp/ipykernel_122064/2585726239.py:8: PerformanceWarning: DataFrame is highly fragmented.  This is usually the result of calling `frame.insert` many times, which has poor performance.  Consider joining all columns at once using pd.concat(axis=1) instead. To get a de-fragmented frame, use `newframe = frame.copy()`\n",
      "  df[col_name] = np.where(df[col] == value, 1, 0)\n",
      "/tmp/ipykernel_122064/2585726239.py:8: PerformanceWarning: DataFrame is highly fragmented.  This is usually the result of calling `frame.insert` many times, which has poor performance.  Consider joining all columns at once using pd.concat(axis=1) instead. To get a de-fragmented frame, use `newframe = frame.copy()`\n",
      "  df[col_name] = np.where(df[col] == value, 1, 0)\n",
      "/tmp/ipykernel_122064/2585726239.py:8: PerformanceWarning: DataFrame is highly fragmented.  This is usually the result of calling `frame.insert` many times, which has poor performance.  Consider joining all columns at once using pd.concat(axis=1) instead. To get a de-fragmented frame, use `newframe = frame.copy()`\n",
      "  df[col_name] = np.where(df[col] == value, 1, 0)\n",
      "/tmp/ipykernel_122064/2585726239.py:8: PerformanceWarning: DataFrame is highly fragmented.  This is usually the result of calling `frame.insert` many times, which has poor performance.  Consider joining all columns at once using pd.concat(axis=1) instead. To get a de-fragmented frame, use `newframe = frame.copy()`\n",
      "  df[col_name] = np.where(df[col] == value, 1, 0)\n",
      "/tmp/ipykernel_122064/2585726239.py:8: PerformanceWarning: DataFrame is highly fragmented.  This is usually the result of calling `frame.insert` many times, which has poor performance.  Consider joining all columns at once using pd.concat(axis=1) instead. To get a de-fragmented frame, use `newframe = frame.copy()`\n",
      "  df[col_name] = np.where(df[col] == value, 1, 0)\n",
      "/tmp/ipykernel_122064/2585726239.py:8: PerformanceWarning: DataFrame is highly fragmented.  This is usually the result of calling `frame.insert` many times, which has poor performance.  Consider joining all columns at once using pd.concat(axis=1) instead. To get a de-fragmented frame, use `newframe = frame.copy()`\n",
      "  df[col_name] = np.where(df[col] == value, 1, 0)\n",
      "/tmp/ipykernel_122064/2585726239.py:8: PerformanceWarning: DataFrame is highly fragmented.  This is usually the result of calling `frame.insert` many times, which has poor performance.  Consider joining all columns at once using pd.concat(axis=1) instead. To get a de-fragmented frame, use `newframe = frame.copy()`\n",
      "  df[col_name] = np.where(df[col] == value, 1, 0)\n",
      "/tmp/ipykernel_122064/2585726239.py:8: PerformanceWarning: DataFrame is highly fragmented.  This is usually the result of calling `frame.insert` many times, which has poor performance.  Consider joining all columns at once using pd.concat(axis=1) instead. To get a de-fragmented frame, use `newframe = frame.copy()`\n",
      "  df[col_name] = np.where(df[col] == value, 1, 0)\n",
      "/tmp/ipykernel_122064/2585726239.py:8: PerformanceWarning: DataFrame is highly fragmented.  This is usually the result of calling `frame.insert` many times, which has poor performance.  Consider joining all columns at once using pd.concat(axis=1) instead. To get a de-fragmented frame, use `newframe = frame.copy()`\n",
      "  df[col_name] = np.where(df[col] == value, 1, 0)\n",
      "/tmp/ipykernel_122064/2585726239.py:8: PerformanceWarning: DataFrame is highly fragmented.  This is usually the result of calling `frame.insert` many times, which has poor performance.  Consider joining all columns at once using pd.concat(axis=1) instead. To get a de-fragmented frame, use `newframe = frame.copy()`\n",
      "  df[col_name] = np.where(df[col] == value, 1, 0)\n",
      "/tmp/ipykernel_122064/2585726239.py:8: PerformanceWarning: DataFrame is highly fragmented.  This is usually the result of calling `frame.insert` many times, which has poor performance.  Consider joining all columns at once using pd.concat(axis=1) instead. To get a de-fragmented frame, use `newframe = frame.copy()`\n",
      "  df[col_name] = np.where(df[col] == value, 1, 0)\n",
      "/tmp/ipykernel_122064/2585726239.py:8: PerformanceWarning: DataFrame is highly fragmented.  This is usually the result of calling `frame.insert` many times, which has poor performance.  Consider joining all columns at once using pd.concat(axis=1) instead. To get a de-fragmented frame, use `newframe = frame.copy()`\n",
      "  df[col_name] = np.where(df[col] == value, 1, 0)\n",
      "/tmp/ipykernel_122064/2585726239.py:8: PerformanceWarning: DataFrame is highly fragmented.  This is usually the result of calling `frame.insert` many times, which has poor performance.  Consider joining all columns at once using pd.concat(axis=1) instead. To get a de-fragmented frame, use `newframe = frame.copy()`\n",
      "  df[col_name] = np.where(df[col] == value, 1, 0)\n",
      "/tmp/ipykernel_122064/2585726239.py:8: PerformanceWarning: DataFrame is highly fragmented.  This is usually the result of calling `frame.insert` many times, which has poor performance.  Consider joining all columns at once using pd.concat(axis=1) instead. To get a de-fragmented frame, use `newframe = frame.copy()`\n",
      "  df[col_name] = np.where(df[col] == value, 1, 0)\n",
      "/tmp/ipykernel_122064/2585726239.py:8: PerformanceWarning: DataFrame is highly fragmented.  This is usually the result of calling `frame.insert` many times, which has poor performance.  Consider joining all columns at once using pd.concat(axis=1) instead. To get a de-fragmented frame, use `newframe = frame.copy()`\n",
      "  df[col_name] = np.where(df[col] == value, 1, 0)\n",
      "/tmp/ipykernel_122064/2585726239.py:8: PerformanceWarning: DataFrame is highly fragmented.  This is usually the result of calling `frame.insert` many times, which has poor performance.  Consider joining all columns at once using pd.concat(axis=1) instead. To get a de-fragmented frame, use `newframe = frame.copy()`\n",
      "  df[col_name] = np.where(df[col] == value, 1, 0)\n",
      "/tmp/ipykernel_122064/2585726239.py:8: PerformanceWarning: DataFrame is highly fragmented.  This is usually the result of calling `frame.insert` many times, which has poor performance.  Consider joining all columns at once using pd.concat(axis=1) instead. To get a de-fragmented frame, use `newframe = frame.copy()`\n",
      "  df[col_name] = np.where(df[col] == value, 1, 0)\n",
      "/tmp/ipykernel_122064/2585726239.py:8: PerformanceWarning: DataFrame is highly fragmented.  This is usually the result of calling `frame.insert` many times, which has poor performance.  Consider joining all columns at once using pd.concat(axis=1) instead. To get a de-fragmented frame, use `newframe = frame.copy()`\n",
      "  df[col_name] = np.where(df[col] == value, 1, 0)\n",
      "/tmp/ipykernel_122064/2585726239.py:8: PerformanceWarning: DataFrame is highly fragmented.  This is usually the result of calling `frame.insert` many times, which has poor performance.  Consider joining all columns at once using pd.concat(axis=1) instead. To get a de-fragmented frame, use `newframe = frame.copy()`\n",
      "  df[col_name] = np.where(df[col] == value, 1, 0)\n",
      "/tmp/ipykernel_122064/2585726239.py:8: PerformanceWarning: DataFrame is highly fragmented.  This is usually the result of calling `frame.insert` many times, which has poor performance.  Consider joining all columns at once using pd.concat(axis=1) instead. To get a de-fragmented frame, use `newframe = frame.copy()`\n",
      "  df[col_name] = np.where(df[col] == value, 1, 0)\n",
      "/tmp/ipykernel_122064/2585726239.py:8: PerformanceWarning: DataFrame is highly fragmented.  This is usually the result of calling `frame.insert` many times, which has poor performance.  Consider joining all columns at once using pd.concat(axis=1) instead. To get a de-fragmented frame, use `newframe = frame.copy()`\n",
      "  df[col_name] = np.where(df[col] == value, 1, 0)\n",
      "/tmp/ipykernel_122064/2585726239.py:8: PerformanceWarning: DataFrame is highly fragmented.  This is usually the result of calling `frame.insert` many times, which has poor performance.  Consider joining all columns at once using pd.concat(axis=1) instead. To get a de-fragmented frame, use `newframe = frame.copy()`\n",
      "  df[col_name] = np.where(df[col] == value, 1, 0)\n",
      "/tmp/ipykernel_122064/2585726239.py:8: PerformanceWarning: DataFrame is highly fragmented.  This is usually the result of calling `frame.insert` many times, which has poor performance.  Consider joining all columns at once using pd.concat(axis=1) instead. To get a de-fragmented frame, use `newframe = frame.copy()`\n",
      "  df[col_name] = np.where(df[col] == value, 1, 0)\n",
      "/tmp/ipykernel_122064/2585726239.py:8: PerformanceWarning: DataFrame is highly fragmented.  This is usually the result of calling `frame.insert` many times, which has poor performance.  Consider joining all columns at once using pd.concat(axis=1) instead. To get a de-fragmented frame, use `newframe = frame.copy()`\n",
      "  df[col_name] = np.where(df[col] == value, 1, 0)\n",
      "/tmp/ipykernel_122064/2585726239.py:8: PerformanceWarning: DataFrame is highly fragmented.  This is usually the result of calling `frame.insert` many times, which has poor performance.  Consider joining all columns at once using pd.concat(axis=1) instead. To get a de-fragmented frame, use `newframe = frame.copy()`\n",
      "  df[col_name] = np.where(df[col] == value, 1, 0)\n",
      "/tmp/ipykernel_122064/2585726239.py:8: PerformanceWarning: DataFrame is highly fragmented.  This is usually the result of calling `frame.insert` many times, which has poor performance.  Consider joining all columns at once using pd.concat(axis=1) instead. To get a de-fragmented frame, use `newframe = frame.copy()`\n",
      "  df[col_name] = np.where(df[col] == value, 1, 0)\n",
      "/tmp/ipykernel_122064/2585726239.py:8: PerformanceWarning: DataFrame is highly fragmented.  This is usually the result of calling `frame.insert` many times, which has poor performance.  Consider joining all columns at once using pd.concat(axis=1) instead. To get a de-fragmented frame, use `newframe = frame.copy()`\n",
      "  df[col_name] = np.where(df[col] == value, 1, 0)\n",
      "/tmp/ipykernel_122064/2585726239.py:8: PerformanceWarning: DataFrame is highly fragmented.  This is usually the result of calling `frame.insert` many times, which has poor performance.  Consider joining all columns at once using pd.concat(axis=1) instead. To get a de-fragmented frame, use `newframe = frame.copy()`\n",
      "  df[col_name] = np.where(df[col] == value, 1, 0)\n",
      "/tmp/ipykernel_122064/2585726239.py:8: PerformanceWarning: DataFrame is highly fragmented.  This is usually the result of calling `frame.insert` many times, which has poor performance.  Consider joining all columns at once using pd.concat(axis=1) instead. To get a de-fragmented frame, use `newframe = frame.copy()`\n",
      "  df[col_name] = np.where(df[col] == value, 1, 0)\n",
      "/tmp/ipykernel_122064/2585726239.py:8: PerformanceWarning: DataFrame is highly fragmented.  This is usually the result of calling `frame.insert` many times, which has poor performance.  Consider joining all columns at once using pd.concat(axis=1) instead. To get a de-fragmented frame, use `newframe = frame.copy()`\n",
      "  df[col_name] = np.where(df[col] == value, 1, 0)\n",
      "/tmp/ipykernel_122064/2585726239.py:8: PerformanceWarning: DataFrame is highly fragmented.  This is usually the result of calling `frame.insert` many times, which has poor performance.  Consider joining all columns at once using pd.concat(axis=1) instead. To get a de-fragmented frame, use `newframe = frame.copy()`\n",
      "  df[col_name] = np.where(df[col] == value, 1, 0)\n",
      "/tmp/ipykernel_122064/2585726239.py:8: PerformanceWarning: DataFrame is highly fragmented.  This is usually the result of calling `frame.insert` many times, which has poor performance.  Consider joining all columns at once using pd.concat(axis=1) instead. To get a de-fragmented frame, use `newframe = frame.copy()`\n",
      "  df[col_name] = np.where(df[col] == value, 1, 0)\n",
      "/tmp/ipykernel_122064/2585726239.py:8: PerformanceWarning: DataFrame is highly fragmented.  This is usually the result of calling `frame.insert` many times, which has poor performance.  Consider joining all columns at once using pd.concat(axis=1) instead. To get a de-fragmented frame, use `newframe = frame.copy()`\n",
      "  df[col_name] = np.where(df[col] == value, 1, 0)\n",
      "/tmp/ipykernel_122064/2585726239.py:8: PerformanceWarning: DataFrame is highly fragmented.  This is usually the result of calling `frame.insert` many times, which has poor performance.  Consider joining all columns at once using pd.concat(axis=1) instead. To get a de-fragmented frame, use `newframe = frame.copy()`\n",
      "  df[col_name] = np.where(df[col] == value, 1, 0)\n",
      "/tmp/ipykernel_122064/2585726239.py:8: PerformanceWarning: DataFrame is highly fragmented.  This is usually the result of calling `frame.insert` many times, which has poor performance.  Consider joining all columns at once using pd.concat(axis=1) instead. To get a de-fragmented frame, use `newframe = frame.copy()`\n",
      "  df[col_name] = np.where(df[col] == value, 1, 0)\n",
      "/tmp/ipykernel_122064/2585726239.py:8: PerformanceWarning: DataFrame is highly fragmented.  This is usually the result of calling `frame.insert` many times, which has poor performance.  Consider joining all columns at once using pd.concat(axis=1) instead. To get a de-fragmented frame, use `newframe = frame.copy()`\n",
      "  df[col_name] = np.where(df[col] == value, 1, 0)\n",
      "/tmp/ipykernel_122064/2585726239.py:8: PerformanceWarning: DataFrame is highly fragmented.  This is usually the result of calling `frame.insert` many times, which has poor performance.  Consider joining all columns at once using pd.concat(axis=1) instead. To get a de-fragmented frame, use `newframe = frame.copy()`\n",
      "  df[col_name] = np.where(df[col] == value, 1, 0)\n",
      "/tmp/ipykernel_122064/2585726239.py:8: PerformanceWarning: DataFrame is highly fragmented.  This is usually the result of calling `frame.insert` many times, which has poor performance.  Consider joining all columns at once using pd.concat(axis=1) instead. To get a de-fragmented frame, use `newframe = frame.copy()`\n",
      "  df[col_name] = np.where(df[col] == value, 1, 0)\n",
      "/tmp/ipykernel_122064/2585726239.py:8: PerformanceWarning: DataFrame is highly fragmented.  This is usually the result of calling `frame.insert` many times, which has poor performance.  Consider joining all columns at once using pd.concat(axis=1) instead. To get a de-fragmented frame, use `newframe = frame.copy()`\n",
      "  df[col_name] = np.where(df[col] == value, 1, 0)\n",
      "/tmp/ipykernel_122064/2585726239.py:8: PerformanceWarning: DataFrame is highly fragmented.  This is usually the result of calling `frame.insert` many times, which has poor performance.  Consider joining all columns at once using pd.concat(axis=1) instead. To get a de-fragmented frame, use `newframe = frame.copy()`\n",
      "  df[col_name] = np.where(df[col] == value, 1, 0)\n",
      "/tmp/ipykernel_122064/2585726239.py:8: PerformanceWarning: DataFrame is highly fragmented.  This is usually the result of calling `frame.insert` many times, which has poor performance.  Consider joining all columns at once using pd.concat(axis=1) instead. To get a de-fragmented frame, use `newframe = frame.copy()`\n",
      "  df[col_name] = np.where(df[col] == value, 1, 0)\n",
      "/tmp/ipykernel_122064/2585726239.py:8: PerformanceWarning: DataFrame is highly fragmented.  This is usually the result of calling `frame.insert` many times, which has poor performance.  Consider joining all columns at once using pd.concat(axis=1) instead. To get a de-fragmented frame, use `newframe = frame.copy()`\n",
      "  df[col_name] = np.where(df[col] == value, 1, 0)\n",
      "/tmp/ipykernel_122064/2585726239.py:8: PerformanceWarning: DataFrame is highly fragmented.  This is usually the result of calling `frame.insert` many times, which has poor performance.  Consider joining all columns at once using pd.concat(axis=1) instead. To get a de-fragmented frame, use `newframe = frame.copy()`\n",
      "  df[col_name] = np.where(df[col] == value, 1, 0)\n",
      "/tmp/ipykernel_122064/2585726239.py:8: PerformanceWarning: DataFrame is highly fragmented.  This is usually the result of calling `frame.insert` many times, which has poor performance.  Consider joining all columns at once using pd.concat(axis=1) instead. To get a de-fragmented frame, use `newframe = frame.copy()`\n",
      "  df[col_name] = np.where(df[col] == value, 1, 0)\n",
      "/tmp/ipykernel_122064/2585726239.py:8: PerformanceWarning: DataFrame is highly fragmented.  This is usually the result of calling `frame.insert` many times, which has poor performance.  Consider joining all columns at once using pd.concat(axis=1) instead. To get a de-fragmented frame, use `newframe = frame.copy()`\n",
      "  df[col_name] = np.where(df[col] == value, 1, 0)\n",
      "/tmp/ipykernel_122064/2585726239.py:8: PerformanceWarning: DataFrame is highly fragmented.  This is usually the result of calling `frame.insert` many times, which has poor performance.  Consider joining all columns at once using pd.concat(axis=1) instead. To get a de-fragmented frame, use `newframe = frame.copy()`\n",
      "  df[col_name] = np.where(df[col] == value, 1, 0)\n",
      "/tmp/ipykernel_122064/2585726239.py:8: PerformanceWarning: DataFrame is highly fragmented.  This is usually the result of calling `frame.insert` many times, which has poor performance.  Consider joining all columns at once using pd.concat(axis=1) instead. To get a de-fragmented frame, use `newframe = frame.copy()`\n",
      "  df[col_name] = np.where(df[col] == value, 1, 0)\n",
      "/tmp/ipykernel_122064/2585726239.py:8: PerformanceWarning: DataFrame is highly fragmented.  This is usually the result of calling `frame.insert` many times, which has poor performance.  Consider joining all columns at once using pd.concat(axis=1) instead. To get a de-fragmented frame, use `newframe = frame.copy()`\n",
      "  df[col_name] = np.where(df[col] == value, 1, 0)\n",
      "/tmp/ipykernel_122064/2585726239.py:8: PerformanceWarning: DataFrame is highly fragmented.  This is usually the result of calling `frame.insert` many times, which has poor performance.  Consider joining all columns at once using pd.concat(axis=1) instead. To get a de-fragmented frame, use `newframe = frame.copy()`\n",
      "  df[col_name] = np.where(df[col] == value, 1, 0)\n",
      "/tmp/ipykernel_122064/2585726239.py:8: PerformanceWarning: DataFrame is highly fragmented.  This is usually the result of calling `frame.insert` many times, which has poor performance.  Consider joining all columns at once using pd.concat(axis=1) instead. To get a de-fragmented frame, use `newframe = frame.copy()`\n",
      "  df[col_name] = np.where(df[col] == value, 1, 0)\n",
      "/tmp/ipykernel_122064/2585726239.py:8: PerformanceWarning: DataFrame is highly fragmented.  This is usually the result of calling `frame.insert` many times, which has poor performance.  Consider joining all columns at once using pd.concat(axis=1) instead. To get a de-fragmented frame, use `newframe = frame.copy()`\n",
      "  df[col_name] = np.where(df[col] == value, 1, 0)\n",
      "/tmp/ipykernel_122064/2585726239.py:8: PerformanceWarning: DataFrame is highly fragmented.  This is usually the result of calling `frame.insert` many times, which has poor performance.  Consider joining all columns at once using pd.concat(axis=1) instead. To get a de-fragmented frame, use `newframe = frame.copy()`\n",
      "  df[col_name] = np.where(df[col] == value, 1, 0)\n",
      "/tmp/ipykernel_122064/2585726239.py:8: PerformanceWarning: DataFrame is highly fragmented.  This is usually the result of calling `frame.insert` many times, which has poor performance.  Consider joining all columns at once using pd.concat(axis=1) instead. To get a de-fragmented frame, use `newframe = frame.copy()`\n",
      "  df[col_name] = np.where(df[col] == value, 1, 0)\n",
      "/tmp/ipykernel_122064/2585726239.py:8: PerformanceWarning: DataFrame is highly fragmented.  This is usually the result of calling `frame.insert` many times, which has poor performance.  Consider joining all columns at once using pd.concat(axis=1) instead. To get a de-fragmented frame, use `newframe = frame.copy()`\n",
      "  df[col_name] = np.where(df[col] == value, 1, 0)\n",
      "/tmp/ipykernel_122064/2585726239.py:8: PerformanceWarning: DataFrame is highly fragmented.  This is usually the result of calling `frame.insert` many times, which has poor performance.  Consider joining all columns at once using pd.concat(axis=1) instead. To get a de-fragmented frame, use `newframe = frame.copy()`\n",
      "  df[col_name] = np.where(df[col] == value, 1, 0)\n",
      "/tmp/ipykernel_122064/2585726239.py:8: PerformanceWarning: DataFrame is highly fragmented.  This is usually the result of calling `frame.insert` many times, which has poor performance.  Consider joining all columns at once using pd.concat(axis=1) instead. To get a de-fragmented frame, use `newframe = frame.copy()`\n",
      "  df[col_name] = np.where(df[col] == value, 1, 0)\n",
      "/tmp/ipykernel_122064/2585726239.py:8: PerformanceWarning: DataFrame is highly fragmented.  This is usually the result of calling `frame.insert` many times, which has poor performance.  Consider joining all columns at once using pd.concat(axis=1) instead. To get a de-fragmented frame, use `newframe = frame.copy()`\n",
      "  df[col_name] = np.where(df[col] == value, 1, 0)\n",
      "/tmp/ipykernel_122064/2585726239.py:8: PerformanceWarning: DataFrame is highly fragmented.  This is usually the result of calling `frame.insert` many times, which has poor performance.  Consider joining all columns at once using pd.concat(axis=1) instead. To get a de-fragmented frame, use `newframe = frame.copy()`\n",
      "  df[col_name] = np.where(df[col] == value, 1, 0)\n",
      "/tmp/ipykernel_122064/2585726239.py:8: PerformanceWarning: DataFrame is highly fragmented.  This is usually the result of calling `frame.insert` many times, which has poor performance.  Consider joining all columns at once using pd.concat(axis=1) instead. To get a de-fragmented frame, use `newframe = frame.copy()`\n",
      "  df[col_name] = np.where(df[col] == value, 1, 0)\n",
      "/tmp/ipykernel_122064/2585726239.py:8: PerformanceWarning: DataFrame is highly fragmented.  This is usually the result of calling `frame.insert` many times, which has poor performance.  Consider joining all columns at once using pd.concat(axis=1) instead. To get a de-fragmented frame, use `newframe = frame.copy()`\n",
      "  df[col_name] = np.where(df[col] == value, 1, 0)\n",
      "/tmp/ipykernel_122064/2585726239.py:8: PerformanceWarning: DataFrame is highly fragmented.  This is usually the result of calling `frame.insert` many times, which has poor performance.  Consider joining all columns at once using pd.concat(axis=1) instead. To get a de-fragmented frame, use `newframe = frame.copy()`\n",
      "  df[col_name] = np.where(df[col] == value, 1, 0)\n",
      "/tmp/ipykernel_122064/2585726239.py:8: PerformanceWarning: DataFrame is highly fragmented.  This is usually the result of calling `frame.insert` many times, which has poor performance.  Consider joining all columns at once using pd.concat(axis=1) instead. To get a de-fragmented frame, use `newframe = frame.copy()`\n",
      "  df[col_name] = np.where(df[col] == value, 1, 0)\n",
      "/tmp/ipykernel_122064/2585726239.py:8: PerformanceWarning: DataFrame is highly fragmented.  This is usually the result of calling `frame.insert` many times, which has poor performance.  Consider joining all columns at once using pd.concat(axis=1) instead. To get a de-fragmented frame, use `newframe = frame.copy()`\n",
      "  df[col_name] = np.where(df[col] == value, 1, 0)\n",
      "/tmp/ipykernel_122064/2585726239.py:8: PerformanceWarning: DataFrame is highly fragmented.  This is usually the result of calling `frame.insert` many times, which has poor performance.  Consider joining all columns at once using pd.concat(axis=1) instead. To get a de-fragmented frame, use `newframe = frame.copy()`\n",
      "  df[col_name] = np.where(df[col] == value, 1, 0)\n",
      "/tmp/ipykernel_122064/2585726239.py:8: PerformanceWarning: DataFrame is highly fragmented.  This is usually the result of calling `frame.insert` many times, which has poor performance.  Consider joining all columns at once using pd.concat(axis=1) instead. To get a de-fragmented frame, use `newframe = frame.copy()`\n",
      "  df[col_name] = np.where(df[col] == value, 1, 0)\n",
      "/tmp/ipykernel_122064/2585726239.py:8: PerformanceWarning: DataFrame is highly fragmented.  This is usually the result of calling `frame.insert` many times, which has poor performance.  Consider joining all columns at once using pd.concat(axis=1) instead. To get a de-fragmented frame, use `newframe = frame.copy()`\n",
      "  df[col_name] = np.where(df[col] == value, 1, 0)\n",
      "/tmp/ipykernel_122064/2585726239.py:8: PerformanceWarning: DataFrame is highly fragmented.  This is usually the result of calling `frame.insert` many times, which has poor performance.  Consider joining all columns at once using pd.concat(axis=1) instead. To get a de-fragmented frame, use `newframe = frame.copy()`\n",
      "  df[col_name] = np.where(df[col] == value, 1, 0)\n",
      "/tmp/ipykernel_122064/2585726239.py:8: PerformanceWarning: DataFrame is highly fragmented.  This is usually the result of calling `frame.insert` many times, which has poor performance.  Consider joining all columns at once using pd.concat(axis=1) instead. To get a de-fragmented frame, use `newframe = frame.copy()`\n",
      "  df[col_name] = np.where(df[col] == value, 1, 0)\n",
      "/tmp/ipykernel_122064/2585726239.py:8: PerformanceWarning: DataFrame is highly fragmented.  This is usually the result of calling `frame.insert` many times, which has poor performance.  Consider joining all columns at once using pd.concat(axis=1) instead. To get a de-fragmented frame, use `newframe = frame.copy()`\n",
      "  df[col_name] = np.where(df[col] == value, 1, 0)\n",
      "/tmp/ipykernel_122064/2585726239.py:8: PerformanceWarning: DataFrame is highly fragmented.  This is usually the result of calling `frame.insert` many times, which has poor performance.  Consider joining all columns at once using pd.concat(axis=1) instead. To get a de-fragmented frame, use `newframe = frame.copy()`\n",
      "  df[col_name] = np.where(df[col] == value, 1, 0)\n",
      "/tmp/ipykernel_122064/2585726239.py:8: PerformanceWarning: DataFrame is highly fragmented.  This is usually the result of calling `frame.insert` many times, which has poor performance.  Consider joining all columns at once using pd.concat(axis=1) instead. To get a de-fragmented frame, use `newframe = frame.copy()`\n",
      "  df[col_name] = np.where(df[col] == value, 1, 0)\n",
      "/tmp/ipykernel_122064/2585726239.py:8: PerformanceWarning: DataFrame is highly fragmented.  This is usually the result of calling `frame.insert` many times, which has poor performance.  Consider joining all columns at once using pd.concat(axis=1) instead. To get a de-fragmented frame, use `newframe = frame.copy()`\n",
      "  df[col_name] = np.where(df[col] == value, 1, 0)\n",
      "/tmp/ipykernel_122064/2585726239.py:8: PerformanceWarning: DataFrame is highly fragmented.  This is usually the result of calling `frame.insert` many times, which has poor performance.  Consider joining all columns at once using pd.concat(axis=1) instead. To get a de-fragmented frame, use `newframe = frame.copy()`\n",
      "  df[col_name] = np.where(df[col] == value, 1, 0)\n",
      "/tmp/ipykernel_122064/2585726239.py:8: PerformanceWarning: DataFrame is highly fragmented.  This is usually the result of calling `frame.insert` many times, which has poor performance.  Consider joining all columns at once using pd.concat(axis=1) instead. To get a de-fragmented frame, use `newframe = frame.copy()`\n",
      "  df[col_name] = np.where(df[col] == value, 1, 0)\n",
      "/tmp/ipykernel_122064/2585726239.py:8: PerformanceWarning: DataFrame is highly fragmented.  This is usually the result of calling `frame.insert` many times, which has poor performance.  Consider joining all columns at once using pd.concat(axis=1) instead. To get a de-fragmented frame, use `newframe = frame.copy()`\n",
      "  df[col_name] = np.where(df[col] == value, 1, 0)\n",
      "/tmp/ipykernel_122064/2585726239.py:8: PerformanceWarning: DataFrame is highly fragmented.  This is usually the result of calling `frame.insert` many times, which has poor performance.  Consider joining all columns at once using pd.concat(axis=1) instead. To get a de-fragmented frame, use `newframe = frame.copy()`\n",
      "  df[col_name] = np.where(df[col] == value, 1, 0)\n",
      "/tmp/ipykernel_122064/2585726239.py:8: PerformanceWarning: DataFrame is highly fragmented.  This is usually the result of calling `frame.insert` many times, which has poor performance.  Consider joining all columns at once using pd.concat(axis=1) instead. To get a de-fragmented frame, use `newframe = frame.copy()`\n",
      "  df[col_name] = np.where(df[col] == value, 1, 0)\n",
      "/tmp/ipykernel_122064/2585726239.py:8: PerformanceWarning: DataFrame is highly fragmented.  This is usually the result of calling `frame.insert` many times, which has poor performance.  Consider joining all columns at once using pd.concat(axis=1) instead. To get a de-fragmented frame, use `newframe = frame.copy()`\n",
      "  df[col_name] = np.where(df[col] == value, 1, 0)\n",
      "/tmp/ipykernel_122064/2585726239.py:8: PerformanceWarning: DataFrame is highly fragmented.  This is usually the result of calling `frame.insert` many times, which has poor performance.  Consider joining all columns at once using pd.concat(axis=1) instead. To get a de-fragmented frame, use `newframe = frame.copy()`\n",
      "  df[col_name] = np.where(df[col] == value, 1, 0)\n",
      "/tmp/ipykernel_122064/2585726239.py:8: PerformanceWarning: DataFrame is highly fragmented.  This is usually the result of calling `frame.insert` many times, which has poor performance.  Consider joining all columns at once using pd.concat(axis=1) instead. To get a de-fragmented frame, use `newframe = frame.copy()`\n",
      "  df[col_name] = np.where(df[col] == value, 1, 0)\n",
      "/tmp/ipykernel_122064/2585726239.py:8: PerformanceWarning: DataFrame is highly fragmented.  This is usually the result of calling `frame.insert` many times, which has poor performance.  Consider joining all columns at once using pd.concat(axis=1) instead. To get a de-fragmented frame, use `newframe = frame.copy()`\n",
      "  df[col_name] = np.where(df[col] == value, 1, 0)\n",
      "/tmp/ipykernel_122064/2585726239.py:8: PerformanceWarning: DataFrame is highly fragmented.  This is usually the result of calling `frame.insert` many times, which has poor performance.  Consider joining all columns at once using pd.concat(axis=1) instead. To get a de-fragmented frame, use `newframe = frame.copy()`\n",
      "  df[col_name] = np.where(df[col] == value, 1, 0)\n",
      "/tmp/ipykernel_122064/2585726239.py:8: PerformanceWarning: DataFrame is highly fragmented.  This is usually the result of calling `frame.insert` many times, which has poor performance.  Consider joining all columns at once using pd.concat(axis=1) instead. To get a de-fragmented frame, use `newframe = frame.copy()`\n",
      "  df[col_name] = np.where(df[col] == value, 1, 0)\n",
      "/tmp/ipykernel_122064/2585726239.py:8: PerformanceWarning: DataFrame is highly fragmented.  This is usually the result of calling `frame.insert` many times, which has poor performance.  Consider joining all columns at once using pd.concat(axis=1) instead. To get a de-fragmented frame, use `newframe = frame.copy()`\n",
      "  df[col_name] = np.where(df[col] == value, 1, 0)\n",
      "/tmp/ipykernel_122064/2585726239.py:8: PerformanceWarning: DataFrame is highly fragmented.  This is usually the result of calling `frame.insert` many times, which has poor performance.  Consider joining all columns at once using pd.concat(axis=1) instead. To get a de-fragmented frame, use `newframe = frame.copy()`\n",
      "  df[col_name] = np.where(df[col] == value, 1, 0)\n",
      "/tmp/ipykernel_122064/2585726239.py:8: PerformanceWarning: DataFrame is highly fragmented.  This is usually the result of calling `frame.insert` many times, which has poor performance.  Consider joining all columns at once using pd.concat(axis=1) instead. To get a de-fragmented frame, use `newframe = frame.copy()`\n",
      "  df[col_name] = np.where(df[col] == value, 1, 0)\n",
      "/tmp/ipykernel_122064/2585726239.py:8: PerformanceWarning: DataFrame is highly fragmented.  This is usually the result of calling `frame.insert` many times, which has poor performance.  Consider joining all columns at once using pd.concat(axis=1) instead. To get a de-fragmented frame, use `newframe = frame.copy()`\n",
      "  df[col_name] = np.where(df[col] == value, 1, 0)\n",
      "/tmp/ipykernel_122064/2585726239.py:8: PerformanceWarning: DataFrame is highly fragmented.  This is usually the result of calling `frame.insert` many times, which has poor performance.  Consider joining all columns at once using pd.concat(axis=1) instead. To get a de-fragmented frame, use `newframe = frame.copy()`\n",
      "  df[col_name] = np.where(df[col] == value, 1, 0)\n",
      "/tmp/ipykernel_122064/2585726239.py:8: PerformanceWarning: DataFrame is highly fragmented.  This is usually the result of calling `frame.insert` many times, which has poor performance.  Consider joining all columns at once using pd.concat(axis=1) instead. To get a de-fragmented frame, use `newframe = frame.copy()`\n",
      "  df[col_name] = np.where(df[col] == value, 1, 0)\n",
      "/tmp/ipykernel_122064/2585726239.py:8: PerformanceWarning: DataFrame is highly fragmented.  This is usually the result of calling `frame.insert` many times, which has poor performance.  Consider joining all columns at once using pd.concat(axis=1) instead. To get a de-fragmented frame, use `newframe = frame.copy()`\n",
      "  df[col_name] = np.where(df[col] == value, 1, 0)\n",
      "/tmp/ipykernel_122064/2585726239.py:8: PerformanceWarning: DataFrame is highly fragmented.  This is usually the result of calling `frame.insert` many times, which has poor performance.  Consider joining all columns at once using pd.concat(axis=1) instead. To get a de-fragmented frame, use `newframe = frame.copy()`\n",
      "  df[col_name] = np.where(df[col] == value, 1, 0)\n",
      "/tmp/ipykernel_122064/2585726239.py:8: PerformanceWarning: DataFrame is highly fragmented.  This is usually the result of calling `frame.insert` many times, which has poor performance.  Consider joining all columns at once using pd.concat(axis=1) instead. To get a de-fragmented frame, use `newframe = frame.copy()`\n",
      "  df[col_name] = np.where(df[col] == value, 1, 0)\n",
      "/tmp/ipykernel_122064/2585726239.py:8: PerformanceWarning: DataFrame is highly fragmented.  This is usually the result of calling `frame.insert` many times, which has poor performance.  Consider joining all columns at once using pd.concat(axis=1) instead. To get a de-fragmented frame, use `newframe = frame.copy()`\n",
      "  df[col_name] = np.where(df[col] == value, 1, 0)\n",
      "/tmp/ipykernel_122064/2585726239.py:8: PerformanceWarning: DataFrame is highly fragmented.  This is usually the result of calling `frame.insert` many times, which has poor performance.  Consider joining all columns at once using pd.concat(axis=1) instead. To get a de-fragmented frame, use `newframe = frame.copy()`\n",
      "  df[col_name] = np.where(df[col] == value, 1, 0)\n",
      "/tmp/ipykernel_122064/2585726239.py:8: PerformanceWarning: DataFrame is highly fragmented.  This is usually the result of calling `frame.insert` many times, which has poor performance.  Consider joining all columns at once using pd.concat(axis=1) instead. To get a de-fragmented frame, use `newframe = frame.copy()`\n",
      "  df[col_name] = np.where(df[col] == value, 1, 0)\n",
      "/tmp/ipykernel_122064/2585726239.py:8: PerformanceWarning: DataFrame is highly fragmented.  This is usually the result of calling `frame.insert` many times, which has poor performance.  Consider joining all columns at once using pd.concat(axis=1) instead. To get a de-fragmented frame, use `newframe = frame.copy()`\n",
      "  df[col_name] = np.where(df[col] == value, 1, 0)\n",
      "/tmp/ipykernel_122064/2585726239.py:8: PerformanceWarning: DataFrame is highly fragmented.  This is usually the result of calling `frame.insert` many times, which has poor performance.  Consider joining all columns at once using pd.concat(axis=1) instead. To get a de-fragmented frame, use `newframe = frame.copy()`\n",
      "  df[col_name] = np.where(df[col] == value, 1, 0)\n",
      "/tmp/ipykernel_122064/2585726239.py:8: PerformanceWarning: DataFrame is highly fragmented.  This is usually the result of calling `frame.insert` many times, which has poor performance.  Consider joining all columns at once using pd.concat(axis=1) instead. To get a de-fragmented frame, use `newframe = frame.copy()`\n",
      "  df[col_name] = np.where(df[col] == value, 1, 0)\n",
      "/tmp/ipykernel_122064/2585726239.py:8: PerformanceWarning: DataFrame is highly fragmented.  This is usually the result of calling `frame.insert` many times, which has poor performance.  Consider joining all columns at once using pd.concat(axis=1) instead. To get a de-fragmented frame, use `newframe = frame.copy()`\n",
      "  df[col_name] = np.where(df[col] == value, 1, 0)\n",
      "/tmp/ipykernel_122064/2585726239.py:8: PerformanceWarning: DataFrame is highly fragmented.  This is usually the result of calling `frame.insert` many times, which has poor performance.  Consider joining all columns at once using pd.concat(axis=1) instead. To get a de-fragmented frame, use `newframe = frame.copy()`\n",
      "  df[col_name] = np.where(df[col] == value, 1, 0)\n",
      "/tmp/ipykernel_122064/2585726239.py:8: PerformanceWarning: DataFrame is highly fragmented.  This is usually the result of calling `frame.insert` many times, which has poor performance.  Consider joining all columns at once using pd.concat(axis=1) instead. To get a de-fragmented frame, use `newframe = frame.copy()`\n",
      "  df[col_name] = np.where(df[col] == value, 1, 0)\n",
      "/tmp/ipykernel_122064/2585726239.py:8: PerformanceWarning: DataFrame is highly fragmented.  This is usually the result of calling `frame.insert` many times, which has poor performance.  Consider joining all columns at once using pd.concat(axis=1) instead. To get a de-fragmented frame, use `newframe = frame.copy()`\n",
      "  df[col_name] = np.where(df[col] == value, 1, 0)\n",
      "/tmp/ipykernel_122064/2585726239.py:8: PerformanceWarning: DataFrame is highly fragmented.  This is usually the result of calling `frame.insert` many times, which has poor performance.  Consider joining all columns at once using pd.concat(axis=1) instead. To get a de-fragmented frame, use `newframe = frame.copy()`\n",
      "  df[col_name] = np.where(df[col] == value, 1, 0)\n",
      "/tmp/ipykernel_122064/2585726239.py:8: PerformanceWarning: DataFrame is highly fragmented.  This is usually the result of calling `frame.insert` many times, which has poor performance.  Consider joining all columns at once using pd.concat(axis=1) instead. To get a de-fragmented frame, use `newframe = frame.copy()`\n",
      "  df[col_name] = np.where(df[col] == value, 1, 0)\n",
      "/tmp/ipykernel_122064/2585726239.py:8: PerformanceWarning: DataFrame is highly fragmented.  This is usually the result of calling `frame.insert` many times, which has poor performance.  Consider joining all columns at once using pd.concat(axis=1) instead. To get a de-fragmented frame, use `newframe = frame.copy()`\n",
      "  df[col_name] = np.where(df[col] == value, 1, 0)\n",
      "/tmp/ipykernel_122064/2585726239.py:8: PerformanceWarning: DataFrame is highly fragmented.  This is usually the result of calling `frame.insert` many times, which has poor performance.  Consider joining all columns at once using pd.concat(axis=1) instead. To get a de-fragmented frame, use `newframe = frame.copy()`\n",
      "  df[col_name] = np.where(df[col] == value, 1, 0)\n",
      "/tmp/ipykernel_122064/2585726239.py:8: PerformanceWarning: DataFrame is highly fragmented.  This is usually the result of calling `frame.insert` many times, which has poor performance.  Consider joining all columns at once using pd.concat(axis=1) instead. To get a de-fragmented frame, use `newframe = frame.copy()`\n",
      "  df[col_name] = np.where(df[col] == value, 1, 0)\n",
      "/tmp/ipykernel_122064/2585726239.py:8: PerformanceWarning: DataFrame is highly fragmented.  This is usually the result of calling `frame.insert` many times, which has poor performance.  Consider joining all columns at once using pd.concat(axis=1) instead. To get a de-fragmented frame, use `newframe = frame.copy()`\n",
      "  df[col_name] = np.where(df[col] == value, 1, 0)\n",
      "/tmp/ipykernel_122064/2585726239.py:8: PerformanceWarning: DataFrame is highly fragmented.  This is usually the result of calling `frame.insert` many times, which has poor performance.  Consider joining all columns at once using pd.concat(axis=1) instead. To get a de-fragmented frame, use `newframe = frame.copy()`\n",
      "  df[col_name] = np.where(df[col] == value, 1, 0)\n",
      "/tmp/ipykernel_122064/2585726239.py:8: PerformanceWarning: DataFrame is highly fragmented.  This is usually the result of calling `frame.insert` many times, which has poor performance.  Consider joining all columns at once using pd.concat(axis=1) instead. To get a de-fragmented frame, use `newframe = frame.copy()`\n",
      "  df[col_name] = np.where(df[col] == value, 1, 0)\n",
      "/tmp/ipykernel_122064/2585726239.py:8: PerformanceWarning: DataFrame is highly fragmented.  This is usually the result of calling `frame.insert` many times, which has poor performance.  Consider joining all columns at once using pd.concat(axis=1) instead. To get a de-fragmented frame, use `newframe = frame.copy()`\n",
      "  df[col_name] = np.where(df[col] == value, 1, 0)\n",
      "/tmp/ipykernel_122064/2585726239.py:8: PerformanceWarning: DataFrame is highly fragmented.  This is usually the result of calling `frame.insert` many times, which has poor performance.  Consider joining all columns at once using pd.concat(axis=1) instead. To get a de-fragmented frame, use `newframe = frame.copy()`\n",
      "  df[col_name] = np.where(df[col] == value, 1, 0)\n",
      "/tmp/ipykernel_122064/2585726239.py:8: PerformanceWarning: DataFrame is highly fragmented.  This is usually the result of calling `frame.insert` many times, which has poor performance.  Consider joining all columns at once using pd.concat(axis=1) instead. To get a de-fragmented frame, use `newframe = frame.copy()`\n",
      "  df[col_name] = np.where(df[col] == value, 1, 0)\n",
      "/tmp/ipykernel_122064/2585726239.py:8: PerformanceWarning: DataFrame is highly fragmented.  This is usually the result of calling `frame.insert` many times, which has poor performance.  Consider joining all columns at once using pd.concat(axis=1) instead. To get a de-fragmented frame, use `newframe = frame.copy()`\n",
      "  df[col_name] = np.where(df[col] == value, 1, 0)\n",
      "/tmp/ipykernel_122064/2585726239.py:8: PerformanceWarning: DataFrame is highly fragmented.  This is usually the result of calling `frame.insert` many times, which has poor performance.  Consider joining all columns at once using pd.concat(axis=1) instead. To get a de-fragmented frame, use `newframe = frame.copy()`\n",
      "  df[col_name] = np.where(df[col] == value, 1, 0)\n",
      "/tmp/ipykernel_122064/2585726239.py:8: PerformanceWarning: DataFrame is highly fragmented.  This is usually the result of calling `frame.insert` many times, which has poor performance.  Consider joining all columns at once using pd.concat(axis=1) instead. To get a de-fragmented frame, use `newframe = frame.copy()`\n",
      "  df[col_name] = np.where(df[col] == value, 1, 0)\n",
      "/tmp/ipykernel_122064/2585726239.py:8: PerformanceWarning: DataFrame is highly fragmented.  This is usually the result of calling `frame.insert` many times, which has poor performance.  Consider joining all columns at once using pd.concat(axis=1) instead. To get a de-fragmented frame, use `newframe = frame.copy()`\n",
      "  df[col_name] = np.where(df[col] == value, 1, 0)\n",
      "/tmp/ipykernel_122064/2585726239.py:8: PerformanceWarning: DataFrame is highly fragmented.  This is usually the result of calling `frame.insert` many times, which has poor performance.  Consider joining all columns at once using pd.concat(axis=1) instead. To get a de-fragmented frame, use `newframe = frame.copy()`\n",
      "  df[col_name] = np.where(df[col] == value, 1, 0)\n",
      "/tmp/ipykernel_122064/2585726239.py:8: PerformanceWarning: DataFrame is highly fragmented.  This is usually the result of calling `frame.insert` many times, which has poor performance.  Consider joining all columns at once using pd.concat(axis=1) instead. To get a de-fragmented frame, use `newframe = frame.copy()`\n",
      "  df[col_name] = np.where(df[col] == value, 1, 0)\n",
      "/tmp/ipykernel_122064/2585726239.py:8: PerformanceWarning: DataFrame is highly fragmented.  This is usually the result of calling `frame.insert` many times, which has poor performance.  Consider joining all columns at once using pd.concat(axis=1) instead. To get a de-fragmented frame, use `newframe = frame.copy()`\n",
      "  df[col_name] = np.where(df[col] == value, 1, 0)\n",
      "/tmp/ipykernel_122064/2585726239.py:8: PerformanceWarning: DataFrame is highly fragmented.  This is usually the result of calling `frame.insert` many times, which has poor performance.  Consider joining all columns at once using pd.concat(axis=1) instead. To get a de-fragmented frame, use `newframe = frame.copy()`\n",
      "  df[col_name] = np.where(df[col] == value, 1, 0)\n",
      "/tmp/ipykernel_122064/2585726239.py:8: PerformanceWarning: DataFrame is highly fragmented.  This is usually the result of calling `frame.insert` many times, which has poor performance.  Consider joining all columns at once using pd.concat(axis=1) instead. To get a de-fragmented frame, use `newframe = frame.copy()`\n",
      "  df[col_name] = np.where(df[col] == value, 1, 0)\n",
      "/tmp/ipykernel_122064/2585726239.py:8: PerformanceWarning: DataFrame is highly fragmented.  This is usually the result of calling `frame.insert` many times, which has poor performance.  Consider joining all columns at once using pd.concat(axis=1) instead. To get a de-fragmented frame, use `newframe = frame.copy()`\n",
      "  df[col_name] = np.where(df[col] == value, 1, 0)\n",
      "/tmp/ipykernel_122064/2585726239.py:8: PerformanceWarning: DataFrame is highly fragmented.  This is usually the result of calling `frame.insert` many times, which has poor performance.  Consider joining all columns at once using pd.concat(axis=1) instead. To get a de-fragmented frame, use `newframe = frame.copy()`\n",
      "  df[col_name] = np.where(df[col] == value, 1, 0)\n",
      "/tmp/ipykernel_122064/2585726239.py:8: PerformanceWarning: DataFrame is highly fragmented.  This is usually the result of calling `frame.insert` many times, which has poor performance.  Consider joining all columns at once using pd.concat(axis=1) instead. To get a de-fragmented frame, use `newframe = frame.copy()`\n",
      "  df[col_name] = np.where(df[col] == value, 1, 0)\n",
      "/tmp/ipykernel_122064/2585726239.py:8: PerformanceWarning: DataFrame is highly fragmented.  This is usually the result of calling `frame.insert` many times, which has poor performance.  Consider joining all columns at once using pd.concat(axis=1) instead. To get a de-fragmented frame, use `newframe = frame.copy()`\n",
      "  df[col_name] = np.where(df[col] == value, 1, 0)\n",
      "/tmp/ipykernel_122064/2585726239.py:8: PerformanceWarning: DataFrame is highly fragmented.  This is usually the result of calling `frame.insert` many times, which has poor performance.  Consider joining all columns at once using pd.concat(axis=1) instead. To get a de-fragmented frame, use `newframe = frame.copy()`\n",
      "  df[col_name] = np.where(df[col] == value, 1, 0)\n",
      "/tmp/ipykernel_122064/2585726239.py:8: PerformanceWarning: DataFrame is highly fragmented.  This is usually the result of calling `frame.insert` many times, which has poor performance.  Consider joining all columns at once using pd.concat(axis=1) instead. To get a de-fragmented frame, use `newframe = frame.copy()`\n",
      "  df[col_name] = np.where(df[col] == value, 1, 0)\n",
      "/tmp/ipykernel_122064/2585726239.py:8: PerformanceWarning: DataFrame is highly fragmented.  This is usually the result of calling `frame.insert` many times, which has poor performance.  Consider joining all columns at once using pd.concat(axis=1) instead. To get a de-fragmented frame, use `newframe = frame.copy()`\n",
      "  df[col_name] = np.where(df[col] == value, 1, 0)\n",
      "/tmp/ipykernel_122064/2585726239.py:8: PerformanceWarning: DataFrame is highly fragmented.  This is usually the result of calling `frame.insert` many times, which has poor performance.  Consider joining all columns at once using pd.concat(axis=1) instead. To get a de-fragmented frame, use `newframe = frame.copy()`\n",
      "  df[col_name] = np.where(df[col] == value, 1, 0)\n",
      "/tmp/ipykernel_122064/2585726239.py:8: PerformanceWarning: DataFrame is highly fragmented.  This is usually the result of calling `frame.insert` many times, which has poor performance.  Consider joining all columns at once using pd.concat(axis=1) instead. To get a de-fragmented frame, use `newframe = frame.copy()`\n",
      "  df[col_name] = np.where(df[col] == value, 1, 0)\n",
      "/tmp/ipykernel_122064/2585726239.py:8: PerformanceWarning: DataFrame is highly fragmented.  This is usually the result of calling `frame.insert` many times, which has poor performance.  Consider joining all columns at once using pd.concat(axis=1) instead. To get a de-fragmented frame, use `newframe = frame.copy()`\n",
      "  df[col_name] = np.where(df[col] == value, 1, 0)\n",
      "/tmp/ipykernel_122064/2585726239.py:8: PerformanceWarning: DataFrame is highly fragmented.  This is usually the result of calling `frame.insert` many times, which has poor performance.  Consider joining all columns at once using pd.concat(axis=1) instead. To get a de-fragmented frame, use `newframe = frame.copy()`\n",
      "  df[col_name] = np.where(df[col] == value, 1, 0)\n",
      "/tmp/ipykernel_122064/2585726239.py:8: PerformanceWarning: DataFrame is highly fragmented.  This is usually the result of calling `frame.insert` many times, which has poor performance.  Consider joining all columns at once using pd.concat(axis=1) instead. To get a de-fragmented frame, use `newframe = frame.copy()`\n",
      "  df[col_name] = np.where(df[col] == value, 1, 0)\n",
      "/tmp/ipykernel_122064/2585726239.py:8: PerformanceWarning: DataFrame is highly fragmented.  This is usually the result of calling `frame.insert` many times, which has poor performance.  Consider joining all columns at once using pd.concat(axis=1) instead. To get a de-fragmented frame, use `newframe = frame.copy()`\n",
      "  df[col_name] = np.where(df[col] == value, 1, 0)\n",
      "/tmp/ipykernel_122064/2585726239.py:8: PerformanceWarning: DataFrame is highly fragmented.  This is usually the result of calling `frame.insert` many times, which has poor performance.  Consider joining all columns at once using pd.concat(axis=1) instead. To get a de-fragmented frame, use `newframe = frame.copy()`\n",
      "  df[col_name] = np.where(df[col] == value, 1, 0)\n",
      "/tmp/ipykernel_122064/2585726239.py:8: PerformanceWarning: DataFrame is highly fragmented.  This is usually the result of calling `frame.insert` many times, which has poor performance.  Consider joining all columns at once using pd.concat(axis=1) instead. To get a de-fragmented frame, use `newframe = frame.copy()`\n",
      "  df[col_name] = np.where(df[col] == value, 1, 0)\n",
      "/tmp/ipykernel_122064/2585726239.py:8: PerformanceWarning: DataFrame is highly fragmented.  This is usually the result of calling `frame.insert` many times, which has poor performance.  Consider joining all columns at once using pd.concat(axis=1) instead. To get a de-fragmented frame, use `newframe = frame.copy()`\n",
      "  df[col_name] = np.where(df[col] == value, 1, 0)\n",
      "/tmp/ipykernel_122064/2585726239.py:8: PerformanceWarning: DataFrame is highly fragmented.  This is usually the result of calling `frame.insert` many times, which has poor performance.  Consider joining all columns at once using pd.concat(axis=1) instead. To get a de-fragmented frame, use `newframe = frame.copy()`\n",
      "  df[col_name] = np.where(df[col] == value, 1, 0)\n",
      "/tmp/ipykernel_122064/2585726239.py:8: PerformanceWarning: DataFrame is highly fragmented.  This is usually the result of calling `frame.insert` many times, which has poor performance.  Consider joining all columns at once using pd.concat(axis=1) instead. To get a de-fragmented frame, use `newframe = frame.copy()`\n",
      "  df[col_name] = np.where(df[col] == value, 1, 0)\n",
      "/tmp/ipykernel_122064/2585726239.py:8: PerformanceWarning: DataFrame is highly fragmented.  This is usually the result of calling `frame.insert` many times, which has poor performance.  Consider joining all columns at once using pd.concat(axis=1) instead. To get a de-fragmented frame, use `newframe = frame.copy()`\n",
      "  df[col_name] = np.where(df[col] == value, 1, 0)\n",
      "/tmp/ipykernel_122064/2585726239.py:8: PerformanceWarning: DataFrame is highly fragmented.  This is usually the result of calling `frame.insert` many times, which has poor performance.  Consider joining all columns at once using pd.concat(axis=1) instead. To get a de-fragmented frame, use `newframe = frame.copy()`\n",
      "  df[col_name] = np.where(df[col] == value, 1, 0)\n",
      "/tmp/ipykernel_122064/2585726239.py:8: PerformanceWarning: DataFrame is highly fragmented.  This is usually the result of calling `frame.insert` many times, which has poor performance.  Consider joining all columns at once using pd.concat(axis=1) instead. To get a de-fragmented frame, use `newframe = frame.copy()`\n",
      "  df[col_name] = np.where(df[col] == value, 1, 0)\n",
      "/tmp/ipykernel_122064/2585726239.py:8: PerformanceWarning: DataFrame is highly fragmented.  This is usually the result of calling `frame.insert` many times, which has poor performance.  Consider joining all columns at once using pd.concat(axis=1) instead. To get a de-fragmented frame, use `newframe = frame.copy()`\n",
      "  df[col_name] = np.where(df[col] == value, 1, 0)\n",
      "/tmp/ipykernel_122064/2585726239.py:8: PerformanceWarning: DataFrame is highly fragmented.  This is usually the result of calling `frame.insert` many times, which has poor performance.  Consider joining all columns at once using pd.concat(axis=1) instead. To get a de-fragmented frame, use `newframe = frame.copy()`\n",
      "  df[col_name] = np.where(df[col] == value, 1, 0)\n",
      "/tmp/ipykernel_122064/2585726239.py:8: PerformanceWarning: DataFrame is highly fragmented.  This is usually the result of calling `frame.insert` many times, which has poor performance.  Consider joining all columns at once using pd.concat(axis=1) instead. To get a de-fragmented frame, use `newframe = frame.copy()`\n",
      "  df[col_name] = np.where(df[col] == value, 1, 0)\n",
      "/tmp/ipykernel_122064/2585726239.py:8: PerformanceWarning: DataFrame is highly fragmented.  This is usually the result of calling `frame.insert` many times, which has poor performance.  Consider joining all columns at once using pd.concat(axis=1) instead. To get a de-fragmented frame, use `newframe = frame.copy()`\n",
      "  df[col_name] = np.where(df[col] == value, 1, 0)\n",
      "/tmp/ipykernel_122064/2585726239.py:8: PerformanceWarning: DataFrame is highly fragmented.  This is usually the result of calling `frame.insert` many times, which has poor performance.  Consider joining all columns at once using pd.concat(axis=1) instead. To get a de-fragmented frame, use `newframe = frame.copy()`\n",
      "  df[col_name] = np.where(df[col] == value, 1, 0)\n",
      "/tmp/ipykernel_122064/2585726239.py:8: PerformanceWarning: DataFrame is highly fragmented.  This is usually the result of calling `frame.insert` many times, which has poor performance.  Consider joining all columns at once using pd.concat(axis=1) instead. To get a de-fragmented frame, use `newframe = frame.copy()`\n",
      "  df[col_name] = np.where(df[col] == value, 1, 0)\n",
      "/tmp/ipykernel_122064/2585726239.py:8: PerformanceWarning: DataFrame is highly fragmented.  This is usually the result of calling `frame.insert` many times, which has poor performance.  Consider joining all columns at once using pd.concat(axis=1) instead. To get a de-fragmented frame, use `newframe = frame.copy()`\n",
      "  df[col_name] = np.where(df[col] == value, 1, 0)\n",
      "/tmp/ipykernel_122064/2585726239.py:8: PerformanceWarning: DataFrame is highly fragmented.  This is usually the result of calling `frame.insert` many times, which has poor performance.  Consider joining all columns at once using pd.concat(axis=1) instead. To get a de-fragmented frame, use `newframe = frame.copy()`\n",
      "  df[col_name] = np.where(df[col] == value, 1, 0)\n",
      "/tmp/ipykernel_122064/2585726239.py:8: PerformanceWarning: DataFrame is highly fragmented.  This is usually the result of calling `frame.insert` many times, which has poor performance.  Consider joining all columns at once using pd.concat(axis=1) instead. To get a de-fragmented frame, use `newframe = frame.copy()`\n",
      "  df[col_name] = np.where(df[col] == value, 1, 0)\n",
      "/tmp/ipykernel_122064/2585726239.py:8: PerformanceWarning: DataFrame is highly fragmented.  This is usually the result of calling `frame.insert` many times, which has poor performance.  Consider joining all columns at once using pd.concat(axis=1) instead. To get a de-fragmented frame, use `newframe = frame.copy()`\n",
      "  df[col_name] = np.where(df[col] == value, 1, 0)\n",
      "/tmp/ipykernel_122064/2585726239.py:8: PerformanceWarning: DataFrame is highly fragmented.  This is usually the result of calling `frame.insert` many times, which has poor performance.  Consider joining all columns at once using pd.concat(axis=1) instead. To get a de-fragmented frame, use `newframe = frame.copy()`\n",
      "  df[col_name] = np.where(df[col] == value, 1, 0)\n",
      "/tmp/ipykernel_122064/2585726239.py:8: PerformanceWarning: DataFrame is highly fragmented.  This is usually the result of calling `frame.insert` many times, which has poor performance.  Consider joining all columns at once using pd.concat(axis=1) instead. To get a de-fragmented frame, use `newframe = frame.copy()`\n",
      "  df[col_name] = np.where(df[col] == value, 1, 0)\n",
      "/tmp/ipykernel_122064/2585726239.py:8: PerformanceWarning: DataFrame is highly fragmented.  This is usually the result of calling `frame.insert` many times, which has poor performance.  Consider joining all columns at once using pd.concat(axis=1) instead. To get a de-fragmented frame, use `newframe = frame.copy()`\n",
      "  df[col_name] = np.where(df[col] == value, 1, 0)\n",
      "/tmp/ipykernel_122064/2585726239.py:8: PerformanceWarning: DataFrame is highly fragmented.  This is usually the result of calling `frame.insert` many times, which has poor performance.  Consider joining all columns at once using pd.concat(axis=1) instead. To get a de-fragmented frame, use `newframe = frame.copy()`\n",
      "  df[col_name] = np.where(df[col] == value, 1, 0)\n",
      "/tmp/ipykernel_122064/2585726239.py:8: PerformanceWarning: DataFrame is highly fragmented.  This is usually the result of calling `frame.insert` many times, which has poor performance.  Consider joining all columns at once using pd.concat(axis=1) instead. To get a de-fragmented frame, use `newframe = frame.copy()`\n",
      "  df[col_name] = np.where(df[col] == value, 1, 0)\n",
      "/tmp/ipykernel_122064/2585726239.py:8: PerformanceWarning: DataFrame is highly fragmented.  This is usually the result of calling `frame.insert` many times, which has poor performance.  Consider joining all columns at once using pd.concat(axis=1) instead. To get a de-fragmented frame, use `newframe = frame.copy()`\n",
      "  df[col_name] = np.where(df[col] == value, 1, 0)\n",
      "/tmp/ipykernel_122064/2585726239.py:8: PerformanceWarning: DataFrame is highly fragmented.  This is usually the result of calling `frame.insert` many times, which has poor performance.  Consider joining all columns at once using pd.concat(axis=1) instead. To get a de-fragmented frame, use `newframe = frame.copy()`\n",
      "  df[col_name] = np.where(df[col] == value, 1, 0)\n",
      "/tmp/ipykernel_122064/2585726239.py:8: PerformanceWarning: DataFrame is highly fragmented.  This is usually the result of calling `frame.insert` many times, which has poor performance.  Consider joining all columns at once using pd.concat(axis=1) instead. To get a de-fragmented frame, use `newframe = frame.copy()`\n",
      "  df[col_name] = np.where(df[col] == value, 1, 0)\n",
      "/tmp/ipykernel_122064/2585726239.py:8: PerformanceWarning: DataFrame is highly fragmented.  This is usually the result of calling `frame.insert` many times, which has poor performance.  Consider joining all columns at once using pd.concat(axis=1) instead. To get a de-fragmented frame, use `newframe = frame.copy()`\n",
      "  df[col_name] = np.where(df[col] == value, 1, 0)\n",
      "/tmp/ipykernel_122064/2585726239.py:8: PerformanceWarning: DataFrame is highly fragmented.  This is usually the result of calling `frame.insert` many times, which has poor performance.  Consider joining all columns at once using pd.concat(axis=1) instead. To get a de-fragmented frame, use `newframe = frame.copy()`\n",
      "  df[col_name] = np.where(df[col] == value, 1, 0)\n",
      "/tmp/ipykernel_122064/2585726239.py:8: PerformanceWarning: DataFrame is highly fragmented.  This is usually the result of calling `frame.insert` many times, which has poor performance.  Consider joining all columns at once using pd.concat(axis=1) instead. To get a de-fragmented frame, use `newframe = frame.copy()`\n",
      "  df[col_name] = np.where(df[col] == value, 1, 0)\n",
      "/tmp/ipykernel_122064/2585726239.py:8: PerformanceWarning: DataFrame is highly fragmented.  This is usually the result of calling `frame.insert` many times, which has poor performance.  Consider joining all columns at once using pd.concat(axis=1) instead. To get a de-fragmented frame, use `newframe = frame.copy()`\n",
      "  df[col_name] = np.where(df[col] == value, 1, 0)\n",
      "/tmp/ipykernel_122064/2585726239.py:8: PerformanceWarning: DataFrame is highly fragmented.  This is usually the result of calling `frame.insert` many times, which has poor performance.  Consider joining all columns at once using pd.concat(axis=1) instead. To get a de-fragmented frame, use `newframe = frame.copy()`\n",
      "  df[col_name] = np.where(df[col] == value, 1, 0)\n",
      "/tmp/ipykernel_122064/2585726239.py:8: PerformanceWarning: DataFrame is highly fragmented.  This is usually the result of calling `frame.insert` many times, which has poor performance.  Consider joining all columns at once using pd.concat(axis=1) instead. To get a de-fragmented frame, use `newframe = frame.copy()`\n",
      "  df[col_name] = np.where(df[col] == value, 1, 0)\n",
      "/tmp/ipykernel_122064/2585726239.py:8: PerformanceWarning: DataFrame is highly fragmented.  This is usually the result of calling `frame.insert` many times, which has poor performance.  Consider joining all columns at once using pd.concat(axis=1) instead. To get a de-fragmented frame, use `newframe = frame.copy()`\n",
      "  df[col_name] = np.where(df[col] == value, 1, 0)\n",
      "/tmp/ipykernel_122064/2585726239.py:8: PerformanceWarning: DataFrame is highly fragmented.  This is usually the result of calling `frame.insert` many times, which has poor performance.  Consider joining all columns at once using pd.concat(axis=1) instead. To get a de-fragmented frame, use `newframe = frame.copy()`\n",
      "  df[col_name] = np.where(df[col] == value, 1, 0)\n",
      "/tmp/ipykernel_122064/2585726239.py:8: PerformanceWarning: DataFrame is highly fragmented.  This is usually the result of calling `frame.insert` many times, which has poor performance.  Consider joining all columns at once using pd.concat(axis=1) instead. To get a de-fragmented frame, use `newframe = frame.copy()`\n",
      "  df[col_name] = np.where(df[col] == value, 1, 0)\n",
      "/tmp/ipykernel_122064/2585726239.py:8: PerformanceWarning: DataFrame is highly fragmented.  This is usually the result of calling `frame.insert` many times, which has poor performance.  Consider joining all columns at once using pd.concat(axis=1) instead. To get a de-fragmented frame, use `newframe = frame.copy()`\n",
      "  df[col_name] = np.where(df[col] == value, 1, 0)\n",
      "/tmp/ipykernel_122064/2585726239.py:8: PerformanceWarning: DataFrame is highly fragmented.  This is usually the result of calling `frame.insert` many times, which has poor performance.  Consider joining all columns at once using pd.concat(axis=1) instead. To get a de-fragmented frame, use `newframe = frame.copy()`\n",
      "  df[col_name] = np.where(df[col] == value, 1, 0)\n",
      "/tmp/ipykernel_122064/2585726239.py:8: PerformanceWarning: DataFrame is highly fragmented.  This is usually the result of calling `frame.insert` many times, which has poor performance.  Consider joining all columns at once using pd.concat(axis=1) instead. To get a de-fragmented frame, use `newframe = frame.copy()`\n",
      "  df[col_name] = np.where(df[col] == value, 1, 0)\n",
      "/tmp/ipykernel_122064/2585726239.py:8: PerformanceWarning: DataFrame is highly fragmented.  This is usually the result of calling `frame.insert` many times, which has poor performance.  Consider joining all columns at once using pd.concat(axis=1) instead. To get a de-fragmented frame, use `newframe = frame.copy()`\n",
      "  df[col_name] = np.where(df[col] == value, 1, 0)\n",
      "/tmp/ipykernel_122064/2585726239.py:8: PerformanceWarning: DataFrame is highly fragmented.  This is usually the result of calling `frame.insert` many times, which has poor performance.  Consider joining all columns at once using pd.concat(axis=1) instead. To get a de-fragmented frame, use `newframe = frame.copy()`\n",
      "  df[col_name] = np.where(df[col] == value, 1, 0)\n",
      "/tmp/ipykernel_122064/2585726239.py:8: PerformanceWarning: DataFrame is highly fragmented.  This is usually the result of calling `frame.insert` many times, which has poor performance.  Consider joining all columns at once using pd.concat(axis=1) instead. To get a de-fragmented frame, use `newframe = frame.copy()`\n",
      "  df[col_name] = np.where(df[col] == value, 1, 0)\n",
      "/tmp/ipykernel_122064/2585726239.py:8: PerformanceWarning: DataFrame is highly fragmented.  This is usually the result of calling `frame.insert` many times, which has poor performance.  Consider joining all columns at once using pd.concat(axis=1) instead. To get a de-fragmented frame, use `newframe = frame.copy()`\n",
      "  df[col_name] = np.where(df[col] == value, 1, 0)\n",
      "/tmp/ipykernel_122064/2585726239.py:8: PerformanceWarning: DataFrame is highly fragmented.  This is usually the result of calling `frame.insert` many times, which has poor performance.  Consider joining all columns at once using pd.concat(axis=1) instead. To get a de-fragmented frame, use `newframe = frame.copy()`\n",
      "  df[col_name] = np.where(df[col] == value, 1, 0)\n",
      "/tmp/ipykernel_122064/2585726239.py:8: PerformanceWarning: DataFrame is highly fragmented.  This is usually the result of calling `frame.insert` many times, which has poor performance.  Consider joining all columns at once using pd.concat(axis=1) instead. To get a de-fragmented frame, use `newframe = frame.copy()`\n",
      "  df[col_name] = np.where(df[col] == value, 1, 0)\n",
      "/tmp/ipykernel_122064/2585726239.py:8: PerformanceWarning: DataFrame is highly fragmented.  This is usually the result of calling `frame.insert` many times, which has poor performance.  Consider joining all columns at once using pd.concat(axis=1) instead. To get a de-fragmented frame, use `newframe = frame.copy()`\n",
      "  df[col_name] = np.where(df[col] == value, 1, 0)\n",
      "/tmp/ipykernel_122064/2585726239.py:8: PerformanceWarning: DataFrame is highly fragmented.  This is usually the result of calling `frame.insert` many times, which has poor performance.  Consider joining all columns at once using pd.concat(axis=1) instead. To get a de-fragmented frame, use `newframe = frame.copy()`\n",
      "  df[col_name] = np.where(df[col] == value, 1, 0)\n",
      "/tmp/ipykernel_122064/2585726239.py:8: PerformanceWarning: DataFrame is highly fragmented.  This is usually the result of calling `frame.insert` many times, which has poor performance.  Consider joining all columns at once using pd.concat(axis=1) instead. To get a de-fragmented frame, use `newframe = frame.copy()`\n",
      "  df[col_name] = np.where(df[col] == value, 1, 0)\n",
      "/tmp/ipykernel_122064/2585726239.py:8: PerformanceWarning: DataFrame is highly fragmented.  This is usually the result of calling `frame.insert` many times, which has poor performance.  Consider joining all columns at once using pd.concat(axis=1) instead. To get a de-fragmented frame, use `newframe = frame.copy()`\n",
      "  df[col_name] = np.where(df[col] == value, 1, 0)\n",
      "/tmp/ipykernel_122064/2585726239.py:8: PerformanceWarning: DataFrame is highly fragmented.  This is usually the result of calling `frame.insert` many times, which has poor performance.  Consider joining all columns at once using pd.concat(axis=1) instead. To get a de-fragmented frame, use `newframe = frame.copy()`\n",
      "  df[col_name] = np.where(df[col] == value, 1, 0)\n",
      "/tmp/ipykernel_122064/2585726239.py:8: PerformanceWarning: DataFrame is highly fragmented.  This is usually the result of calling `frame.insert` many times, which has poor performance.  Consider joining all columns at once using pd.concat(axis=1) instead. To get a de-fragmented frame, use `newframe = frame.copy()`\n",
      "  df[col_name] = np.where(df[col] == value, 1, 0)\n",
      "/tmp/ipykernel_122064/2585726239.py:8: PerformanceWarning: DataFrame is highly fragmented.  This is usually the result of calling `frame.insert` many times, which has poor performance.  Consider joining all columns at once using pd.concat(axis=1) instead. To get a de-fragmented frame, use `newframe = frame.copy()`\n",
      "  df[col_name] = np.where(df[col] == value, 1, 0)\n",
      "/tmp/ipykernel_122064/2585726239.py:8: PerformanceWarning: DataFrame is highly fragmented.  This is usually the result of calling `frame.insert` many times, which has poor performance.  Consider joining all columns at once using pd.concat(axis=1) instead. To get a de-fragmented frame, use `newframe = frame.copy()`\n",
      "  df[col_name] = np.where(df[col] == value, 1, 0)\n",
      "/tmp/ipykernel_122064/2585726239.py:8: PerformanceWarning: DataFrame is highly fragmented.  This is usually the result of calling `frame.insert` many times, which has poor performance.  Consider joining all columns at once using pd.concat(axis=1) instead. To get a de-fragmented frame, use `newframe = frame.copy()`\n",
      "  df[col_name] = np.where(df[col] == value, 1, 0)\n",
      "/tmp/ipykernel_122064/2585726239.py:8: PerformanceWarning: DataFrame is highly fragmented.  This is usually the result of calling `frame.insert` many times, which has poor performance.  Consider joining all columns at once using pd.concat(axis=1) instead. To get a de-fragmented frame, use `newframe = frame.copy()`\n",
      "  df[col_name] = np.where(df[col] == value, 1, 0)\n",
      "/tmp/ipykernel_122064/2585726239.py:8: PerformanceWarning: DataFrame is highly fragmented.  This is usually the result of calling `frame.insert` many times, which has poor performance.  Consider joining all columns at once using pd.concat(axis=1) instead. To get a de-fragmented frame, use `newframe = frame.copy()`\n",
      "  df[col_name] = np.where(df[col] == value, 1, 0)\n",
      "/tmp/ipykernel_122064/2585726239.py:8: PerformanceWarning: DataFrame is highly fragmented.  This is usually the result of calling `frame.insert` many times, which has poor performance.  Consider joining all columns at once using pd.concat(axis=1) instead. To get a de-fragmented frame, use `newframe = frame.copy()`\n",
      "  df[col_name] = np.where(df[col] == value, 1, 0)\n",
      "/tmp/ipykernel_122064/2585726239.py:8: PerformanceWarning: DataFrame is highly fragmented.  This is usually the result of calling `frame.insert` many times, which has poor performance.  Consider joining all columns at once using pd.concat(axis=1) instead. To get a de-fragmented frame, use `newframe = frame.copy()`\n",
      "  df[col_name] = np.where(df[col] == value, 1, 0)\n",
      "/tmp/ipykernel_122064/2585726239.py:8: PerformanceWarning: DataFrame is highly fragmented.  This is usually the result of calling `frame.insert` many times, which has poor performance.  Consider joining all columns at once using pd.concat(axis=1) instead. To get a de-fragmented frame, use `newframe = frame.copy()`\n",
      "  df[col_name] = np.where(df[col] == value, 1, 0)\n",
      "/tmp/ipykernel_122064/2585726239.py:8: PerformanceWarning: DataFrame is highly fragmented.  This is usually the result of calling `frame.insert` many times, which has poor performance.  Consider joining all columns at once using pd.concat(axis=1) instead. To get a de-fragmented frame, use `newframe = frame.copy()`\n",
      "  df[col_name] = np.where(df[col] == value, 1, 0)\n",
      "/tmp/ipykernel_122064/2585726239.py:8: PerformanceWarning: DataFrame is highly fragmented.  This is usually the result of calling `frame.insert` many times, which has poor performance.  Consider joining all columns at once using pd.concat(axis=1) instead. To get a de-fragmented frame, use `newframe = frame.copy()`\n",
      "  df[col_name] = np.where(df[col] == value, 1, 0)\n",
      "/tmp/ipykernel_122064/2585726239.py:8: PerformanceWarning: DataFrame is highly fragmented.  This is usually the result of calling `frame.insert` many times, which has poor performance.  Consider joining all columns at once using pd.concat(axis=1) instead. To get a de-fragmented frame, use `newframe = frame.copy()`\n",
      "  df[col_name] = np.where(df[col] == value, 1, 0)\n",
      "/tmp/ipykernel_122064/2585726239.py:8: PerformanceWarning: DataFrame is highly fragmented.  This is usually the result of calling `frame.insert` many times, which has poor performance.  Consider joining all columns at once using pd.concat(axis=1) instead. To get a de-fragmented frame, use `newframe = frame.copy()`\n",
      "  df[col_name] = np.where(df[col] == value, 1, 0)\n",
      "/tmp/ipykernel_122064/2585726239.py:8: PerformanceWarning: DataFrame is highly fragmented.  This is usually the result of calling `frame.insert` many times, which has poor performance.  Consider joining all columns at once using pd.concat(axis=1) instead. To get a de-fragmented frame, use `newframe = frame.copy()`\n",
      "  df[col_name] = np.where(df[col] == value, 1, 0)\n",
      "/tmp/ipykernel_122064/2585726239.py:8: PerformanceWarning: DataFrame is highly fragmented.  This is usually the result of calling `frame.insert` many times, which has poor performance.  Consider joining all columns at once using pd.concat(axis=1) instead. To get a de-fragmented frame, use `newframe = frame.copy()`\n",
      "  df[col_name] = np.where(df[col] == value, 1, 0)\n",
      "/tmp/ipykernel_122064/2585726239.py:8: PerformanceWarning: DataFrame is highly fragmented.  This is usually the result of calling `frame.insert` many times, which has poor performance.  Consider joining all columns at once using pd.concat(axis=1) instead. To get a de-fragmented frame, use `newframe = frame.copy()`\n",
      "  df[col_name] = np.where(df[col] == value, 1, 0)\n",
      "/tmp/ipykernel_122064/2585726239.py:8: PerformanceWarning: DataFrame is highly fragmented.  This is usually the result of calling `frame.insert` many times, which has poor performance.  Consider joining all columns at once using pd.concat(axis=1) instead. To get a de-fragmented frame, use `newframe = frame.copy()`\n",
      "  df[col_name] = np.where(df[col] == value, 1, 0)\n",
      "/tmp/ipykernel_122064/2585726239.py:8: PerformanceWarning: DataFrame is highly fragmented.  This is usually the result of calling `frame.insert` many times, which has poor performance.  Consider joining all columns at once using pd.concat(axis=1) instead. To get a de-fragmented frame, use `newframe = frame.copy()`\n",
      "  df[col_name] = np.where(df[col] == value, 1, 0)\n",
      "/tmp/ipykernel_122064/2585726239.py:8: PerformanceWarning: DataFrame is highly fragmented.  This is usually the result of calling `frame.insert` many times, which has poor performance.  Consider joining all columns at once using pd.concat(axis=1) instead. To get a de-fragmented frame, use `newframe = frame.copy()`\n",
      "  df[col_name] = np.where(df[col] == value, 1, 0)\n",
      "/tmp/ipykernel_122064/2585726239.py:8: PerformanceWarning: DataFrame is highly fragmented.  This is usually the result of calling `frame.insert` many times, which has poor performance.  Consider joining all columns at once using pd.concat(axis=1) instead. To get a de-fragmented frame, use `newframe = frame.copy()`\n",
      "  df[col_name] = np.where(df[col] == value, 1, 0)\n",
      "/tmp/ipykernel_122064/2585726239.py:8: PerformanceWarning: DataFrame is highly fragmented.  This is usually the result of calling `frame.insert` many times, which has poor performance.  Consider joining all columns at once using pd.concat(axis=1) instead. To get a de-fragmented frame, use `newframe = frame.copy()`\n",
      "  df[col_name] = np.where(df[col] == value, 1, 0)\n",
      "/tmp/ipykernel_122064/2585726239.py:8: PerformanceWarning: DataFrame is highly fragmented.  This is usually the result of calling `frame.insert` many times, which has poor performance.  Consider joining all columns at once using pd.concat(axis=1) instead. To get a de-fragmented frame, use `newframe = frame.copy()`\n",
      "  df[col_name] = np.where(df[col] == value, 1, 0)\n",
      "/tmp/ipykernel_122064/2585726239.py:8: PerformanceWarning: DataFrame is highly fragmented.  This is usually the result of calling `frame.insert` many times, which has poor performance.  Consider joining all columns at once using pd.concat(axis=1) instead. To get a de-fragmented frame, use `newframe = frame.copy()`\n",
      "  df[col_name] = np.where(df[col] == value, 1, 0)\n",
      "/tmp/ipykernel_122064/2585726239.py:8: PerformanceWarning: DataFrame is highly fragmented.  This is usually the result of calling `frame.insert` many times, which has poor performance.  Consider joining all columns at once using pd.concat(axis=1) instead. To get a de-fragmented frame, use `newframe = frame.copy()`\n",
      "  df[col_name] = np.where(df[col] == value, 1, 0)\n",
      "/tmp/ipykernel_122064/2585726239.py:8: PerformanceWarning: DataFrame is highly fragmented.  This is usually the result of calling `frame.insert` many times, which has poor performance.  Consider joining all columns at once using pd.concat(axis=1) instead. To get a de-fragmented frame, use `newframe = frame.copy()`\n",
      "  df[col_name] = np.where(df[col] == value, 1, 0)\n",
      "/tmp/ipykernel_122064/2585726239.py:8: PerformanceWarning: DataFrame is highly fragmented.  This is usually the result of calling `frame.insert` many times, which has poor performance.  Consider joining all columns at once using pd.concat(axis=1) instead. To get a de-fragmented frame, use `newframe = frame.copy()`\n",
      "  df[col_name] = np.where(df[col] == value, 1, 0)\n",
      "/tmp/ipykernel_122064/2585726239.py:8: PerformanceWarning: DataFrame is highly fragmented.  This is usually the result of calling `frame.insert` many times, which has poor performance.  Consider joining all columns at once using pd.concat(axis=1) instead. To get a de-fragmented frame, use `newframe = frame.copy()`\n",
      "  df[col_name] = np.where(df[col] == value, 1, 0)\n",
      "/tmp/ipykernel_122064/2585726239.py:8: PerformanceWarning: DataFrame is highly fragmented.  This is usually the result of calling `frame.insert` many times, which has poor performance.  Consider joining all columns at once using pd.concat(axis=1) instead. To get a de-fragmented frame, use `newframe = frame.copy()`\n",
      "  df[col_name] = np.where(df[col] == value, 1, 0)\n",
      "/tmp/ipykernel_122064/2585726239.py:8: PerformanceWarning: DataFrame is highly fragmented.  This is usually the result of calling `frame.insert` many times, which has poor performance.  Consider joining all columns at once using pd.concat(axis=1) instead. To get a de-fragmented frame, use `newframe = frame.copy()`\n",
      "  df[col_name] = np.where(df[col] == value, 1, 0)\n",
      "/tmp/ipykernel_122064/2585726239.py:8: PerformanceWarning: DataFrame is highly fragmented.  This is usually the result of calling `frame.insert` many times, which has poor performance.  Consider joining all columns at once using pd.concat(axis=1) instead. To get a de-fragmented frame, use `newframe = frame.copy()`\n",
      "  df[col_name] = np.where(df[col] == value, 1, 0)\n",
      "/tmp/ipykernel_122064/2585726239.py:8: PerformanceWarning: DataFrame is highly fragmented.  This is usually the result of calling `frame.insert` many times, which has poor performance.  Consider joining all columns at once using pd.concat(axis=1) instead. To get a de-fragmented frame, use `newframe = frame.copy()`\n",
      "  df[col_name] = np.where(df[col] == value, 1, 0)\n",
      "/tmp/ipykernel_122064/2585726239.py:8: PerformanceWarning: DataFrame is highly fragmented.  This is usually the result of calling `frame.insert` many times, which has poor performance.  Consider joining all columns at once using pd.concat(axis=1) instead. To get a de-fragmented frame, use `newframe = frame.copy()`\n",
      "  df[col_name] = np.where(df[col] == value, 1, 0)\n",
      "/tmp/ipykernel_122064/2585726239.py:8: PerformanceWarning: DataFrame is highly fragmented.  This is usually the result of calling `frame.insert` many times, which has poor performance.  Consider joining all columns at once using pd.concat(axis=1) instead. To get a de-fragmented frame, use `newframe = frame.copy()`\n",
      "  df[col_name] = np.where(df[col] == value, 1, 0)\n",
      "/tmp/ipykernel_122064/2585726239.py:8: PerformanceWarning: DataFrame is highly fragmented.  This is usually the result of calling `frame.insert` many times, which has poor performance.  Consider joining all columns at once using pd.concat(axis=1) instead. To get a de-fragmented frame, use `newframe = frame.copy()`\n",
      "  df[col_name] = np.where(df[col] == value, 1, 0)\n",
      "/tmp/ipykernel_122064/2585726239.py:8: PerformanceWarning: DataFrame is highly fragmented.  This is usually the result of calling `frame.insert` many times, which has poor performance.  Consider joining all columns at once using pd.concat(axis=1) instead. To get a de-fragmented frame, use `newframe = frame.copy()`\n",
      "  df[col_name] = np.where(df[col] == value, 1, 0)\n",
      "/tmp/ipykernel_122064/2585726239.py:8: PerformanceWarning: DataFrame is highly fragmented.  This is usually the result of calling `frame.insert` many times, which has poor performance.  Consider joining all columns at once using pd.concat(axis=1) instead. To get a de-fragmented frame, use `newframe = frame.copy()`\n",
      "  df[col_name] = np.where(df[col] == value, 1, 0)\n",
      "/tmp/ipykernel_122064/2585726239.py:8: PerformanceWarning: DataFrame is highly fragmented.  This is usually the result of calling `frame.insert` many times, which has poor performance.  Consider joining all columns at once using pd.concat(axis=1) instead. To get a de-fragmented frame, use `newframe = frame.copy()`\n",
      "  df[col_name] = np.where(df[col] == value, 1, 0)\n",
      "/tmp/ipykernel_122064/2585726239.py:8: PerformanceWarning: DataFrame is highly fragmented.  This is usually the result of calling `frame.insert` many times, which has poor performance.  Consider joining all columns at once using pd.concat(axis=1) instead. To get a de-fragmented frame, use `newframe = frame.copy()`\n",
      "  df[col_name] = np.where(df[col] == value, 1, 0)\n",
      "/tmp/ipykernel_122064/2585726239.py:8: PerformanceWarning: DataFrame is highly fragmented.  This is usually the result of calling `frame.insert` many times, which has poor performance.  Consider joining all columns at once using pd.concat(axis=1) instead. To get a de-fragmented frame, use `newframe = frame.copy()`\n",
      "  df[col_name] = np.where(df[col] == value, 1, 0)\n",
      "/tmp/ipykernel_122064/2585726239.py:8: PerformanceWarning: DataFrame is highly fragmented.  This is usually the result of calling `frame.insert` many times, which has poor performance.  Consider joining all columns at once using pd.concat(axis=1) instead. To get a de-fragmented frame, use `newframe = frame.copy()`\n",
      "  df[col_name] = np.where(df[col] == value, 1, 0)\n",
      "/tmp/ipykernel_122064/2585726239.py:8: PerformanceWarning: DataFrame is highly fragmented.  This is usually the result of calling `frame.insert` many times, which has poor performance.  Consider joining all columns at once using pd.concat(axis=1) instead. To get a de-fragmented frame, use `newframe = frame.copy()`\n",
      "  df[col_name] = np.where(df[col] == value, 1, 0)\n"
     ]
    }
   ],
   "source": [
    "for col in diag_columns:\n",
    "    unique_values = df[col].unique()\n",
    "    for value in unique_values:\n",
    "        col_name = f'diag_val_{value}'\n",
    "        if col_name in df.columns:\n",
    "            df[col_name] += np.where(df[col] == value, 1, 0)\n",
    "        else:\n",
    "            df[col_name] = np.where(df[col] == value, 1, 0)\n",
    "    df.drop(col, axis=1, inplace=True)"
   ]
  },
  {
   "cell_type": "code",
   "execution_count": 116,
   "id": "1ee1b20658c85a73",
   "metadata": {
    "collapsed": false,
    "ExecuteTime": {
     "end_time": "2024-05-22T18:38:02.479843Z",
     "start_time": "2024-05-22T18:38:02.477293Z"
    }
   },
   "outputs": [
    {
     "data": {
      "text/plain": "905"
     },
     "execution_count": 116,
     "metadata": {},
     "output_type": "execute_result"
    }
   ],
   "source": [
    "len(df.columns)"
   ]
  },
  {
   "cell_type": "markdown",
   "id": "5082a9ad36742762",
   "metadata": {
    "collapsed": false
   },
   "source": [
    "### Encode Categorical Variables:"
   ]
  },
  {
   "cell_type": "code",
   "execution_count": 117,
   "id": "c4c5b8508c78e893",
   "metadata": {
    "collapsed": false,
    "ExecuteTime": {
     "end_time": "2024-05-22T18:38:02.494222Z",
     "start_time": "2024-05-22T18:38:02.480505Z"
    }
   },
   "outputs": [
    {
     "data": {
      "text/plain": "['admission_source',\n 'admission_type',\n 'change',\n 'diabetesMed',\n 'discharge_disposition',\n 'gender',\n 'glimepiride',\n 'glipizide',\n 'glyburide',\n 'insulin',\n 'metformin',\n 'pioglitazone',\n 'race',\n 'readmitted',\n 'rosiglitazone']"
     },
     "execution_count": 117,
     "metadata": {},
     "output_type": "execute_result"
    }
   ],
   "source": [
    "categorical_columns = np.intersect1d(categorical_columns, df.columns)\n",
    "categorical_columns = [col for col in categorical_columns if not col.startswith('diag')]\n",
    "categorical_columns"
   ]
  },
  {
   "cell_type": "code",
   "execution_count": 118,
   "id": "5b7deedfc07d22e9",
   "metadata": {
    "collapsed": false,
    "ExecuteTime": {
     "end_time": "2024-05-22T18:38:03.270724Z",
     "start_time": "2024-05-22T18:38:02.495048Z"
    }
   },
   "outputs": [],
   "source": [
    "from sklearn.preprocessing import OneHotEncoder\n",
    "\n",
    "encoder = OneHotEncoder(handle_unknown='ignore', sparse_output=True)\n",
    "one_hotted_columns_model = encoder.fit_transform(df[categorical_columns])\n",
    "encoded_categorical_df = pd.DataFrame.sparse.from_spmatrix(one_hotted_columns_model, columns=encoder.get_feature_names_out(categorical_columns))\n",
    "\n",
    "df = df.drop(categorical_columns, axis=1)\n",
    "\n",
    "df = pd.concat([df, encoded_categorical_df], axis=1)\n",
    "del encoded_categorical_df"
   ]
  },
  {
   "cell_type": "code",
   "execution_count": 119,
   "id": "c85ca7836e790049",
   "metadata": {
    "collapsed": false,
    "ExecuteTime": {
     "end_time": "2024-05-22T18:38:03.273975Z",
     "start_time": "2024-05-22T18:38:03.271553Z"
    }
   },
   "outputs": [
    {
     "data": {
      "text/plain": "975"
     },
     "execution_count": 119,
     "metadata": {},
     "output_type": "execute_result"
    }
   ],
   "source": [
    "len(df.columns)"
   ]
  },
  {
   "cell_type": "code",
   "execution_count": 120,
   "id": "347b2f61da916ba0",
   "metadata": {
    "collapsed": false,
    "ExecuteTime": {
     "end_time": "2024-05-22T18:38:03.316465Z",
     "start_time": "2024-05-22T18:38:03.274776Z"
    }
   },
   "outputs": [
    {
     "name": "stdout",
     "output_type": "stream",
     "text": [
      "<class 'pandas.core.frame.DataFrame'>\n",
      "RangeIndex: 101766 entries, 0 to 101765\n",
      "Columns: 975 entries, age to rosiglitazone_Up\n",
      "dtypes: Sparse[float64, 0](85), float64(9), int64(881)\n",
      "memory usage: 708.5 MB\n"
     ]
    }
   ],
   "source": [
    "df.info()"
   ]
  },
  {
   "cell_type": "markdown",
   "id": "4229c57f1cbfc453",
   "metadata": {
    "collapsed": false
   },
   "source": [
    "##  2. Dimensionality Reduction"
   ]
  },
  {
   "cell_type": "markdown",
   "id": "3bbc9429a5befd23",
   "metadata": {
    "collapsed": false
   },
   "source": [
    "Some data mining algorithms, like K-Means, struggle with accurately clustering data when confronted with numerous features, leading to high dimensionality. This issue isn't exclusive to datasets with hundreds or thousands of features; even just ten features can pose accuracy challenges.  \n",
    "Feature or dimensionality reduction aims to address this by transforming the original feature set into a smaller set of derived features that retain most of the original information.  \n",
    "Principal Component Analysis (PCA) is a widely used technique for feature reduction. It condenses the original dataset into a set number of features known as principal components. The desired number of principal components must be specified.  \n",
    "In this section, utilize PCA to reduce the dimensionality of the dataset. This approach is recommended if there are numerous variables, manual variable selection is impractical, or segmentation results are unsatisfactory."
   ]
  },
  {
   "cell_type": "code",
   "execution_count": 121,
   "id": "29fedc2ba9b844fc",
   "metadata": {
    "collapsed": false,
    "ExecuteTime": {
     "end_time": "2024-05-22T18:38:26.424073Z",
     "start_time": "2024-05-22T18:38:03.317308Z"
    }
   },
   "outputs": [],
   "source": [
    "from sklearn.decomposition import PCA\n",
    "\n",
    "pca = PCA(n_components=0.8)  # Retain 95% of the variance\n",
    "pca_data = pca.fit_transform(df.values)\n",
    "\n",
    "pca_columns = [f'PC{i+1}' for i in range(pca_data.shape[1])]\n",
    "df = pd.DataFrame(data=pca_data, columns=pca_columns)"
   ]
  },
  {
   "cell_type": "code",
   "execution_count": 122,
   "id": "91405363e4aca5a0",
   "metadata": {
    "collapsed": false,
    "scrolled": true,
    "ExecuteTime": {
     "end_time": "2024-05-22T18:38:26.473580Z",
     "start_time": "2024-05-22T18:38:26.432242Z"
    }
   },
   "outputs": [
    {
     "name": "stdout",
     "output_type": "stream",
     "text": [
      "<class 'pandas.core.frame.DataFrame'>\n",
      "RangeIndex: 101766 entries, 0 to 101765\n",
      "Data columns (total 24 columns):\n",
      " #   Column  Non-Null Count   Dtype  \n",
      "---  ------  --------------   -----  \n",
      " 0   PC1     101766 non-null  float64\n",
      " 1   PC2     101766 non-null  float64\n",
      " 2   PC3     101766 non-null  float64\n",
      " 3   PC4     101766 non-null  float64\n",
      " 4   PC5     101766 non-null  float64\n",
      " 5   PC6     101766 non-null  float64\n",
      " 6   PC7     101766 non-null  float64\n",
      " 7   PC8     101766 non-null  float64\n",
      " 8   PC9     101766 non-null  float64\n",
      " 9   PC10    101766 non-null  float64\n",
      " 10  PC11    101766 non-null  float64\n",
      " 11  PC12    101766 non-null  float64\n",
      " 12  PC13    101766 non-null  float64\n",
      " 13  PC14    101766 non-null  float64\n",
      " 14  PC15    101766 non-null  float64\n",
      " 15  PC16    101766 non-null  float64\n",
      " 16  PC17    101766 non-null  float64\n",
      " 17  PC18    101766 non-null  float64\n",
      " 18  PC19    101766 non-null  float64\n",
      " 19  PC20    101766 non-null  float64\n",
      " 20  PC21    101766 non-null  float64\n",
      " 21  PC22    101766 non-null  float64\n",
      " 22  PC23    101766 non-null  float64\n",
      " 23  PC24    101766 non-null  float64\n",
      "dtypes: float64(24)\n",
      "memory usage: 18.6 MB\n"
     ]
    }
   ],
   "source": [
    "df.info()"
   ]
  },
  {
   "cell_type": "markdown",
   "id": "a941aff42fd06de3",
   "metadata": {
    "collapsed": false
   },
   "source": [
    "##  3. Unsupervised Learning"
   ]
  },
  {
   "cell_type": "markdown",
   "id": "9392fd2d19bc57be",
   "metadata": {
    "collapsed": false
   },
   "source": [
    "Utilizing the **silhouette method**, determine the optimal `number of clusters` for the **K-means** method and the optimal input parameters `(minPnt, eps)` for the **DBSCAN** method.  \n",
    "Based on the obtained values, store the best result from each method in a CSV file containing only the columns: `id_encounter`, `kmean_label`, and `dbscan_label`."
   ]
  },
  {
   "cell_type": "markdown",
   "id": "83637c05f3571495",
   "metadata": {
    "collapsed": false
   },
   "source": [
    "###  Silhouette Method\n",
    "The Silhouette Method is a method to find the optimal number of clusters and interpretation and validation of consistency within clusters of data. The silhouette method computes silhouette coefficients of each point that measure how much a point is similar to its cluster compared to other clusters. by providing a succinct graphical representation of how well each object has been classified"
   ]
  },
  {
   "cell_type": "code",
   "execution_count": 123,
   "id": "2e60d4e783112e18",
   "metadata": {
    "collapsed": false
   },
   "outputs": [],
   "source": [
    "from sklearn.metrics import silhouette_score\n",
    "from sklearn.model_selection import GridSearchCV\n",
    "\n",
    "def do_grid_search(estimator, param_grid):\n",
    "    _grid_search = GridSearchCV(estimator,\n",
    "                               param_grid,\n",
    "                               scoring=lambda _estimator, _x: silhouette_score(_x, _estimator.fit_predict(_x)),\n",
    "                               cv=5)\n",
    "    _grid_search.fit(df)\n",
    "    return _grid_search"
   ]
  },
  {
   "cell_type": "markdown",
   "id": "5fcf28375390f18",
   "metadata": {
    "collapsed": false
   },
   "source": [
    "### K-Means\n",
    "K-Means Clustering is a type of Unsupervised Machine Learning algorithm that organizes an unlabeled dataset into distinct clusters. This method assigns data points to one of the K clusters based on their proximity to the cluster centers. Initially, cluster centroids are randomly placed in space. Then, each data point is assigned to the nearest cluster centroid. Subsequently, new cluster centroids are calculated. This iterative process continues until it converges on well-defined clusters."
   ]
  },
  {
   "cell_type": "code",
   "execution_count": 124,
   "id": "422fa645353872b0",
   "metadata": {
    "collapsed": false,
    "ExecuteTime": {
     "end_time": "2024-05-22T18:42:25.485788Z",
     "start_time": "2024-05-22T18:38:26.482712Z"
    }
   },
   "outputs": [
    {
     "name": "stdout",
     "output_type": "stream",
     "text": [
      "Optimal number of clusters for K-means: 2\n"
     ]
    }
   ],
   "source": [
    "from sklearn.cluster import KMeans\n",
    "\n",
    "n_clusters = np.arange(5) * 50 + 2\n",
    "\n",
    "kmeans_grid_search = do_grid_search(KMeans(n_init=3, random_state=42), {\n",
    "    'n_clusters': n_clusters\n",
    "})\n",
    "\n",
    "optimal_k = kmeans_grid_search.best_params_['n_clusters']\n",
    "optimal_kmeans = kmeans_grid_search.best_estimator_\n",
    "print(f'Optimal number of clusters for K-means: {optimal_k}')"
   ]
  },
  {
   "cell_type": "code",
   "execution_count": 125,
   "id": "f4b7eb825fac550d",
   "metadata": {
    "collapsed": false,
    "scrolled": true,
    "ExecuteTime": {
     "end_time": "2024-05-22T18:42:25.493896Z",
     "start_time": "2024-05-22T18:42:25.486860Z"
    }
   },
   "outputs": [
    {
     "data": {
      "text/plain": "{'mean_fit_time': array([ 0.10419984,  3.24956222,  6.1212604 ,  9.15478024, 10.54161491]),\n 'std_fit_time': array([0.02483107, 0.45649773, 0.77535054, 2.51252086, 0.83721495]),\n 'mean_score_time': array([3.08413596, 3.34593906, 3.87389736, 4.16413894, 4.12131085]),\n 'std_score_time': array([0.05901348, 0.06166835, 0.2055125 , 0.25815299, 0.08373255]),\n 'param_n_clusters': masked_array(data=[2, 52, 102, 152, 202],\n              mask=[False, False, False, False, False],\n        fill_value='?',\n             dtype=object),\n 'params': [{'n_clusters': 2},\n  {'n_clusters': 52},\n  {'n_clusters': 102},\n  {'n_clusters': 152},\n  {'n_clusters': 202}],\n 'split0_test_score': array([0.121908  , 0.05882302, 0.05655912, 0.05589329, 0.05786828]),\n 'split1_test_score': array([0.11318696, 0.05529913, 0.05193092, 0.0533419 , 0.05300976]),\n 'split2_test_score': array([0.10354081, 0.05092905, 0.0490411 , 0.04876441, 0.04814531]),\n 'split3_test_score': array([0.10820316, 0.05482307, 0.05103331, 0.05012451, 0.05114529]),\n 'split4_test_score': array([0.10509322, 0.05472485, 0.05321134, 0.05320138, 0.0544911 ]),\n 'mean_test_score': array([0.11038643, 0.05491982, 0.05235516, 0.0522651 , 0.05293195]),\n 'std_test_score': array([0.00663682, 0.00250409, 0.00250266, 0.00253128, 0.00325295]),\n 'rank_test_score': array([1, 2, 4, 5, 3], dtype=int32)}"
     },
     "execution_count": 125,
     "metadata": {},
     "output_type": "execute_result"
    }
   ],
   "source": [
    "kmeans_grid_search.cv_results_"
   ]
  },
  {
   "cell_type": "code",
   "outputs": [
    {
     "data": {
      "text/plain": "<Figure size 1600x800 with 2 Axes>",
      "image/png": "[encoded data removed]"
     },
     "metadata": {},
     "output_type": "display_data"
    }
   ],
   "source": [
    "plt.figure(figsize=(16, 8))\n",
    "\n",
    "plt.subplot(1, 2, 1)\n",
    "plt.plot(n_clusters, kmeans_grid_search.cv_results_[\"mean_fit_time\"], linewidth=2)\n",
    "plt.title(\"Mean Fit Time\")\n",
    "plt.xlabel(\"#clusters\")\n",
    "plt.ylabel(\"time(s)\")\n",
    "\n",
    "plt.subplot(1, 2, 2)\n",
    "plt.plot(n_clusters, kmeans_grid_search.cv_results_[\"mean_test_score\"], linewidth=2)\n",
    "plt.title(\"Mean Test Score\")\n",
    "plt.xlabel(\"#clusters\")\n",
    "\n",
    "plt.show()"
   ],
   "metadata": {
    "collapsed": false,
    "ExecuteTime": {
     "end_time": "2024-05-22T18:42:25.726952Z",
     "start_time": "2024-05-22T18:42:25.495208Z"
    }
   },
   "id": "ffed6aaed4c7aae4",
   "execution_count": 126
  },
  {
   "cell_type": "markdown",
   "id": "04286fcd-d65d-45cb-b0ed-10a950ee6be8",
   "metadata": {},
   "source": [
    "### DBSCAN\n",
    "DBSCAN is an unsupervised clustering algorithm, offering an alternative to KMeans and hierarchical clustering. It relies on two key parameters: Epsilon (ɛ), defining the neighborhood radius, and Minimum Points (minPts), specifying the minimum number of points to form a cluster. Epsilon determines the similarity threshold between points, influencing cluster size, while minPts affects cluster robustness and noise handling.  \n",
    "Balancing these parameters is crucial for effective clustering without splitting valid clusters or aggregating unrelated points"
   ]
  },
  {
   "cell_type": "code",
   "execution_count": 133,
   "id": "bfc1414182835950",
   "metadata": {
    "collapsed": false,
    "scrolled": true,
    "ExecuteTime": {
     "end_time": "2024-05-22T18:56:04.179682Z",
     "start_time": "2024-05-22T18:55:37.724451Z"
    }
   },
   "outputs": [
    {
     "name": "stderr",
     "output_type": "stream",
     "text": [
      "/home/lotov2000/.local/lib/python3.12/site-packages/sklearn/model_selection/_validation.py:821: UserWarning: Scoring failed. The score on this train-test partition for these parameters will be set to nan. Details: \n",
      "Traceback (most recent call last):\n",
      "  File \"/home/lotov2000/.local/lib/python3.12/site-packages/sklearn/model_selection/_validation.py\", line 808, in _score\n",
      "    scores = scorer(estimator, X_test)\n",
      "             ^^^^^^^^^^^^^^^^^^^^^^^^^\n",
      "  File \"/tmp/ipykernel_122064/3748867959.py\", line 7, in <lambda>\n",
      "    scoring=lambda _estimator, _x: silhouette_score(_x, _estimator.fit_predict(_x)),\n",
      "                                   ^^^^^^^^^^^^^^^^^^^^^^^^^^^^^^^^^^^^^^^^^^^^^^^^\n",
      "  File \"/home/lotov2000/.local/lib/python3.12/site-packages/sklearn/utils/_param_validation.py\", line 214, in wrapper\n",
      "    return func(*args, **kwargs)\n",
      "           ^^^^^^^^^^^^^^^^^^^^^\n",
      "  File \"/home/lotov2000/.local/lib/python3.12/site-packages/sklearn/metrics/cluster/_unsupervised.py\", line 130, in silhouette_score\n",
      "    return np.mean(silhouette_samples(X, labels, metric=metric, **kwds))\n",
      "                   ^^^^^^^^^^^^^^^^^^^^^^^^^^^^^^^^^^^^^^^^^^^^^^^^^^^^\n",
      "  File \"/home/lotov2000/.local/lib/python3.12/site-packages/sklearn/utils/_param_validation.py\", line 187, in wrapper\n",
      "    return func(*args, **kwargs)\n",
      "           ^^^^^^^^^^^^^^^^^^^^^\n",
      "  File \"/home/lotov2000/.local/lib/python3.12/site-packages/sklearn/metrics/cluster/_unsupervised.py\", line 276, in silhouette_samples\n",
      "    check_number_of_labels(len(le.classes_), n_samples)\n",
      "  File \"/home/lotov2000/.local/lib/python3.12/site-packages/sklearn/metrics/cluster/_unsupervised.py\", line 37, in check_number_of_labels\n",
      "    raise ValueError(\n",
      "ValueError: Number of labels is 1. Valid values are 2 to n_samples - 1 (inclusive)\n",
      "\n",
      "  warnings.warn(\n",
      "/home/lotov2000/.local/lib/python3.12/site-packages/sklearn/model_selection/_validation.py:821: UserWarning: Scoring failed. The score on this train-test partition for these parameters will be set to nan. Details: \n",
      "Traceback (most recent call last):\n",
      "  File \"/home/lotov2000/.local/lib/python3.12/site-packages/sklearn/model_selection/_validation.py\", line 808, in _score\n",
      "    scores = scorer(estimator, X_test)\n",
      "             ^^^^^^^^^^^^^^^^^^^^^^^^^\n",
      "  File \"/tmp/ipykernel_122064/3748867959.py\", line 7, in <lambda>\n",
      "    scoring=lambda _estimator, _x: silhouette_score(_x, _estimator.fit_predict(_x)),\n",
      "                                   ^^^^^^^^^^^^^^^^^^^^^^^^^^^^^^^^^^^^^^^^^^^^^^^^\n",
      "  File \"/home/lotov2000/.local/lib/python3.12/site-packages/sklearn/utils/_param_validation.py\", line 214, in wrapper\n",
      "    return func(*args, **kwargs)\n",
      "           ^^^^^^^^^^^^^^^^^^^^^\n",
      "  File \"/home/lotov2000/.local/lib/python3.12/site-packages/sklearn/metrics/cluster/_unsupervised.py\", line 130, in silhouette_score\n",
      "    return np.mean(silhouette_samples(X, labels, metric=metric, **kwds))\n",
      "                   ^^^^^^^^^^^^^^^^^^^^^^^^^^^^^^^^^^^^^^^^^^^^^^^^^^^^\n",
      "  File \"/home/lotov2000/.local/lib/python3.12/site-packages/sklearn/utils/_param_validation.py\", line 187, in wrapper\n",
      "    return func(*args, **kwargs)\n",
      "           ^^^^^^^^^^^^^^^^^^^^^\n",
      "  File \"/home/lotov2000/.local/lib/python3.12/site-packages/sklearn/metrics/cluster/_unsupervised.py\", line 276, in silhouette_samples\n",
      "    check_number_of_labels(len(le.classes_), n_samples)\n",
      "  File \"/home/lotov2000/.local/lib/python3.12/site-packages/sklearn/metrics/cluster/_unsupervised.py\", line 37, in check_number_of_labels\n",
      "    raise ValueError(\n",
      "ValueError: Number of labels is 1. Valid values are 2 to n_samples - 1 (inclusive)\n",
      "\n",
      "  warnings.warn(\n",
      "/home/lotov2000/.local/lib/python3.12/site-packages/sklearn/model_selection/_validation.py:821: UserWarning: Scoring failed. The score on this train-test partition for these parameters will be set to nan. Details: \n",
      "Traceback (most recent call last):\n",
      "  File \"/home/lotov2000/.local/lib/python3.12/site-packages/sklearn/model_selection/_validation.py\", line 808, in _score\n",
      "    scores = scorer(estimator, X_test)\n",
      "             ^^^^^^^^^^^^^^^^^^^^^^^^^\n",
      "  File \"/tmp/ipykernel_122064/3748867959.py\", line 7, in <lambda>\n",
      "    scoring=lambda _estimator, _x: silhouette_score(_x, _estimator.fit_predict(_x)),\n",
      "                                   ^^^^^^^^^^^^^^^^^^^^^^^^^^^^^^^^^^^^^^^^^^^^^^^^\n",
      "  File \"/home/lotov2000/.local/lib/python3.12/site-packages/sklearn/utils/_param_validation.py\", line 214, in wrapper\n",
      "    return func(*args, **kwargs)\n",
      "           ^^^^^^^^^^^^^^^^^^^^^\n",
      "  File \"/home/lotov2000/.local/lib/python3.12/site-packages/sklearn/metrics/cluster/_unsupervised.py\", line 130, in silhouette_score\n",
      "    return np.mean(silhouette_samples(X, labels, metric=metric, **kwds))\n",
      "                   ^^^^^^^^^^^^^^^^^^^^^^^^^^^^^^^^^^^^^^^^^^^^^^^^^^^^\n",
      "  File \"/home/lotov2000/.local/lib/python3.12/site-packages/sklearn/utils/_param_validation.py\", line 187, in wrapper\n",
      "    return func(*args, **kwargs)\n",
      "           ^^^^^^^^^^^^^^^^^^^^^\n",
      "  File \"/home/lotov2000/.local/lib/python3.12/site-packages/sklearn/metrics/cluster/_unsupervised.py\", line 276, in silhouette_samples\n",
      "    check_number_of_labels(len(le.classes_), n_samples)\n",
      "  File \"/home/lotov2000/.local/lib/python3.12/site-packages/sklearn/metrics/cluster/_unsupervised.py\", line 37, in check_number_of_labels\n",
      "    raise ValueError(\n",
      "ValueError: Number of labels is 1. Valid values are 2 to n_samples - 1 (inclusive)\n",
      "\n",
      "  warnings.warn(\n"
     ]
    },
    {
     "ename": "KeyboardInterrupt",
     "evalue": "",
     "output_type": "error",
     "traceback": [
      "\u001B[0;31m---------------------------------------------------------------------------\u001B[0m",
      "\u001B[0;31mKeyboardInterrupt\u001B[0m                         Traceback (most recent call last)",
      "Cell \u001B[0;32mIn[133], line 6\u001B[0m\n\u001B[1;32m      3\u001B[0m eps \u001B[38;5;241m=\u001B[39m np\u001B[38;5;241m.\u001B[39marange(\u001B[38;5;241m2\u001B[39m) \u001B[38;5;241m*\u001B[39m \u001B[38;5;241m0.1\u001B[39m \u001B[38;5;241m+\u001B[39m \u001B[38;5;241m0.1\u001B[39m\n\u001B[1;32m      4\u001B[0m min_samples \u001B[38;5;241m=\u001B[39m np\u001B[38;5;241m.\u001B[39marange(\u001B[38;5;241m2\u001B[39m) \u001B[38;5;241m*\u001B[39m \u001B[38;5;241m1\u001B[39m \u001B[38;5;241m+\u001B[39m \u001B[38;5;241m6\u001B[39m\n\u001B[0;32m----> 6\u001B[0m dbscan_grid_search \u001B[38;5;241m=\u001B[39m \u001B[43mdo_grid_search\u001B[49m\u001B[43m(\u001B[49m\u001B[43mDBSCAN\u001B[49m\u001B[43m(\u001B[49m\u001B[43m)\u001B[49m\u001B[43m,\u001B[49m\u001B[43m \u001B[49m\u001B[43m{\u001B[49m\n\u001B[1;32m      7\u001B[0m \u001B[43m    \u001B[49m\u001B[38;5;124;43m'\u001B[39;49m\u001B[38;5;124;43meps\u001B[39;49m\u001B[38;5;124;43m'\u001B[39;49m\u001B[43m:\u001B[49m\u001B[43m \u001B[49m\u001B[43meps\u001B[49m\u001B[43m,\u001B[49m\n\u001B[1;32m      8\u001B[0m \u001B[43m    \u001B[49m\u001B[38;5;124;43m'\u001B[39;49m\u001B[38;5;124;43mmin_samples\u001B[39;49m\u001B[38;5;124;43m'\u001B[39;49m\u001B[43m:\u001B[49m\u001B[43m \u001B[49m\u001B[43mmin_samples\u001B[49m\n\u001B[1;32m      9\u001B[0m \u001B[43m}\u001B[49m\u001B[43m)\u001B[49m\n\u001B[1;32m     11\u001B[0m optimal_eps \u001B[38;5;241m=\u001B[39m dbscan_grid_search\u001B[38;5;241m.\u001B[39mbest_params_[\u001B[38;5;124m'\u001B[39m\u001B[38;5;124meps\u001B[39m\u001B[38;5;124m'\u001B[39m]\n\u001B[1;32m     12\u001B[0m optimal_min_samples \u001B[38;5;241m=\u001B[39m dbscan_grid_search\u001B[38;5;241m.\u001B[39mbest_params_[\u001B[38;5;124m'\u001B[39m\u001B[38;5;124mmin_samples\u001B[39m\u001B[38;5;124m'\u001B[39m]\n",
      "Cell \u001B[0;32mIn[123], line 9\u001B[0m, in \u001B[0;36mdo_grid_search\u001B[0;34m(estimator, param_grid)\u001B[0m\n\u001B[1;32m      4\u001B[0m \u001B[38;5;28;01mdef\u001B[39;00m \u001B[38;5;21mdo_grid_search\u001B[39m(estimator, param_grid):\n\u001B[1;32m      5\u001B[0m     _grid_search \u001B[38;5;241m=\u001B[39m GridSearchCV(estimator,\n\u001B[1;32m      6\u001B[0m                                param_grid,\n\u001B[1;32m      7\u001B[0m                                scoring\u001B[38;5;241m=\u001B[39m\u001B[38;5;28;01mlambda\u001B[39;00m _estimator, _x: silhouette_score(_x, _estimator\u001B[38;5;241m.\u001B[39mfit_predict(_x)),\n\u001B[1;32m      8\u001B[0m                                cv\u001B[38;5;241m=\u001B[39m\u001B[38;5;241m5\u001B[39m)\n\u001B[0;32m----> 9\u001B[0m     \u001B[43m_grid_search\u001B[49m\u001B[38;5;241;43m.\u001B[39;49m\u001B[43mfit\u001B[49m\u001B[43m(\u001B[49m\u001B[43mdf\u001B[49m\u001B[43m)\u001B[49m\n\u001B[1;32m     10\u001B[0m     \u001B[38;5;28;01mreturn\u001B[39;00m _grid_search\n",
      "File \u001B[0;32m~/.local/lib/python3.12/site-packages/sklearn/base.py:1152\u001B[0m, in \u001B[0;36m_fit_context.<locals>.decorator.<locals>.wrapper\u001B[0;34m(estimator, *args, **kwargs)\u001B[0m\n\u001B[1;32m   1145\u001B[0m     estimator\u001B[38;5;241m.\u001B[39m_validate_params()\n\u001B[1;32m   1147\u001B[0m \u001B[38;5;28;01mwith\u001B[39;00m config_context(\n\u001B[1;32m   1148\u001B[0m     skip_parameter_validation\u001B[38;5;241m=\u001B[39m(\n\u001B[1;32m   1149\u001B[0m         prefer_skip_nested_validation \u001B[38;5;129;01mor\u001B[39;00m global_skip_validation\n\u001B[1;32m   1150\u001B[0m     )\n\u001B[1;32m   1151\u001B[0m ):\n\u001B[0;32m-> 1152\u001B[0m     \u001B[38;5;28;01mreturn\u001B[39;00m \u001B[43mfit_method\u001B[49m\u001B[43m(\u001B[49m\u001B[43mestimator\u001B[49m\u001B[43m,\u001B[49m\u001B[43m \u001B[49m\u001B[38;5;241;43m*\u001B[39;49m\u001B[43margs\u001B[49m\u001B[43m,\u001B[49m\u001B[43m \u001B[49m\u001B[38;5;241;43m*\u001B[39;49m\u001B[38;5;241;43m*\u001B[39;49m\u001B[43mkwargs\u001B[49m\u001B[43m)\u001B[49m\n",
      "File \u001B[0;32m~/.local/lib/python3.12/site-packages/sklearn/model_selection/_search.py:898\u001B[0m, in \u001B[0;36mBaseSearchCV.fit\u001B[0;34m(self, X, y, groups, **fit_params)\u001B[0m\n\u001B[1;32m    892\u001B[0m     results \u001B[38;5;241m=\u001B[39m \u001B[38;5;28mself\u001B[39m\u001B[38;5;241m.\u001B[39m_format_results(\n\u001B[1;32m    893\u001B[0m         all_candidate_params, n_splits, all_out, all_more_results\n\u001B[1;32m    894\u001B[0m     )\n\u001B[1;32m    896\u001B[0m     \u001B[38;5;28;01mreturn\u001B[39;00m results\n\u001B[0;32m--> 898\u001B[0m \u001B[38;5;28;43mself\u001B[39;49m\u001B[38;5;241;43m.\u001B[39;49m\u001B[43m_run_search\u001B[49m\u001B[43m(\u001B[49m\u001B[43mevaluate_candidates\u001B[49m\u001B[43m)\u001B[49m\n\u001B[1;32m    900\u001B[0m \u001B[38;5;66;03m# multimetric is determined here because in the case of a callable\u001B[39;00m\n\u001B[1;32m    901\u001B[0m \u001B[38;5;66;03m# self.scoring the return type is only known after calling\u001B[39;00m\n\u001B[1;32m    902\u001B[0m first_test_score \u001B[38;5;241m=\u001B[39m all_out[\u001B[38;5;241m0\u001B[39m][\u001B[38;5;124m\"\u001B[39m\u001B[38;5;124mtest_scores\u001B[39m\u001B[38;5;124m\"\u001B[39m]\n",
      "File \u001B[0;32m~/.local/lib/python3.12/site-packages/sklearn/model_selection/_search.py:1422\u001B[0m, in \u001B[0;36mGridSearchCV._run_search\u001B[0;34m(self, evaluate_candidates)\u001B[0m\n\u001B[1;32m   1420\u001B[0m \u001B[38;5;28;01mdef\u001B[39;00m \u001B[38;5;21m_run_search\u001B[39m(\u001B[38;5;28mself\u001B[39m, evaluate_candidates):\n\u001B[1;32m   1421\u001B[0m \u001B[38;5;250m    \u001B[39m\u001B[38;5;124;03m\"\"\"Search all candidates in param_grid\"\"\"\u001B[39;00m\n\u001B[0;32m-> 1422\u001B[0m     \u001B[43mevaluate_candidates\u001B[49m\u001B[43m(\u001B[49m\u001B[43mParameterGrid\u001B[49m\u001B[43m(\u001B[49m\u001B[38;5;28;43mself\u001B[39;49m\u001B[38;5;241;43m.\u001B[39;49m\u001B[43mparam_grid\u001B[49m\u001B[43m)\u001B[49m\u001B[43m)\u001B[49m\n",
      "File \u001B[0;32m~/.local/lib/python3.12/site-packages/sklearn/model_selection/_search.py:845\u001B[0m, in \u001B[0;36mBaseSearchCV.fit.<locals>.evaluate_candidates\u001B[0;34m(candidate_params, cv, more_results)\u001B[0m\n\u001B[1;32m    837\u001B[0m \u001B[38;5;28;01mif\u001B[39;00m \u001B[38;5;28mself\u001B[39m\u001B[38;5;241m.\u001B[39mverbose \u001B[38;5;241m>\u001B[39m \u001B[38;5;241m0\u001B[39m:\n\u001B[1;32m    838\u001B[0m     \u001B[38;5;28mprint\u001B[39m(\n\u001B[1;32m    839\u001B[0m         \u001B[38;5;124m\"\u001B[39m\u001B[38;5;124mFitting \u001B[39m\u001B[38;5;132;01m{0}\u001B[39;00m\u001B[38;5;124m folds for each of \u001B[39m\u001B[38;5;132;01m{1}\u001B[39;00m\u001B[38;5;124m candidates,\u001B[39m\u001B[38;5;124m\"\u001B[39m\n\u001B[1;32m    840\u001B[0m         \u001B[38;5;124m\"\u001B[39m\u001B[38;5;124m totalling \u001B[39m\u001B[38;5;132;01m{2}\u001B[39;00m\u001B[38;5;124m fits\u001B[39m\u001B[38;5;124m\"\u001B[39m\u001B[38;5;241m.\u001B[39mformat(\n\u001B[1;32m    841\u001B[0m             n_splits, n_candidates, n_candidates \u001B[38;5;241m*\u001B[39m n_splits\n\u001B[1;32m    842\u001B[0m         )\n\u001B[1;32m    843\u001B[0m     )\n\u001B[0;32m--> 845\u001B[0m out \u001B[38;5;241m=\u001B[39m \u001B[43mparallel\u001B[49m\u001B[43m(\u001B[49m\n\u001B[1;32m    846\u001B[0m \u001B[43m    \u001B[49m\u001B[43mdelayed\u001B[49m\u001B[43m(\u001B[49m\u001B[43m_fit_and_score\u001B[49m\u001B[43m)\u001B[49m\u001B[43m(\u001B[49m\n\u001B[1;32m    847\u001B[0m \u001B[43m        \u001B[49m\u001B[43mclone\u001B[49m\u001B[43m(\u001B[49m\u001B[43mbase_estimator\u001B[49m\u001B[43m)\u001B[49m\u001B[43m,\u001B[49m\n\u001B[1;32m    848\u001B[0m \u001B[43m        \u001B[49m\u001B[43mX\u001B[49m\u001B[43m,\u001B[49m\n\u001B[1;32m    849\u001B[0m \u001B[43m        \u001B[49m\u001B[43my\u001B[49m\u001B[43m,\u001B[49m\n\u001B[1;32m    850\u001B[0m \u001B[43m        \u001B[49m\u001B[43mtrain\u001B[49m\u001B[38;5;241;43m=\u001B[39;49m\u001B[43mtrain\u001B[49m\u001B[43m,\u001B[49m\n\u001B[1;32m    851\u001B[0m \u001B[43m        \u001B[49m\u001B[43mtest\u001B[49m\u001B[38;5;241;43m=\u001B[39;49m\u001B[43mtest\u001B[49m\u001B[43m,\u001B[49m\n\u001B[1;32m    852\u001B[0m \u001B[43m        \u001B[49m\u001B[43mparameters\u001B[49m\u001B[38;5;241;43m=\u001B[39;49m\u001B[43mparameters\u001B[49m\u001B[43m,\u001B[49m\n\u001B[1;32m    853\u001B[0m \u001B[43m        \u001B[49m\u001B[43msplit_progress\u001B[49m\u001B[38;5;241;43m=\u001B[39;49m\u001B[43m(\u001B[49m\u001B[43msplit_idx\u001B[49m\u001B[43m,\u001B[49m\u001B[43m \u001B[49m\u001B[43mn_splits\u001B[49m\u001B[43m)\u001B[49m\u001B[43m,\u001B[49m\n\u001B[1;32m    854\u001B[0m \u001B[43m        \u001B[49m\u001B[43mcandidate_progress\u001B[49m\u001B[38;5;241;43m=\u001B[39;49m\u001B[43m(\u001B[49m\u001B[43mcand_idx\u001B[49m\u001B[43m,\u001B[49m\u001B[43m \u001B[49m\u001B[43mn_candidates\u001B[49m\u001B[43m)\u001B[49m\u001B[43m,\u001B[49m\n\u001B[1;32m    855\u001B[0m \u001B[43m        \u001B[49m\u001B[38;5;241;43m*\u001B[39;49m\u001B[38;5;241;43m*\u001B[39;49m\u001B[43mfit_and_score_kwargs\u001B[49m\u001B[43m,\u001B[49m\n\u001B[1;32m    856\u001B[0m \u001B[43m    \u001B[49m\u001B[43m)\u001B[49m\n\u001B[1;32m    857\u001B[0m \u001B[43m    \u001B[49m\u001B[38;5;28;43;01mfor\u001B[39;49;00m\u001B[43m \u001B[49m\u001B[43m(\u001B[49m\u001B[43mcand_idx\u001B[49m\u001B[43m,\u001B[49m\u001B[43m \u001B[49m\u001B[43mparameters\u001B[49m\u001B[43m)\u001B[49m\u001B[43m,\u001B[49m\u001B[43m \u001B[49m\u001B[43m(\u001B[49m\u001B[43msplit_idx\u001B[49m\u001B[43m,\u001B[49m\u001B[43m \u001B[49m\u001B[43m(\u001B[49m\u001B[43mtrain\u001B[49m\u001B[43m,\u001B[49m\u001B[43m \u001B[49m\u001B[43mtest\u001B[49m\u001B[43m)\u001B[49m\u001B[43m)\u001B[49m\u001B[43m \u001B[49m\u001B[38;5;129;43;01min\u001B[39;49;00m\u001B[43m \u001B[49m\u001B[43mproduct\u001B[49m\u001B[43m(\u001B[49m\n\u001B[1;32m    858\u001B[0m \u001B[43m        \u001B[49m\u001B[38;5;28;43menumerate\u001B[39;49m\u001B[43m(\u001B[49m\u001B[43mcandidate_params\u001B[49m\u001B[43m)\u001B[49m\u001B[43m,\u001B[49m\u001B[43m \u001B[49m\u001B[38;5;28;43menumerate\u001B[39;49m\u001B[43m(\u001B[49m\u001B[43mcv\u001B[49m\u001B[38;5;241;43m.\u001B[39;49m\u001B[43msplit\u001B[49m\u001B[43m(\u001B[49m\u001B[43mX\u001B[49m\u001B[43m,\u001B[49m\u001B[43m \u001B[49m\u001B[43my\u001B[49m\u001B[43m,\u001B[49m\u001B[43m \u001B[49m\u001B[43mgroups\u001B[49m\u001B[43m)\u001B[49m\u001B[43m)\u001B[49m\n\u001B[1;32m    859\u001B[0m \u001B[43m    \u001B[49m\u001B[43m)\u001B[49m\n\u001B[1;32m    860\u001B[0m \u001B[43m\u001B[49m\u001B[43m)\u001B[49m\n\u001B[1;32m    862\u001B[0m \u001B[38;5;28;01mif\u001B[39;00m \u001B[38;5;28mlen\u001B[39m(out) \u001B[38;5;241m<\u001B[39m \u001B[38;5;241m1\u001B[39m:\n\u001B[1;32m    863\u001B[0m     \u001B[38;5;28;01mraise\u001B[39;00m \u001B[38;5;167;01mValueError\u001B[39;00m(\n\u001B[1;32m    864\u001B[0m         \u001B[38;5;124m\"\u001B[39m\u001B[38;5;124mNo fits were performed. \u001B[39m\u001B[38;5;124m\"\u001B[39m\n\u001B[1;32m    865\u001B[0m         \u001B[38;5;124m\"\u001B[39m\u001B[38;5;124mWas the CV iterator empty? \u001B[39m\u001B[38;5;124m\"\u001B[39m\n\u001B[1;32m    866\u001B[0m         \u001B[38;5;124m\"\u001B[39m\u001B[38;5;124mWere there no candidates?\u001B[39m\u001B[38;5;124m\"\u001B[39m\n\u001B[1;32m    867\u001B[0m     )\n",
      "File \u001B[0;32m~/.local/lib/python3.12/site-packages/sklearn/utils/parallel.py:65\u001B[0m, in \u001B[0;36mParallel.__call__\u001B[0;34m(self, iterable)\u001B[0m\n\u001B[1;32m     60\u001B[0m config \u001B[38;5;241m=\u001B[39m get_config()\n\u001B[1;32m     61\u001B[0m iterable_with_config \u001B[38;5;241m=\u001B[39m (\n\u001B[1;32m     62\u001B[0m     (_with_config(delayed_func, config), args, kwargs)\n\u001B[1;32m     63\u001B[0m     \u001B[38;5;28;01mfor\u001B[39;00m delayed_func, args, kwargs \u001B[38;5;129;01min\u001B[39;00m iterable\n\u001B[1;32m     64\u001B[0m )\n\u001B[0;32m---> 65\u001B[0m \u001B[38;5;28;01mreturn\u001B[39;00m \u001B[38;5;28;43msuper\u001B[39;49m\u001B[43m(\u001B[49m\u001B[43m)\u001B[49m\u001B[38;5;241;43m.\u001B[39;49m\u001B[38;5;21;43m__call__\u001B[39;49m\u001B[43m(\u001B[49m\u001B[43miterable_with_config\u001B[49m\u001B[43m)\u001B[49m\n",
      "File \u001B[0;32m~/.local/lib/python3.12/site-packages/joblib/parallel.py:1863\u001B[0m, in \u001B[0;36mParallel.__call__\u001B[0;34m(self, iterable)\u001B[0m\n\u001B[1;32m   1861\u001B[0m     output \u001B[38;5;241m=\u001B[39m \u001B[38;5;28mself\u001B[39m\u001B[38;5;241m.\u001B[39m_get_sequential_output(iterable)\n\u001B[1;32m   1862\u001B[0m     \u001B[38;5;28mnext\u001B[39m(output)\n\u001B[0;32m-> 1863\u001B[0m     \u001B[38;5;28;01mreturn\u001B[39;00m output \u001B[38;5;28;01mif\u001B[39;00m \u001B[38;5;28mself\u001B[39m\u001B[38;5;241m.\u001B[39mreturn_generator \u001B[38;5;28;01melse\u001B[39;00m \u001B[38;5;28;43mlist\u001B[39;49m\u001B[43m(\u001B[49m\u001B[43moutput\u001B[49m\u001B[43m)\u001B[49m\n\u001B[1;32m   1865\u001B[0m \u001B[38;5;66;03m# Let's create an ID that uniquely identifies the current call. If the\u001B[39;00m\n\u001B[1;32m   1866\u001B[0m \u001B[38;5;66;03m# call is interrupted early and that the same instance is immediately\u001B[39;00m\n\u001B[1;32m   1867\u001B[0m \u001B[38;5;66;03m# re-used, this id will be used to prevent workers that were\u001B[39;00m\n\u001B[1;32m   1868\u001B[0m \u001B[38;5;66;03m# concurrently finalizing a task from the previous call to run the\u001B[39;00m\n\u001B[1;32m   1869\u001B[0m \u001B[38;5;66;03m# callback.\u001B[39;00m\n\u001B[1;32m   1870\u001B[0m \u001B[38;5;28;01mwith\u001B[39;00m \u001B[38;5;28mself\u001B[39m\u001B[38;5;241m.\u001B[39m_lock:\n",
      "File \u001B[0;32m~/.local/lib/python3.12/site-packages/joblib/parallel.py:1792\u001B[0m, in \u001B[0;36mParallel._get_sequential_output\u001B[0;34m(self, iterable)\u001B[0m\n\u001B[1;32m   1790\u001B[0m \u001B[38;5;28mself\u001B[39m\u001B[38;5;241m.\u001B[39mn_dispatched_batches \u001B[38;5;241m+\u001B[39m\u001B[38;5;241m=\u001B[39m \u001B[38;5;241m1\u001B[39m\n\u001B[1;32m   1791\u001B[0m \u001B[38;5;28mself\u001B[39m\u001B[38;5;241m.\u001B[39mn_dispatched_tasks \u001B[38;5;241m+\u001B[39m\u001B[38;5;241m=\u001B[39m \u001B[38;5;241m1\u001B[39m\n\u001B[0;32m-> 1792\u001B[0m res \u001B[38;5;241m=\u001B[39m \u001B[43mfunc\u001B[49m\u001B[43m(\u001B[49m\u001B[38;5;241;43m*\u001B[39;49m\u001B[43margs\u001B[49m\u001B[43m,\u001B[49m\u001B[43m \u001B[49m\u001B[38;5;241;43m*\u001B[39;49m\u001B[38;5;241;43m*\u001B[39;49m\u001B[43mkwargs\u001B[49m\u001B[43m)\u001B[49m\n\u001B[1;32m   1793\u001B[0m \u001B[38;5;28mself\u001B[39m\u001B[38;5;241m.\u001B[39mn_completed_tasks \u001B[38;5;241m+\u001B[39m\u001B[38;5;241m=\u001B[39m \u001B[38;5;241m1\u001B[39m\n\u001B[1;32m   1794\u001B[0m \u001B[38;5;28mself\u001B[39m\u001B[38;5;241m.\u001B[39mprint_progress()\n",
      "File \u001B[0;32m~/.local/lib/python3.12/site-packages/sklearn/utils/parallel.py:127\u001B[0m, in \u001B[0;36m_FuncWrapper.__call__\u001B[0;34m(self, *args, **kwargs)\u001B[0m\n\u001B[1;32m    125\u001B[0m     config \u001B[38;5;241m=\u001B[39m {}\n\u001B[1;32m    126\u001B[0m \u001B[38;5;28;01mwith\u001B[39;00m config_context(\u001B[38;5;241m*\u001B[39m\u001B[38;5;241m*\u001B[39mconfig):\n\u001B[0;32m--> 127\u001B[0m     \u001B[38;5;28;01mreturn\u001B[39;00m \u001B[38;5;28;43mself\u001B[39;49m\u001B[38;5;241;43m.\u001B[39;49m\u001B[43mfunction\u001B[49m\u001B[43m(\u001B[49m\u001B[38;5;241;43m*\u001B[39;49m\u001B[43margs\u001B[49m\u001B[43m,\u001B[49m\u001B[43m \u001B[49m\u001B[38;5;241;43m*\u001B[39;49m\u001B[38;5;241;43m*\u001B[39;49m\u001B[43mkwargs\u001B[49m\u001B[43m)\u001B[49m\n",
      "File \u001B[0;32m~/.local/lib/python3.12/site-packages/sklearn/model_selection/_validation.py:727\u001B[0m, in \u001B[0;36m_fit_and_score\u001B[0;34m(estimator, X, y, scorer, train, test, verbose, parameters, fit_params, return_train_score, return_parameters, return_n_test_samples, return_times, return_estimator, split_progress, candidate_progress, error_score)\u001B[0m\n\u001B[1;32m    725\u001B[0m \u001B[38;5;28;01mtry\u001B[39;00m:\n\u001B[1;32m    726\u001B[0m     \u001B[38;5;28;01mif\u001B[39;00m y_train \u001B[38;5;129;01mis\u001B[39;00m \u001B[38;5;28;01mNone\u001B[39;00m:\n\u001B[0;32m--> 727\u001B[0m         \u001B[43mestimator\u001B[49m\u001B[38;5;241;43m.\u001B[39;49m\u001B[43mfit\u001B[49m\u001B[43m(\u001B[49m\u001B[43mX_train\u001B[49m\u001B[43m,\u001B[49m\u001B[43m \u001B[49m\u001B[38;5;241;43m*\u001B[39;49m\u001B[38;5;241;43m*\u001B[39;49m\u001B[43mfit_params\u001B[49m\u001B[43m)\u001B[49m\n\u001B[1;32m    728\u001B[0m     \u001B[38;5;28;01melse\u001B[39;00m:\n\u001B[1;32m    729\u001B[0m         estimator\u001B[38;5;241m.\u001B[39mfit(X_train, y_train, \u001B[38;5;241m*\u001B[39m\u001B[38;5;241m*\u001B[39mfit_params)\n",
      "File \u001B[0;32m~/.local/lib/python3.12/site-packages/sklearn/base.py:1152\u001B[0m, in \u001B[0;36m_fit_context.<locals>.decorator.<locals>.wrapper\u001B[0;34m(estimator, *args, **kwargs)\u001B[0m\n\u001B[1;32m   1145\u001B[0m     estimator\u001B[38;5;241m.\u001B[39m_validate_params()\n\u001B[1;32m   1147\u001B[0m \u001B[38;5;28;01mwith\u001B[39;00m config_context(\n\u001B[1;32m   1148\u001B[0m     skip_parameter_validation\u001B[38;5;241m=\u001B[39m(\n\u001B[1;32m   1149\u001B[0m         prefer_skip_nested_validation \u001B[38;5;129;01mor\u001B[39;00m global_skip_validation\n\u001B[1;32m   1150\u001B[0m     )\n\u001B[1;32m   1151\u001B[0m ):\n\u001B[0;32m-> 1152\u001B[0m     \u001B[38;5;28;01mreturn\u001B[39;00m \u001B[43mfit_method\u001B[49m\u001B[43m(\u001B[49m\u001B[43mestimator\u001B[49m\u001B[43m,\u001B[49m\u001B[43m \u001B[49m\u001B[38;5;241;43m*\u001B[39;49m\u001B[43margs\u001B[49m\u001B[43m,\u001B[49m\u001B[43m \u001B[49m\u001B[38;5;241;43m*\u001B[39;49m\u001B[38;5;241;43m*\u001B[39;49m\u001B[43mkwargs\u001B[49m\u001B[43m)\u001B[49m\n",
      "File \u001B[0;32m~/.local/lib/python3.12/site-packages/sklearn/cluster/_dbscan.py:402\u001B[0m, in \u001B[0;36mDBSCAN.fit\u001B[0;34m(self, X, y, sample_weight)\u001B[0m\n\u001B[1;32m    400\u001B[0m neighbors_model\u001B[38;5;241m.\u001B[39mfit(X)\n\u001B[1;32m    401\u001B[0m \u001B[38;5;66;03m# This has worst case O(n^2) memory complexity\u001B[39;00m\n\u001B[0;32m--> 402\u001B[0m neighborhoods \u001B[38;5;241m=\u001B[39m \u001B[43mneighbors_model\u001B[49m\u001B[38;5;241;43m.\u001B[39;49m\u001B[43mradius_neighbors\u001B[49m\u001B[43m(\u001B[49m\u001B[43mX\u001B[49m\u001B[43m,\u001B[49m\u001B[43m \u001B[49m\u001B[43mreturn_distance\u001B[49m\u001B[38;5;241;43m=\u001B[39;49m\u001B[38;5;28;43;01mFalse\u001B[39;49;00m\u001B[43m)\u001B[49m\n\u001B[1;32m    404\u001B[0m \u001B[38;5;28;01mif\u001B[39;00m sample_weight \u001B[38;5;129;01mis\u001B[39;00m \u001B[38;5;28;01mNone\u001B[39;00m:\n\u001B[1;32m    405\u001B[0m     n_neighbors \u001B[38;5;241m=\u001B[39m np\u001B[38;5;241m.\u001B[39marray([\u001B[38;5;28mlen\u001B[39m(neighbors) \u001B[38;5;28;01mfor\u001B[39;00m neighbors \u001B[38;5;129;01min\u001B[39;00m neighborhoods])\n",
      "File \u001B[0;32m~/.local/lib/python3.12/site-packages/sklearn/neighbors/_base.py:1159\u001B[0m, in \u001B[0;36mRadiusNeighborsMixin.radius_neighbors\u001B[0;34m(self, X, radius, return_distance, sort_results)\u001B[0m\n\u001B[1;32m   1151\u001B[0m use_pairwise_distances_reductions \u001B[38;5;241m=\u001B[39m (\n\u001B[1;32m   1152\u001B[0m     \u001B[38;5;28mself\u001B[39m\u001B[38;5;241m.\u001B[39m_fit_method \u001B[38;5;241m==\u001B[39m \u001B[38;5;124m\"\u001B[39m\u001B[38;5;124mbrute\u001B[39m\u001B[38;5;124m\"\u001B[39m\n\u001B[1;32m   1153\u001B[0m     \u001B[38;5;129;01mand\u001B[39;00m RadiusNeighbors\u001B[38;5;241m.\u001B[39mis_usable_for(\n\u001B[1;32m   1154\u001B[0m         X \u001B[38;5;28;01mif\u001B[39;00m X \u001B[38;5;129;01mis\u001B[39;00m \u001B[38;5;129;01mnot\u001B[39;00m \u001B[38;5;28;01mNone\u001B[39;00m \u001B[38;5;28;01melse\u001B[39;00m \u001B[38;5;28mself\u001B[39m\u001B[38;5;241m.\u001B[39m_fit_X, \u001B[38;5;28mself\u001B[39m\u001B[38;5;241m.\u001B[39m_fit_X, \u001B[38;5;28mself\u001B[39m\u001B[38;5;241m.\u001B[39meffective_metric_\n\u001B[1;32m   1155\u001B[0m     )\n\u001B[1;32m   1156\u001B[0m )\n\u001B[1;32m   1158\u001B[0m \u001B[38;5;28;01mif\u001B[39;00m use_pairwise_distances_reductions:\n\u001B[0;32m-> 1159\u001B[0m     results \u001B[38;5;241m=\u001B[39m \u001B[43mRadiusNeighbors\u001B[49m\u001B[38;5;241;43m.\u001B[39;49m\u001B[43mcompute\u001B[49m\u001B[43m(\u001B[49m\n\u001B[1;32m   1160\u001B[0m \u001B[43m        \u001B[49m\u001B[43mX\u001B[49m\u001B[38;5;241;43m=\u001B[39;49m\u001B[43mX\u001B[49m\u001B[43m,\u001B[49m\n\u001B[1;32m   1161\u001B[0m \u001B[43m        \u001B[49m\u001B[43mY\u001B[49m\u001B[38;5;241;43m=\u001B[39;49m\u001B[38;5;28;43mself\u001B[39;49m\u001B[38;5;241;43m.\u001B[39;49m\u001B[43m_fit_X\u001B[49m\u001B[43m,\u001B[49m\n\u001B[1;32m   1162\u001B[0m \u001B[43m        \u001B[49m\u001B[43mradius\u001B[49m\u001B[38;5;241;43m=\u001B[39;49m\u001B[43mradius\u001B[49m\u001B[43m,\u001B[49m\n\u001B[1;32m   1163\u001B[0m \u001B[43m        \u001B[49m\u001B[43mmetric\u001B[49m\u001B[38;5;241;43m=\u001B[39;49m\u001B[38;5;28;43mself\u001B[39;49m\u001B[38;5;241;43m.\u001B[39;49m\u001B[43meffective_metric_\u001B[49m\u001B[43m,\u001B[49m\n\u001B[1;32m   1164\u001B[0m \u001B[43m        \u001B[49m\u001B[43mmetric_kwargs\u001B[49m\u001B[38;5;241;43m=\u001B[39;49m\u001B[38;5;28;43mself\u001B[39;49m\u001B[38;5;241;43m.\u001B[39;49m\u001B[43meffective_metric_params_\u001B[49m\u001B[43m,\u001B[49m\n\u001B[1;32m   1165\u001B[0m \u001B[43m        \u001B[49m\u001B[43mstrategy\u001B[49m\u001B[38;5;241;43m=\u001B[39;49m\u001B[38;5;124;43m\"\u001B[39;49m\u001B[38;5;124;43mauto\u001B[39;49m\u001B[38;5;124;43m\"\u001B[39;49m\u001B[43m,\u001B[49m\n\u001B[1;32m   1166\u001B[0m \u001B[43m        \u001B[49m\u001B[43mreturn_distance\u001B[49m\u001B[38;5;241;43m=\u001B[39;49m\u001B[43mreturn_distance\u001B[49m\u001B[43m,\u001B[49m\n\u001B[1;32m   1167\u001B[0m \u001B[43m        \u001B[49m\u001B[43msort_results\u001B[49m\u001B[38;5;241;43m=\u001B[39;49m\u001B[43msort_results\u001B[49m\u001B[43m,\u001B[49m\n\u001B[1;32m   1168\u001B[0m \u001B[43m    \u001B[49m\u001B[43m)\u001B[49m\n\u001B[1;32m   1170\u001B[0m \u001B[38;5;28;01melif\u001B[39;00m (\n\u001B[1;32m   1171\u001B[0m     \u001B[38;5;28mself\u001B[39m\u001B[38;5;241m.\u001B[39m_fit_method \u001B[38;5;241m==\u001B[39m \u001B[38;5;124m\"\u001B[39m\u001B[38;5;124mbrute\u001B[39m\u001B[38;5;124m\"\u001B[39m \u001B[38;5;129;01mand\u001B[39;00m \u001B[38;5;28mself\u001B[39m\u001B[38;5;241m.\u001B[39mmetric \u001B[38;5;241m==\u001B[39m \u001B[38;5;124m\"\u001B[39m\u001B[38;5;124mprecomputed\u001B[39m\u001B[38;5;124m\"\u001B[39m \u001B[38;5;129;01mand\u001B[39;00m issparse(X)\n\u001B[1;32m   1172\u001B[0m ):\n\u001B[1;32m   1173\u001B[0m     results \u001B[38;5;241m=\u001B[39m _radius_neighbors_from_graph(\n\u001B[1;32m   1174\u001B[0m         X, radius\u001B[38;5;241m=\u001B[39mradius, return_distance\u001B[38;5;241m=\u001B[39mreturn_distance\n\u001B[1;32m   1175\u001B[0m     )\n",
      "File \u001B[0;32m~/.local/lib/python3.12/site-packages/sklearn/metrics/_pairwise_distances_reduction/_dispatcher.py:403\u001B[0m, in \u001B[0;36mRadiusNeighbors.compute\u001B[0;34m(cls, X, Y, radius, metric, chunk_size, metric_kwargs, strategy, return_distance, sort_results)\u001B[0m\n\u001B[1;32m    317\u001B[0m \u001B[38;5;250m\u001B[39m\u001B[38;5;124;03m\"\"\"Return the results of the reduction for the given arguments.\u001B[39;00m\n\u001B[1;32m    318\u001B[0m \n\u001B[1;32m    319\u001B[0m \u001B[38;5;124;03mParameters\u001B[39;00m\n\u001B[0;32m   (...)\u001B[0m\n\u001B[1;32m    400\u001B[0m \u001B[38;5;124;03mreturns.\u001B[39;00m\n\u001B[1;32m    401\u001B[0m \u001B[38;5;124;03m\"\"\"\u001B[39;00m\n\u001B[1;32m    402\u001B[0m \u001B[38;5;28;01mif\u001B[39;00m X\u001B[38;5;241m.\u001B[39mdtype \u001B[38;5;241m==\u001B[39m Y\u001B[38;5;241m.\u001B[39mdtype \u001B[38;5;241m==\u001B[39m np\u001B[38;5;241m.\u001B[39mfloat64:\n\u001B[0;32m--> 403\u001B[0m     \u001B[38;5;28;01mreturn\u001B[39;00m \u001B[43mRadiusNeighbors64\u001B[49m\u001B[38;5;241;43m.\u001B[39;49m\u001B[43mcompute\u001B[49m\u001B[43m(\u001B[49m\n\u001B[1;32m    404\u001B[0m \u001B[43m        \u001B[49m\u001B[43mX\u001B[49m\u001B[38;5;241;43m=\u001B[39;49m\u001B[43mX\u001B[49m\u001B[43m,\u001B[49m\n\u001B[1;32m    405\u001B[0m \u001B[43m        \u001B[49m\u001B[43mY\u001B[49m\u001B[38;5;241;43m=\u001B[39;49m\u001B[43mY\u001B[49m\u001B[43m,\u001B[49m\n\u001B[1;32m    406\u001B[0m \u001B[43m        \u001B[49m\u001B[43mradius\u001B[49m\u001B[38;5;241;43m=\u001B[39;49m\u001B[43mradius\u001B[49m\u001B[43m,\u001B[49m\n\u001B[1;32m    407\u001B[0m \u001B[43m        \u001B[49m\u001B[43mmetric\u001B[49m\u001B[38;5;241;43m=\u001B[39;49m\u001B[43mmetric\u001B[49m\u001B[43m,\u001B[49m\n\u001B[1;32m    408\u001B[0m \u001B[43m        \u001B[49m\u001B[43mchunk_size\u001B[49m\u001B[38;5;241;43m=\u001B[39;49m\u001B[43mchunk_size\u001B[49m\u001B[43m,\u001B[49m\n\u001B[1;32m    409\u001B[0m \u001B[43m        \u001B[49m\u001B[43mmetric_kwargs\u001B[49m\u001B[38;5;241;43m=\u001B[39;49m\u001B[43mmetric_kwargs\u001B[49m\u001B[43m,\u001B[49m\n\u001B[1;32m    410\u001B[0m \u001B[43m        \u001B[49m\u001B[43mstrategy\u001B[49m\u001B[38;5;241;43m=\u001B[39;49m\u001B[43mstrategy\u001B[49m\u001B[43m,\u001B[49m\n\u001B[1;32m    411\u001B[0m \u001B[43m        \u001B[49m\u001B[43msort_results\u001B[49m\u001B[38;5;241;43m=\u001B[39;49m\u001B[43msort_results\u001B[49m\u001B[43m,\u001B[49m\n\u001B[1;32m    412\u001B[0m \u001B[43m        \u001B[49m\u001B[43mreturn_distance\u001B[49m\u001B[38;5;241;43m=\u001B[39;49m\u001B[43mreturn_distance\u001B[49m\u001B[43m,\u001B[49m\n\u001B[1;32m    413\u001B[0m \u001B[43m    \u001B[49m\u001B[43m)\u001B[49m\n\u001B[1;32m    415\u001B[0m \u001B[38;5;28;01mif\u001B[39;00m X\u001B[38;5;241m.\u001B[39mdtype \u001B[38;5;241m==\u001B[39m Y\u001B[38;5;241m.\u001B[39mdtype \u001B[38;5;241m==\u001B[39m np\u001B[38;5;241m.\u001B[39mfloat32:\n\u001B[1;32m    416\u001B[0m     \u001B[38;5;28;01mreturn\u001B[39;00m RadiusNeighbors32\u001B[38;5;241m.\u001B[39mcompute(\n\u001B[1;32m    417\u001B[0m         X\u001B[38;5;241m=\u001B[39mX,\n\u001B[1;32m    418\u001B[0m         Y\u001B[38;5;241m=\u001B[39mY,\n\u001B[0;32m   (...)\u001B[0m\n\u001B[1;32m    425\u001B[0m         return_distance\u001B[38;5;241m=\u001B[39mreturn_distance,\n\u001B[1;32m    426\u001B[0m     )\n",
      "File \u001B[0;32msklearn/metrics/_pairwise_distances_reduction/_radius_neighbors.pyx:120\u001B[0m, in \u001B[0;36msklearn.metrics._pairwise_distances_reduction._radius_neighbors.RadiusNeighbors64.compute\u001B[0;34m()\u001B[0m\n",
      "File \u001B[0;32m~/.local/lib/python3.12/site-packages/threadpoolctl.py:440\u001B[0m, in \u001B[0;36m_ThreadpoolLimiter.__exit__\u001B[0;34m(self, type, value, traceback)\u001B[0m\n\u001B[1;32m    437\u001B[0m \u001B[38;5;28;01mdef\u001B[39;00m \u001B[38;5;21m__enter__\u001B[39m(\u001B[38;5;28mself\u001B[39m):\n\u001B[1;32m    438\u001B[0m     \u001B[38;5;28;01mreturn\u001B[39;00m \u001B[38;5;28mself\u001B[39m\n\u001B[0;32m--> 440\u001B[0m \u001B[38;5;28;01mdef\u001B[39;00m \u001B[38;5;21m__exit__\u001B[39m(\u001B[38;5;28mself\u001B[39m, \u001B[38;5;28mtype\u001B[39m, value, traceback):\n\u001B[1;32m    441\u001B[0m     \u001B[38;5;28mself\u001B[39m\u001B[38;5;241m.\u001B[39mrestore_original_limits()\n\u001B[1;32m    443\u001B[0m \u001B[38;5;129m@classmethod\u001B[39m\n\u001B[1;32m    444\u001B[0m \u001B[38;5;28;01mdef\u001B[39;00m \u001B[38;5;21mwrap\u001B[39m(\u001B[38;5;28mcls\u001B[39m, controller, \u001B[38;5;241m*\u001B[39m, limits\u001B[38;5;241m=\u001B[39m\u001B[38;5;28;01mNone\u001B[39;00m, user_api\u001B[38;5;241m=\u001B[39m\u001B[38;5;28;01mNone\u001B[39;00m):\n",
      "\u001B[0;31mKeyboardInterrupt\u001B[0m: "
     ]
    }
   ],
   "source": [
    "from sklearn.cluster import DBSCAN\n",
    "\n",
    "eps = np.arange(2) * 0.1 + 0.1\n",
    "min_samples = np.arange(2) * 1 + 6\n",
    "\n",
    "dbscan_grid_search = do_grid_search(DBSCAN(), {\n",
    "    'eps': eps,\n",
    "    'min_samples': min_samples\n",
    "})\n",
    "\n",
    "optimal_eps = dbscan_grid_search.best_params_['eps']\n",
    "optimal_min_samples = dbscan_grid_search.best_params_['min_samples']\n",
    "optimal_dbscan = dbscan_grid_search.best_estimator_\n",
    "print(f'Optimal epsilon for DBSCAN algorithm: {optimal_eps}')\n",
    "print(f'Optimal minPts for DBSCAN algorithm: {optimal_min_samples}')"
   ]
  },
  {
   "cell_type": "code",
   "execution_count": null,
   "id": "f99d0ad87c3dcf6c",
   "metadata": {
    "collapsed": false
   },
   "outputs": [],
   "source": [
    "dbscan_grid_search.cv_results_"
   ]
  },
  {
   "cell_type": "code",
   "outputs": [
    {
     "data": {
      "text/plain": "array([nan, nan, nan])"
     },
     "execution_count": 129,
     "metadata": {},
     "output_type": "execute_result"
    }
   ],
   "source": [
    "eps_mean_test_score = np.array(list(map(\n",
    "    lambda e: np.mean([x for i, x in enumerate(dbscan_grid_search.cv_results_[\"mean_test_score\"])\n",
    "                       if dbscan_grid_search.cv_results_[\"params\"][i][\"eps\"] == e]), eps)))\n",
    "eps_mean_test_score"
   ],
   "metadata": {
    "collapsed": false,
    "ExecuteTime": {
     "end_time": "2024-05-22T18:47:35.696746Z",
     "start_time": "2024-05-22T18:47:35.690436Z"
    }
   },
   "id": "b969938f30524420",
   "execution_count": 129
  },
  {
   "cell_type": "code",
   "outputs": [
    {
     "ename": "IndexError",
     "evalue": "only integers, slices (`:`), ellipsis (`...`), numpy.newaxis (`None`) and integer or boolean arrays are valid indices",
     "output_type": "error",
     "traceback": [
      "\u001B[0;31m---------------------------------------------------------------------------\u001B[0m",
      "\u001B[0;31mIndexError\u001B[0m                                Traceback (most recent call last)",
      "Cell \u001B[0;32mIn[134], line 4\u001B[0m\n\u001B[1;32m      1\u001B[0m plt\u001B[38;5;241m.\u001B[39mfigure(figsize\u001B[38;5;241m=\u001B[39m(\u001B[38;5;241m16\u001B[39m, \u001B[38;5;241m8\u001B[39m))\n\u001B[1;32m      3\u001B[0m plt\u001B[38;5;241m.\u001B[39msubplot(\u001B[38;5;241m2\u001B[39m, \u001B[38;5;241m2\u001B[39m, \u001B[38;5;241m1\u001B[39m)\n\u001B[0;32m----> 4\u001B[0m plt\u001B[38;5;241m.\u001B[39mplot(eps, \u001B[43meps_mean_test_score\u001B[49m\u001B[43m[\u001B[49m\u001B[38;5;124;43m\"\u001B[39;49m\u001B[38;5;124;43mmean_fit_time\u001B[39;49m\u001B[38;5;124;43m\"\u001B[39;49m\u001B[43m]\u001B[49m)\n\u001B[1;32m      5\u001B[0m plt\u001B[38;5;241m.\u001B[39mtitle(\u001B[38;5;124m\"\u001B[39m\u001B[38;5;124mMean Fit Time\u001B[39m\u001B[38;5;124m\"\u001B[39m)\n\u001B[1;32m      6\u001B[0m plt\u001B[38;5;241m.\u001B[39mxlabel(\u001B[38;5;124m\"\u001B[39m\u001B[38;5;124m#clusters\u001B[39m\u001B[38;5;124m\"\u001B[39m)\n",
      "\u001B[0;31mIndexError\u001B[0m: only integers, slices (`:`), ellipsis (`...`), numpy.newaxis (`None`) and integer or boolean arrays are valid indices"
     ]
    },
    {
     "data": {
      "text/plain": "<Figure size 1600x800 with 1 Axes>",
      "image/png": "[encoded data removed]"
     },
     "metadata": {},
     "output_type": "display_data"
    }
   ],
   "source": [
    "plt.figure(figsize=(16, 8))\n",
    "\n",
    "plt.subplot(2, 2, 1)\n",
    "plt.plot(eps, eps_mean_test_score[\"mean_fit_time\"])\n",
    "plt.title(\"Mean Fit Time\")\n",
    "plt.xlabel(\"#clusters\")\n",
    "plt.ylabel(\"time(s)\")\n",
    "\n",
    "plt.subplot(2, 2, 2)\n",
    "plt.plot(eps, eps_mean_test_score[\"mean_test_score\"])\n",
    "plt.title(\"Mean Test Score\")\n",
    "plt.xlabel(\"#clusters\")\n",
    "\n",
    "plt.show()"
   ],
   "metadata": {
    "collapsed": false,
    "ExecuteTime": {
     "end_time": "2024-05-22T18:58:10.296603Z",
     "start_time": "2024-05-22T18:58:10.218304Z"
    }
   },
   "id": "a8eb67365a0b0256",
   "execution_count": 134
  },
  {
   "cell_type": "markdown",
   "id": "058de080-5c50-46c4-9869-7c9d7bc27757",
   "metadata": {},
   "source": [
    "# Questions"
   ]
  },
  {
   "cell_type": "markdown",
   "id": "e01394e2-6c54-47d6-ae51-4b1e5b14890a",
   "metadata": {},
   "source": [
    "#### 1. What preprocessing steps did you perform on the dataset? Provide clear reasons for each decision made."
   ]
  },
  {
   "cell_type": "markdown",
   "id": "a46d04df-31cd-4cd8-bd61-ca0afb8b041b",
   "metadata": {},
   "source": [
    "1. **Loading Data and Initial Exploration:**  \n",
    "Understand the dataset's structure, identify missing values, and get an overview of the data types and distribution.\n",
    "\n",
    "2. **Handling Missing Values:**\n",
    "Ensure the dataset is complete by imputing or removing missing values to avoid biases and errors during analysis.\n",
    "\n",
    "4. **Encoding Categorical Variables:**\n",
    "Convert categorical data to numerical format using One-Hot Encoding, making it suitable for machine learning algorithms without implying any ordinal relationships.\n",
    "\n",
    "5. **Normalizing Numerical Features:**\n",
    "Scale numerical features to ensure equal contribution to the analysis and improve algorithm performance, particularly for algorithms sensitive to data scales.\n",
    "  \n",
    "4. **Removing Columns with Highly Repeated Data:**  \n",
    "Columns where the mode (most frequent value) constitutes a very high percentage (95%) of the data provide little to no information for analysis and can be removed to reduce noise.   \n",
    "\n",
    "5. **Removing ID Columns:**  \n",
    "Columns that are purely identifiers are not useful for analysis and can introduce noise, so they should be removed."
   ]
  },
  {
   "cell_type": "markdown",
   "id": "3ac50663-3f1f-44f8-8ea1-d2243babe6b5",
   "metadata": {},
   "source": [
    "#### 2. What portion of the dataset did you retain during dimensionality reduction, and which variables were retained? Could you elaborate on the rationale behind this decision?"
   ]
  },
  {
   "cell_type": "markdown",
   "id": "9c31000c-882e-405f-84ab-e76909a45cf8",
   "metadata": {},
   "source": [
    "\n",
    "1. **Portion of the Dataset Retained:**\n",
    "   - **Principal Components:** Retained a subset of the dataset's features by transforming them into principal components using Principal Component Analysis (PCA).\n",
    "   - **Explained Variance:** Selected the number of components that collectively explain a significant portion (typically 90-95%) of the total variance.\n",
    "\n",
    "2. **Rationale Behind the Decision:**\n",
    "   - **Variance Preservation:** Ensured the reduced dataset retains most of the original variability, maintaining data quality and integrity.\n",
    "   - **Simplification:** Reduced the number of features to simplify the model, improve computational efficiency, and enhance visualization.\n",
    "   - **Performance Improvement:** Lowered the risk of overfitting and reduced noise by eliminating redundant information.\n",
    "   - **Computational Efficiency:** Decreased the computational cost, making analysis and model training faster and more efficient."
   ]
  },
  {
   "cell_type": "markdown",
   "id": "ad5801d3-db8d-41e3-a5a4-e13fc9b14ae8",
   "metadata": {},
   "source": [
    "#### 3. Include a plot illustrating the silhouette coefficient plotted against the input parameters for each clustering method within the report file."
   ]
  },
  {
   "cell_type": "markdown",
   "id": "adefe8d9-9f3c-432e-9ba4-7118110736ba",
   "metadata": {},
   "source": []
  },
  {
   "cell_type": "markdown",
   "id": "302e6e1e-50b3-4096-b576-80b9db4234c1",
   "metadata": {},
   "source": [
    "#### 4. How can we determine the optimal number of clusters in K-Means?"
   ]
  },
  {
   "cell_type": "markdown",
   "id": "1f75517d-3be3-467e-8757-9a943b0de237",
   "metadata": {},
   "source": [
    "##### General Methods:\n",
    "\n",
    "1. **Elbow Method:**\n",
    "   - **Description:** Plot the within-cluster sum of squares (WCSS) against the number of clusters (K). The WCSS typically decreases as K increases. The optimal number of clusters is often at the \"elbow\" point where the rate of decrease sharply slows.\n",
    "   - **Steps:**\n",
    "     1. Compute K-Means clustering for different values of K (e.g., 1 to 10).\n",
    "     2. Calculate the WCSS for each K.\n",
    "     3. Plot WCSS vs. K and identify the elbow point.\n",
    "\n",
    "2. **Silhouette Score:**\n",
    "   - **Description:** Measure the quality of clustering by calculating the mean silhouette coefficient for each sample. The silhouette score ranges from -1 to 1, where higher values indicate better-defined clusters.\n",
    "   - **Steps:**\n",
    "     1. Compute K-Means clustering for different values of K.\n",
    "     2. Calculate the silhouette score for each K.\n",
    "     3. Plot the silhouette score vs. K and choose the K with the highest score.\n",
    "\n",
    "3. **Gap Statistic:**\n",
    "   - **Description:** Compare the total within intra-cluster variation for different numbers of clusters with their expected values under null reference distribution of the data.\n",
    "   - **Steps:**\n",
    "     1. Compute the gap statistic for a range of K values.\n",
    "     2. Plot the gap statistic vs. K.\n",
    "     3. The optimal number of clusters is where the gap statistic is largest.\n",
    "\n",
    "##### Using Grid Search with Silhouette Score:\n",
    "\n",
    "Grid search can be used to automate the process of finding the optimal number of clusters by systematically evaluating different K values and selecting the one that maximizes the silhouette score.\n",
    "Using grid search with the silhouette score is an effective method to systematically find the optimal number of clusters by evaluating different K values and selecting the one that maximizes the silhouette score."
   ]
  },
  {
   "cell_type": "markdown",
   "id": "de08e00b-5c5b-4986-9b80-07619ecfea08",
   "metadata": {},
   "source": [
    "#### 5. How can we determine the optimal epsilon value and minPts in DBSCAN?"
   ]
  },
  {
   "cell_type": "markdown",
   "id": "3ffaf408-25cc-4200-be39-932b8a87a46b",
   "metadata": {},
   "source": [
    "To determine the optimal $\\epsilon$ and minPts values for DBSCAN, we can follow a systematic approach. Here's how we can do it:\n",
    "\n",
    "##### Step-by-Step Method:\n",
    "\n",
    "1. **Set Initial minPts Value**:\n",
    "   - Start by choosing an initial value for minPts. A common heuristic is to set minPts to be at least $D+1$, where $D$ is the number of dimensions in our dataset.\n",
    "\n",
    "2. **Use Grid Search for $\\epsilon$**:\n",
    "   - Perform a grid search over a range of $\\epsilon$ values to find the one that results in the best clustering performance. This allows us to systematically explore different $\\epsilon$ values.\n",
    "   - Here's a general method using a k-distance graph to guide the range of $\\epsilon$ values:\n",
    "\n",
    "##### General Method for Finding \\(\\epsilon\\) (Using k-Distance Graph):\n",
    "\n",
    "**k-Distance Graph**:\n",
    "   - Compute the distance to the $k$-th nearest neighbor for each point, where $k$ is typically set to minPts.\n",
    "   - Sort these distances and plot them to create a k-distance graph.\n",
    "   - The \"elbow\" point on this graph often indicates a good candidate for $\\epsilon$, as it represents a threshold where points start to be considered noise.\n",
    "\n"
   ]
  },
  {
   "cell_type": "markdown",
   "id": "2638dbbf-882a-4496-be84-b87ef2a3f41a",
   "metadata": {
    "jp-MarkdownHeadingCollapsed": true
   },
   "source": [
    "#### 6. When would you recommend using K-Means, and when would you suggest using DBSCAN instead"
   ]
  },
  {
   "cell_type": "markdown",
   "id": "b7d612670c50ab6e",
   "metadata": {
    "collapsed": false
   },
   "source": [
    "- Use K-Means when we have well-separated, equally sized clusters, can specify the number of clusters beforehand, and are working with large, numerical datasets.\n",
    "- Use DBSCAN when we have arbitrary shaped clusters, noise and outliers in our data, varying densities, and do not want to specify the number of clusters in advance.\n",
    "\n",
    "\n",
    "##### When to Use K-Means:\n",
    "1. **Well-Separated Clusters**:\n",
    "   - K-Means performs well when clusters are spherical and equally sized. If our data is expected to have well-separated, evenly sized clusters, K-Means is a good choice.\n",
    "\n",
    "2. **Scalability**:\n",
    "   - K-Means is computationally efficient and scales well with large datasets. If we need to cluster a large dataset quickly, K-Means is preferable.\n",
    "\n",
    "3. **Numerical Data**:\n",
    "   - K-Means works best with numerical data where the mean is a meaningful measure of central tendency.\n",
    "\n",
    "4. **Predefined Number of Clusters**:\n",
    "   - Use K-Means when we have a predefined number of clusters (K). K-Means requires the number of clusters to be specified in advance.\n",
    "\n",
    "5. **Low Dimensionality**:\n",
    "   - K-Means is more effective in lower-dimensional spaces. In high-dimensional spaces, distance metrics may become less meaningful.\n",
    "\n",
    "##### When to Use DBSCAN:\n",
    "1. **Arbitrary Shaped Clusters**:\n",
    "   - DBSCAN can find clusters of arbitrary shape, including elongated or irregularly shaped clusters. If our data has clusters that are not spherical, DBSCAN is more suitable.\n",
    "\n",
    "2. **Handling Noise**:\n",
    "   - DBSCAN is robust to noise and can identify outliers as noise points. If our data contains a lot of noise or outliers, DBSCAN is a better choice.\n",
    "\n",
    "3. **Varying Densities**:\n",
    "   - DBSCAN can handle clusters of varying densities. If our data has clusters with different densities, DBSCAN can effectively identify them.\n",
    "\n",
    "4. **No Need for Predefined Clusters**:\n",
    "   - Unlike K-Means, DBSCAN does not require the number of clusters to be specified in advance. If we do not have prior knowledge of the number of clusters, DBSCAN is advantageous.\n",
    "\n",
    "5. **Medium to Small Datasets**:\n",
    "   - DBSCAN is computationally more expensive than K-Means and may not scale well with very large datasets. It works better with medium to small datasets.\n",
    "\n",
    "6. **Dimensionality Consideration**:\n",
    "   - DBSCAN can struggle with very high-dimensional data, similar to K-Means. However, DBSCAN’s performance is particularly sensitive to the choice of distance metric and parameters (epsilon and minimum points).\n"
   ]
  },
  {
   "cell_type": "markdown",
   "id": "96e32dd480c755ec",
   "metadata": {
    "collapsed": false
   },
   "source": [
    "# References:\n",
    "https://www.newhorizons.com/resources/blog/dbscan-vs-kmeans-a-guide-in-python   \n",
    "https://hex.tech/blog/comparing-density-based-methods/"
   ]
  },
  {
   "cell_type": "code",
   "execution_count": null,
   "id": "e8cd37a25d72e6c5",
   "metadata": {
    "collapsed": false
   },
   "outputs": [],
   "source": []
  },
  {
   "cell_type": "code",
   "execution_count": null,
   "id": "0c024aa3-ba4a-4228-993d-aa41f1f50a9e",
   "metadata": {},
   "outputs": [],
   "source": []
  }
 ],
 "metadata": {
  "kernelspec": {
   "display_name": "Python 3 (ipykernel)",
   "language": "python",
   "name": "python3"
  },
  "language_info": {
   "codemirror_mode": {
    "name": "ipython",
    "version": 3
   },
   "file_extension": ".py",
   "mimetype": "text/x-python",
   "name": "python",
   "nbconvert_exporter": "python",
   "pygments_lexer": "ipython3",
   "version": "3.12.2"
  }
 },
 "nbformat": 4,
 "nbformat_minor": 5
}
