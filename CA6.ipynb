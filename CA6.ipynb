{
 "cells": [
  {
   "cell_type": "markdown",
   "id": "5f22ab08-8231-4502-9f9f-9a1f19e8d3e8",
   "metadata": {
    "jp-MarkdownHeadingCollapsed": true
   },
   "source": [
    "# Introduction"
   ]
  },
  {
   "cell_type": "markdown",
   "id": "b9e525a5-278a-4b45-b040-a9e1e3bd462c",
   "metadata": {},
   "source": [
    " In this assignment, we will delve into dimensionality reduction and unsupervised learning\n",
    " tasks. Firstly, we should preprocess the provided dataset to prepare it for analysis. Next, we\n",
    " will apply dimensionality reduction techniques to simplify the dataset's complexity. Then, we\n",
    " will use unsupervised learning algorithms to tackle the task. Finally, we evaluate and analyze\n",
    " the results for comparison."
   ]
  },
  {
   "cell_type": "markdown",
   "id": "9133a4e1-d519-45b6-aa50-7716570b16bb",
   "metadata": {},
   "source": [
    "## Dataset"
   ]
  },
  {
   "cell_type": "markdown",
   "id": "577b1682-5d62-4be9-97f6-5c5dcc361750",
   "metadata": {},
   "source": [
    " In 2014, some researchers published an article called \"Impact of c1HbA Measurement on\n",
    " Hospital Readmission Rates: Analysis of 70,000 Clinical Database Patient Records.\" They\n",
    " gathered data on diabetic patients from many hospitals and clinics in America. Some of this\n",
    " data, about 200,000 items with 50 features, has been shared with the public in a way that\n",
    " keeps people's identities private"
   ]
  },
  {
   "cell_type": "markdown",
   "id": "828b25d2-f5f6-466e-a3dd-5256bf16ccc9",
   "metadata": {},
   "source": [
    "# Implementation "
   ]
  },
  {
   "cell_type": "markdown",
   "id": "38d71d7e-1fd5-42ff-8590-23f00d3c9c02",
   "metadata": {},
   "source": [
    "## Import Libraries"
   ]
  },
  {
   "cell_type": "code",
   "execution_count": 1,
   "id": "4405ef88-5dac-499c-b62f-6a1f967bfe5e",
   "metadata": {
    "ExecuteTime": {
     "end_time": "2024-05-20T09:59:00.659908Z",
     "start_time": "2024-05-20T09:59:00.377907Z"
    }
   },
   "outputs": [],
   "source": [
    "import pandas as pd\n",
    "import numpy as np\n",
    "import re"
   ]
  },
  {
   "cell_type": "markdown",
   "id": "f765a41d-633c-460b-a01f-60f2f50ff1ba",
   "metadata": {},
   "source": [
    "## 1.Preprocessing"
   ]
  },
  {
   "cell_type": "markdown",
   "id": "15e84c17-2572-41b6-b429-25973bd02e6a",
   "metadata": {},
   "source": [
    "Data Preprocessing or Data Preparation is a data mining technique that transforms raw data into an understandable format for ML algorithms. Real-world data is usually noisy (contains errors, outliers, duplicates), incomplete (some values are missed), and\n",
    " could be stored in different places and different formats. The task of Data Preprocessing is to handle these issues.  \n",
    "The dataset contains both numerical and textual values, along with outliers and null values. These inconsistencies can disrupt clustering accuracy. Normalize the data extensively and provide detailed explanations for each normalization step in the report file."
   ]
  },
  {
   "cell_type": "markdown",
   "id": "9f1c21e5-0621-4e2f-a384-a68bf4ffda80",
   "metadata": {},
   "source": [
    "### Load Data"
   ]
  },
  {
   "cell_type": "code",
   "execution_count": 2,
   "id": "987bfd4b7d0701a1",
   "metadata": {
    "collapsed": false,
    "ExecuteTime": {
     "end_time": "2024-05-20T09:59:00.769721Z",
     "start_time": "2024-05-20T09:59:00.759768Z"
    }
   },
   "outputs": [
    {
     "name": "stdout",
     "output_type": "stream",
     "text": [
      "<class 'pandas.core.frame.DataFrame'>\n",
      "RangeIndex: 67 entries, 0 to 66\n",
      "Data columns (total 2 columns):\n",
      " #   Column       Non-Null Count  Dtype \n",
      "---  ------       --------------  ----- \n",
      " 0   id           65 non-null     object\n",
      " 1   description  62 non-null     object\n",
      "dtypes: object(2)\n",
      "memory usage: 1.2+ KB\n"
     ]
    }
   ],
   "source": [
    "ids_mapping = pd.read_csv('dataset_diabetes/IDs_mapping.csv')\n",
    "ids_mapping = ids_mapping.rename(columns={'admission_type_id': 'id'})\n",
    "ids_mapping.info()"
   ]
  },
  {
   "cell_type": "code",
   "outputs": [],
   "source": [
    "def split_dataframe_on_empty_row(df):\n",
    "    empty_row_indices = df.index[df.isnull().all(axis=1)].tolist() \n",
    "    _sections = []\n",
    "    start_idx = 0\n",
    "    for idx in empty_row_indices:\n",
    "        _sections.append(df.iloc[start_idx:idx].reset_index(drop=True))\n",
    "        start_idx = idx + 2\n",
    "    _sections.append(df.iloc[start_idx:].reset_index(drop=True))\n",
    "    return _sections\n",
    "\n",
    "sections = split_dataframe_on_empty_row(ids_mapping)\n",
    "\n",
    "sections = [section for section in sections if not section.empty]\n",
    "\n",
    "admission_type_mapping = sections[0].rename(columns={'id': 'admission_type_id', 'description': 'admission_type_desc'})\n",
    "discharge_disposition_mapping = sections[1].rename(columns={'id': 'discharge_disposition_id', 'description': 'discharge_disposition_desc'})\n",
    "admission_source_mapping = sections[2].rename(columns={'id': 'admission_source_id', 'description': 'admission_source_desc'})"
   ],
   "metadata": {
    "ExecuteTime": {
     "end_time": "2024-05-20T09:59:00.984311Z",
     "start_time": "2024-05-20T09:59:00.979947Z"
    }
   },
   "id": "3d7ff539-9766-497c-b855-14afe9dd0fd1",
   "execution_count": 3
  },
  {
   "cell_type": "code",
   "execution_count": 4,
   "id": "a7bd487b-3809-47f1-b84c-8be95d8f2588",
   "metadata": {
    "ExecuteTime": {
     "end_time": "2024-05-20T09:59:01.221552Z",
     "start_time": "2024-05-20T09:59:01.219522Z"
    }
   },
   "outputs": [],
   "source": [
    "del ids_mapping"
   ]
  },
  {
   "cell_type": "markdown",
   "id": "6187a85c-133a-47e6-a13e-3eda8848aea2",
   "metadata": {},
   "source": [
    "### Get basic information about each DataFrame"
   ]
  },
  {
   "cell_type": "code",
   "outputs": [],
   "source": [
    "df = pd.read_csv('dataset_diabetes/diabetic_data.csv')"
   ],
   "metadata": {
    "collapsed": false,
    "ExecuteTime": {
     "end_time": "2024-05-20T09:59:01.730962Z",
     "start_time": "2024-05-20T09:59:01.329959Z"
    }
   },
   "id": "a549d4bc65efdd3a",
   "execution_count": 5
  },
  {
   "cell_type": "code",
   "execution_count": 6,
   "id": "a031eb99-8fe2-4d46-acc3-998e24388be5",
   "metadata": {
    "ExecuteTime": {
     "end_time": "2024-05-20T09:59:01.743237Z",
     "start_time": "2024-05-20T09:59:01.731893Z"
    }
   },
   "outputs": [
    {
     "data": {
      "text/plain": "   encounter_id  patient_nbr             race  gender      age weight  \\\n0       2278392      8222157        Caucasian  Female   [0-10)      ?   \n1        149190     55629189        Caucasian  Female  [10-20)      ?   \n2         64410     86047875  AfricanAmerican  Female  [20-30)      ?   \n3        500364     82442376        Caucasian    Male  [30-40)      ?   \n4         16680     42519267        Caucasian    Male  [40-50)      ?   \n\n   admission_type_id  discharge_disposition_id  admission_source_id  \\\n0                  6                        25                    1   \n1                  1                         1                    7   \n2                  1                         1                    7   \n3                  1                         1                    7   \n4                  1                         1                    7   \n\n   time_in_hospital  ... citoglipton insulin  glyburide-metformin  \\\n0                 1  ...          No      No                   No   \n1                 3  ...          No      Up                   No   \n2                 2  ...          No      No                   No   \n3                 2  ...          No      Up                   No   \n4                 1  ...          No  Steady                   No   \n\n   glipizide-metformin  glimepiride-pioglitazone  metformin-rosiglitazone  \\\n0                   No                        No                       No   \n1                   No                        No                       No   \n2                   No                        No                       No   \n3                   No                        No                       No   \n4                   No                        No                       No   \n\n   metformin-pioglitazone  change diabetesMed readmitted  \n0                      No      No          No         NO  \n1                      No      Ch         Yes        >30  \n2                      No      No         Yes         NO  \n3                      No      Ch         Yes         NO  \n4                      No      Ch         Yes         NO  \n\n[5 rows x 50 columns]",
      "text/html": "<div>\n<style scoped>\n    .dataframe tbody tr th:only-of-type {\n        vertical-align: middle;\n    }\n\n    .dataframe tbody tr th {\n        vertical-align: top;\n    }\n\n    .dataframe thead th {\n        text-align: right;\n    }\n</style>\n<table border=\"1\" class=\"dataframe\">\n  <thead>\n    <tr style=\"text-align: right;\">\n      <th></th>\n      <th>encounter_id</th>\n      <th>patient_nbr</th>\n      <th>race</th>\n      <th>gender</th>\n      <th>age</th>\n      <th>weight</th>\n      <th>admission_type_id</th>\n      <th>discharge_disposition_id</th>\n      <th>admission_source_id</th>\n      <th>time_in_hospital</th>\n      <th>...</th>\n      <th>citoglipton</th>\n      <th>insulin</th>\n      <th>glyburide-metformin</th>\n      <th>glipizide-metformin</th>\n      <th>glimepiride-pioglitazone</th>\n      <th>metformin-rosiglitazone</th>\n      <th>metformin-pioglitazone</th>\n      <th>change</th>\n      <th>diabetesMed</th>\n      <th>readmitted</th>\n    </tr>\n  </thead>\n  <tbody>\n    <tr>\n      <th>0</th>\n      <td>2278392</td>\n      <td>8222157</td>\n      <td>Caucasian</td>\n      <td>Female</td>\n      <td>[0-10)</td>\n      <td>?</td>\n      <td>6</td>\n      <td>25</td>\n      <td>1</td>\n      <td>1</td>\n      <td>...</td>\n      <td>No</td>\n      <td>No</td>\n      <td>No</td>\n      <td>No</td>\n      <td>No</td>\n      <td>No</td>\n      <td>No</td>\n      <td>No</td>\n      <td>No</td>\n      <td>NO</td>\n    </tr>\n    <tr>\n      <th>1</th>\n      <td>149190</td>\n      <td>55629189</td>\n      <td>Caucasian</td>\n      <td>Female</td>\n      <td>[10-20)</td>\n      <td>?</td>\n      <td>1</td>\n      <td>1</td>\n      <td>7</td>\n      <td>3</td>\n      <td>...</td>\n      <td>No</td>\n      <td>Up</td>\n      <td>No</td>\n      <td>No</td>\n      <td>No</td>\n      <td>No</td>\n      <td>No</td>\n      <td>Ch</td>\n      <td>Yes</td>\n      <td>&gt;30</td>\n    </tr>\n    <tr>\n      <th>2</th>\n      <td>64410</td>\n      <td>86047875</td>\n      <td>AfricanAmerican</td>\n      <td>Female</td>\n      <td>[20-30)</td>\n      <td>?</td>\n      <td>1</td>\n      <td>1</td>\n      <td>7</td>\n      <td>2</td>\n      <td>...</td>\n      <td>No</td>\n      <td>No</td>\n      <td>No</td>\n      <td>No</td>\n      <td>No</td>\n      <td>No</td>\n      <td>No</td>\n      <td>No</td>\n      <td>Yes</td>\n      <td>NO</td>\n    </tr>\n    <tr>\n      <th>3</th>\n      <td>500364</td>\n      <td>82442376</td>\n      <td>Caucasian</td>\n      <td>Male</td>\n      <td>[30-40)</td>\n      <td>?</td>\n      <td>1</td>\n      <td>1</td>\n      <td>7</td>\n      <td>2</td>\n      <td>...</td>\n      <td>No</td>\n      <td>Up</td>\n      <td>No</td>\n      <td>No</td>\n      <td>No</td>\n      <td>No</td>\n      <td>No</td>\n      <td>Ch</td>\n      <td>Yes</td>\n      <td>NO</td>\n    </tr>\n    <tr>\n      <th>4</th>\n      <td>16680</td>\n      <td>42519267</td>\n      <td>Caucasian</td>\n      <td>Male</td>\n      <td>[40-50)</td>\n      <td>?</td>\n      <td>1</td>\n      <td>1</td>\n      <td>7</td>\n      <td>1</td>\n      <td>...</td>\n      <td>No</td>\n      <td>Steady</td>\n      <td>No</td>\n      <td>No</td>\n      <td>No</td>\n      <td>No</td>\n      <td>No</td>\n      <td>Ch</td>\n      <td>Yes</td>\n      <td>NO</td>\n    </tr>\n  </tbody>\n</table>\n<p>5 rows × 50 columns</p>\n</div>"
     },
     "execution_count": 6,
     "metadata": {},
     "output_type": "execute_result"
    }
   ],
   "source": [
    "df.head()"
   ]
  },
  {
   "cell_type": "code",
   "execution_count": 7,
   "id": "f3d19972-8c27-4fed-b923-08561b791db1",
   "metadata": {
    "ExecuteTime": {
     "end_time": "2024-05-20T09:59:01.830309Z",
     "start_time": "2024-05-20T09:59:01.744052Z"
    }
   },
   "outputs": [
    {
     "name": "stdout",
     "output_type": "stream",
     "text": [
      "<class 'pandas.core.frame.DataFrame'>\n",
      "RangeIndex: 101766 entries, 0 to 101765\n",
      "Data columns (total 50 columns):\n",
      " #   Column                    Non-Null Count   Dtype \n",
      "---  ------                    --------------   ----- \n",
      " 0   encounter_id              101766 non-null  int64 \n",
      " 1   patient_nbr               101766 non-null  int64 \n",
      " 2   race                      101766 non-null  object\n",
      " 3   gender                    101766 non-null  object\n",
      " 4   age                       101766 non-null  object\n",
      " 5   weight                    101766 non-null  object\n",
      " 6   admission_type_id         101766 non-null  int64 \n",
      " 7   discharge_disposition_id  101766 non-null  int64 \n",
      " 8   admission_source_id       101766 non-null  int64 \n",
      " 9   time_in_hospital          101766 non-null  int64 \n",
      " 10  payer_code                101766 non-null  object\n",
      " 11  medical_specialty         101766 non-null  object\n",
      " 12  num_lab_procedures        101766 non-null  int64 \n",
      " 13  num_procedures            101766 non-null  int64 \n",
      " 14  num_medications           101766 non-null  int64 \n",
      " 15  number_outpatient         101766 non-null  int64 \n",
      " 16  number_emergency          101766 non-null  int64 \n",
      " 17  number_inpatient          101766 non-null  int64 \n",
      " 18  diag_1                    101766 non-null  object\n",
      " 19  diag_2                    101766 non-null  object\n",
      " 20  diag_3                    101766 non-null  object\n",
      " 21  number_diagnoses          101766 non-null  int64 \n",
      " 22  max_glu_serum             5346 non-null    object\n",
      " 23  A1Cresult                 17018 non-null   object\n",
      " 24  metformin                 101766 non-null  object\n",
      " 25  repaglinide               101766 non-null  object\n",
      " 26  nateglinide               101766 non-null  object\n",
      " 27  chlorpropamide            101766 non-null  object\n",
      " 28  glimepiride               101766 non-null  object\n",
      " 29  acetohexamide             101766 non-null  object\n",
      " 30  glipizide                 101766 non-null  object\n",
      " 31  glyburide                 101766 non-null  object\n",
      " 32  tolbutamide               101766 non-null  object\n",
      " 33  pioglitazone              101766 non-null  object\n",
      " 34  rosiglitazone             101766 non-null  object\n",
      " 35  acarbose                  101766 non-null  object\n",
      " 36  miglitol                  101766 non-null  object\n",
      " 37  troglitazone              101766 non-null  object\n",
      " 38  tolazamide                101766 non-null  object\n",
      " 39  examide                   101766 non-null  object\n",
      " 40  citoglipton               101766 non-null  object\n",
      " 41  insulin                   101766 non-null  object\n",
      " 42  glyburide-metformin       101766 non-null  object\n",
      " 43  glipizide-metformin       101766 non-null  object\n",
      " 44  glimepiride-pioglitazone  101766 non-null  object\n",
      " 45  metformin-rosiglitazone   101766 non-null  object\n",
      " 46  metformin-pioglitazone    101766 non-null  object\n",
      " 47  change                    101766 non-null  object\n",
      " 48  diabetesMed               101766 non-null  object\n",
      " 49  readmitted                101766 non-null  object\n",
      "dtypes: int64(13), object(37)\n",
      "memory usage: 38.8+ MB\n"
     ]
    }
   ],
   "source": [
    "df.info()"
   ]
  },
  {
   "cell_type": "code",
   "execution_count": 8,
   "id": "42bf34fe-6be0-498b-9e26-e35fdb4dd86c",
   "metadata": {
    "ExecuteTime": {
     "end_time": "2024-05-20T09:59:01.836911Z",
     "start_time": "2024-05-20T09:59:01.831464Z"
    }
   },
   "outputs": [
    {
     "data": {
      "text/plain": "  admission_type_id admission_type_desc\n0                 1           Emergency\n1                 2              Urgent\n2                 3            Elective\n3                 4             Newborn\n4                 5       Not Available\n5                 6                 NaN\n6                 7       Trauma Center\n7                 8          Not Mapped",
      "text/html": "<div>\n<style scoped>\n    .dataframe tbody tr th:only-of-type {\n        vertical-align: middle;\n    }\n\n    .dataframe tbody tr th {\n        vertical-align: top;\n    }\n\n    .dataframe thead th {\n        text-align: right;\n    }\n</style>\n<table border=\"1\" class=\"dataframe\">\n  <thead>\n    <tr style=\"text-align: right;\">\n      <th></th>\n      <th>admission_type_id</th>\n      <th>admission_type_desc</th>\n    </tr>\n  </thead>\n  <tbody>\n    <tr>\n      <th>0</th>\n      <td>1</td>\n      <td>Emergency</td>\n    </tr>\n    <tr>\n      <th>1</th>\n      <td>2</td>\n      <td>Urgent</td>\n    </tr>\n    <tr>\n      <th>2</th>\n      <td>3</td>\n      <td>Elective</td>\n    </tr>\n    <tr>\n      <th>3</th>\n      <td>4</td>\n      <td>Newborn</td>\n    </tr>\n    <tr>\n      <th>4</th>\n      <td>5</td>\n      <td>Not Available</td>\n    </tr>\n    <tr>\n      <th>5</th>\n      <td>6</td>\n      <td>NaN</td>\n    </tr>\n    <tr>\n      <th>6</th>\n      <td>7</td>\n      <td>Trauma Center</td>\n    </tr>\n    <tr>\n      <th>7</th>\n      <td>8</td>\n      <td>Not Mapped</td>\n    </tr>\n  </tbody>\n</table>\n</div>"
     },
     "execution_count": 8,
     "metadata": {},
     "output_type": "execute_result"
    }
   ],
   "source": [
    "admission_type_mapping"
   ]
  },
  {
   "cell_type": "code",
   "execution_count": 9,
   "id": "99ede8ec-6956-43db-8ea4-dbd939690656",
   "metadata": {
    "ExecuteTime": {
     "end_time": "2024-05-20T09:59:01.843573Z",
     "start_time": "2024-05-20T09:59:01.837797Z"
    }
   },
   "outputs": [
    {
     "data": {
      "text/plain": "   discharge_disposition_id                         discharge_disposition_desc\n0                         1                                 Discharged to home\n1                         2  Discharged/transferred to another short term h...\n2                         3                      Discharged/transferred to SNF\n3                         4                      Discharged/transferred to ICF\n4                         5  Discharged/transferred to another type of inpa...\n5                         6  Discharged/transferred to home with home healt...\n6                         7                                           Left AMA\n7                         8  Discharged/transferred to home under care of H...\n8                         9          Admitted as an inpatient to this hospital\n9                        10  Neonate discharged to another hospital for neo...\n10                       11                                            Expired\n11                       12  Still patient or expected to return for outpat...\n12                       13                                     Hospice / home\n13                       14                         Hospice / medical facility\n14                       15  Discharged/transferred within this institution...\n15                       16  Discharged/transferred/referred another instit...\n16                       17  Discharged/transferred/referred to this instit...\n17                       18                                                NaN\n18                       19           Expired at home. Medicaid only, hospice.\n19                       20  Expired in a medical facility. Medicaid only, ...\n20                       21    Expired, place unknown. Medicaid only, hospice.\n21                       22  Discharged/transferred to another rehab fac in...\n22                       23  Discharged/transferred to a long term care hos...\n23                       24  Discharged/transferred to a nursing facility c...\n24                       25                                         Not Mapped\n25                       26                                    Unknown/Invalid\n26                       30  Discharged/transferred to another Type of Heal...\n27                       27  Discharged/transferred to a federal health car...\n28                       28  Discharged/transferred/referred to a psychiatr...\n29                       29  Discharged/transferred to a Critical Access Ho...",
      "text/html": "<div>\n<style scoped>\n    .dataframe tbody tr th:only-of-type {\n        vertical-align: middle;\n    }\n\n    .dataframe tbody tr th {\n        vertical-align: top;\n    }\n\n    .dataframe thead th {\n        text-align: right;\n    }\n</style>\n<table border=\"1\" class=\"dataframe\">\n  <thead>\n    <tr style=\"text-align: right;\">\n      <th></th>\n      <th>discharge_disposition_id</th>\n      <th>discharge_disposition_desc</th>\n    </tr>\n  </thead>\n  <tbody>\n    <tr>\n      <th>0</th>\n      <td>1</td>\n      <td>Discharged to home</td>\n    </tr>\n    <tr>\n      <th>1</th>\n      <td>2</td>\n      <td>Discharged/transferred to another short term h...</td>\n    </tr>\n    <tr>\n      <th>2</th>\n      <td>3</td>\n      <td>Discharged/transferred to SNF</td>\n    </tr>\n    <tr>\n      <th>3</th>\n      <td>4</td>\n      <td>Discharged/transferred to ICF</td>\n    </tr>\n    <tr>\n      <th>4</th>\n      <td>5</td>\n      <td>Discharged/transferred to another type of inpa...</td>\n    </tr>\n    <tr>\n      <th>5</th>\n      <td>6</td>\n      <td>Discharged/transferred to home with home healt...</td>\n    </tr>\n    <tr>\n      <th>6</th>\n      <td>7</td>\n      <td>Left AMA</td>\n    </tr>\n    <tr>\n      <th>7</th>\n      <td>8</td>\n      <td>Discharged/transferred to home under care of H...</td>\n    </tr>\n    <tr>\n      <th>8</th>\n      <td>9</td>\n      <td>Admitted as an inpatient to this hospital</td>\n    </tr>\n    <tr>\n      <th>9</th>\n      <td>10</td>\n      <td>Neonate discharged to another hospital for neo...</td>\n    </tr>\n    <tr>\n      <th>10</th>\n      <td>11</td>\n      <td>Expired</td>\n    </tr>\n    <tr>\n      <th>11</th>\n      <td>12</td>\n      <td>Still patient or expected to return for outpat...</td>\n    </tr>\n    <tr>\n      <th>12</th>\n      <td>13</td>\n      <td>Hospice / home</td>\n    </tr>\n    <tr>\n      <th>13</th>\n      <td>14</td>\n      <td>Hospice / medical facility</td>\n    </tr>\n    <tr>\n      <th>14</th>\n      <td>15</td>\n      <td>Discharged/transferred within this institution...</td>\n    </tr>\n    <tr>\n      <th>15</th>\n      <td>16</td>\n      <td>Discharged/transferred/referred another instit...</td>\n    </tr>\n    <tr>\n      <th>16</th>\n      <td>17</td>\n      <td>Discharged/transferred/referred to this instit...</td>\n    </tr>\n    <tr>\n      <th>17</th>\n      <td>18</td>\n      <td>NaN</td>\n    </tr>\n    <tr>\n      <th>18</th>\n      <td>19</td>\n      <td>Expired at home. Medicaid only, hospice.</td>\n    </tr>\n    <tr>\n      <th>19</th>\n      <td>20</td>\n      <td>Expired in a medical facility. Medicaid only, ...</td>\n    </tr>\n    <tr>\n      <th>20</th>\n      <td>21</td>\n      <td>Expired, place unknown. Medicaid only, hospice.</td>\n    </tr>\n    <tr>\n      <th>21</th>\n      <td>22</td>\n      <td>Discharged/transferred to another rehab fac in...</td>\n    </tr>\n    <tr>\n      <th>22</th>\n      <td>23</td>\n      <td>Discharged/transferred to a long term care hos...</td>\n    </tr>\n    <tr>\n      <th>23</th>\n      <td>24</td>\n      <td>Discharged/transferred to a nursing facility c...</td>\n    </tr>\n    <tr>\n      <th>24</th>\n      <td>25</td>\n      <td>Not Mapped</td>\n    </tr>\n    <tr>\n      <th>25</th>\n      <td>26</td>\n      <td>Unknown/Invalid</td>\n    </tr>\n    <tr>\n      <th>26</th>\n      <td>30</td>\n      <td>Discharged/transferred to another Type of Heal...</td>\n    </tr>\n    <tr>\n      <th>27</th>\n      <td>27</td>\n      <td>Discharged/transferred to a federal health car...</td>\n    </tr>\n    <tr>\n      <th>28</th>\n      <td>28</td>\n      <td>Discharged/transferred/referred to a psychiatr...</td>\n    </tr>\n    <tr>\n      <th>29</th>\n      <td>29</td>\n      <td>Discharged/transferred to a Critical Access Ho...</td>\n    </tr>\n  </tbody>\n</table>\n</div>"
     },
     "execution_count": 9,
     "metadata": {},
     "output_type": "execute_result"
    }
   ],
   "source": [
    "discharge_disposition_mapping"
   ]
  },
  {
   "cell_type": "code",
   "execution_count": 10,
   "id": "8fd60eb1-01d7-4193-866a-5101a2433141",
   "metadata": {
    "ExecuteTime": {
     "end_time": "2024-05-20T09:59:01.849121Z",
     "start_time": "2024-05-20T09:59:01.844369Z"
    }
   },
   "outputs": [
    {
     "data": {
      "text/plain": "   admission_source_id                              admission_source_desc\n0                    1                                 Physician Referral\n1                    2                                    Clinic Referral\n2                    3                                       HMO Referral\n3                    4                           Transfer from a hospital\n4                    5     Transfer from a Skilled Nursing Facility (SNF)\n5                    6         Transfer from another health care facility\n6                    7                                     Emergency Room\n7                    8                              Court/Law Enforcement\n8                    9                                      Not Available\n9                   10              Transfer from critial access hospital\n10                  11                                    Normal Delivery\n11                  12                                 Premature Delivery\n12                  13                                          Sick Baby\n13                  14                                   Extramural Birth\n14                  15                                      Not Available\n15                  17                                                NaN\n16                  18           Transfer From Another Home Health Agency\n17                  19             Readmission to Same Home Health Agency\n18                  20                                         Not Mapped\n19                  21                                    Unknown/Invalid\n20                  22   Transfer from hospital inpt/same fac reslt in...\n21                  23                          Born inside this hospital\n22                  24                         Born outside this hospital\n23                  25            Transfer from Ambulatory Surgery Center\n24                  26                              Transfer from Hospice",
      "text/html": "<div>\n<style scoped>\n    .dataframe tbody tr th:only-of-type {\n        vertical-align: middle;\n    }\n\n    .dataframe tbody tr th {\n        vertical-align: top;\n    }\n\n    .dataframe thead th {\n        text-align: right;\n    }\n</style>\n<table border=\"1\" class=\"dataframe\">\n  <thead>\n    <tr style=\"text-align: right;\">\n      <th></th>\n      <th>admission_source_id</th>\n      <th>admission_source_desc</th>\n    </tr>\n  </thead>\n  <tbody>\n    <tr>\n      <th>0</th>\n      <td>1</td>\n      <td>Physician Referral</td>\n    </tr>\n    <tr>\n      <th>1</th>\n      <td>2</td>\n      <td>Clinic Referral</td>\n    </tr>\n    <tr>\n      <th>2</th>\n      <td>3</td>\n      <td>HMO Referral</td>\n    </tr>\n    <tr>\n      <th>3</th>\n      <td>4</td>\n      <td>Transfer from a hospital</td>\n    </tr>\n    <tr>\n      <th>4</th>\n      <td>5</td>\n      <td>Transfer from a Skilled Nursing Facility (SNF)</td>\n    </tr>\n    <tr>\n      <th>5</th>\n      <td>6</td>\n      <td>Transfer from another health care facility</td>\n    </tr>\n    <tr>\n      <th>6</th>\n      <td>7</td>\n      <td>Emergency Room</td>\n    </tr>\n    <tr>\n      <th>7</th>\n      <td>8</td>\n      <td>Court/Law Enforcement</td>\n    </tr>\n    <tr>\n      <th>8</th>\n      <td>9</td>\n      <td>Not Available</td>\n    </tr>\n    <tr>\n      <th>9</th>\n      <td>10</td>\n      <td>Transfer from critial access hospital</td>\n    </tr>\n    <tr>\n      <th>10</th>\n      <td>11</td>\n      <td>Normal Delivery</td>\n    </tr>\n    <tr>\n      <th>11</th>\n      <td>12</td>\n      <td>Premature Delivery</td>\n    </tr>\n    <tr>\n      <th>12</th>\n      <td>13</td>\n      <td>Sick Baby</td>\n    </tr>\n    <tr>\n      <th>13</th>\n      <td>14</td>\n      <td>Extramural Birth</td>\n    </tr>\n    <tr>\n      <th>14</th>\n      <td>15</td>\n      <td>Not Available</td>\n    </tr>\n    <tr>\n      <th>15</th>\n      <td>17</td>\n      <td>NaN</td>\n    </tr>\n    <tr>\n      <th>16</th>\n      <td>18</td>\n      <td>Transfer From Another Home Health Agency</td>\n    </tr>\n    <tr>\n      <th>17</th>\n      <td>19</td>\n      <td>Readmission to Same Home Health Agency</td>\n    </tr>\n    <tr>\n      <th>18</th>\n      <td>20</td>\n      <td>Not Mapped</td>\n    </tr>\n    <tr>\n      <th>19</th>\n      <td>21</td>\n      <td>Unknown/Invalid</td>\n    </tr>\n    <tr>\n      <th>20</th>\n      <td>22</td>\n      <td>Transfer from hospital inpt/same fac reslt in...</td>\n    </tr>\n    <tr>\n      <th>21</th>\n      <td>23</td>\n      <td>Born inside this hospital</td>\n    </tr>\n    <tr>\n      <th>22</th>\n      <td>24</td>\n      <td>Born outside this hospital</td>\n    </tr>\n    <tr>\n      <th>23</th>\n      <td>25</td>\n      <td>Transfer from Ambulatory Surgery Center</td>\n    </tr>\n    <tr>\n      <th>24</th>\n      <td>26</td>\n      <td>Transfer from Hospice</td>\n    </tr>\n  </tbody>\n</table>\n</div>"
     },
     "execution_count": 10,
     "metadata": {},
     "output_type": "execute_result"
    }
   ],
   "source": [
    "admission_source_mapping"
   ]
  },
  {
   "cell_type": "markdown",
   "id": "c9eba366-ec2d-413d-bf38-87c30884c2e1",
   "metadata": {},
   "source": [
    "### Map the IDs to descriptions in diabetic_data"
   ]
  },
  {
   "cell_type": "code",
   "execution_count": 11,
   "id": "d01f2029-06b6-42f0-a154-e2ebfc3bdbcb",
   "metadata": {
    "ExecuteTime": {
     "end_time": "2024-05-20T09:59:01.853773Z",
     "start_time": "2024-05-20T09:59:01.849971Z"
    }
   },
   "outputs": [],
   "source": [
    "admission_type_mapping['admission_type_id'] = admission_type_mapping['admission_type_id'].astype('int64')\n",
    "discharge_disposition_mapping['discharge_disposition_id'] = discharge_disposition_mapping['discharge_disposition_id'].astype('int64')\n",
    "admission_source_mapping['admission_source_id'] = admission_source_mapping['admission_source_id'].astype('int64')"
   ]
  },
  {
   "cell_type": "code",
   "execution_count": 12,
   "id": "88dd959e-de77-457d-8e19-5cd4affc180e",
   "metadata": {
    "ExecuteTime": {
     "end_time": "2024-05-20T09:59:02.184658Z",
     "start_time": "2024-05-20T09:59:01.854811Z"
    }
   },
   "outputs": [],
   "source": [
    "df = df.merge(admission_type_mapping, on='admission_type_id', how='left')\n",
    "df = df.merge(discharge_disposition_mapping, on='discharge_disposition_id', how='left')\n",
    "df = df.merge(admission_source_mapping, on='admission_source_id', how='left')\n",
    "\n",
    "for col in ['admission_type', 'discharge_disposition', 'admission_source']:\n",
    "    df = df.rename(columns={f'{col}_desc': col})\n",
    "del col"
   ]
  },
  {
   "cell_type": "code",
   "execution_count": 13,
   "id": "ddde3017-7e84-42e0-ab2b-076170941542",
   "metadata": {
    "ExecuteTime": {
     "end_time": "2024-05-20T09:59:02.225262Z",
     "start_time": "2024-05-20T09:59:02.185552Z"
    }
   },
   "outputs": [],
   "source": [
    "df = df.drop(columns=[\"admission_type_id\", \"discharge_disposition_id\", \"admission_source_id\"])"
   ]
  },
  {
   "cell_type": "code",
   "outputs": [
    {
     "data": {
      "text/plain": "   encounter_id  patient_nbr             race  gender      age weight  \\\n0       2278392      8222157        Caucasian  Female   [0-10)      ?   \n1        149190     55629189        Caucasian  Female  [10-20)      ?   \n2         64410     86047875  AfricanAmerican  Female  [20-30)      ?   \n3        500364     82442376        Caucasian    Male  [30-40)      ?   \n\n   time_in_hospital payer_code         medical_specialty  num_lab_procedures  \\\n0                 1          ?  Pediatrics-Endocrinology                  41   \n1                 3          ?                         ?                  59   \n2                 2          ?                         ?                  11   \n3                 2          ?                         ?                  44   \n\n   ...  glipizide-metformin  glimepiride-pioglitazone  \\\n0  ...                   No                        No   \n1  ...                   No                        No   \n2  ...                   No                        No   \n3  ...                   No                        No   \n\n   metformin-rosiglitazone  metformin-pioglitazone  change diabetesMed  \\\n0                       No                      No      No          No   \n1                       No                      No      Ch         Yes   \n2                       No                      No      No         Yes   \n3                       No                      No      Ch         Yes   \n\n  readmitted admission_type  discharge_disposition     admission_source  \n0         NO            NaN             Not Mapped   Physician Referral  \n1        >30      Emergency     Discharged to home       Emergency Room  \n2         NO      Emergency     Discharged to home       Emergency Room  \n3         NO      Emergency     Discharged to home       Emergency Room  \n\n[4 rows x 50 columns]",
      "text/html": "<div>\n<style scoped>\n    .dataframe tbody tr th:only-of-type {\n        vertical-align: middle;\n    }\n\n    .dataframe tbody tr th {\n        vertical-align: top;\n    }\n\n    .dataframe thead th {\n        text-align: right;\n    }\n</style>\n<table border=\"1\" class=\"dataframe\">\n  <thead>\n    <tr style=\"text-align: right;\">\n      <th></th>\n      <th>encounter_id</th>\n      <th>patient_nbr</th>\n      <th>race</th>\n      <th>gender</th>\n      <th>age</th>\n      <th>weight</th>\n      <th>time_in_hospital</th>\n      <th>payer_code</th>\n      <th>medical_specialty</th>\n      <th>num_lab_procedures</th>\n      <th>...</th>\n      <th>glipizide-metformin</th>\n      <th>glimepiride-pioglitazone</th>\n      <th>metformin-rosiglitazone</th>\n      <th>metformin-pioglitazone</th>\n      <th>change</th>\n      <th>diabetesMed</th>\n      <th>readmitted</th>\n      <th>admission_type</th>\n      <th>discharge_disposition</th>\n      <th>admission_source</th>\n    </tr>\n  </thead>\n  <tbody>\n    <tr>\n      <th>0</th>\n      <td>2278392</td>\n      <td>8222157</td>\n      <td>Caucasian</td>\n      <td>Female</td>\n      <td>[0-10)</td>\n      <td>?</td>\n      <td>1</td>\n      <td>?</td>\n      <td>Pediatrics-Endocrinology</td>\n      <td>41</td>\n      <td>...</td>\n      <td>No</td>\n      <td>No</td>\n      <td>No</td>\n      <td>No</td>\n      <td>No</td>\n      <td>No</td>\n      <td>NO</td>\n      <td>NaN</td>\n      <td>Not Mapped</td>\n      <td>Physician Referral</td>\n    </tr>\n    <tr>\n      <th>1</th>\n      <td>149190</td>\n      <td>55629189</td>\n      <td>Caucasian</td>\n      <td>Female</td>\n      <td>[10-20)</td>\n      <td>?</td>\n      <td>3</td>\n      <td>?</td>\n      <td>?</td>\n      <td>59</td>\n      <td>...</td>\n      <td>No</td>\n      <td>No</td>\n      <td>No</td>\n      <td>No</td>\n      <td>Ch</td>\n      <td>Yes</td>\n      <td>&gt;30</td>\n      <td>Emergency</td>\n      <td>Discharged to home</td>\n      <td>Emergency Room</td>\n    </tr>\n    <tr>\n      <th>2</th>\n      <td>64410</td>\n      <td>86047875</td>\n      <td>AfricanAmerican</td>\n      <td>Female</td>\n      <td>[20-30)</td>\n      <td>?</td>\n      <td>2</td>\n      <td>?</td>\n      <td>?</td>\n      <td>11</td>\n      <td>...</td>\n      <td>No</td>\n      <td>No</td>\n      <td>No</td>\n      <td>No</td>\n      <td>No</td>\n      <td>Yes</td>\n      <td>NO</td>\n      <td>Emergency</td>\n      <td>Discharged to home</td>\n      <td>Emergency Room</td>\n    </tr>\n    <tr>\n      <th>3</th>\n      <td>500364</td>\n      <td>82442376</td>\n      <td>Caucasian</td>\n      <td>Male</td>\n      <td>[30-40)</td>\n      <td>?</td>\n      <td>2</td>\n      <td>?</td>\n      <td>?</td>\n      <td>44</td>\n      <td>...</td>\n      <td>No</td>\n      <td>No</td>\n      <td>No</td>\n      <td>No</td>\n      <td>Ch</td>\n      <td>Yes</td>\n      <td>NO</td>\n      <td>Emergency</td>\n      <td>Discharged to home</td>\n      <td>Emergency Room</td>\n    </tr>\n  </tbody>\n</table>\n<p>4 rows × 50 columns</p>\n</div>"
     },
     "execution_count": 14,
     "metadata": {},
     "output_type": "execute_result"
    }
   ],
   "source": [
    "df.head(4)"
   ],
   "metadata": {
    "collapsed": false,
    "ExecuteTime": {
     "end_time": "2024-05-20T09:59:02.235598Z",
     "start_time": "2024-05-20T09:59:02.226747Z"
    }
   },
   "id": "c7ac6ef1a1ccf2fb",
   "execution_count": 14
  },
  {
   "cell_type": "markdown",
   "id": "82f365e2-08c1-4eda-875e-06ae7435fc2c",
   "metadata": {},
   "source": [
    "###  Convert to Numeric Type (Midpoint of Range) for Column \"Age\""
   ]
  },
  {
   "cell_type": "code",
   "execution_count": 15,
   "id": "ac003344-54d1-4e84-aea0-537108a314d8",
   "metadata": {
    "ExecuteTime": {
     "end_time": "2024-05-20T09:59:03.828570Z",
     "start_time": "2024-05-20T09:59:02.236176Z"
    }
   },
   "outputs": [],
   "source": [
    "def extract_midpoint(value):\n",
    "    value = value.strip('[]()')\n",
    "    lower, upper = value.split('-')\n",
    "    return (int(lower) + int(upper)) / 2\n",
    "\n",
    "def process_range_columns(df):\n",
    "    for _col in df.columns:\n",
    "        if df[_col].dtype == 'object':\n",
    "            mask = df[_col].str.match(r'^\\[\\d+-\\d+\\)$') & df[_col].notna()\n",
    "            if mask.any():\n",
    "                df.loc[mask, _col] = df.loc[mask, _col].apply(extract_midpoint)\n",
    "                df[_col] = pd.to_numeric(df[_col], errors='coerce')\n",
    "    return df\n",
    "\n",
    "df= process_range_columns(df)"
   ]
  },
  {
   "cell_type": "markdown",
   "id": "e52d07df-b240-406f-9854-39914d9614e1",
   "metadata": {},
   "source": [
    "### Identify numerical/categorical columns"
   ]
  },
  {
   "cell_type": "code",
   "execution_count": 16,
   "id": "9418fdc8-e5c2-4ffe-842b-5e235878e389",
   "metadata": {
    "ExecuteTime": {
     "end_time": "2024-05-20T09:59:03.897209Z",
     "start_time": "2024-05-20T09:59:03.829356Z"
    }
   },
   "outputs": [],
   "source": [
    "object_columns = df.select_dtypes(include=['object']).columns\n",
    "for column in object_columns:\n",
    "    try:\n",
    "        df[column] = pd.to_numeric(df[column])\n",
    "    except ValueError:\n",
    "        continue"
   ]
  },
  {
   "cell_type": "code",
   "execution_count": 17,
   "id": "cdbf3f7c-4ca1-4452-a538-287bac089861",
   "metadata": {
    "ExecuteTime": {
     "end_time": "2024-05-20T09:59:03.973226Z",
     "start_time": "2024-05-20T09:59:03.897966Z"
    }
   },
   "outputs": [
    {
     "data": {
      "text/plain": "['rosiglitazone',\n 'tolbutamide',\n 'pioglitazone',\n 'payer_code',\n 'repaglinide',\n 'A1Cresult',\n 'glyburide-metformin',\n 'diag_3',\n 'gender',\n 'metformin',\n 'race',\n 'max_glu_serum',\n 'chlorpropamide',\n 'nateglinide',\n 'patient_nbr',\n 'citoglipton',\n 'medical_specialty',\n 'acarbose',\n 'metformin-pioglitazone',\n 'change',\n 'discharge_disposition',\n 'miglitol',\n 'admission_source',\n 'glimepiride',\n 'acetohexamide',\n 'metformin-rosiglitazone',\n 'diag_2',\n 'admission_type',\n 'glipizide',\n 'tolazamide',\n 'diabetesMed',\n 'readmitted',\n 'encounter_id',\n 'examide',\n 'troglitazone',\n 'insulin',\n 'diag_1',\n 'glyburide',\n 'glipizide-metformin',\n 'glimepiride-pioglitazone']"
     },
     "execution_count": 17,
     "metadata": {},
     "output_type": "execute_result"
    }
   ],
   "source": [
    "categorical_columns = []\n",
    "categorical_columns.extend(df.select_dtypes(include=['object']).columns)\n",
    "id_columns = [col for col in df.columns if col.endswith('id')]\n",
    "categorical_columns.extend(id_columns)\n",
    "categorical_columns.extend(['patient_nbr', 'payer_code'])\n",
    "categorical_columns = list(set(categorical_columns))\n",
    "categorical_columns"
   ]
  },
  {
   "cell_type": "code",
   "execution_count": 18,
   "id": "437f90be-5cf1-4883-be67-f3ef20447527",
   "metadata": {
    "ExecuteTime": {
     "end_time": "2024-05-20T09:59:03.976736Z",
     "start_time": "2024-05-20T09:59:03.974038Z"
    }
   },
   "outputs": [
    {
     "data": {
      "text/plain": "['age',\n 'weight',\n 'time_in_hospital',\n 'num_lab_procedures',\n 'num_procedures',\n 'num_medications',\n 'number_outpatient',\n 'number_emergency',\n 'number_inpatient',\n 'number_diagnoses']"
     },
     "execution_count": 18,
     "metadata": {},
     "output_type": "execute_result"
    }
   ],
   "source": [
    "numerical_columns = [col for col in df.columns if col not in categorical_columns]\n",
    "numerical_columns"
   ]
  },
  {
   "cell_type": "markdown",
   "id": "e1e5ca3c-2234-4b6a-a5c0-f91e59ea23f0",
   "metadata": {},
   "source": [
    "### standardize text columns"
   ]
  },
  {
   "cell_type": "code",
   "outputs": [
    {
     "data": {
      "text/plain": "array(['race', 'gender', 'payer_code', 'medical_specialty', 'diag_1',\n       'diag_2', 'diag_3', 'max_glu_serum', 'A1Cresult', 'metformin',\n       'repaglinide', 'nateglinide', 'chlorpropamide', 'glimepiride',\n       'acetohexamide', 'glipizide', 'glyburide', 'tolbutamide',\n       'pioglitazone', 'rosiglitazone', 'acarbose', 'miglitol',\n       'troglitazone', 'tolazamide', 'examide', 'citoglipton', 'insulin',\n       'glyburide-metformin', 'glipizide-metformin',\n       'glimepiride-pioglitazone', 'metformin-rosiglitazone',\n       'metformin-pioglitazone', 'change', 'diabetesMed', 'readmitted',\n       'admission_type', 'discharge_disposition', 'admission_source'],\n      dtype=object)"
     },
     "execution_count": 19,
     "metadata": {},
     "output_type": "execute_result"
    }
   ],
   "source": [
    "text_columns = df.select_dtypes(include=['object']).columns\n",
    "text_columns.values"
   ],
   "metadata": {
    "collapsed": false,
    "ExecuteTime": {
     "end_time": "2024-05-20T09:59:04.063623Z",
     "start_time": "2024-05-20T09:59:03.977561Z"
    }
   },
   "id": "9e07e03d9500ca92",
   "execution_count": 19
  },
  {
   "cell_type": "code",
   "execution_count": 20,
   "id": "7d323385-96f3-406e-810f-3558415b34c0",
   "metadata": {
    "ExecuteTime": {
     "end_time": "2024-05-20T09:59:04.510160Z",
     "start_time": "2024-05-20T09:59:04.064354Z"
    }
   },
   "outputs": [],
   "source": [
    "for col in text_columns:\n",
    "    df[col] = df[col].str.strip()  # Remove leading/trailing spaces"
   ]
  },
  {
   "cell_type": "markdown",
   "id": "3d772c51-63c6-4fd1-970a-5ae1c7b51ace",
   "metadata": {},
   "source": [
    "### Remove duplicates"
   ]
  },
  {
   "cell_type": "code",
   "execution_count": 21,
   "id": "c4fbc165-186d-48b1-9277-511ca96c1459",
   "metadata": {
    "ExecuteTime": {
     "end_time": "2024-05-20T09:59:04.727650Z",
     "start_time": "2024-05-20T09:59:04.510799Z"
    }
   },
   "outputs": [],
   "source": [
    "df = df.drop_duplicates()"
   ]
  },
  {
   "cell_type": "markdown",
   "id": "33afcc45-be81-4e1f-be3d-d26baedcd5c6",
   "metadata": {},
   "source": [
    "### Handling Missing and Invalid Values "
   ]
  },
  {
   "cell_type": "code",
   "outputs": [],
   "source": [
    "def find_invalid_values(_df):\n",
    "    placeholder_values = [\"Unknown/Invalid\", \"NaN\", \"Not Available\", \"Not Mapped\", \"?\"]\n",
    "    \n",
    "    placeholder_counts = {}\n",
    "    \n",
    "    for _col in _df.columns:\n",
    "        placeholder_counts[_col] = {}\n",
    "        for value in placeholder_values:\n",
    "            placeholder_counts[_col][value] = _df[_col].astype(str).str.contains(re.escape(value), case=False, na=False).sum()\n",
    "    _placeholder_counts_df = pd.DataFrame(placeholder_counts).transpose()\n",
    "    _placeholder_counts_df = _placeholder_counts_df[(_placeholder_counts_df.T != 0).any()]\n",
    "    total_rows = len(_df)\n",
    "    _percentage_df = (_placeholder_counts_df / total_rows) * 100\n",
    "    _percentage_df[\"sum\"] = (_percentage_df[\"Unknown/Invalid\"] \n",
    "                             + _percentage_df[\"NaN\"] \n",
    "                             + _percentage_df[\"Not Available\"] \n",
    "                             + _percentage_df[\"Not Mapped\"] \n",
    "                             +  _percentage_df[\"?\"])\n",
    "    return _percentage_df"
   ],
   "metadata": {
    "collapsed": false,
    "ExecuteTime": {
     "end_time": "2024-05-20T09:59:04.731233Z",
     "start_time": "2024-05-20T09:59:04.728292Z"
    }
   },
   "id": "633c42993a9a1456",
   "execution_count": 22
  },
  {
   "cell_type": "code",
   "outputs": [
    {
     "data": {
      "text/plain": "                       Unknown/Invalid        NaN  Not Available  Not Mapped  \\\nrace                          0.000000   0.000000       0.000000    0.000000   \ngender                        0.002948   0.000000       0.000000    0.000000   \nweight                        0.000000  96.861427       0.000000    0.000000   \npayer_code                    0.000000   0.000000       0.000000    0.000000   \nmedical_specialty             0.000000   0.000000       0.000000    0.000000   \ndiag_1                        0.000000   0.000000       0.000000    0.000000   \ndiag_2                        0.000000   0.000000       0.000000    0.000000   \ndiag_3                        0.000000   0.000000       0.000000    0.000000   \nmax_glu_serum                 0.000000  94.746772       0.000000    0.000000   \nA1Cresult                     0.000000  83.277322       0.000000    0.000000   \nadmission_type                0.000000   5.199182       4.701963    0.314447   \ndischarge_disposition         0.000000   3.626948       0.000000    0.971837   \nadmission_source              0.000000   6.663326       0.122831    0.158206   \n\n                               ?        sum  \nrace                    2.233555   2.233555  \ngender                  0.000000   0.002948  \nweight                  0.000000  96.861427  \npayer_code             39.557416  39.557416  \nmedical_specialty      49.082208  49.082208  \ndiag_1                  0.020636   0.020636  \ndiag_2                  0.351787   0.351787  \ndiag_3                  1.398306   1.398306  \nmax_glu_serum           0.000000  94.746772  \nA1Cresult               0.000000  83.277322  \nadmission_type          0.000000  10.215593  \ndischarge_disposition   0.000000   4.598785  \nadmission_source        0.000000   6.944363  ",
      "text/html": "<div>\n<style scoped>\n    .dataframe tbody tr th:only-of-type {\n        vertical-align: middle;\n    }\n\n    .dataframe tbody tr th {\n        vertical-align: top;\n    }\n\n    .dataframe thead th {\n        text-align: right;\n    }\n</style>\n<table border=\"1\" class=\"dataframe\">\n  <thead>\n    <tr style=\"text-align: right;\">\n      <th></th>\n      <th>Unknown/Invalid</th>\n      <th>NaN</th>\n      <th>Not Available</th>\n      <th>Not Mapped</th>\n      <th>?</th>\n      <th>sum</th>\n    </tr>\n  </thead>\n  <tbody>\n    <tr>\n      <th>race</th>\n      <td>0.000000</td>\n      <td>0.000000</td>\n      <td>0.000000</td>\n      <td>0.000000</td>\n      <td>2.233555</td>\n      <td>2.233555</td>\n    </tr>\n    <tr>\n      <th>gender</th>\n      <td>0.002948</td>\n      <td>0.000000</td>\n      <td>0.000000</td>\n      <td>0.000000</td>\n      <td>0.000000</td>\n      <td>0.002948</td>\n    </tr>\n    <tr>\n      <th>weight</th>\n      <td>0.000000</td>\n      <td>96.861427</td>\n      <td>0.000000</td>\n      <td>0.000000</td>\n      <td>0.000000</td>\n      <td>96.861427</td>\n    </tr>\n    <tr>\n      <th>payer_code</th>\n      <td>0.000000</td>\n      <td>0.000000</td>\n      <td>0.000000</td>\n      <td>0.000000</td>\n      <td>39.557416</td>\n      <td>39.557416</td>\n    </tr>\n    <tr>\n      <th>medical_specialty</th>\n      <td>0.000000</td>\n      <td>0.000000</td>\n      <td>0.000000</td>\n      <td>0.000000</td>\n      <td>49.082208</td>\n      <td>49.082208</td>\n    </tr>\n    <tr>\n      <th>diag_1</th>\n      <td>0.000000</td>\n      <td>0.000000</td>\n      <td>0.000000</td>\n      <td>0.000000</td>\n      <td>0.020636</td>\n      <td>0.020636</td>\n    </tr>\n    <tr>\n      <th>diag_2</th>\n      <td>0.000000</td>\n      <td>0.000000</td>\n      <td>0.000000</td>\n      <td>0.000000</td>\n      <td>0.351787</td>\n      <td>0.351787</td>\n    </tr>\n    <tr>\n      <th>diag_3</th>\n      <td>0.000000</td>\n      <td>0.000000</td>\n      <td>0.000000</td>\n      <td>0.000000</td>\n      <td>1.398306</td>\n      <td>1.398306</td>\n    </tr>\n    <tr>\n      <th>max_glu_serum</th>\n      <td>0.000000</td>\n      <td>94.746772</td>\n      <td>0.000000</td>\n      <td>0.000000</td>\n      <td>0.000000</td>\n      <td>94.746772</td>\n    </tr>\n    <tr>\n      <th>A1Cresult</th>\n      <td>0.000000</td>\n      <td>83.277322</td>\n      <td>0.000000</td>\n      <td>0.000000</td>\n      <td>0.000000</td>\n      <td>83.277322</td>\n    </tr>\n    <tr>\n      <th>admission_type</th>\n      <td>0.000000</td>\n      <td>5.199182</td>\n      <td>4.701963</td>\n      <td>0.314447</td>\n      <td>0.000000</td>\n      <td>10.215593</td>\n    </tr>\n    <tr>\n      <th>discharge_disposition</th>\n      <td>0.000000</td>\n      <td>3.626948</td>\n      <td>0.000000</td>\n      <td>0.971837</td>\n      <td>0.000000</td>\n      <td>4.598785</td>\n    </tr>\n    <tr>\n      <th>admission_source</th>\n      <td>0.000000</td>\n      <td>6.663326</td>\n      <td>0.122831</td>\n      <td>0.158206</td>\n      <td>0.000000</td>\n      <td>6.944363</td>\n    </tr>\n  </tbody>\n</table>\n</div>"
     },
     "execution_count": 23,
     "metadata": {},
     "output_type": "execute_result"
    }
   ],
   "source": [
    "unknown = find_invalid_values(df)\n",
    "unknown"
   ],
   "metadata": {
    "collapsed": false,
    "ExecuteTime": {
     "end_time": "2024-05-20T09:59:11.750429Z",
     "start_time": "2024-05-20T09:59:04.732259Z"
    }
   },
   "id": "329afb662fe099",
   "execution_count": 23
  },
  {
   "cell_type": "code",
   "execution_count": 24,
   "id": "98f80a77-0b9c-4931-a949-c71e1bc78a91",
   "metadata": {
    "ExecuteTime": {
     "end_time": "2024-05-20T09:59:11.755226Z",
     "start_time": "2024-05-20T09:59:11.751155Z"
    }
   },
   "outputs": [
    {
     "name": "stdout",
     "output_type": "stream",
     "text": [
      "Columns with more than 40% unknown values:\n"
     ]
    },
    {
     "data": {
      "text/plain": "Index(['weight', 'medical_specialty', 'max_glu_serum', 'A1Cresult'], dtype='object')"
     },
     "execution_count": 24,
     "metadata": {},
     "output_type": "execute_result"
    }
   ],
   "source": [
    "columns_to_remove = unknown[unknown['sum']> 40].index\n",
    "print(\"Columns with more than 40% unknown values:\")\n",
    "columns_to_remove"
   ]
  },
  {
   "cell_type": "code",
   "execution_count": 25,
   "id": "8cd2076b-3a10-497c-a4b3-a0045ad6b392",
   "metadata": {
    "ExecuteTime": {
     "end_time": "2024-05-20T09:59:11.762144Z",
     "start_time": "2024-05-20T09:59:11.755878Z"
    }
   },
   "outputs": [],
   "source": [
    "not_important = []\n",
    "id_columns = [col for col in df.columns if col.endswith('id')]\n",
    "not_important.extend(id_columns)\n",
    "not_important.extend(['patient_nbr', 'payer_code'])"
   ]
  },
  {
   "cell_type": "code",
   "execution_count": 26,
   "id": "f3844291-983e-4f02-b934-ae3169a74b00",
   "metadata": {
    "ExecuteTime": {
     "end_time": "2024-05-20T09:59:11.834180Z",
     "start_time": "2024-05-20T09:59:11.762878Z"
    }
   },
   "outputs": [],
   "source": [
    "df = df.drop(columns=columns_to_remove)\n",
    "df = df.drop(columns=not_important)"
   ]
  },
  {
   "cell_type": "code",
   "execution_count": 27,
   "id": "8ab0ce26-47d2-4982-a0ca-1cdee6352027",
   "metadata": {
    "ExecuteTime": {
     "end_time": "2024-05-20T09:59:11.844705Z",
     "start_time": "2024-05-20T09:59:11.834934Z"
    }
   },
   "outputs": [
    {
     "data": {
      "text/plain": "              race  gender   age  time_in_hospital  num_lab_procedures  \\\n0        Caucasian  Female   5.0                 1                  41   \n1        Caucasian  Female  15.0                 3                  59   \n2  AfricanAmerican  Female  25.0                 2                  11   \n3        Caucasian    Male  35.0                 2                  44   \n4        Caucasian    Male  45.0                 1                  51   \n\n   num_procedures  num_medications  number_outpatient  number_emergency  \\\n0               0                1                  0                 0   \n1               0               18                  0                 0   \n2               5               13                  2                 0   \n3               1               16                  0                 0   \n4               0                8                  0                 0   \n\n   number_inpatient  ... glipizide-metformin glimepiride-pioglitazone  \\\n0                 0  ...                  No                       No   \n1                 0  ...                  No                       No   \n2                 1  ...                  No                       No   \n3                 0  ...                  No                       No   \n4                 0  ...                  No                       No   \n\n  metformin-rosiglitazone  metformin-pioglitazone change diabetesMed  \\\n0                      No                      No     No          No   \n1                      No                      No     Ch         Yes   \n2                      No                      No     No         Yes   \n3                      No                      No     Ch         Yes   \n4                      No                      No     Ch         Yes   \n\n  readmitted admission_type discharge_disposition    admission_source  \n0         NO            NaN            Not Mapped  Physician Referral  \n1        >30      Emergency    Discharged to home      Emergency Room  \n2         NO      Emergency    Discharged to home      Emergency Room  \n3         NO      Emergency    Discharged to home      Emergency Room  \n4         NO      Emergency    Discharged to home      Emergency Room  \n\n[5 rows x 43 columns]",
      "text/html": "<div>\n<style scoped>\n    .dataframe tbody tr th:only-of-type {\n        vertical-align: middle;\n    }\n\n    .dataframe tbody tr th {\n        vertical-align: top;\n    }\n\n    .dataframe thead th {\n        text-align: right;\n    }\n</style>\n<table border=\"1\" class=\"dataframe\">\n  <thead>\n    <tr style=\"text-align: right;\">\n      <th></th>\n      <th>race</th>\n      <th>gender</th>\n      <th>age</th>\n      <th>time_in_hospital</th>\n      <th>num_lab_procedures</th>\n      <th>num_procedures</th>\n      <th>num_medications</th>\n      <th>number_outpatient</th>\n      <th>number_emergency</th>\n      <th>number_inpatient</th>\n      <th>...</th>\n      <th>glipizide-metformin</th>\n      <th>glimepiride-pioglitazone</th>\n      <th>metformin-rosiglitazone</th>\n      <th>metformin-pioglitazone</th>\n      <th>change</th>\n      <th>diabetesMed</th>\n      <th>readmitted</th>\n      <th>admission_type</th>\n      <th>discharge_disposition</th>\n      <th>admission_source</th>\n    </tr>\n  </thead>\n  <tbody>\n    <tr>\n      <th>0</th>\n      <td>Caucasian</td>\n      <td>Female</td>\n      <td>5.0</td>\n      <td>1</td>\n      <td>41</td>\n      <td>0</td>\n      <td>1</td>\n      <td>0</td>\n      <td>0</td>\n      <td>0</td>\n      <td>...</td>\n      <td>No</td>\n      <td>No</td>\n      <td>No</td>\n      <td>No</td>\n      <td>No</td>\n      <td>No</td>\n      <td>NO</td>\n      <td>NaN</td>\n      <td>Not Mapped</td>\n      <td>Physician Referral</td>\n    </tr>\n    <tr>\n      <th>1</th>\n      <td>Caucasian</td>\n      <td>Female</td>\n      <td>15.0</td>\n      <td>3</td>\n      <td>59</td>\n      <td>0</td>\n      <td>18</td>\n      <td>0</td>\n      <td>0</td>\n      <td>0</td>\n      <td>...</td>\n      <td>No</td>\n      <td>No</td>\n      <td>No</td>\n      <td>No</td>\n      <td>Ch</td>\n      <td>Yes</td>\n      <td>&gt;30</td>\n      <td>Emergency</td>\n      <td>Discharged to home</td>\n      <td>Emergency Room</td>\n    </tr>\n    <tr>\n      <th>2</th>\n      <td>AfricanAmerican</td>\n      <td>Female</td>\n      <td>25.0</td>\n      <td>2</td>\n      <td>11</td>\n      <td>5</td>\n      <td>13</td>\n      <td>2</td>\n      <td>0</td>\n      <td>1</td>\n      <td>...</td>\n      <td>No</td>\n      <td>No</td>\n      <td>No</td>\n      <td>No</td>\n      <td>No</td>\n      <td>Yes</td>\n      <td>NO</td>\n      <td>Emergency</td>\n      <td>Discharged to home</td>\n      <td>Emergency Room</td>\n    </tr>\n    <tr>\n      <th>3</th>\n      <td>Caucasian</td>\n      <td>Male</td>\n      <td>35.0</td>\n      <td>2</td>\n      <td>44</td>\n      <td>1</td>\n      <td>16</td>\n      <td>0</td>\n      <td>0</td>\n      <td>0</td>\n      <td>...</td>\n      <td>No</td>\n      <td>No</td>\n      <td>No</td>\n      <td>No</td>\n      <td>Ch</td>\n      <td>Yes</td>\n      <td>NO</td>\n      <td>Emergency</td>\n      <td>Discharged to home</td>\n      <td>Emergency Room</td>\n    </tr>\n    <tr>\n      <th>4</th>\n      <td>Caucasian</td>\n      <td>Male</td>\n      <td>45.0</td>\n      <td>1</td>\n      <td>51</td>\n      <td>0</td>\n      <td>8</td>\n      <td>0</td>\n      <td>0</td>\n      <td>0</td>\n      <td>...</td>\n      <td>No</td>\n      <td>No</td>\n      <td>No</td>\n      <td>No</td>\n      <td>Ch</td>\n      <td>Yes</td>\n      <td>NO</td>\n      <td>Emergency</td>\n      <td>Discharged to home</td>\n      <td>Emergency Room</td>\n    </tr>\n  </tbody>\n</table>\n<p>5 rows × 43 columns</p>\n</div>"
     },
     "execution_count": 27,
     "metadata": {},
     "output_type": "execute_result"
    }
   ],
   "source": [
    "df.head()"
   ]
  },
  {
   "cell_type": "code",
   "execution_count": 28,
   "id": "1fe074a9-69e0-4083-a64f-0be39ab517ff",
   "metadata": {
    "ExecuteTime": {
     "end_time": "2024-05-20T09:59:17.249949Z",
     "start_time": "2024-05-20T09:59:11.845631Z"
    }
   },
   "outputs": [
    {
     "data": {
      "text/plain": "                       Unknown/Invalid       NaN  Not Available  Not Mapped  \\\nrace                          0.000000  0.000000       0.000000    0.000000   \ngender                        0.002948  0.000000       0.000000    0.000000   \ndiag_1                        0.000000  0.000000       0.000000    0.000000   \ndiag_2                        0.000000  0.000000       0.000000    0.000000   \ndiag_3                        0.000000  0.000000       0.000000    0.000000   \nadmission_type                0.000000  5.199182       4.701963    0.314447   \ndischarge_disposition         0.000000  3.626948       0.000000    0.971837   \nadmission_source              0.000000  6.663326       0.122831    0.158206   \n\n                              ?        sum  \nrace                   2.233555   2.233555  \ngender                 0.000000   0.002948  \ndiag_1                 0.020636   0.020636  \ndiag_2                 0.351787   0.351787  \ndiag_3                 1.398306   1.398306  \nadmission_type         0.000000  10.215593  \ndischarge_disposition  0.000000   4.598785  \nadmission_source       0.000000   6.944363  ",
      "text/html": "<div>\n<style scoped>\n    .dataframe tbody tr th:only-of-type {\n        vertical-align: middle;\n    }\n\n    .dataframe tbody tr th {\n        vertical-align: top;\n    }\n\n    .dataframe thead th {\n        text-align: right;\n    }\n</style>\n<table border=\"1\" class=\"dataframe\">\n  <thead>\n    <tr style=\"text-align: right;\">\n      <th></th>\n      <th>Unknown/Invalid</th>\n      <th>NaN</th>\n      <th>Not Available</th>\n      <th>Not Mapped</th>\n      <th>?</th>\n      <th>sum</th>\n    </tr>\n  </thead>\n  <tbody>\n    <tr>\n      <th>race</th>\n      <td>0.000000</td>\n      <td>0.000000</td>\n      <td>0.000000</td>\n      <td>0.000000</td>\n      <td>2.233555</td>\n      <td>2.233555</td>\n    </tr>\n    <tr>\n      <th>gender</th>\n      <td>0.002948</td>\n      <td>0.000000</td>\n      <td>0.000000</td>\n      <td>0.000000</td>\n      <td>0.000000</td>\n      <td>0.002948</td>\n    </tr>\n    <tr>\n      <th>diag_1</th>\n      <td>0.000000</td>\n      <td>0.000000</td>\n      <td>0.000000</td>\n      <td>0.000000</td>\n      <td>0.020636</td>\n      <td>0.020636</td>\n    </tr>\n    <tr>\n      <th>diag_2</th>\n      <td>0.000000</td>\n      <td>0.000000</td>\n      <td>0.000000</td>\n      <td>0.000000</td>\n      <td>0.351787</td>\n      <td>0.351787</td>\n    </tr>\n    <tr>\n      <th>diag_3</th>\n      <td>0.000000</td>\n      <td>0.000000</td>\n      <td>0.000000</td>\n      <td>0.000000</td>\n      <td>1.398306</td>\n      <td>1.398306</td>\n    </tr>\n    <tr>\n      <th>admission_type</th>\n      <td>0.000000</td>\n      <td>5.199182</td>\n      <td>4.701963</td>\n      <td>0.314447</td>\n      <td>0.000000</td>\n      <td>10.215593</td>\n    </tr>\n    <tr>\n      <th>discharge_disposition</th>\n      <td>0.000000</td>\n      <td>3.626948</td>\n      <td>0.000000</td>\n      <td>0.971837</td>\n      <td>0.000000</td>\n      <td>4.598785</td>\n    </tr>\n    <tr>\n      <th>admission_source</th>\n      <td>0.000000</td>\n      <td>6.663326</td>\n      <td>0.122831</td>\n      <td>0.158206</td>\n      <td>0.000000</td>\n      <td>6.944363</td>\n    </tr>\n  </tbody>\n</table>\n</div>"
     },
     "execution_count": 28,
     "metadata": {},
     "output_type": "execute_result"
    }
   ],
   "source": [
    "find_invalid_values(df)"
   ]
  },
  {
   "cell_type": "code",
   "execution_count": 29,
   "id": "cdfe6591-bc53-445d-acaf-e1bdb4fc5808",
   "metadata": {
    "ExecuteTime": {
     "end_time": "2024-05-20T09:59:17.333114Z",
     "start_time": "2024-05-20T09:59:17.250593Z"
    }
   },
   "outputs": [
    {
     "name": "stdout",
     "output_type": "stream",
     "text": [
      "<class 'pandas.core.frame.DataFrame'>\n",
      "RangeIndex: 101766 entries, 0 to 101765\n",
      "Data columns (total 43 columns):\n",
      " #   Column                    Non-Null Count   Dtype  \n",
      "---  ------                    --------------   -----  \n",
      " 0   race                      101766 non-null  object \n",
      " 1   gender                    101766 non-null  object \n",
      " 2   age                       101766 non-null  float64\n",
      " 3   time_in_hospital          101766 non-null  int64  \n",
      " 4   num_lab_procedures        101766 non-null  int64  \n",
      " 5   num_procedures            101766 non-null  int64  \n",
      " 6   num_medications           101766 non-null  int64  \n",
      " 7   number_outpatient         101766 non-null  int64  \n",
      " 8   number_emergency          101766 non-null  int64  \n",
      " 9   number_inpatient          101766 non-null  int64  \n",
      " 10  diag_1                    101766 non-null  object \n",
      " 11  diag_2                    101766 non-null  object \n",
      " 12  diag_3                    101766 non-null  object \n",
      " 13  number_diagnoses          101766 non-null  int64  \n",
      " 14  metformin                 101766 non-null  object \n",
      " 15  repaglinide               101766 non-null  object \n",
      " 16  nateglinide               101766 non-null  object \n",
      " 17  chlorpropamide            101766 non-null  object \n",
      " 18  glimepiride               101766 non-null  object \n",
      " 19  acetohexamide             101766 non-null  object \n",
      " 20  glipizide                 101766 non-null  object \n",
      " 21  glyburide                 101766 non-null  object \n",
      " 22  tolbutamide               101766 non-null  object \n",
      " 23  pioglitazone              101766 non-null  object \n",
      " 24  rosiglitazone             101766 non-null  object \n",
      " 25  acarbose                  101766 non-null  object \n",
      " 26  miglitol                  101766 non-null  object \n",
      " 27  troglitazone              101766 non-null  object \n",
      " 28  tolazamide                101766 non-null  object \n",
      " 29  examide                   101766 non-null  object \n",
      " 30  citoglipton               101766 non-null  object \n",
      " 31  insulin                   101766 non-null  object \n",
      " 32  glyburide-metformin       101766 non-null  object \n",
      " 33  glipizide-metformin       101766 non-null  object \n",
      " 34  glimepiride-pioglitazone  101766 non-null  object \n",
      " 35  metformin-rosiglitazone   101766 non-null  object \n",
      " 36  metformin-pioglitazone    101766 non-null  object \n",
      " 37  change                    101766 non-null  object \n",
      " 38  diabetesMed               101766 non-null  object \n",
      " 39  readmitted                101766 non-null  object \n",
      " 40  admission_type            96475 non-null   object \n",
      " 41  discharge_disposition     98075 non-null   object \n",
      " 42  admission_source          94985 non-null   object \n",
      "dtypes: float64(1), int64(8), object(34)\n",
      "memory usage: 33.4+ MB\n"
     ]
    }
   ],
   "source": [
    "df.info()"
   ]
  },
  {
   "cell_type": "code",
   "execution_count": 30,
   "id": "6320f205-8355-400b-b347-3025a245be02",
   "metadata": {
    "ExecuteTime": {
     "end_time": "2024-05-20T09:59:20.824266Z",
     "start_time": "2024-05-20T09:59:17.333717Z"
    }
   },
   "outputs": [],
   "source": [
    "invalid_entries = [\"Unknown/Invalid\", \"NaN\", \"Not Available\", \"Not Mapped\", \"?\"]\n",
    "\n",
    "def replace_invalid_with_mode(_df):\n",
    "    for _col in _df.columns:\n",
    "        for invalid in invalid_entries:\n",
    "            replace_invalid_with_nan = lambda x: np.nan if isinstance(x, str) and invalid in x else x\n",
    "            _df[_col] = _df[_col].apply(replace_invalid_with_nan)\n",
    "        \n",
    "        mode = _df[_col].mode().dropna()\n",
    "        if not mode.empty and mode[0] in invalid_entries:\n",
    "            _df = _df.drop(columns=_col)\n",
    "            print(f\"Column {_col} dropped.\")\n",
    "        else:\n",
    "            _df[_col] = _df[_col].fillna(mode[0])\n",
    "    \n",
    "    return _df\n",
    "    \n",
    "df = replace_invalid_with_mode(df)"
   ]
  },
  {
   "cell_type": "code",
   "execution_count": 31,
   "id": "b17ffc06-6135-4117-bc70-4e6befd752e1",
   "metadata": {
    "ExecuteTime": {
     "end_time": "2024-05-20T09:59:26.623370Z",
     "start_time": "2024-05-20T09:59:20.826227Z"
    }
   },
   "outputs": [
    {
     "data": {
      "text/plain": "Empty DataFrame\nColumns: [Unknown/Invalid, NaN, Not Available, Not Mapped, ?, sum]\nIndex: []",
      "text/html": "<div>\n<style scoped>\n    .dataframe tbody tr th:only-of-type {\n        vertical-align: middle;\n    }\n\n    .dataframe tbody tr th {\n        vertical-align: top;\n    }\n\n    .dataframe thead th {\n        text-align: right;\n    }\n</style>\n<table border=\"1\" class=\"dataframe\">\n  <thead>\n    <tr style=\"text-align: right;\">\n      <th></th>\n      <th>Unknown/Invalid</th>\n      <th>NaN</th>\n      <th>Not Available</th>\n      <th>Not Mapped</th>\n      <th>?</th>\n      <th>sum</th>\n    </tr>\n  </thead>\n  <tbody>\n  </tbody>\n</table>\n</div>"
     },
     "execution_count": 31,
     "metadata": {},
     "output_type": "execute_result"
    }
   ],
   "source": [
    "find_invalid_values(df)"
   ]
  },
  {
   "cell_type": "code",
   "execution_count": 32,
   "id": "94ccd1dc-a703-4d02-bfad-09d711a61a90",
   "metadata": {
    "ExecuteTime": {
     "end_time": "2024-05-20T09:59:26.719542Z",
     "start_time": "2024-05-20T09:59:26.624058Z"
    }
   },
   "outputs": [
    {
     "name": "stdout",
     "output_type": "stream",
     "text": [
      "<class 'pandas.core.frame.DataFrame'>\n",
      "RangeIndex: 101766 entries, 0 to 101765\n",
      "Data columns (total 43 columns):\n",
      " #   Column                    Non-Null Count   Dtype  \n",
      "---  ------                    --------------   -----  \n",
      " 0   race                      101766 non-null  object \n",
      " 1   gender                    101766 non-null  object \n",
      " 2   age                       101766 non-null  float64\n",
      " 3   time_in_hospital          101766 non-null  int64  \n",
      " 4   num_lab_procedures        101766 non-null  int64  \n",
      " 5   num_procedures            101766 non-null  int64  \n",
      " 6   num_medications           101766 non-null  int64  \n",
      " 7   number_outpatient         101766 non-null  int64  \n",
      " 8   number_emergency          101766 non-null  int64  \n",
      " 9   number_inpatient          101766 non-null  int64  \n",
      " 10  diag_1                    101766 non-null  object \n",
      " 11  diag_2                    101766 non-null  object \n",
      " 12  diag_3                    101766 non-null  object \n",
      " 13  number_diagnoses          101766 non-null  int64  \n",
      " 14  metformin                 101766 non-null  object \n",
      " 15  repaglinide               101766 non-null  object \n",
      " 16  nateglinide               101766 non-null  object \n",
      " 17  chlorpropamide            101766 non-null  object \n",
      " 18  glimepiride               101766 non-null  object \n",
      " 19  acetohexamide             101766 non-null  object \n",
      " 20  glipizide                 101766 non-null  object \n",
      " 21  glyburide                 101766 non-null  object \n",
      " 22  tolbutamide               101766 non-null  object \n",
      " 23  pioglitazone              101766 non-null  object \n",
      " 24  rosiglitazone             101766 non-null  object \n",
      " 25  acarbose                  101766 non-null  object \n",
      " 26  miglitol                  101766 non-null  object \n",
      " 27  troglitazone              101766 non-null  object \n",
      " 28  tolazamide                101766 non-null  object \n",
      " 29  examide                   101766 non-null  object \n",
      " 30  citoglipton               101766 non-null  object \n",
      " 31  insulin                   101766 non-null  object \n",
      " 32  glyburide-metformin       101766 non-null  object \n",
      " 33  glipizide-metformin       101766 non-null  object \n",
      " 34  glimepiride-pioglitazone  101766 non-null  object \n",
      " 35  metformin-rosiglitazone   101766 non-null  object \n",
      " 36  metformin-pioglitazone    101766 non-null  object \n",
      " 37  change                    101766 non-null  object \n",
      " 38  diabetesMed               101766 non-null  object \n",
      " 39  readmitted                101766 non-null  object \n",
      " 40  admission_type            101766 non-null  object \n",
      " 41  discharge_disposition     101766 non-null  object \n",
      " 42  admission_source          101766 non-null  object \n",
      "dtypes: float64(1), int64(8), object(34)\n",
      "memory usage: 33.4+ MB\n"
     ]
    }
   ],
   "source": [
    "df.info() ## no null cell"
   ]
  },
  {
   "cell_type": "markdown",
   "id": "9127a168-e6da-4f2e-bdf4-ad30288200d5",
   "metadata": {},
   "source": [
    "### Encode Categorical Variables:"
   ]
  },
  {
   "cell_type": "code",
   "execution_count": 33,
   "id": "267b126f73242816",
   "metadata": {
    "collapsed": false,
    "ExecuteTime": {
     "end_time": "2024-05-20T09:59:26.723825Z",
     "start_time": "2024-05-20T09:59:26.720615Z"
    }
   },
   "outputs": [
    {
     "data": {
      "text/plain": "array(['acarbose', 'acetohexamide', 'admission_source', 'admission_type',\n       'change', 'chlorpropamide', 'citoglipton', 'diabetesMed', 'diag_1',\n       'diag_2', 'diag_3', 'discharge_disposition', 'examide', 'gender',\n       'glimepiride', 'glimepiride-pioglitazone', 'glipizide',\n       'glipizide-metformin', 'glyburide', 'glyburide-metformin',\n       'insulin', 'metformin', 'metformin-pioglitazone',\n       'metformin-rosiglitazone', 'miglitol', 'nateglinide',\n       'pioglitazone', 'race', 'readmitted', 'repaglinide',\n       'rosiglitazone', 'tolazamide', 'tolbutamide', 'troglitazone'],\n      dtype=object)"
     },
     "execution_count": 33,
     "metadata": {},
     "output_type": "execute_result"
    }
   ],
   "source": [
    "categorical_columns = np.intersect1d(categorical_columns, df.columns)\n",
    "categorical_columns"
   ]
  },
  {
   "cell_type": "code",
   "outputs": [],
   "source": [
    "from sklearn.preprocessing import OneHotEncoder\n",
    "\n",
    "encoder = OneHotEncoder(handle_unknown='ignore', sparse_output=True)\n",
    "one_hotted_columns_model = encoder.fit_transform(df[categorical_columns])\n",
    "encoded_categorical_df = pd.DataFrame.sparse.from_spmatrix(one_hotted_columns_model, columns=encoder.get_feature_names_out(categorical_columns))\n",
    "\n",
    "df = df.drop(categorical_columns, axis=1)\n",
    "\n",
    "df = pd.concat([df, encoded_categorical_df], axis=1)\n",
    "del encoded_categorical_df"
   ],
   "metadata": {
    "ExecuteTime": {
     "end_time": "2024-05-20T09:59:28.491040Z",
     "start_time": "2024-05-20T09:59:26.724687Z"
    }
   },
   "id": "f8ffc172-e1c9-4ea3-bc67-ba6c52eeb583",
   "execution_count": 34
  },
  {
   "cell_type": "code",
   "execution_count": 35,
   "id": "17d3e1ea-33f2-4a06-9e08-4a8545e537a4",
   "metadata": {
    "ExecuteTime": {
     "end_time": "2024-05-20T09:59:28.495842Z",
     "start_time": "2024-05-20T09:59:28.492280Z"
    }
   },
   "outputs": [
    {
     "data": {
      "text/plain": "2390"
     },
     "execution_count": 35,
     "metadata": {},
     "output_type": "execute_result"
    }
   ],
   "source": [
    "len(df.columns)"
   ]
  },
  {
   "cell_type": "code",
   "execution_count": 36,
   "id": "b7f1b0dd-ec68-4237-ad04-c1684a25c099",
   "metadata": {
    "ExecuteTime": {
     "end_time": "2024-05-20T09:59:28.582082Z",
     "start_time": "2024-05-20T09:59:28.496998Z"
    }
   },
   "outputs": [
    {
     "name": "stdout",
     "output_type": "stream",
     "text": [
      "<class 'pandas.core.frame.DataFrame'>\n",
      "RangeIndex: 101766 entries, 0 to 101765\n",
      "Columns: 2390 entries, age to troglitazone_Steady\n",
      "dtypes: Sparse[float64, 0](2381), float64(1), int64(8)\n",
      "memory usage: 46.6 MB\n"
     ]
    }
   ],
   "source": [
    "df.info()"
   ]
  },
  {
   "cell_type": "markdown",
   "id": "77ba2856-46a3-4d3c-a7c9-4cbbdccc4d54",
   "metadata": {},
   "source": [
    "##  2. Dimensionality Reduction"
   ]
  },
  {
   "cell_type": "markdown",
   "id": "fccc9350-e1eb-467c-bf5e-633bdceaf167",
   "metadata": {},
   "source": [
    "Some data mining algorithms, like K-Means, struggle with accurately clustering data when confronted with numerous features, leading to high dimensionality. This issue isn't exclusive to datasets with hundreds or thousands of features; even just ten features can pose accuracy challenges.  \n",
    "Feature or dimensionality reduction aims to address this by transforming the original feature set into a smaller set of derived features that retain most of the original information.  \n",
    "Principal Component Analysis (PCA) is a widely used technique for feature reduction. It condenses the original dataset into a set number of features known as principal components. The desired number of principal components must be specified.  \n",
    "In this section, utilize PCA to reduce the dimensionality of the dataset. This approach is recommended if there are numerous variables, manual variable selection is impractical, or segmentation results are unsatisfactory."
   ]
  },
  {
   "cell_type": "code",
   "execution_count": 37,
   "id": "f70fb058518697e0",
   "metadata": {
    "collapsed": false,
    "ExecuteTime": {
     "end_time": "2024-05-20T10:00:53.819318Z",
     "start_time": "2024-05-20T09:59:28.583Z"
    }
   },
   "outputs": [],
   "source": [
    "from sklearn.decomposition import PCA\n",
    "\n",
    "pca = PCA(n_components=0.95)  # Retain 95% of the variance\n",
    "pca_data = pca.fit_transform(df.values)\n",
    "\n",
    "pca_columns = [f'PC{i+1}' for i in range(pca_data.shape[1])]\n",
    "df = pd.DataFrame(data=pca_data, columns=pca_columns)"
   ]
  },
  {
   "cell_type": "code",
   "outputs": [
    {
     "name": "stdout",
     "output_type": "stream",
     "text": [
      "<class 'pandas.core.frame.DataFrame'>\n",
      "RangeIndex: 101766 entries, 0 to 101765\n",
      "Data columns (total 3 columns):\n",
      " #   Column  Non-Null Count   Dtype  \n",
      "---  ------  --------------   -----  \n",
      " 0   PC1     101766 non-null  float64\n",
      " 1   PC2     101766 non-null  float64\n",
      " 2   PC3     101766 non-null  float64\n",
      "dtypes: float64(3)\n",
      "memory usage: 2.3 MB\n"
     ]
    }
   ],
   "source": [
    "df.info()"
   ],
   "metadata": {
    "ExecuteTime": {
     "end_time": "2024-05-20T10:00:53.825137Z",
     "start_time": "2024-05-20T10:00:53.820152Z"
    }
   },
   "id": "b71fed90-5850-47c2-b945-20852852cd91",
   "execution_count": 38
  },
  {
   "cell_type": "markdown",
   "id": "3225c16a-00b2-41c1-8874-8ea32302df50",
   "metadata": {},
   "source": [
    "##  3. Unsupervised Learning"
   ]
  },
  {
   "cell_type": "markdown",
   "id": "5d7952f8-46ef-46be-870b-4b6c9845a160",
   "metadata": {},
   "source": [
    "Utilizing the **silhouette method**, determine the optimal `number of clusters` for the **K-means** method and the optimal input parameters `(minPnt, eps)` for the **DBSCAN** method.  \n",
    "Based on the obtained values, store the best result from each method in a CSV file containing only the columns: `id_encounter`, `kmean_label`, and `dbscan_label`."
   ]
  },
  {
   "cell_type": "markdown",
   "id": "3ece1e10-9906-4bc1-a650-fda1dd1eb6dd",
   "metadata": {},
   "source": [
    "###  Silhouette Method\n",
    "The Silhouette Method is a method to find the optimal number of clusters and interpretation and validation of consistency within clusters of data. The silhouette method computes silhouette coefficients of each point that measure how much a point is similar to its cluster compared to other clusters. by providing a succinct graphical representation of how well each object has been classified"
   ]
  },
  {
   "cell_type": "code",
   "outputs": [
    {
     "name": "stdout",
     "output_type": "stream",
     "text": [
      "Optimal number of clusters for K-means: 3\n"
     ]
    }
   ],
   "source": [
    "from sklearn.cluster import KMeans\n",
    "from sklearn.metrics import silhouette_score\n",
    "from sklearn.model_selection import GridSearchCV\n",
    "\n",
    "param_grid = {'n_clusters': range(2, 11)}\n",
    "grid_search = GridSearchCV(KMeans(n_init=10, random_state=42), \n",
    "                           param_grid, \n",
    "                           scoring=lambda estimator, x: silhouette_score(x, estimator.predict(x)), \n",
    "                           cv=5)\n",
    "grid_search.fit(df)\n",
    "\n",
    "optimal_K = grid_search.best_params_['n_clusters']\n",
    "print(f'Optimal number of clusters for K-means: {optimal_K}')"
   ],
   "metadata": {
    "collapsed": false,
    "ExecuteTime": {
     "end_time": "2024-05-20T10:19:12.114557Z",
     "start_time": "2024-05-20T10:14:45.679242Z"
    }
   },
   "id": "5d6df52914953e57",
   "execution_count": 46
  },
  {
   "cell_type": "code",
   "outputs": [
    {
     "data": {
      "text/plain": "{'mean_fit_time': array([1.1826932 , 1.20144877, 1.37371597, 1.35641189, 1.25564041,\n        1.70148926, 1.9606895 , 1.81310325, 2.00421696]),\n 'std_fit_time': array([0.02245855, 0.12392639, 0.17210107, 0.11612628, 0.36445089,\n        0.06411593, 0.19963878, 0.10177988, 0.05298438]),\n 'mean_score_time': array([4.3963346 , 4.28016925, 4.56815157, 4.11070619, 4.15859132,\n        4.41969943, 4.45226407, 4.39855895, 4.37363315]),\n 'std_score_time': array([0.1227666 , 0.23681942, 0.25170815, 0.07397124, 0.09359836,\n        0.11473325, 0.1564631 , 0.13992394, 0.1462597 ]),\n 'param_n_clusters': masked_array(data=[2, 3, 4, 5, 6, 7, 8, 9, 10],\n              mask=[False, False, False, False, False, False, False, False,\n                    False],\n        fill_value='?',\n             dtype=object),\n 'params': [{'n_clusters': 2},\n  {'n_clusters': 3},\n  {'n_clusters': 4},\n  {'n_clusters': 5},\n  {'n_clusters': 6},\n  {'n_clusters': 7},\n  {'n_clusters': 8},\n  {'n_clusters': 9},\n  {'n_clusters': 10}],\n 'split0_test_score': array([0.29404844, 0.30760645, 0.27446028, 0.25233353, 0.2632694 ,\n        0.25846006, 0.24692392, 0.22943947, 0.25137353]),\n 'split1_test_score': array([0.2932339 , 0.31786439, 0.30082893, 0.27711133, 0.27116247,\n        0.2814306 , 0.26892307, 0.26699843, 0.27625357]),\n 'split2_test_score': array([0.29114387, 0.31050715, 0.31463831, 0.3016051 , 0.2832762 ,\n        0.28635176, 0.28364186, 0.27862886, 0.28425848]),\n 'split3_test_score': array([0.31505853, 0.32269251, 0.30179664, 0.29483568, 0.28014727,\n        0.2831978 , 0.2811394 , 0.2818428 , 0.2728886 ]),\n 'split4_test_score': array([0.34568748, 0.32976837, 0.30356863, 0.29746354, 0.28850833,\n        0.28386   , 0.28794973, 0.27781472, 0.27815127]),\n 'mean_test_score': array([0.30783444, 0.31768777, 0.29905856, 0.28466983, 0.27727273,\n        0.27866004, 0.2737156 , 0.26694485, 0.27258509]),\n 'std_test_score': array([0.02081752, 0.0080525 , 0.01325727, 0.01820216, 0.00898857,\n        0.01022261, 0.01481227, 0.0194076 , 0.01123148]),\n 'rank_test_score': array([2, 1, 3, 4, 6, 5, 7, 9, 8], dtype=int32)}"
     },
     "execution_count": 47,
     "metadata": {},
     "output_type": "execute_result"
    }
   ],
   "source": [
    "grid_search.cv_results_"
   ],
   "metadata": {
    "collapsed": false,
    "ExecuteTime": {
     "end_time": "2024-05-20T10:19:12.122824Z",
     "start_time": "2024-05-20T10:19:12.116705Z"
    }
   },
   "id": "7e7c0f1c3e7a8218",
   "execution_count": 47
  },
  {
   "cell_type": "code",
   "execution_count": 36,
   "id": "4fca6cc2-db73-4d0e-899a-94704c49ccb8",
   "metadata": {},
   "outputs": [],
   "source": [
    "# eps_range = np.arange(0.1, 1.1, 0.1)  # Test eps from 0.1 to 1.0\n",
    "# min_samples_range = range(2, 11)  # Test min_samples from 2 to 10\n",
    "\n",
    "# best_silhouette = -1\n",
    "# best_eps = None\n",
    "# best_min_samples = None\n",
    "\n",
    "# for eps in eps_range:\n",
    "#     for min_samples in min_samples_range:\n",
    "#         dbscan = DBSCAN(eps=eps, min_samples=min_samples)\n",
    "#         labels = dbscan.fit_predict(pca_data)\n",
    "#         if len(set(labels)) > 1:  # Ensure more than one cluster is formed\n",
    "#             silhouette_avg = silhouette_score(pca_data, labels)\n",
    "#             if silhouette_avg > best_silhouette:\n",
    "#                 best_silhouette = silhouette_avg\n",
    "#                 best_eps = eps\n",
    "#                 best_min_samples = min_samples\n",
    "\n",
    "# print(f'Optimal eps for DBSCAN: {best_eps}')\n",
    "# print(f'Optimal min_samples for DBSCAN: {best_min_samples}')\n"
   ]
  },
  {
   "cell_type": "markdown",
   "id": "1492a44e-18bf-4d85-b25b-31199dc44414",
   "metadata": {},
   "source": [
    "### K-Means\n",
    "K-Means Clustering is a type of Unsupervised Machine Learning algorithm that organizes an unlabeled dataset into distinct clusters. This method assigns data points to one of the K clusters based on their proximity to the cluster centers. Initially, cluster centroids are randomly placed in space. Then, each data point is assigned to the nearest cluster centroid. Subsequently, new cluster centroids are calculated. This iterative process continues until it converges on well-defined clusters."
   ]
  },
  {
   "cell_type": "code",
   "execution_count": 37,
   "id": "e812992b-fd47-420f-87a6-a11247e3199f",
   "metadata": {},
   "outputs": [
    {
     "ename": "NameError",
     "evalue": "name 'pca_data' is not defined",
     "output_type": "error",
     "traceback": [
      "\u001B[1;31m---------------------------------------------------------------------------\u001B[0m",
      "\u001B[1;31mNameError\u001B[0m                                 Traceback (most recent call last)",
      "Cell \u001B[1;32mIn[37], line 2\u001B[0m\n\u001B[0;32m      1\u001B[0m kmeans \u001B[38;5;241m=\u001B[39m KMeans(n_clusters\u001B[38;5;241m=\u001B[39m\u001B[38;5;241m2\u001B[39m, random_state\u001B[38;5;241m=\u001B[39m\u001B[38;5;241m42\u001B[39m) \u001B[38;5;66;03m#change to -> kmeans = KMeans(n_clusters=optimal_K, random_state=42)\u001B[39;00m\n\u001B[1;32m----> 2\u001B[0m kmean_labels \u001B[38;5;241m=\u001B[39m kmeans\u001B[38;5;241m.\u001B[39mfit_predict(\u001B[43mpca_data\u001B[49m)\n\u001B[0;32m      3\u001B[0m kmean_labels\n",
      "\u001B[1;31mNameError\u001B[0m: name 'pca_data' is not defined"
     ]
    }
   ],
   "source": [
    "kmeans = KMeans(n_clusters=2, random_state=42) #change to -> kmeans = KMeans(n_clusters=optimal_K, random_state=42)\n",
    "kmean_labels = kmeans.fit_predict(pca_data)\n",
    "kmean_labels"
   ]
  },
  {
   "cell_type": "markdown",
   "id": "04286fcd-d65d-45cb-b0ed-10a950ee6be8",
   "metadata": {},
   "source": [
    "### DBSCAN\n",
    "DBSCAN is an unsupervised clustering algorithm, offering an alternative to KMeans and hierarchical clustering. It relies on two key parameters: Epsilon (ɛ), defining the neighborhood radius, and Minimum Points (minPts), specifying the minimum number of points to form a cluster. Epsilon determines the similarity threshold between points, influencing cluster size, while minPts affects cluster robustness and noise handling.  \n",
    "Balancing these parameters is crucial for effective clustering without splitting valid clusters or aggregating unrelated points"
   ]
  },
  {
   "cell_type": "code",
   "execution_count": null,
   "id": "d1250104-e2ad-47d5-96a1-01961525a59a",
   "metadata": {},
   "outputs": [],
   "source": [
    "dbscan = DBSCAN(eps=0.5, min_samples=2) #change to -> dbscan = DBSCAN(eps=best_eps, min_samples=best_min_samples)\n",
    "\n",
    "dbscan_labels = dbscan.fit_predict(pca_data)\n",
    "dbscan_labels"
   ]
  },
  {
   "cell_type": "markdown",
   "id": "64ac77e1-05a4-490c-9b8f-ad15c1aa5689",
   "metadata": {},
   "source": [
    "### Prepare final DataFrame with results"
   ]
  },
  {
   "cell_type": "code",
   "execution_count": null,
   "id": "7c80e187-72cd-45e5-a7ba-4e135ff3cc7c",
   "metadata": {},
   "outputs": [],
   "source": [
    "# results_df = diabetic_data_cleaned[['id_encounter']].copy()\n",
    "# results_df['kmean_label'] = kmean_labels\n",
    "# results_df['dbscan_label'] = dbscan_labels"
   ]
  },
  {
   "cell_type": "markdown",
   "id": "058de080-5c50-46c4-9869-7c9d7bc27757",
   "metadata": {},
   "source": [
    "# Questions"
   ]
  },
  {
   "cell_type": "markdown",
   "id": "e01394e2-6c54-47d6-ae51-4b1e5b14890a",
   "metadata": {},
   "source": [
    "#### 1. What preprocessing steps did you perform on the dataset? Provide clear reasons for each decision made."
   ]
  },
  {
   "cell_type": "markdown",
   "id": "3534ad79-fad1-434a-bba9-b9a946e72bd7",
   "metadata": {},
   "source": []
  },
  {
   "cell_type": "markdown",
   "id": "3ac50663-3f1f-44f8-8ea1-d2243babe6b5",
   "metadata": {},
   "source": [
    "#### 2. What portion of the dataset did you retain during dimensionality reduction, and which variables were retained? Could you elaborate on the rationale behind this decision?"
   ]
  },
  {
   "cell_type": "markdown",
   "id": "9c31000c-882e-405f-84ab-e76909a45cf8",
   "metadata": {},
   "source": []
  },
  {
   "cell_type": "markdown",
   "id": "ad5801d3-db8d-41e3-a5a4-e13fc9b14ae8",
   "metadata": {},
   "source": [
    "#### 3. Include a plot illustrating the silhouette coefficient plotted against the input parameters for each clustering method within the report file."
   ]
  },
  {
   "cell_type": "markdown",
   "id": "adefe8d9-9f3c-432e-9ba4-7118110736ba",
   "metadata": {},
   "source": []
  },
  {
   "cell_type": "markdown",
   "id": "302e6e1e-50b3-4096-b576-80b9db4234c1",
   "metadata": {},
   "source": [
    "#### 4. How can we determine the optimal number of clusters in K-Means?"
   ]
  },
  {
   "cell_type": "markdown",
   "id": "5e74468c-56a6-4d41-86cb-e62ecc22ecae",
   "metadata": {},
   "source": []
  },
  {
   "cell_type": "markdown",
   "id": "de08e00b-5c5b-4986-9b80-07619ecfea08",
   "metadata": {},
   "source": [
    "#### 5. How can we determine the optimal epsilon value and minPts in DBSCAN?"
   ]
  },
  {
   "cell_type": "markdown",
   "id": "3ffaf408-25cc-4200-be39-932b8a87a46b",
   "metadata": {},
   "source": []
  },
  {
   "cell_type": "markdown",
   "id": "2638dbbf-882a-4496-be84-b87ef2a3f41a",
   "metadata": {},
   "source": [
    "#### 6. When would you recommend using K-Means, and when would you suggest using DBSCAN instead"
   ]
  },
  {
   "cell_type": "markdown",
   "id": "968397c6-7fe8-4ba0-8efb-7ba6af651d38",
   "metadata": {},
   "source": []
  }
 ],
 "metadata": {
  "kernelspec": {
   "display_name": "Python 3 (ipykernel)",
   "language": "python",
   "name": "python3"
  },
  "language_info": {
   "codemirror_mode": {
    "name": "ipython",
    "version": 3
   },
   "file_extension": ".py",
   "mimetype": "text/x-python",
   "name": "python",
   "nbconvert_exporter": "python",
   "pygments_lexer": "ipython3",
   "version": "3.12.2"
  }
 },
 "nbformat": 4,
 "nbformat_minor": 5
}
